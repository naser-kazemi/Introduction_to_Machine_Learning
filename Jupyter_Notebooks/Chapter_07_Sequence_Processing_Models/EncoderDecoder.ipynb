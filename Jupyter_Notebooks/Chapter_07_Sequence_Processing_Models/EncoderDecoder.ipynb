{
  "cells": [
    {
      "cell_type": "markdown",
      "metadata": {
        "id": "iNx2ze3Cfuh5"
      },
      "source": [
        "<div dir=\"rtl\" align=\"center\">\n",
        "<font face=\"XB Zar\" size=5>\n",
        "    <font face=\"IranNastaliq\" size=5>\n",
        "      به نام خدا\n",
        "    </font>\n",
        "    <br>\n",
        "    <font size=3>\n",
        "      دانشگاه صنعتی شریف - دانشکده مهندسی کامپیوتر\n",
        "    </font>\n",
        "    <br>\n",
        "    <font color=blue size=5>\n",
        "      مقدمه‌ای بر یادگیری ماشین\n",
        "    </font>\n",
        "    <br>\n",
        "    <hr/>\n",
        "    <font color=red size=6>\n",
        "      فصل هفتم: Encoder, Decoder\n",
        "    </font>\n",
        "    <br>\n",
        "       نویسندگان:‌ علیرضا دهقانپور فراشاه، مهدی سلمانی\n",
        "    <hr>\n",
        "<br>\n",
        "  <div align=\"right\">\n",
        "  <font color=\"red\" size=5>فهرست مطالب</font>\n",
        "\t<ul>\n",
        "    <li>\n",
        "        <a href='#intro'>\n",
        "        مقدمه\n",
        "    </a>\n",
        "\t\t</li>\n",
        "\t\t<li>\n",
        "      <a href=\"#model\">\n",
        "       آشنایی با مدل\n",
        "      </a>\n",
        "    </li>\n",
        "    <li>\n",
        "      <a href=\"#training\">\n",
        "       آموزش مدل\n",
        "      </a>\n",
        "    </li>\n",
        "    <li>\n",
        "      <a href=\"#inference\">\n",
        "       نحوه خروجی گرفتن با داده تست\n",
        "      </a>\n",
        "    </li>\n",
        "    </li>\n",
        "    </div>\n",
        "</font>\n",
        "</div>"
      ]
    },
    {
      "cell_type": "markdown",
      "metadata": {
        "id": "sIGyifOmnOYc"
      },
      "source": [
        "\n",
        "  <div dir=rtl id=\"intro\">\n",
        "  <font face=\"XB Zar\" size=4>\n",
        "      <font color=\"red\" size=5>\n",
        "        مقدمه\n",
        "      </font>\n",
        "<img src=\"https://static.packt-cdn.com/products/9781788624336/graphics/69abba8d-f902-43a9-8701-684941d1baf2.png\" width=\"500\">\n",
        "\n",
        "</font>\n",
        "</div>"
      ]
    },
    {
      "cell_type": "code",
      "execution_count": 1,
      "metadata": {
        "id": "OFc72WjwOv1s"
      },
      "outputs": [],
      "source": [
        "from random import randint\n",
        "from numpy import array\n",
        "from numpy import argmax\n",
        "import keras.backend as K\n",
        "from tensorflow.keras import models\n",
        "from numpy import array_equal\n",
        "import numpy as np\n",
        "from tensorflow.keras.models import Sequential, Model\n",
        "from tensorflow.keras.layers import LSTM, Bidirectional\n",
        "from tensorflow.keras.layers import Dense, Flatten\n",
        "from tensorflow.keras import Input\n",
        "from tensorflow.keras.layers import TimeDistributed\n",
        "from tensorflow.keras.layers import RepeatVector\n",
        "from tensorflow.keras.callbacks import EarlyStopping\n",
        "from tensorflow.keras.utils import plot_model\n",
        "from tensorflow.keras.models import load_model\n",
        "import matplotlib.pyplot as plt\n",
        "\n",
        "from tensorflow.keras.layers import Lambda\n",
        "from tensorflow.keras import backend as K"
      ]
    },
    {
      "cell_type": "code",
      "source": [
        "\n",
        "n_timesteps_in =   10\n",
        "\n",
        "n_features = 10   \n",
        "\n",
        "train_size= 5000\n",
        "test_size = 100  \n",
        "\n",
        "\n",
        "LSTMoutputDimension = 16"
      ],
      "metadata": {
        "id": "Ceat3IVaPblD"
      },
      "execution_count": 18,
      "outputs": []
    },
    {
      "cell_type": "markdown",
      "metadata": {
        "id": "BmZv9X3O0cxg"
      },
      "source": [
        "\n",
        "  <div dir=rtl id=\"model\">\n",
        "  <font face=\"XB Zar\" size=4>\n",
        "      <font color=\"red\" size=5>\n",
        "        آشنایی با مدل\n",
        "      </font>\n",
        "      <hr />\n",
        "        در این بخش میخواهیم ستون \n",
        "  </font>\n",
        "  </div>"
      ]
    },
    {
      "cell_type": "code",
      "execution_count": 19,
      "metadata": {
        "id": "d5cbzOzxego6"
      },
      "outputs": [],
      "source": [
        "# TRAINING WITH TEACHER FORCING\n",
        "# Define an input sequence and process it.\n",
        "encoder_inputs= Input(shape=(n_timesteps_in, n_features))\n",
        "encoder_lstm=LSTM(LSTMoutputDimension, return_state=True)\n",
        "LSTM_outputs, state_h, state_c = encoder_lstm(encoder_inputs)\n",
        "\n",
        "\n",
        "# We discard `LSTM_outputs` and only keep the other states.\n",
        "encoder_states = [state_h, state_c]\n",
        "\n",
        "\n",
        "\n",
        "decoder_inputs = Input(shape=(None, n_features), name='decoder_inputs')\n",
        "decoder_lstm = LSTM(LSTMoutputDimension, return_sequences=True, return_state=True, name='decoder_lstm')\n",
        "\n",
        "# Set up the decoder, using `context vector` as initial state.\n",
        "decoder_outputs, _, _ = decoder_lstm(decoder_inputs,\n",
        "                                     initial_state=encoder_states)\n",
        "\n",
        "#complete the decoder model by adding a Dense layer with Softmax activation function \n",
        "#for prediction of the next output\n",
        "#Dense layer will output one-hot encoded representation as we did for input\n",
        "#Therefore, we will use n_features number of neurons\n",
        "decoder_dense = Dense(n_features, activation='softmax', name='decoder_dense')\n",
        "decoder_outputs = decoder_dense(decoder_outputs)\n",
        "\n",
        "# put together\n",
        "model_encoder_training = Model([encoder_inputs, decoder_inputs], decoder_outputs, name='model_encoder_training')"
      ]
    },
    {
      "cell_type": "code",
      "execution_count": 20,
      "metadata": {
        "colab": {
          "base_uri": "https://localhost:8080/",
          "height": 796
        },
        "execution": {
          "iopub.execute_input": "2022-09-08T17:23:58.094178Z",
          "iopub.status.busy": "2022-09-08T17:23:58.093871Z",
          "iopub.status.idle": "2022-09-08T17:23:58.223769Z",
          "shell.execute_reply": "2022-09-08T17:23:58.222728Z",
          "shell.execute_reply.started": "2022-09-08T17:23:58.094152Z"
        },
        "id": "FWaKYE6Zego-",
        "outputId": "7ae64551-af6d-4476-def5-0100d4806651"
      },
      "outputs": [
        {
          "output_type": "stream",
          "name": "stdout",
          "text": [
            "Model: \"model_encoder_training\"\n",
            "__________________________________________________________________________________________________\n",
            " Layer (type)                   Output Shape         Param #     Connected to                     \n",
            "==================================================================================================\n",
            " input_5 (InputLayer)           [(None, 10, 10)]     0           []                               \n",
            "                                                                                                  \n",
            " decoder_inputs (InputLayer)    [(None, None, 10)]   0           []                               \n",
            "                                                                                                  \n",
            " lstm_2 (LSTM)                  [(None, 16),         1728        ['input_5[0][0]']                \n",
            "                                 (None, 16),                                                      \n",
            "                                 (None, 16)]                                                      \n",
            "                                                                                                  \n",
            " decoder_lstm (LSTM)            [(None, None, 16),   1728        ['decoder_inputs[0][0]',         \n",
            "                                 (None, 16),                      'lstm_2[0][1]',                 \n",
            "                                 (None, 16)]                      'lstm_2[0][2]']                 \n",
            "                                                                                                  \n",
            " decoder_dense (Dense)          (None, None, 10)     170         ['decoder_lstm[0][0]']           \n",
            "                                                                                                  \n",
            "==================================================================================================\n",
            "Total params: 3,626\n",
            "Trainable params: 3,626\n",
            "Non-trainable params: 0\n",
            "__________________________________________________________________________________________________\n"
          ]
        },
        {
          "output_type": "execute_result",
          "data": {
            "image/png": "[encoded data removed]",
            "text/plain": [
              "<IPython.core.display.Image object>"
            ]
          },
          "metadata": {},
          "execution_count": 20
        }
      ],
      "source": [
        "model_encoder_training.compile(optimizer='adam', loss='categorical_crossentropy', metrics=['accuracy'])\n",
        "model_encoder_training.summary()\n",
        "plot_model(model_encoder_training, show_shapes=True)"
      ]
    },
    {
      "cell_type": "markdown",
      "metadata": {
        "id": "7u-9szEQ1UST"
      },
      "source": [
        "\n",
        "  <div dir=rtl id=\"preprocessing\">\n",
        "    <font face=\"XB Zar\" size=4>\n",
        "      <font color=\"red\" size=5>آماده سازی دیتاست</font>\n",
        "      <hr />  ‍\n",
        "  </div>"
      ]
    },
    {
      "cell_type": "code",
      "execution_count": 21,
      "metadata": {
        "id": "q0br4xpCOv19"
      },
      "outputs": [],
      "source": [
        "\n",
        "\n",
        "# generate a sequence of random integers\n",
        "def generate_sequence(length, n_unique):\n",
        "\treturn [randint(1, n_unique-1) for _ in range(length)]\n",
        "\n",
        "# one hot encode sequence\n",
        "def one_hot_encode(sequence, n_unique):\n",
        "\tencoding = list()\n",
        "\tfor value in sequence:\n",
        "\t\tvector = [0 for _ in range(n_unique)]\n",
        "\t\tvector[value] = 1\n",
        "\t\tencoding.append(vector)\n",
        "\treturn array(encoding)\n",
        "\n",
        "# decode a one hot encoded string\n",
        "def one_hot_decode(encoded_seq):\n",
        "  return [argmax(vector) for vector in encoded_seq]\n",
        "\n",
        "  # prepare encoder data for the Encoder-Decoder training\n",
        "def get_encoder_triple(time_steps,vocabulary_size,verbose= False):\n",
        "  # generate random sequence\n",
        "  sequence_in = generate_sequence(time_steps, vocabulary_size)\n",
        "\n",
        "  encoder_in = sequence_in.copy()\n",
        "\n",
        "  decoder_out = sequence_in[::-1]\n",
        "  decoder_in = decoder_out.copy()\n",
        "  decoder_in.insert(0,0)\n",
        "  decoder_in.pop()\n",
        "\n",
        "  # one hot encode\n",
        "  X_encoder_in = one_hot_encode(encoder_in, vocabulary_size)\n",
        "  X_decoder_in = one_hot_encode(decoder_in, vocabulary_size)\n",
        "  y_decoder_out = one_hot_encode(decoder_out, vocabulary_size)\n",
        "  # reshape as 3D\n",
        "  X_encoder_in = X_encoder_in.reshape((1, X_encoder_in.shape[0], X_encoder_in.shape[1]))\n",
        "  X_decoder_in = X_decoder_in.reshape((1, X_decoder_in.shape[0], X_decoder_in.shape[1]))\n",
        "  y_decoder_out = y_decoder_out.reshape((1, y_decoder_out.shape[0], y_decoder_out.shape[1]))\n",
        "\n",
        "  if(verbose):\n",
        "    print('\\nSample X_encoder_in X_decoder_in and y_decoder_out')\n",
        "    print('\\nIn raw format:')\n",
        "    print('X_encoder_in=%s, X_decoder_in=%s, y_decoder_out=%s' % \n",
        "          (one_hot_decode(X_encoder_in[0]), one_hot_decode(X_decoder_in[0]), \n",
        "           one_hot_decode(y_decoder_out[0])))\n",
        "    print('\\nIn one_hot_encoded format:')\n",
        "    print('X_encoder_in=%s' % (X_encoder_in[0]))\n",
        "    print('X_decoder_in=%s' % (X_decoder_in[0]))\n",
        "    print('y_decoder_out=%s' % (y_decoder_out[0]))\n",
        "  return [array(X_encoder_in), array(X_decoder_in), array(y_decoder_out)]\n",
        "\n",
        "\n",
        "def create_encoder_dataset(train_size, test_size, time_steps,vocabulary_size, verbose= False):\n",
        "\n",
        "  X_encoder_in = list()\n",
        "  X_decoder_in = list()\n",
        "  y_decoder_out = list()\n",
        "\n",
        "  for _ in range(train_size):\n",
        "    triple=get_encoder_triple(time_steps,vocabulary_size) \n",
        "    X_encoder_in.append(triple[0])\n",
        "    X_decoder_in.append(triple[1])\n",
        "    y_decoder_out.append(triple[2])\n",
        "\n",
        "  X_encoder_in= array(X_encoder_in).squeeze()\n",
        "  X_decoder_in= array(X_decoder_in).squeeze()\n",
        "  y_decoder_out= array(y_decoder_out).squeeze()\n",
        "  if(verbose):\n",
        "    print('\\nGenerated sequence datasets as follows')\n",
        "    print('X_encoder_in.shape: ', X_encoder_in.shape)\n",
        "    print('X_decoder_in.shape: ', X_decoder_in.shape)\n",
        "    print('y_decoder_out.shape: ', y_decoder_out.shape)\n",
        "    print('Sample sequences in raw format:')\n",
        "    \n",
        "    print('X_encoder_in: \\n', one_hot_decode(X_encoder_in[0]))\n",
        "    print('X_decoder_in: \\n', one_hot_decode(X_decoder_in[0]))\n",
        "    print('y_decoder_out: \\n',one_hot_decode(y_decoder_out[0]))\n",
        "\n",
        "    print('Sample sequences in one-hot encoded format:')\n",
        "    print('X_encoder_in: \\n', X_encoder_in[0])\n",
        "    print('X_decoder_in: \\n', X_decoder_in[0])\n",
        "    print('y_decoder_out: \\n', y_decoder_out[0])\n",
        "\n",
        "  return X_encoder_in,X_decoder_in, y_decoder_out"
      ]
    },
    {
      "cell_type": "code",
      "execution_count": 22,
      "metadata": {
        "colab": {
          "base_uri": "https://localhost:8080/"
        },
        "execution": {
          "iopub.execute_input": "2022-09-08T17:23:58.225234Z",
          "iopub.status.busy": "2022-09-08T17:23:58.224941Z",
          "iopub.status.idle": "2022-09-08T17:23:58.274266Z",
          "shell.execute_reply": "2022-09-08T17:23:58.272846Z",
          "shell.execute_reply.started": "2022-09-08T17:23:58.225206Z"
        },
        "id": "Vxei2ek5egpB",
        "outputId": "c54a1188-108d-4f70-a566-442aceda714d"
      },
      "outputs": [
        {
          "output_type": "stream",
          "name": "stdout",
          "text": [
            "\n",
            "Generated sequence datasets as follows\n",
            "X_encoder_in.shape:  (5000, 10, 10)\n",
            "X_decoder_in.shape:  (5000, 10, 10)\n",
            "y_decoder_out.shape:  (5000, 10, 10)\n",
            "Sample sequences in raw format:\n",
            "X_encoder_in: \n",
            " [9, 3, 5, 3, 4, 3, 6, 4, 7, 2]\n",
            "X_decoder_in: \n",
            " [0, 2, 7, 4, 6, 3, 4, 3, 5, 3]\n",
            "y_decoder_out: \n",
            " [2, 7, 4, 6, 3, 4, 3, 5, 3, 9]\n",
            "Sample sequences in one-hot encoded format:\n",
            "X_encoder_in: \n",
            " [[0 0 0 0 0 0 0 0 0 1]\n",
            " [0 0 0 1 0 0 0 0 0 0]\n",
            " [0 0 0 0 0 1 0 0 0 0]\n",
            " [0 0 0 1 0 0 0 0 0 0]\n",
            " [0 0 0 0 1 0 0 0 0 0]\n",
            " [0 0 0 1 0 0 0 0 0 0]\n",
            " [0 0 0 0 0 0 1 0 0 0]\n",
            " [0 0 0 0 1 0 0 0 0 0]\n",
            " [0 0 0 0 0 0 0 1 0 0]\n",
            " [0 0 1 0 0 0 0 0 0 0]]\n",
            "X_decoder_in: \n",
            " [[1 0 0 0 0 0 0 0 0 0]\n",
            " [0 0 1 0 0 0 0 0 0 0]\n",
            " [0 0 0 0 0 0 0 1 0 0]\n",
            " [0 0 0 0 1 0 0 0 0 0]\n",
            " [0 0 0 0 0 0 1 0 0 0]\n",
            " [0 0 0 1 0 0 0 0 0 0]\n",
            " [0 0 0 0 1 0 0 0 0 0]\n",
            " [0 0 0 1 0 0 0 0 0 0]\n",
            " [0 0 0 0 0 1 0 0 0 0]\n",
            " [0 0 0 1 0 0 0 0 0 0]]\n",
            "y_decoder_out: \n",
            " [[0 0 1 0 0 0 0 0 0 0]\n",
            " [0 0 0 0 0 0 0 1 0 0]\n",
            " [0 0 0 0 1 0 0 0 0 0]\n",
            " [0 0 0 0 0 0 1 0 0 0]\n",
            " [0 0 0 1 0 0 0 0 0 0]\n",
            " [0 0 0 0 1 0 0 0 0 0]\n",
            " [0 0 0 1 0 0 0 0 0 0]\n",
            " [0 0 0 0 0 1 0 0 0 0]\n",
            " [0 0 0 1 0 0 0 0 0 0]\n",
            " [0 0 0 0 0 0 0 0 0 1]]\n"
          ]
        }
      ],
      "source": [
        "\n",
        "encoder_input_data, decoder_input_data, decoder_predicted_data=\\\n",
        "create_encoder_dataset(train_size, test_size, n_timesteps_in,n_features , verbose=True)\n"
      ]
    },
    {
      "cell_type": "markdown",
      "source": [
        "\n",
        "  <div dir=rtl id=\"training\">\n",
        "    <font face=\"XB Zar\" size=4>\n",
        "      <font color=\"red\" size=5>آموزش مدل</font>\n",
        "      <hr />  ‍\n",
        "  </div>"
      ],
      "metadata": {
        "id": "rGFFzm99T43e"
      }
    },
    {
      "cell_type": "code",
      "execution_count": 23,
      "metadata": {
        "colab": {
          "base_uri": "https://localhost:8080/"
        },
        "execution": {
          "iopub.execute_input": "2022-09-08T17:23:58.275887Z",
          "iopub.status.busy": "2022-09-08T17:23:58.275573Z",
          "iopub.status.idle": "2022-09-08T17:23:58.309198Z",
          "shell.execute_reply": "2022-09-08T17:23:58.308143Z",
          "shell.execute_reply.started": "2022-09-08T17:23:58.275853Z"
        },
        "id": "-rUt-7j7egpD",
        "outputId": "1b6f3cb1-8494-46e0-fcca-a0bcd4b1c7ba"
      },
      "outputs": [
        {
          "output_type": "stream",
          "name": "stdout",
          "text": [
            "Epoch 1/30\n",
            "125/125 [==============================] - 4s 12ms/step - loss: 2.2124 - accuracy: 0.1508 - val_loss: 2.0834 - val_accuracy: 0.2274\n",
            "Epoch 2/30\n",
            "125/125 [==============================] - 1s 6ms/step - loss: 1.9967 - accuracy: 0.2632 - val_loss: 1.9074 - val_accuracy: 0.3051\n",
            "Epoch 3/30\n",
            "125/125 [==============================] - 1s 6ms/step - loss: 1.7990 - accuracy: 0.3564 - val_loss: 1.6927 - val_accuracy: 0.4099\n",
            "Epoch 4/30\n",
            "125/125 [==============================] - 1s 6ms/step - loss: 1.5982 - accuracy: 0.4473 - val_loss: 1.5164 - val_accuracy: 0.4794\n",
            "Epoch 5/30\n",
            "125/125 [==============================] - 1s 6ms/step - loss: 1.4402 - accuracy: 0.5088 - val_loss: 1.3683 - val_accuracy: 0.5392\n",
            "Epoch 6/30\n",
            "125/125 [==============================] - 1s 6ms/step - loss: 1.3048 - accuracy: 0.5576 - val_loss: 1.2640 - val_accuracy: 0.5710\n",
            "Epoch 7/30\n",
            "125/125 [==============================] - 1s 6ms/step - loss: 1.1892 - accuracy: 0.5953 - val_loss: 1.1400 - val_accuracy: 0.6199\n",
            "Epoch 8/30\n",
            "125/125 [==============================] - 1s 6ms/step - loss: 1.0908 - accuracy: 0.6331 - val_loss: 1.0422 - val_accuracy: 0.6554\n",
            "Epoch 9/30\n",
            "125/125 [==============================] - 1s 6ms/step - loss: 1.0172 - accuracy: 0.6542 - val_loss: 0.9785 - val_accuracy: 0.6756\n",
            "Epoch 10/30\n",
            "125/125 [==============================] - 1s 6ms/step - loss: 0.9576 - accuracy: 0.6735 - val_loss: 0.9096 - val_accuracy: 0.7035\n",
            "Epoch 11/30\n",
            "125/125 [==============================] - 1s 6ms/step - loss: 0.8968 - accuracy: 0.6948 - val_loss: 0.8708 - val_accuracy: 0.7038\n",
            "Epoch 12/30\n",
            "125/125 [==============================] - 1s 6ms/step - loss: 0.8543 - accuracy: 0.7093 - val_loss: 0.8321 - val_accuracy: 0.7227\n",
            "Epoch 13/30\n",
            "125/125 [==============================] - 1s 6ms/step - loss: 0.8170 - accuracy: 0.7206 - val_loss: 0.7923 - val_accuracy: 0.7350\n",
            "Epoch 14/30\n",
            "125/125 [==============================] - 1s 6ms/step - loss: 0.7711 - accuracy: 0.7387 - val_loss: 0.7692 - val_accuracy: 0.7419\n",
            "Epoch 15/30\n",
            "125/125 [==============================] - 1s 6ms/step - loss: 0.7456 - accuracy: 0.7452 - val_loss: 0.7313 - val_accuracy: 0.7498\n",
            "Epoch 16/30\n",
            "125/125 [==============================] - 1s 6ms/step - loss: 0.7120 - accuracy: 0.7575 - val_loss: 0.6957 - val_accuracy: 0.7628\n",
            "Epoch 17/30\n",
            "125/125 [==============================] - 1s 6ms/step - loss: 0.6850 - accuracy: 0.7657 - val_loss: 0.6692 - val_accuracy: 0.7717\n",
            "Epoch 18/30\n",
            "125/125 [==============================] - 1s 6ms/step - loss: 0.6637 - accuracy: 0.7744 - val_loss: 0.6431 - val_accuracy: 0.7818\n",
            "Epoch 19/30\n",
            "125/125 [==============================] - 1s 6ms/step - loss: 0.6374 - accuracy: 0.7826 - val_loss: 0.6183 - val_accuracy: 0.7910\n",
            "Epoch 20/30\n",
            "125/125 [==============================] - 1s 6ms/step - loss: 0.6199 - accuracy: 0.7880 - val_loss: 0.6251 - val_accuracy: 0.7880\n",
            "Epoch 21/30\n",
            "125/125 [==============================] - 1s 6ms/step - loss: 0.6066 - accuracy: 0.7923 - val_loss: 0.5859 - val_accuracy: 0.8050\n",
            "Epoch 22/30\n",
            "125/125 [==============================] - 1s 6ms/step - loss: 0.5818 - accuracy: 0.8019 - val_loss: 0.5446 - val_accuracy: 0.8221\n",
            "Epoch 23/30\n",
            "125/125 [==============================] - 1s 6ms/step - loss: 0.5550 - accuracy: 0.8151 - val_loss: 0.5788 - val_accuracy: 0.8071\n",
            "Epoch 24/30\n",
            "125/125 [==============================] - 1s 6ms/step - loss: 0.5607 - accuracy: 0.8087 - val_loss: 0.6015 - val_accuracy: 0.7924\n",
            "Epoch 25/30\n",
            "125/125 [==============================] - 1s 6ms/step - loss: 0.5433 - accuracy: 0.8155 - val_loss: 0.5157 - val_accuracy: 0.8314\n",
            "Epoch 26/30\n",
            "125/125 [==============================] - 1s 6ms/step - loss: 0.5239 - accuracy: 0.8228 - val_loss: 0.5322 - val_accuracy: 0.8223\n",
            "Epoch 27/30\n",
            "125/125 [==============================] - 1s 6ms/step - loss: 0.5065 - accuracy: 0.8289 - val_loss: 0.4981 - val_accuracy: 0.8335\n",
            "Epoch 28/30\n",
            "125/125 [==============================] - 1s 6ms/step - loss: 0.4888 - accuracy: 0.8371 - val_loss: 0.5065 - val_accuracy: 0.8313\n",
            "Epoch 29/30\n",
            "125/125 [==============================] - 1s 6ms/step - loss: 0.4833 - accuracy: 0.8370 - val_loss: 0.4917 - val_accuracy: 0.8340\n",
            "Epoch 30/30\n",
            "125/125 [==============================] - 1s 6ms/step - loss: 0.4796 - accuracy: 0.8385 - val_loss: 0.4637 - val_accuracy: 0.8441\n"
          ]
        },
        {
          "output_type": "execute_result",
          "data": {
            "text/plain": [
              "<keras.callbacks.History at 0x7fdc29b70d50>"
            ]
          },
          "metadata": {},
          "execution_count": 23
        }
      ],
      "source": [
        "model_encoder_training.fit([encoder_input_data, decoder_input_data], decoder_predicted_data,\n",
        "          batch_size=32,\n",
        "          epochs=30,\n",
        "          validation_split=0.2)"
      ]
    },
    {
      "cell_type": "markdown",
      "source": [
        "\n",
        "  <div dir=rtl id=\"inference\">\n",
        "    <font face=\"XB Zar\" size=4>\n",
        "      <font color=\"red\" size=5>نحوه خروجی گرفتن روی داده تست</font>\n",
        "      <hr />  ‍\n",
        "  </div>"
      ],
      "metadata": {
        "id": "SNzvcU7eUFKJ"
      }
    },
    {
      "cell_type": "code",
      "execution_count": 24,
      "metadata": {
        "execution": {
          "iopub.execute_input": "2022-09-08T17:23:59.694902Z",
          "iopub.status.busy": "2022-09-08T17:23:59.694562Z",
          "iopub.status.idle": "2022-09-08T17:23:59.770833Z",
          "shell.execute_reply": "2022-09-08T17:23:59.769590Z",
          "shell.execute_reply.started": "2022-09-08T17:23:59.694874Z"
        },
        "id": "m_BKQ1yuegpP",
        "colab": {
          "base_uri": "https://localhost:8080/",
          "height": 174
        },
        "outputId": "48219b44-281c-48eb-a4df-355dc598dee6"
      },
      "outputs": [
        {
          "output_type": "execute_result",
          "data": {
            "image/png": "[encoded data removed]",
            "text/plain": [
              "<IPython.core.display.Image object>"
            ]
          },
          "metadata": {},
          "execution_count": 24
        }
      ],
      "source": [
        "encoder_model = Model(encoder_inputs, encoder_states)\n",
        "plot_model(encoder_model)"
      ]
    },
    {
      "cell_type": "code",
      "source": [
        "decoder_state_input_h = Input(shape=(LSTMoutputDimension,))\n",
        "decoder_state_input_c = Input(shape=(LSTMoutputDimension,))\n",
        "decoder_states_inputs = [decoder_state_input_h, decoder_state_input_c]\n",
        "\n",
        "decoder_outputs, state_h, state_c = decoder_lstm(\n",
        "    decoder_inputs, initial_state=decoder_states_inputs)\n",
        "decoder_states = [state_h, state_c]\n",
        "decoder_outputs = decoder_dense(decoder_outputs)\n",
        "decoder_model = Model(\n",
        "    [decoder_inputs] + decoder_states_inputs,\n",
        "    [decoder_outputs] + decoder_states)\n",
        "plot_model(decoder_model)"
      ],
      "metadata": {
        "id": "bCS3RIlkQ3va",
        "colab": {
          "base_uri": "https://localhost:8080/",
          "height": 272
        },
        "outputId": "ad3a28fb-72ee-426f-e9a3-5a4d92fea21d"
      },
      "execution_count": 25,
      "outputs": [
        {
          "output_type": "execute_result",
          "data": {
            "image/png": "[encoded data removed]",
            "text/plain": [
              "<IPython.core.display.Image object>"
            ]
          },
          "metadata": {},
          "execution_count": 25
        }
      ]
    },
    {
      "cell_type": "code",
      "execution_count": 16,
      "metadata": {
        "id": "q8c_8eOb0ZU5"
      },
      "outputs": [],
      "source": [
        "def decode_sequence(input_seq):\n",
        "    # Encode the input as state vectors.\n",
        "    states_value = encoder_model.predict(input_seq)\n",
        "\n",
        "    # Generate empty target sequence of length 1.\n",
        "    target_seq = np.zeros((1, 1, n_features))\n",
        "    # Populate the first character of target sequence with the start character.\n",
        "    target_seq[0, 0, 0] = 1\n",
        "\n",
        "    # Sampling loop for a batch of sequences\n",
        "    # (to simplify, here we assume a batch of size 1).\n",
        "    stop_condition = False\n",
        "    decoded_seq = list()\n",
        "    while not stop_condition:\n",
        "\n",
        "        # in a loop\n",
        "        # decode the input to a token/output prediction + required states for context vector\n",
        "        output_tokens, h, c = decoder_model.predict(\n",
        "            [target_seq] + states_value)\n",
        "\n",
        "        # convert the token/output prediction to a token/output\n",
        "        sampled_token_index = np.argmax(output_tokens[0, -1, :])\n",
        "        sampled_digit = sampled_token_index\n",
        "        # add the predicted token/output to output sequence\n",
        "        decoded_seq.append(sampled_digit)\n",
        "        \n",
        "\n",
        "        # Exit condition: either hit max length\n",
        "        # or find stop character.\n",
        "        if (len(decoded_seq) == n_timesteps_in):\n",
        "            stop_condition = True\n",
        "\n",
        "        # Update the input target sequence (of length 1) \n",
        "        # with the predicted token/output \n",
        "        target_seq = np.zeros((1, 1, n_features))\n",
        "        target_seq[0, 0, sampled_token_index] = 1.\n",
        "\n",
        "        # Update input states (context vector) \n",
        "        # with the ouputed states\n",
        "        states_value = [h, c]\n",
        "\n",
        "        # loop back.....\n",
        "        \n",
        "    # when loop exists return the output sequence\n",
        "    return decoded_seq"
      ]
    },
    {
      "cell_type": "code",
      "source": [
        "print('Input \\t\\t\\t  Expected  \\t   Predicted \\t\\tT/F')\n",
        "correct =0 \n",
        "sampleNo =  10\n",
        "for sample in range(0,sampleNo):\n",
        "  predicted= decode_sequence(encoder_input_data[sample].reshape(1,n_timesteps_in,n_features))\n",
        "  if (one_hot_decode(decoder_predicted_data[sample])== predicted):\n",
        "    correct+=1\n",
        "  print( one_hot_decode(encoder_input_data[sample]), '\\t\\t', \n",
        "        one_hot_decode(decoder_predicted_data[sample]),'\\t', predicted,\n",
        "        '\\t\\t',one_hot_decode(decoder_predicted_data[sample])== predicted)\n",
        "print('Accuracy: ', correct/sampleNo)"
      ],
      "metadata": {
        "colab": {
          "base_uri": "https://localhost:8080/",
          "height": 252
        },
        "id": "-e4Sy3YBVUU2",
        "outputId": "28512557-32fb-4d36-febd-459698a41198"
      },
      "execution_count": 56,
      "outputs": [
        {
          "output_type": "stream",
          "name": "stdout",
          "text": [
            "Input \t\t\t  Expected  \t   Predicted \t\tT/F\n"
          ]
        },
        {
          "output_type": "error",
          "ename": "ValueError",
          "evalue": "ignored",
          "traceback": [
            "\u001b[0;31m---------------------------------------------------------------------------\u001b[0m",
            "\u001b[0;31mValueError\u001b[0m                                Traceback (most recent call last)",
            "\u001b[0;32m<ipython-input-56-b093fb4864aa>\u001b[0m in \u001b[0;36m<module>\u001b[0;34m\u001b[0m\n\u001b[1;32m      3\u001b[0m \u001b[0msampleNo\u001b[0m \u001b[0;34m=\u001b[0m  \u001b[0;36m10\u001b[0m\u001b[0;34m\u001b[0m\u001b[0;34m\u001b[0m\u001b[0m\n\u001b[1;32m      4\u001b[0m \u001b[0;32mfor\u001b[0m \u001b[0msample\u001b[0m \u001b[0;32min\u001b[0m \u001b[0mrange\u001b[0m\u001b[0;34m(\u001b[0m\u001b[0;36m0\u001b[0m\u001b[0;34m,\u001b[0m\u001b[0msampleNo\u001b[0m\u001b[0;34m)\u001b[0m\u001b[0;34m:\u001b[0m\u001b[0;34m\u001b[0m\u001b[0;34m\u001b[0m\u001b[0m\n\u001b[0;32m----> 5\u001b[0;31m   \u001b[0mpredicted\u001b[0m\u001b[0;34m=\u001b[0m \u001b[0mdecode_sequence\u001b[0m\u001b[0;34m(\u001b[0m\u001b[0mencoder_input_data\u001b[0m\u001b[0;34m[\u001b[0m\u001b[0msample\u001b[0m\u001b[0;34m]\u001b[0m\u001b[0;34m.\u001b[0m\u001b[0mreshape\u001b[0m\u001b[0;34m(\u001b[0m\u001b[0;36m1\u001b[0m\u001b[0;34m,\u001b[0m\u001b[0mn_timesteps_in\u001b[0m\u001b[0;34m,\u001b[0m\u001b[0mn_features\u001b[0m\u001b[0;34m)\u001b[0m\u001b[0;34m)\u001b[0m\u001b[0;34m\u001b[0m\u001b[0;34m\u001b[0m\u001b[0m\n\u001b[0m\u001b[1;32m      6\u001b[0m   \u001b[0;32mif\u001b[0m \u001b[0;34m(\u001b[0m\u001b[0mone_hot_decode\u001b[0m\u001b[0;34m(\u001b[0m\u001b[0mdecoder_predicted_data\u001b[0m\u001b[0;34m[\u001b[0m\u001b[0msample\u001b[0m\u001b[0;34m]\u001b[0m\u001b[0;34m)\u001b[0m\u001b[0;34m==\u001b[0m \u001b[0mpredicted\u001b[0m\u001b[0;34m)\u001b[0m\u001b[0;34m:\u001b[0m\u001b[0;34m\u001b[0m\u001b[0;34m\u001b[0m\u001b[0m\n\u001b[1;32m      7\u001b[0m     \u001b[0mcorrect\u001b[0m\u001b[0;34m+=\u001b[0m\u001b[0;36m1\u001b[0m\u001b[0;34m\u001b[0m\u001b[0;34m\u001b[0m\u001b[0m\n",
            "\u001b[0;31mValueError\u001b[0m: cannot reshape array of size 490 into shape (1,10,10)"
          ]
        }
      ]
    },
    {
      "cell_type": "code",
      "source": [
        "from tqdm import tqdm\n",
        "result = []\n",
        "for ts in tqdm(range(4, 50, 5)):\n",
        "    encoder_inputs= Input(shape=(ts, n_features))\n",
        "    encoder_lstm=LSTM(LSTMoutputDimension, return_state=True)\n",
        "    LSTM_outputs, state_h, state_c = encoder_lstm(encoder_inputs)\n",
        "    encoder_states = [state_h, state_c]\n",
        "    decoder_inputs = Input(shape=(None, n_features), name='decoder_inputs')\n",
        "    decoder_lstm = LSTM(LSTMoutputDimension, return_sequences=True, return_state=True, name='decoder_lstm')\n",
        "    decoder_outputs, _, _ = decoder_lstm(decoder_inputs,\n",
        "                                initial_state=encoder_states)\n",
        "    decoder_dense = Dense(n_features, activation='softmax', name='decoder_dense')\n",
        "    decoder_outputs = decoder_dense(decoder_outputs)\n",
        "    model_encoder_training = Model([encoder_inputs, decoder_inputs], decoder_outputs, name='model_encoder_training')\n",
        "    model_encoder_training.compile(optimizer='adam', loss='categorical_crossentropy', metrics=['accuracy'])\n",
        "    encoder_input_data, decoder_input_data, decoder_predicted_data=\\\n",
        "    create_encoder_dataset(train_size, test_size, ts,n_features)\n",
        "    history = model_encoder_training.fit([encoder_input_data, decoder_input_data], decoder_predicted_data, \n",
        "          verbose=0,\n",
        "          batch_size=32,\n",
        "          epochs=20,\n",
        "          validation_split=0.2)\n",
        "    result.append(history.history['accuracy'][-1])\n",
        "\n"
      ],
      "metadata": {
        "colab": {
          "base_uri": "https://localhost:8080/"
        },
        "id": "NbQao9hQjsSb",
        "outputId": "eef36490-7081-48ad-831f-160f1b6ea63f"
      },
      "execution_count": 33,
      "outputs": [
        {
          "output_type": "stream",
          "name": "stderr",
          "text": [
            "100%|██████████| 10/10 [03:28<00:00, 20.87s/it]\n"
          ]
        }
      ]
    },
    {
      "cell_type": "code",
      "source": [
        "import seaborn as sns\n",
        "sns.set()"
      ],
      "metadata": {
        "id": "Ds4-sV1yovuw"
      },
      "execution_count": 35,
      "outputs": []
    },
    {
      "cell_type": "code",
      "source": [
        "plt.plot(range(4, 50, 5), result)"
      ],
      "metadata": {
        "colab": {
          "base_uri": "https://localhost:8080/",
          "height": 285
        },
        "id": "1OxIRWUZrj39",
        "outputId": "1845e983-5714-480a-f158-bc5b54c54db3"
      },
      "execution_count": 55,
      "outputs": [
        {
          "output_type": "execute_result",
          "data": {
            "text/plain": [
              "[<matplotlib.lines.Line2D at 0x7fdbdd011790>]"
            ]
          },
          "metadata": {},
          "execution_count": 55
        },
        {
          "output_type": "display_data",
          "data": {
            "text/plain": [
              "<Figure size 432x288 with 1 Axes>"
            ],
            "image/png": "[encoded data removed]"
          },
          "metadata": {}
        }
      ]
    },
    {
      "cell_type": "code",
      "source": [
        "x = range(4, 50, 5)\n",
        "poly = np.polyfit(x, result, deg=3)\n",
        "fig, ax = plt.subplots()\n",
        "ax.plot(result, label='data')\n",
        "ax.plot(np.polyval(poly, x), label='fit')\n",
        "ax.legend()"
      ],
      "metadata": {
        "colab": {
          "base_uri": "https://localhost:8080/",
          "height": 285
        },
        "id": "pskpZ_9rqYEp",
        "outputId": "7021c99d-a8c8-4073-a044-281ccaf012a0"
      },
      "execution_count": 54,
      "outputs": [
        {
          "output_type": "execute_result",
          "data": {
            "text/plain": [
              "<matplotlib.legend.Legend at 0x7fdc11adb5d0>"
            ]
          },
          "metadata": {},
          "execution_count": 54
        },
        {
          "output_type": "display_data",
          "data": {
            "text/plain": [
              "<Figure size 432x288 with 1 Axes>"
            ],
            "image/png": "[encoded data removed]"
          },
          "metadata": {}
        }
      ]
    },
    {
      "cell_type": "code",
      "source": [
        "from scipy.interpolate import make_interp_spline, BSpline\n",
        "\n",
        "# 300 represents number of points to make between T.min and T.max\n",
        "xnew = np.linspace(4, 49, 300) \n",
        "\n",
        "spl = make_interp_spline(range(4, 50, 5), result, k=9)  # type: BSpline\n",
        "power_smooth = spl(xnew)\n",
        "\n",
        "plt.plot(xnew, power_smooth)\n",
        "plt.show()"
      ],
      "metadata": {
        "colab": {
          "base_uri": "https://localhost:8080/",
          "height": 271
        },
        "id": "k4ibzibNpYLh",
        "outputId": "14355706-8e16-4ec9-ca15-d2206daa8344"
      },
      "execution_count": 44,
      "outputs": [
        {
          "output_type": "display_data",
          "data": {
            "text/plain": [
              "<Figure size 432x288 with 1 Axes>"
            ],
            "image/png": "[encoded data removed]"
          },
          "metadata": {}
        }
      ]
    }
  ],
  "metadata": {
    "colab": {
      "collapsed_sections": [],
      "provenance": []
    },
    "gpuClass": "standard",
    "kernelspec": {
      "display_name": "Python 3 (ipykernel)",
      "language": "python",
      "name": "python3"
    },
    "language_info": {
      "codemirror_mode": {
        "name": "ipython",
        "version": 3
      },
      "file_extension": ".py",
      "mimetype": "text/x-python",
      "name": "python",
      "nbconvert_exporter": "python",
      "pygments_lexer": "ipython3",
      "version": "3.10.1"
    },
    "accelerator": "GPU"
  },
  "nbformat": 4,
  "nbformat_minor": 0
}