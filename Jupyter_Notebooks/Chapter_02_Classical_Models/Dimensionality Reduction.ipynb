{
 "cells": [
  {
   "cell_type": "markdown",
   "id": "8cee9c79-ae63-4675-87df-255510403af3",
   "metadata": {},
   "source": [
    "<div dir=\"rtl\" align=\"center\">\n",
    "<font face=\"XB Zar\" size=5>\n",
    "    <font face=\"IranNastaliq\" size=5>\n",
    "      به نام خدا\n",
    "    </font>\n",
    "    <br>\n",
    "    <font size=3>\n",
    "      دانشگاه صنعتی شریف - دانشکده مهندسی کامپیوتر\n",
    "    </font>\n",
    "    <br>\n",
    "    <font color=blue size=5>\n",
    "      مقدمه‌ای بر یادگیری ماشین\n",
    "    </font>\n",
    "    <br>\n",
    "    <hr/>\n",
    "    <font color=red size=6>\n",
    "      فصل دوم:  کاهش بعد داده‌ها\n",
    "    </font>\n",
    "    <br>\n",
    "      نویسنده:‌ سینا مظاهری\n",
    "    <hr>\n",
    "<br>\n",
    "</font>\n",
    "</div>"
   ]
  },
  {
   "cell_type": "markdown",
   "id": "3ba14717-4269-4af7-9901-62b59bd8a751",
   "metadata": {},
   "source": [
    "<span style=\"font-family: XB Zar; font-size: 5; \"><div dir=rtl><meta charset=\"UTF-8\">\n",
    "    <span style=\"color: red; font-size: large; \">1.مقدمه</span>\n",
    "    <br>\n",
    "    در مباحثی از یادگیری نظارت نشده که بیشتر بر روی کاهش بعد داده‌ها تمرکز دارند؛ یک هدف اصلی وجود دارد:  <b> پیدا کردن متغیر‌های تصادفی نهان پیوسته در ساختار مجموعه دادگان داده شده </b>.<br>\n",
    "    این عمل درست بر‌خلاف خوشه‌بندی می‌باشد که در آن ما به دنبال متغیر‌های نهان گسسته می‌باشیم. (پیدا کردن تعداد خوشه‌ها، بررسی رفتار خوشه‌ها، ...)<br>\n",
    "    روش‌های متعددی به منظور کاهش بعد داده‌ها وجود دارند. در این بخش به یکی از پرکاربردترین و معروف‌ترین آن‌ها می پردازیم.<br>\n",
    "    کاهش بعد‌ داده‌ها عموما به سه منظور صورت می‌گیرد:\n",
    "    <ul>\n",
    "        <li>نمایش داده‌ها یا همان Data Visualization برای مجموعه دادگانی که معمولا ابعاد بسیار بالایی دارند یعنی تعداد ابعاد از تعداد داده‌ها بسیار بسیار بیشتر است $(D \\gg N)$</li>\n",
    "        <li>در بعضی از روش‌های یادگیری ماشین نظارت شده که هدف به دست آوردن یک مقدار پیوسته یا گسسته است، کاهش بعد داده‌های ورودی، تاثیر بسزایی برروی عملکرد و نتایج خروجی آن می گذارد.</li> \n",
    "        <li>به منظور فشرده‌سازی داده‌ها استفاده می‌گردد.</li>\n",
    "    </ul>\n",
    "</div></span>"
   ]
  },
  {
   "cell_type": "markdown",
   "id": "d25574fb-0e37-45aa-99b8-db7fe7ff82e4",
   "metadata": {},
   "source": [
    "<div dir=\"rtl\"><table><tr>\n",
    "<td> <img src=\"https://www.sqlservercentral.com/wp-content/uploads/legacy/c2362193dd68a81c6774bb9668f1178fc2cf4ad4/32947.jpg\" width=\"500\" style=\"vertical-align:middle\">\n",
    " <figcaption><center>شکل1. فشرده‌سازی تصویر</center></figcaption>\n",
    " </td>\n",
    "<td> <img src=\"https://www.researchgate.net/profile/Diego-Peluffo/publication/325363944/figure/fig1/AS:631693463539712@1527618866278/Dimensionality-reduction-effect-over-an-3D-artificial-Swiss-roll-manifold-the-2D.png\" width=\"500\" style=\"vertical-align:middle\">\n",
    " <figcaption><center>شکل2. کاهش بعد داده‌های سه بعدی به دو بعدی</center></figcaption> </td>\n",
    "</tr></table>\n",
    "    </div>\n",
    "     "
   ]
  },
  {
   "cell_type": "markdown",
   "id": "0ebc8de2-1826-41ac-a8a4-ba878c473e49",
   "metadata": {},
   "source": [
    "<span style=\"font-family: XB Zar; font-size: medium; \"><div dir=rtl><meta charset=\"UTF-8\">\n",
    "    <span style=\"color: red; font-size: large; \">2. تحلیل مولفه‌های اصلی یا PCA</span>\n",
    "    <br>\n",
    "    یکی از پرکاربردترین روش‌هایی که در کاهش بعد داده‌های یک مجموعه دادگان استفاده می‌شود\n",
    "    <b>تحلیل مولفه‌های اصلی </b>\n",
    "    می‌باشد. این روش از دو منظر قابل تعریف است که هر دو معادل یکدیگر می‌باشند:\n",
    "    <ul>\n",
    "  <li>نگاشت متعامد مجموعه دادگان به یک فضای برداری خطی با ابعاد کمتر از فضای برداری اصلی خود دادگان به گونه‌ای که واریانس دادگان تبدیل یافته بیشینه شود. به این زیرفضای کاهش یافته،\n",
    "      <b>زیرفضای اصلی (principal subspace)</b>\n",
    "      نیز گفته می‌شود.</li>\n",
    "  <li>نگاشت خطی‌ای می باشد که میانگین مربعات فاصله اقلیدسی بین داده اصلی و داده تبدیل یافته را کمینه می‌کند. </li>\n",
    "    </ul>\n",
    "</div></span>"
   ]
  },
  {
   "cell_type": "markdown",
   "id": "6fdd67a9-aea0-4d11-ac85-5f58269e2356",
   "metadata": {},
   "source": [
    "<div>\n",
    "<center>\n",
    "<img src=\"http://alexhwilliams.info/itsneuronalblog/img/pca/pca_two_views.png\" width=\"500\">\n",
    "     <figcaption><center>شکل3. کمینه‌سازی خطای مربعات در مقایسه با بیشینه‌سازی واریانس</center></figcaption> </td>\n",
    "</center>\n",
    "</div>"
   ]
  },
  {
   "cell_type": "markdown",
   "id": "92e77070-39ad-4805-bcdd-d2074c89f3b2",
   "metadata": {},
   "source": [
    "<span style=\"font-family: XB Zar; font-size: medium; \"><div dir=rtl><meta charset=\"UTF-8\">\n",
    "    ما در این درسنامه به بررسی تعریف اول یعنی بیشینه سازی واریانس می پردازیم و بررسی درستی تعریف دوم را به خواننده واگذار می کنیم.\n",
    "</div></span>"
   ]
  },
  {
   "cell_type": "markdown",
   "id": "5339da8d-2ac7-43aa-8109-cdeaf40ade04",
   "metadata": {},
   "source": [
    "<span style=\"font-family: XB Zar; font-size: medium; \"><div dir=rtl><meta charset=\"UTF-8\">\n",
    "    <span style=\"color: red; font-size: large; \">1.2. بررسی تعریف بیشینه سازی واریانس در تحلیل مولفه های اصلی</span>\n",
    "    <br>\n",
    "    ابتدا فرص کنید که مجموعه دادگان\n",
    "    $ \\mathcal{D} = \\{ \\mathbf{x}_{1}, \\mathbf{x}_{2}, \\dots, \\mathbf{x}_{N}\\} $\n",
    "    به ما داده شده است. هر یک از\n",
    "    $ \\mathbf{x}_{i} $\n",
    "    یک بردار داده\n",
    "    $ D $\n",
    "     بعدی می‌باشد. حال ما این بردار‌ها را در درون یک ماتریس قرار می‌دهیم تا ماتریس دادگان یا \n",
    "    <b>Design Matrix</b>\n",
    "    $ \\mathbf{X}_{N \\times D} $\n",
    "    را تشکیل دهیم.\n",
    "    <br>\n",
    "    <br>\n",
    "    $$\\mathbf{X}_{N \\times D}=\n",
    "\\begin{bmatrix}\n",
    "\\mathbf{x}^\\top_{1} \\\\\n",
    "\\mathbf{x}^\\top_{2} \\\\\n",
    "\\vdots \\\\\n",
    "\\mathbf{x}^\\top_n \\\\\n",
    "\\end{bmatrix} = \\begin{bmatrix}\n",
    " x_{1}^{[1]} & x_{2}^{[1]} & \\cdots & x_{D}^{[1]} \\\\\n",
    " x_{1}^{[2]} & x_{2}^{[2]} & \\cdots & x_{D}^{[2]} \\\\\n",
    "\\vdots & \\vdots & \\cdots & \\vdots \\\\\n",
    " x_{1}^{[N]} & x_{2}^{[N]} & \\cdots & x_{D}^{[N]} \\\\\n",
    "\\end{bmatrix}\n",
    "$$\n",
    "<br>\n",
    "    ابتدا به بررسی میانگین نمونه‌ای و کوواریانس نمونه‌ای این ماتریس دادگان می‌پردازیم و سپس زیر فضای اصلی را میابیم \n",
    "</div></span>"
   ]
  },
  {
   "cell_type": "markdown",
   "id": "2bac21f2-1e28-4dd6-b697-94b43704a873",
   "metadata": {},
   "source": [
    "<span style=\"font-family: XB Zar; font-size: medium; \"><div dir=rtl><meta charset=\"UTF-8\">\n",
    "    <span style=\"color: red; font-size: large; \">2.2. بررسی تعریف میانگین نمونه‌ای و واریانس نمونه‌ای ماتریس دادگان</span>\n",
    "    <br>\n",
    "    میانگین نمونه ای ماتریس دادگان را با\n",
    "    $\\bar{\\mathbf{x}}$\n",
    "    نمایش می دهیم و طبق تعریف خواهیم داشت:\n",
    "    <br>\n",
    "    $$\n",
    "    \\begin{split}\n",
    "    \\bar{\\mathbf{x}}_{D \\times 1} = \\frac{1}{N}\\mathbf{X}^\\top \\mathbf{1}\\quad, \\quad \\mathbf{1}_{N \\times 1} = \\begin{bmatrix}\n",
    "1 \\\\\n",
    "1 \\\\\n",
    "\\vdots \\\\\n",
    "1 \\\\\n",
    "\\end{bmatrix}\n",
    "    \\end{split}\n",
    "    $$\n",
    "    <br>\n",
    "    ‌برای ماتریس کوواریانس نمونه‌ای که آن را با\n",
    "    $\\mathbf{S}$\n",
    "    ابتدا تعریف می‌کنیم\n",
    "    $\\mathbf{T} = \\mathbf{X} - \\mathbf{1}\\bar{\\mathbf{x}}^{\\top}$\n",
    "    و\n",
    "    نیز خواهیم داشت:\n",
    "    <br>\n",
    "    <br>\n",
    "     $$\n",
    "    \\mathbf{S}_{D \\times D} =   \\frac{1}{N - 1}\\mathbf{T}^\\top\\mathbf{T} = \\frac{1}{N - 1}(\\mathbf{X} - \\mathbf{1}\\bar{\\mathbf{x}}^{\\top})^\\top(\\mathbf{X} - \\mathbf{1}\\bar{\\mathbf{x}}^{\\top}) = \\frac{1}{N - 1}\\displaystyle\\sum_{i = 1}^{N}(\\mathbf{x}_{i} - \\bar{\\mathbf{x}})(\\mathbf{x}_{i} - \\bar{\\mathbf{x}})^\\top\n",
    "    $$\n",
    "</div></span>"
   ]
  },
  {
   "cell_type": "markdown",
   "id": "7b8a806c-0d35-4945-ae77-ba0ee73af0b2",
   "metadata": {},
   "source": [
    "<span style=\"font-family: XB Zar; font-size: medium; \"><div dir=rtl><meta charset=\"UTF-8\">\n",
    "    چند نکته در مورد ماتریس کوواریانس نمونه‌ای\n",
    "    $ \\mathbf{S} $:\n",
    "    <ul>\n",
    "        <li>این ماتریس به وضوح یک ماتریس\n",
    "            <b> متقارن</b>\n",
    "        می‌باشد زیرا داریم:\n",
    "        $ \\mathbf{S}^{\\top} = \\mathbf{S} $\n",
    "        </li>\n",
    "        <li>\n",
    "            طبق قضیه‌ای در جبر خطی، هر ماتریس متقارن\n",
    "            ،$ D \\times D $،\n",
    "            $D$\n",
    "            مقدار ویژه حقیقی به شکل\n",
    "            $ \\lambda_{1}, \\lambda_{2}, \\dots, \\lambda_{D} $\n",
    "            دارد که متناظر آن‌ها بردار ویژه‌ای وجود دارد به شکل\n",
    "            $\\{ \\mathbf{q}_{1}, \\mathbf{q}_{1}, \\dots, \\mathbf{q}_{D} \\}$\n",
    "که \n",
    "            <b>متعامد نرمال</b>\n",
    "             می‌باشند. نکته‌ای که وجود دارد آن است که بردارهای ویژه متعامد هستند اما لزوما نرم واحد ندارند. ما می‌توانیم آن را نرمال کنیم و با قرار دادن آن‌ها در ستون های ماتریس\n",
    "            $ \\mathbf{Q} $\n",
    "            ، بردار‌های ویژه متعامد نرمال را به دست بیاوریم.\n",
    "        </li>\n",
    "        <li>\n",
    "            طبق قضیه ای در جبر خطی، هر ماتریس متقارن یک ماتریس قطری شدنی است یعنی چنین تجزیه‌ای برای آن وجود دارد:\n",
    "            <br>\n",
    "            <br>\n",
    "            $$\\begin{split}\n",
    "            \\mathbf{S} = \\mathbf{Q}\\mathbf{\\Lambda}\\mathbf{Q}^{-1} = \\mathbf{Q}\\mathbf{\\Lambda}\\mathbf{Q}^{\\top} = \\displaystyle\\sum_{i = 1}^{D} \\lambda_{i}\\mathbf{q}_{i}\\mathbf{q}_{i}^{\\top}, \\quad \\mathbf{\\Lambda} = diag(\\lambda_{1}, \\lambda_{2}, \\dots, \\lambda_{D}), \\quad \\mathbf{Q}= \\begin{bmatrix}\n",
    "\\mathbf{q}_{1} & \\mathbf{q}_{2} & \\dots & \\mathbf{q}_{D}\n",
    "\\end{bmatrix}\n",
    "            \\end{split}\n",
    "            $$\n",
    "        </li>\n",
    "    </ul>\n",
    "</div></span>"
   ]
  },
  {
   "cell_type": "markdown",
   "id": "c90f5171-29fc-4360-8894-4b26044fd508",
   "metadata": {},
   "source": [
    "<span style=\"font-family: XB Zar; font-size: medium; \"><div dir=rtl><meta charset=\"UTF-8\">\n",
    "    <span style=\"color: red; font-size: large; \">3.2. بررسی زیرفضای اصلی دادگان تبدیل یافته</span>\n",
    "    <br>\n",
    "    ابتدا فرض می‌کنیم که می‌خواهیم بعد داده‌ها را به مقدار\n",
    "    $M$\n",
    "    به گونه ای که\n",
    "    $M < D$\n",
    "    می‌باشد؛ کاهش دهیم. این فضای برداری را\n",
    "    $\\mathbf{W}$\n",
    "    می‌نامیم و داریم\n",
    "    $ \\mathbf{W} \\subseteq \\mathbb{R}^{D}$.\n",
    "    برای این کار ابتدا فرض می‌کنیم که پایه‌های متعامد نرمال تشکیل دهنده این فضا به شکل \n",
    "    $\\mathbf{u}_{1}, \\mathbf{u}_{2}, \\dots, \\mathbf{u}_{M}$\n",
    "    می‌باشند. هر کدام از این پایه‌های برداری\n",
    "    $\\mathbf{u}_{i}$،\n",
    "    $D \\times 1$\n",
    "    ‌بوده که داده‌‌ای چون \n",
    "    $\\mathbf{x}$\n",
    "    را به فضای مقصد می‌نگارند. اگر فرض کنیم که با قرار دادن این پایه‌ها در درون ستون‌های یک ماتریس چون \n",
    "    $ \\mathbf{U} $\n",
    "    ماتریس نگاشت به دست می‌آید؛ در اینصورت بردار داده در فضای تبدیل یافته \n",
    "    $ M $\n",
    "    بعدی را با \n",
    "    $\\mathbf{x}^{*}$\n",
    "    نشان می‌دهیم و خواهیم داشت:\n",
    "    <br>\n",
    "    <br>\n",
    "    $$\\begin{split}\n",
    "    \\mathbf{x}^{*} = \\mathbf{U}^{\\top}\\mathbf{x}, \\quad \\mathbf{U} = \\begin{bmatrix}\n",
    "\\mathbf{u}_{1} & \\mathbf{u}_{2} & \\dots & \\mathbf{u}_{M}\n",
    "\\end{bmatrix}\n",
    "    \\end{split}\n",
    "    $$\n",
    "    <br>\n",
    "    <br>\n",
    "    حال اگر فرض کنیم که می‌خواهیم این موضوع را در مورد کل\n",
    "    $ N $\n",
    "    داده ماتریس دادگان تعمیم دهیم ابتدا این ماتریس دادگان را به ماتریس دادگان \n",
    "    $ \\mathbf{T} $\n",
    "    که میانگین تجربی 0 به ازای تمامی ویژگی‌هایشان دارند تبدیل می‌کنیم به گونه‌ای که\n",
    "    $ \\mathbf{T} = \\mathbf{X} - \\mathbf{1}\\bar{\\mathbf{x}}^{\\top}$ \n",
    "    و \n",
    "    سپس ماتریس دادگان در فضای جدید را به شکل \n",
    "    $ \\mathbf{X}^{*} $\n",
    "    تعریف می‌کنیم و نیز خواهیم داشت:\n",
    "    <br>\n",
    "    <br>\n",
    "    $$\n",
    "    \\mathbf{X}^{*} = \\mathbf{T}\\mathbf{U} $$\n",
    "    حال از آنجایی که نیاز است تا واریانس داده‌ها در هر یک از \n",
    "    $M$\n",
    "     بعد بیشینه شود. باید ابتدا بردار میانگین داده‌های تبدیل یافته و همچنین ماتریس کوواریانس آن‌ها را به دست بیاوریم \n",
    "    این مقادیر را به ترتیب با \n",
    "    $ \\bar{\\mathbf{x}}^{*} $\n",
    "    و\n",
    "    $ \\mathbf{S}^{*} $\n",
    "    نشان می‌دهیم و طبق تعریفی که قبلا ارائه دادیم؛ داریم:\n",
    "    <br>\n",
    "    <br>\n",
    "    $$ \n",
    "    \\bar{\\mathbf{x}}^{*} = \\frac{1}{N} (\\mathbf{X}^{*})^{\\top} \\mathbf{1} = \\frac{1}{N} (\\mathbf{T}\\mathbf{U})^{\\top} \\mathbf{1} = \\frac{1}{N} (\\mathbf{U}^{\\top}\\mathbf{T}^{\\top}) \\mathbf{1} =  \\mathbf{U}^{\\top}(\\frac{1}{N}\\mathbf{T}^{\\top} \\mathbf{1}) = \\mathbf{U}^{\\top}\\mathbf{0} = \\mathbf{0}$$\n",
    "    <br>\n",
    "    $$\n",
    "    \\mathbf{S}^{*} =\n",
    "    \\frac{1}{N - 1}\\big(\\mathbf{X}^{*} - \\mathbf{1}(\\bar{\\mathbf{x}}^{*})^{\\top}\\big)^\\top\\big(\\mathbf{X}^{*} - \\mathbf{1}(\\bar{\\mathbf{x}}^{*})^{\\top}\\big) =\n",
    "    \\frac{1}{N - 1}\\big(\\mathbf{U}^{\\top}\\mathbf{T}^{\\top}\\big)\\big(\\mathbf{T}\\mathbf{U}\\big) =  \n",
    "    \\mathbf{U}^{\\top}\\big(\\frac{1}{N - 1}\\mathbf{T}^{\\top}\\mathbf{T}\\big)\\mathbf{U}\n",
    " = \\mathbf{U}^{\\top}\\mathbf{S}\\mathbf{U}\n",
    "    $$\n",
    "    <br>\n",
    "ما می‌دانیم که واریانس هر بعد (می توان هر بعد را به نوعی محور اعداد حقیقی فرض کرد که واریانس نمونه‌ای \n",
    "    $ S_{i} $\n",
    "    برای آن تعریف می‌شود)\n",
    "    بر روی درایه‌های قطر اصلی ماتریس\n",
    "        $ \\mathbf{S}^{*} $\n",
    "    واقع شده‌است. به منظور بیشینه‌سازی هر واریانس نمونه‌ای، حاصل جمع آن‌ها را بیشینه می‌کنیم:\n",
    "    <br>\n",
    "    <br>\n",
    "    $$\\DeclareMathOperator{\\Tr}{Tr} \\max_{S_1, S_2, \\dots, S_{M}} S_1 + S_2 + \\dots + S_{M} \\equiv  \\max_{S_1, S_2, \\dots, S_{M}} \\Tr(\\mathbf{S^{*}}) \\equiv \\max_{S_1, S_2, \\dots, S_{M}} \\Tr(\\mathbf{U}^{\\top}\\mathbf{S}\\mathbf{U})$$\n",
    "    <br>\n",
    "    چون حاصل جمع، تابعی خطی از تک تک واریانس‌ها می‌باشد؛ بیشینه کردن آن نسبت به واریانس‌ها، بیشینه کردن هر یک از واریانس‌ها را تضمین می‌کند. ما می‌دانیم که \n",
    "    واریانس هر بعد چون \n",
    "    $ S_{i} $\n",
    "    از مولفه‌های تبدیل یافته هر داده توسط پایه متناظر آن بعد یعنی\n",
    "    $ \\mathbf{u}_{i} $\n",
    "    بدست می‌آید\n",
    "    پس در واقع\n",
    "    $S_{i} = \\mathbf{u}_{i}^{\\top} \\mathbf{S} \\mathbf{u}_{i} $\n",
    "    و از آنجایی که ماتریس \n",
    "    $ \\mathbf{S}$\n",
    "    از روی داده‌ها حساب شده است پس متغیر‌های برداری \n",
    "    $ \\mathbf{u}_{i} $\n",
    "    در مسئله بهینه‌سازی استفاده شده و مقدار حاصل جمع باید نسبت به آن‌ها بهینه شود. چون این بردارها متعامد نرمال هستند پس داریم\n",
    "    $\\mathbf{U}^{\\top} \\mathbf{U} = \\mathbf{I}$\n",
    "    و مسئله بهینه‌سازی به شکل زیر خواهد شد:\n",
    "    </div></span>\n",
    "    \n"
   ]
  },
  {
   "cell_type": "markdown",
   "id": "ded6de1c-1f9c-4272-920e-9275a6173a78",
   "metadata": {},
   "source": [
    "<span style=\"font-family: XB Zar; font-size: medium; \"><div dir=rtl><meta charset=\"UTF-8\">\n",
    "    <br>\n",
    "    $$\\DeclareMathOperator{\\Tr}{Tr} \\begin{aligned}\n",
    "\\max_{\\mathbf{U}} \\quad & \\Tr(\\mathbf{U}^{\\top}\\mathbf{S}\\mathbf{U})\\\\\n",
    "\\textrm{subject to} \\quad & \\mathbf{U} \\in \\mathbb{R}^{D \\times M},\\\\\n",
    "  & \\mathbf{U}^{\\top}\\mathbf{U} = \\mathbf{I}\\\\\n",
    "\\end{aligned}$$\n",
    "    <br>\n",
    "     ثابت می‌کنیم که\n",
    "    اگر \n",
    "    $\\lambda_{1} \\geq \\lambda_{2} \\geq \\dots \\geq \\lambda_{D}$\n",
    "    مقادیر ویژه ماتریس\n",
    "    $ \\mathbf{S} $\n",
    "    باشند؛ آنگاه بیشینه عبارت بالا برابر\n",
    "    $ \\lambda_{1} + \\lambda_{2} + \\dots + \\lambda_{M} $\n",
    "    می‌باشد یا به عبارتی حاصل جمع \n",
    "    $M$\n",
    "    مقدار ویژه بزرگ \n",
    "    ماتریس\n",
    "    $ \\mathbf{S} $\n",
    "    می شود.\n",
    "    در واقع این مقادیر ویژه همان بیشینه مقدار واریانس در هر یک از \n",
    "    $ M $\n",
    "    بعد می‌باشند\n",
    "    $S_{1}^{max} = \\lambda_{1}, S_{2}^{max} = \\lambda_{2}, \\dots, S_{M}^{max} = \\lambda_{M} $\n",
    "    و این زمانی به دست می‌آید که \n",
    "    ماتریس\n",
    "    $\\mathbf{U}$\n",
    "    ماتریس نگاشت متعامد و شامل بردارهای ویژه \n",
    "    $\\mathbf{U} = \\begin{bmatrix} \\mathbf{q_{1}} & \\mathbf{q_{2}} & \\cdots & \\mathbf{q_{M}} \\end{bmatrix}$\n",
    "    نظیر مقادیر ویژه\n",
    "    $ \\lambda_{1}, \\lambda_{2}, \\dots, \\lambda_{M} $\n",
    "    باشد.\n",
    "    </div></span>"
   ]
  },
  {
   "cell_type": "markdown",
   "id": "29fde405-e67c-483d-94ee-1a2067601a18",
   "metadata": {},
   "source": [
    "<span style=\"font-family: XB Zar; font-size: medium; \"><div dir=rtl><meta charset=\"UTF-8\">\n",
    "    اثبات:\n",
    "    <br>\n",
    "    ابتدا فرض می کنیم که\n",
    "    $ \\mathbf{u}_{1}, \\mathbf{u}_{2}, \\dots, \\mathbf{u}_{M} $\n",
    "    بردار های ستونی، ستون های ماتریس\n",
    "    $ \\mathbf{U} $\n",
    "     می باشند. از آنجایی که گفتیم برای هر ماتریس متقارن یک تجزیه به شکل\n",
    "    $ \\sum_{j = 1}^{D} \\lambda_{j}\\mathbf{q}_{j}\\mathbf{q}_{j}^{\\top} $\n",
    "    وجود دارد در نتیجه عبارت\n",
    "    $\\DeclareMathOperator{\\Tr}{Tr} \\Tr(\\mathbf{U}^{\\top}\\mathbf{S}\\mathbf{U})$\n",
    "    به شکل زیر می شود:\n",
    "    <br>\n",
    "    <br>\n",
    "    $$\n",
    "    \\DeclareMathOperator{\\Tr}{Tr} \\Tr(\\mathbf{U}^{\\top}\\mathbf{S}\\mathbf{U}) = \\displaystyle\\sum_{i = 1}^{M} \\mathbf{u}_{i}^{\\top}\\mathbf{S}\\mathbf{u}_{i} =\n",
    "    \\displaystyle\\sum_{i = 1}^{M} \\mathbf{u}_{i}^{\\top}\\Big(\\displaystyle\\sum_{j = 1}^{D} \\lambda_{j}\\mathbf{q}_{j}\\mathbf{q}_{j}^{\\top}\\Big)\\mathbf{u}_{i} = \n",
    "    \\displaystyle\\sum_{i = 1}^{M}\\displaystyle\\sum_{j = 1}^{D} \\lambda_{j} \\mathbf{u}_{i}^{\\top}\\mathbf{q}_{j}\\mathbf{q}_{j}^{\\top}\\mathbf{u}_{i} = \n",
    "    \\displaystyle\\sum_{i = 1}^{M}\\displaystyle\\sum_{j = 1}^{D} \\lambda_{j} \\big(\\mathbf{q}_{j}^{\\top}\\mathbf{u}_{i}\\big)^{2} =\n",
    "    \\displaystyle\\sum_{j = 1}^{D} \\lambda_{j}\\displaystyle\\sum_{i = 1}^{M} \\big(\\mathbf{q}_{j}^{\\top}\\mathbf{u}_{i}\\big)^{2} =\n",
    "    \\displaystyle\\sum_{j = 1}^{D} \\lambda_{j}c_{j}\n",
    "    $$\n",
    "    <br>\n",
    "    در عبارت بالا مقدار\n",
    "    $c_{j}$\n",
    "    برابر\n",
    "    $c_{j} = \\sum_{i = 1}^{M} \\big(\\mathbf{q}_{j}^{\\top}\\mathbf{u}_{i}\\big)^{2}$\n",
    "    می‌باشد. ابتدا ثابت می‌کنیم که مقدار \n",
    "    $c_{j}$\n",
    "    بین 0 و 1 می‌باشد یعنی \n",
    "    $0 \\leq c_{j} \\leq 1$\n",
    "    و ثانیا ثابت می‌کنیم که \n",
    "    $\\sum_{j = 1}^{D} c_{j} = M$.\n",
    "    <br>\n",
    "    می‌دانیم که به وضوح\n",
    "    $ c_{j} \\geq 0 $\n",
    "    برقرار است زیرا مجموع مقادیر نامنفی می‌باشد\n",
    "    حال برای اثبات \n",
    "    $ c_{j} \\leq 1 $\n",
    "    مقادیر برداری \n",
    "    $\\mathbf{u}_{1}, \\mathbf{u}_{2}, \\dots,  \\mathbf{u}_{M}$\n",
    "    را به پایه‌های متعامد نرمال\n",
    "    $\\mathbf{u}_{1}, \\mathbf{u}_{2}, \\dots,  \\mathbf{u}_{D}$\n",
    "    فضای برداری\n",
    "    $\\mathbb{R}^{D} $\n",
    "    گسترده می‌کنیم و داریم:\n",
    "    <br>\n",
    "    <br>\n",
    "    $$\n",
    "    c_{j} = \\displaystyle\\sum_{i = 1}^{M}\\big(\\mathbf{q}_{j}^{\\top}\\mathbf{u}_{i}\\big)^{2} \\leq \\displaystyle\\sum_{i = 1}^{D}\\big(\\mathbf{q}_{j}^{\\top}\\mathbf{u}_{i}\\big)^{2} = \n",
    "    \\| \\mathbf{q}_{j}^{\\top} \\mathbf{U} \\|_{2}^{2} =\n",
    "    (\\mathbf{q}_{j}^{\\top} \\mathbf{U})(\\mathbf{q}_{j}^{\\top} \\mathbf{U})^{\\top}\n",
    "    = \\| \\mathbf{q}_{j} \\|_{2}^{2} = 1\n",
    "    $$\n",
    "    <br>\n",
    "    و چون \n",
    "    $\\mathbf{q}_{1}, \\mathbf{q}_{2}, \\dots,  \\mathbf{q}_{D}$\n",
    "    پایه‌های متعامد نرمالی برای فضای برداری \n",
    "    $\\mathbb{R}^{D} $\n",
    "    هستند؛ نیز داریم:\n",
    "    <br>\n",
    "    <br>\n",
    "    $$\\displaystyle\\sum_{j = 1}^{D} c_{j} = \\displaystyle\\sum_{j = 1}^{D}\\displaystyle\\sum_{i = 1}^{M}\\big(\\mathbf{q}_{j}^{\\top}\\mathbf{u}_{i}\\big)^{2} =\n",
    "    \\displaystyle\\sum_{i = 1}^{M}\\displaystyle\\sum_{j = 1}^{D}\\big(\\mathbf{q}_{j}^{\\top}\\mathbf{u}_{i}\\big)^{2} =\n",
    "    \\displaystyle\\sum_{i = 1}^{M}\\| \\mathbf{u}_{i} \\|_{2}^{2} =\n",
    "    \\displaystyle\\sum_{i = 1}^{M}1 = M$$\n",
    "    <br> \n",
    "     بنابراین \n",
    "    عبارت \n",
    "    $ \\sum_{j = 1}^{D} \\lambda_{j}c_{j}$\n",
    "    زمانی بیشینه میشود که با داده شدن مقادیر ویژه، هر یک از ضرایب آن‌ها بیشینه شود و مقدار 1 را به خود بگیرد از طرفی چون رابطه تساوی\n",
    "    $ \\sum_{j = 1}^{D} c_{j} = M$\n",
    "    باید برقرار باشد خواهیم داشت:\n",
    "    <br>\n",
    "    <br>\n",
    "    $$\n",
    "    \\begin{split}\n",
    "    c_{1} = c_{2} =  \\dots = c_{M} = 1, \\quad c_{M+1} = c_{M+2} =  \\dots = c_{D} = 0\n",
    "    \\end{split}\n",
    "    $$\n",
    "    <br>\n",
    "    در نتیجه تساوی \n",
    "    $Span[\\mathbf{q}_{1}, \\mathbf{q}_{2}, \\dots,  \\mathbf{q}_{M}] = Span[\\mathbf{u}_{1}, \\mathbf{u}_{2}, \\dots,  \\mathbf{u}_{M}]$\n",
    "    باید برقرار باشد \n",
    "    و در نتیجه مقادیر برداری \n",
    "    $\\mathbf{q}_{1}, \\mathbf{q}_{2}, \\dots,  \\mathbf{q}_{M}$\n",
    "    پایه‌هایی برای فضای مقصد می‌باشند که در ستون‌های ماتریس \n",
    "    $\\mathbf{U}$\n",
    "    قرار گرفته‌اند.\n",
    "    <br>\n",
    "    <br>\n",
    "    خلاصه و جمع‌بندی:\n",
    "    <br>\n",
    "     برای پیداکردن مجموعه دادگان تبدیل یافته با بعد کمتر به کمک روش تحلیل مولفه‌های اصلی باید مراحل زیر را طی کنیم. فرض می‌کنیم که مجموعه دادگان\n",
    "    $ \\mathbf{X}_{N \\times D}$\n",
    "    که \n",
    "    $D$\n",
    "    بعدی است داده شده و می‌خواهیم آن را به \n",
    "    $\\mathbf{X}^{*}_{N \\times M}$\n",
    "    تبدیل کنیم که \n",
    "    $ M $\n",
    "    بعدی است:\n",
    "    <ol>\n",
    "  <li>ابتدا ماتریس کوواریانس نمونه‌ای \n",
    "        $ S $\n",
    "      را طبق فرمول \n",
    "      $\\mathbf{S}_{D \\times D} = \\frac{1}{N - 1}\\mathbf{T}^\\top \\mathbf{T} $\n",
    "        بدست می‌آوریم که در آن\n",
    "      $\\mathbf{T} = \\mathbf{X} - \\mathbf{1}\\bar{\\mathbf{x}}^{\\top}$\n",
    "      و \n",
    "      $\\bar{\\mathbf{x}}_{D \\times 1} = \\frac{1}{N}\\mathbf{X}^\\top \\mathbf{1} $\n",
    "      می‌باشد\n",
    "        </li>\n",
    "  <li>مقادیر ویژه\n",
    "      $\\lambda_{1}, \\lambda_{2}, \\dots, \\lambda_{M}$\n",
    "       و بردار‌های ویژه نظیر آن‌ها \n",
    "        $\\mathbf{q}_{1}, \\mathbf{q}_{2}, \\dots,  \\mathbf{q}_{M}$\n",
    "       را برای ماتریس\n",
    "      $\\mathbf{S}$\n",
    "       می‌یابیم\n",
    "        </li>\n",
    "  <li>برای کاهش بعد داده‌ها به \n",
    "        $M$\n",
    "        بعد، ابتدا این مقادیر ویژه را به شکل نزولی مرتب می‌کنیم\n",
    "        $\\lambda_{1} \\geq \\lambda_{2} \\geq \\dots \\geq \\lambda_{D}$\n",
    "        سپس \n",
    "        $M$\n",
    "        تا از بزرگترین آن‌ها را به شکل \n",
    "        $\\lambda_{1} \\geq \\lambda_{2} \\geq \\dots \\geq \\lambda_{M}$\n",
    "        بر می‌گزینیم و بردار‌های ویژه نظیر آن‌ها را انتخاب می‌کنیم\n",
    "        $\\mathbf{q}_{1}, \\mathbf{q}_{2}, \\dots,\\mathbf{q}_{M} $\n",
    "        </li>\n",
    "        <li>\n",
    "        مقادیر ویژه \n",
    "        $\\lambda_{1}, \\lambda_{2}, \\dots, \\lambda_{M}$\n",
    "        به ترتیب بیشینه  واریانس نمونه‌ای دادگان تبدیل یافته در هر یک از \n",
    "            $ M $\n",
    "            بعد جدید خواهند بود و با قرار دادن بردار‌های ویژه \n",
    "            $\\mathbf{q}_{1}, \\mathbf{q}_{2}, \\dots,\\mathbf{q}_{M}$\n",
    "            در ستون‌های ماتریس \n",
    "            $ \\mathbf{U}_{D \\times M} $\n",
    "            به شکل \n",
    "            $\\mathbf{U}_{D \\times M} = \\begin{bmatrix} \\mathbf{q}_{1}& \\mathbf{q}_{2}& \\cdots&\\mathbf{q}_{M}\\end{bmatrix}$\n",
    "            ؛ ماتریس نگاشت را می‌سازیم.\n",
    "        </li>\n",
    "        <li>\n",
    "          در نهایت با اعمال نگاشت به ماتریس دادگان طبق رابطه\n",
    "        $\\mathbf{X}^{*} = \\mathbf{T}\\mathbf{U}$\n",
    "        ماتریس \n",
    "            $\\mathbf{X}^{*}$\n",
    "        را بدست می‌اوریم.\n",
    "        </li>\n",
    "    </ol>\n",
    "    </div></span>\n",
    "    "
   ]
  },
  {
   "cell_type": "markdown",
   "id": "ef2d8ee5-66f8-4c74-a765-b418923e6089",
   "metadata": {},
   "source": [
    "<span style=\"font-family: XB Zar; font-size: medium; \"><div dir=rtl><meta charset=\"UTF-8\">\n",
    "    <span style=\"color: red; font-size: large; \"> 4.2. بررسی مجموعه دادگان  Iris </span>\n",
    "    <br>\n",
    "    برای مشاهده عملکرد PCA به منظور کاهش بعد داده‌ها ، مجموعه دادگان Iris را در نظر می‌گیریم. از آنجایی که داده‌های این مجموعه 4 بعدی هستند؛ قصد داریم تا آن‌ها را به 2 و 3 بعد کاهش دهیم.\n",
    "    ابتدا توصیفی از ویژگی‌های این مجموعه دادگان ارائه می‌دهیم:\n",
    "    <ul>\n",
    "        <li><b>Sepal Length: </b>\n",
    "      این مقدار طول کاسبرگ را نشان می‌دهد.</li>\n",
    "        <li><b> Sepal Width:</b>\n",
    "      این مقدار عرض کاسبرگ را نشان می‌دهد.</li>\n",
    "        <li><b>Petal Length:</b>\n",
    "      این مقدار طول گلبرگ را نشان می‌دهد.</li>\n",
    "        <li><b>Petal Width:</b>\n",
    "      این مقدار عرض گلبرگ را نشان می‌دهد.</li>\n",
    "        <li><b>Species:</b>\n",
    "      این مقدار نوع گونه را نشان می‌دهد که می تواند از 3 نوع \n",
    "           Setosa, Virginica یا Versicolor باشد</li>\n",
    "</ul>   \n",
    "    </div></span>\n",
    "    "
   ]
  },
  {
   "cell_type": "code",
   "execution_count": 2,
   "id": "e32b9b44-671f-4c7c-a9b7-8c7984cb78c0",
   "metadata": {},
   "outputs": [],
   "source": [
    "import numpy as np\n",
    "import pandas as pd\n",
    "import plotly.express as px"
   ]
  },
  {
   "cell_type": "markdown",
   "id": "6e7a6c21-09b3-45e4-b177-5dac7b643c6c",
   "metadata": {},
   "source": [
    "<span style=\"font-family: XB Zar; font-size: medium; \"><div dir=rtl><meta charset=\"UTF-8\">\n",
    "    <br>\n",
    "    بعد از آنکه کتابخانه‌های مورد نظر را import کردیم مجموعه دادگان را ابتدا بارگذاری می‌کنیم. \n",
    "    </div></span>"
   ]
  },
  {
   "cell_type": "code",
   "execution_count": 3,
   "id": "e8525cc5-7416-4669-9f93-c645f6c3700c",
   "metadata": {},
   "outputs": [
    {
     "data": {
      "text/html": [
       "<div>\n",
       "<style scoped>\n",
       "    .dataframe tbody tr th:only-of-type {\n",
       "        vertical-align: middle;\n",
       "    }\n",
       "\n",
       "    .dataframe tbody tr th {\n",
       "        vertical-align: top;\n",
       "    }\n",
       "\n",
       "    .dataframe thead th {\n",
       "        text-align: right;\n",
       "    }\n",
       "</style>\n",
       "<table border=\"1\" class=\"dataframe\">\n",
       "  <thead>\n",
       "    <tr style=\"text-align: right;\">\n",
       "      <th></th>\n",
       "      <th>sepal.length</th>\n",
       "      <th>sepal.width</th>\n",
       "      <th>petal.length</th>\n",
       "      <th>petal.width</th>\n",
       "      <th>variety</th>\n",
       "    </tr>\n",
       "  </thead>\n",
       "  <tbody>\n",
       "    <tr>\n",
       "      <th>0</th>\n",
       "      <td>5.1</td>\n",
       "      <td>3.5</td>\n",
       "      <td>1.4</td>\n",
       "      <td>0.2</td>\n",
       "      <td>Setosa</td>\n",
       "    </tr>\n",
       "    <tr>\n",
       "      <th>1</th>\n",
       "      <td>4.9</td>\n",
       "      <td>3.0</td>\n",
       "      <td>1.4</td>\n",
       "      <td>0.2</td>\n",
       "      <td>Setosa</td>\n",
       "    </tr>\n",
       "    <tr>\n",
       "      <th>2</th>\n",
       "      <td>4.7</td>\n",
       "      <td>3.2</td>\n",
       "      <td>1.3</td>\n",
       "      <td>0.2</td>\n",
       "      <td>Setosa</td>\n",
       "    </tr>\n",
       "    <tr>\n",
       "      <th>3</th>\n",
       "      <td>4.6</td>\n",
       "      <td>3.1</td>\n",
       "      <td>1.5</td>\n",
       "      <td>0.2</td>\n",
       "      <td>Setosa</td>\n",
       "    </tr>\n",
       "    <tr>\n",
       "      <th>4</th>\n",
       "      <td>5.0</td>\n",
       "      <td>3.6</td>\n",
       "      <td>1.4</td>\n",
       "      <td>0.2</td>\n",
       "      <td>Setosa</td>\n",
       "    </tr>\n",
       "    <tr>\n",
       "      <th>...</th>\n",
       "      <td>...</td>\n",
       "      <td>...</td>\n",
       "      <td>...</td>\n",
       "      <td>...</td>\n",
       "      <td>...</td>\n",
       "    </tr>\n",
       "    <tr>\n",
       "      <th>145</th>\n",
       "      <td>6.7</td>\n",
       "      <td>3.0</td>\n",
       "      <td>5.2</td>\n",
       "      <td>2.3</td>\n",
       "      <td>Virginica</td>\n",
       "    </tr>\n",
       "    <tr>\n",
       "      <th>146</th>\n",
       "      <td>6.3</td>\n",
       "      <td>2.5</td>\n",
       "      <td>5.0</td>\n",
       "      <td>1.9</td>\n",
       "      <td>Virginica</td>\n",
       "    </tr>\n",
       "    <tr>\n",
       "      <th>147</th>\n",
       "      <td>6.5</td>\n",
       "      <td>3.0</td>\n",
       "      <td>5.2</td>\n",
       "      <td>2.0</td>\n",
       "      <td>Virginica</td>\n",
       "    </tr>\n",
       "    <tr>\n",
       "      <th>148</th>\n",
       "      <td>6.2</td>\n",
       "      <td>3.4</td>\n",
       "      <td>5.4</td>\n",
       "      <td>2.3</td>\n",
       "      <td>Virginica</td>\n",
       "    </tr>\n",
       "    <tr>\n",
       "      <th>149</th>\n",
       "      <td>5.9</td>\n",
       "      <td>3.0</td>\n",
       "      <td>5.1</td>\n",
       "      <td>1.8</td>\n",
       "      <td>Virginica</td>\n",
       "    </tr>\n",
       "  </tbody>\n",
       "</table>\n",
       "<p>150 rows × 5 columns</p>\n",
       "</div>"
      ],
      "text/plain": [
       "     sepal.length  sepal.width  petal.length  petal.width    variety\n",
       "0             5.1          3.5           1.4          0.2     Setosa\n",
       "1             4.9          3.0           1.4          0.2     Setosa\n",
       "2             4.7          3.2           1.3          0.2     Setosa\n",
       "3             4.6          3.1           1.5          0.2     Setosa\n",
       "4             5.0          3.6           1.4          0.2     Setosa\n",
       "..            ...          ...           ...          ...        ...\n",
       "145           6.7          3.0           5.2          2.3  Virginica\n",
       "146           6.3          2.5           5.0          1.9  Virginica\n",
       "147           6.5          3.0           5.2          2.0  Virginica\n",
       "148           6.2          3.4           5.4          2.3  Virginica\n",
       "149           5.9          3.0           5.1          1.8  Virginica\n",
       "\n",
       "[150 rows x 5 columns]"
      ]
     },
     "execution_count": 3,
     "metadata": {},
     "output_type": "execute_result"
    }
   ],
   "source": [
    "df = pd.read_csv(\"iris.csv\")\n",
    "df"
   ]
  },
  {
   "cell_type": "code",
   "execution_count": 4,
   "id": "ea43cb40-a74a-4391-ac7e-adc8c7d5be14",
   "metadata": {},
   "outputs": [
    {
     "name": "stdout",
     "output_type": "stream",
     "text": [
      "The Design Matrix Shape is (150, 4) That is N = 150 and D = 4\n"
     ]
    }
   ],
   "source": [
    "X = df.iloc[:, 0:4].to_numpy()\n",
    "N, D = X.shape\n",
    "y = df.iloc[:, 4].to_numpy().reshape((N,))\n",
    "print(\"The Design Matrix Shape is\", X.shape, \"That is N =\", N, \"and D =\", D)"
   ]
  },
  {
   "cell_type": "markdown",
   "id": "b7e659b1-1330-46cb-94ac-af25470584bc",
   "metadata": {},
   "source": [
    "<span style=\"font-family: XB Zar; font-size: medium; \"><div dir=rtl><meta charset=\"UTF-8\">\n",
    "    <br>\n",
    "    طبق آنچه که گفته شد ابتدا میانگین نمونه‌ای یعنی \n",
    "    $\\bar{\\mathbf{x}}$\n",
    "    و سپس ماتریس کوواریانس نمونه‌ای \n",
    "    $\\mathbf{S}$\n",
    "    را\n",
    "    حساب می‌کنیم\n",
    "    </div></span>"
   ]
  },
  {
   "cell_type": "code",
   "execution_count": 10,
   "id": "24195c0c-c653-4869-ade2-a603c1be0b2e",
   "metadata": {},
   "outputs": [
    {
     "name": "stdout",
     "output_type": "stream",
     "text": [
      "The Sample Covariance Matrix is:\n",
      " [[ 0.68569351 -0.042434    1.27431544  0.51627069]\n",
      " [-0.042434    0.18997942 -0.32965638 -0.12163937]\n",
      " [ 1.27431544 -0.32965638  3.11627785  1.2956094 ]\n",
      " [ 0.51627069 -0.12163937  1.2956094   0.58100626]]\n"
     ]
    }
   ],
   "source": [
    "ones = np.ones((N, 1), dtype=X.dtype)\n",
    "x_bar = 1 / N * (X.transpose().dot(ones))\n",
    "T = X - ones.dot(x_bar.transpose())\n",
    "S = 1 / (N - 1) * T.transpose().dot(T)\n",
    "print(\"The Sample Covariance Matrix is:\\n\", S)"
   ]
  },
  {
   "cell_type": "markdown",
   "id": "ed095bf0-219d-4f61-b6c0-48495580c87e",
   "metadata": {},
   "source": [
    "<span style=\"font-family: XB Zar; font-size: medium; \"><div dir=rtl><meta charset=\"UTF-8\">\n",
    "    <br>\n",
    "    حال مقادیر ویژه و بردار‌های ویژه را حساب می‌کنیم. این کار را با استفاده از تابع \n",
    "   np.linalg.eig()\n",
    "    حساب می‌کنیم. دقت داریم که این تابع خود مقادیر ویژه را به شکل نزولی مرتب می‌کند\n",
    "    </div></span>"
   ]
  },
  {
   "cell_type": "code",
   "execution_count": 11,
   "id": "8bc9acdf-93a8-4e82-a6e3-7a198d36eb77",
   "metadata": {},
   "outputs": [
    {
     "name": "stdout",
     "output_type": "stream",
     "text": [
      "The Eigenvalues are:  [4.22824171 0.24267075 0.0782095  0.02383509]\n",
      "The Eigenvectors Matrix which each of them is a column-vector:\n",
      " [[ 0.36138659 -0.65658877 -0.58202985  0.31548719]\n",
      " [-0.08452251 -0.73016143  0.59791083 -0.3197231 ]\n",
      " [ 0.85667061  0.17337266  0.07623608 -0.47983899]\n",
      " [ 0.3582892   0.07548102  0.54583143  0.75365743]]\n"
     ]
    }
   ],
   "source": [
    "eigenvalues, eigenvectors = np.linalg.eig(S)\n",
    "print(\"The Eigenvalues are: \", eigenvalues)\n",
    "print(\"The Eigenvectors Matrix which each of them is a column-vector:\\n\", eigenvectors)"
   ]
  },
  {
   "cell_type": "markdown",
   "id": "fbb35d4d-fad7-41ed-88b9-005e8c9673ed",
   "metadata": {},
   "source": [
    "<span style=\"font-family: XB Zar; font-size: medium; \"><div dir=rtl><meta charset=\"UTF-8\">\n",
    "    <br>\n",
    "    با انتخاب 3 مقدار ویژه بزرگتر، 3 بردار‌ ویژه متناظر با آن را به عنوان پایه‌ای برای فضای مقصد درنظر می‌گیریم و با انجام تبدیل مورد نظر داده‌های ما 3 بعدی شده و در شکل زیر نتایج را می‌بینیم:\n",
    "    </div></span>"
   ]
  },
  {
   "cell_type": "code",
   "execution_count": 12,
   "id": "5ac60432-89fe-4f31-a7fa-f14594795fcc",
   "metadata": {},
   "outputs": [
    {
     "data": {
      "application/vnd.plotly.v1+json": {
       "config": {
        "plotlyServerURL": "https://plot.ly"
       },
       "data": [
        {
         "hovertemplate": "species=Setosa<br>PC1=%{x}<br>PC2=%{y}<br>PC3=%{z}<extra></extra>",
         "legendgroup": "Setosa",
         "marker": {
          "color": "#636efa",
          "symbol": "circle"
         },
         "mode": "markers",
         "name": "Setosa",
         "scene": "scene",
         "showlegend": true,
         "type": "scatter3d",
         "x": [
          -2.684125625969534,
          -2.714141687294323,
          -2.888990569059294,
          -2.745342855641407,
          -2.7287165365545274,
          -2.2808596328444897,
          -2.820537750740606,
          -2.62614497314663,
          -2.88638273178055,
          -2.672755797820951,
          -2.5069470906518534,
          -2.61275523090872,
          -2.7861092661880145,
          -3.223803743865649,
          -2.6447503899420277,
          -2.386039033531131,
          -2.623527875224424,
          -2.6482967062543787,
          -2.1998203236175775,
          -2.587986399878766,
          -2.3102562152425157,
          -2.543705228757154,
          -3.215939415648609,
          -2.3027331822262043,
          -2.3557540491237696,
          -2.506668906925819,
          -2.468820073121336,
          -2.5623199061960134,
          -2.63953471538454,
          -2.631989387274343,
          -2.5873984766893496,
          -2.4099324970021727,
          -2.6488623343499094,
          -2.598736749100585,
          -2.6369268781057964,
          -2.8662416521186667,
          -2.62523804985037,
          -2.800684115448219,
          -2.9805020437819905,
          -2.5900063139680936,
          -2.7701024260278992,
          -2.8493687050431005,
          -2.9974065465949042,
          -2.405614485097483,
          -2.209489237783677,
          -2.7144514267577047,
          -2.5381482589989375,
          -2.8394621676428473,
          -2.5430857498303907,
          -2.703359782335157
         ],
         "y": [
          -0.3193972465851023,
          0.17700122506477856,
          0.14494942608555642,
          0.31829897925191514,
          -0.32675451293492086,
          -0.7413304490629157,
          0.08946138452856844,
          -0.16338495969832992,
          0.5783117541867028,
          0.11377424587411511,
          -0.6450688986485752,
          -0.014729939161375428,
          0.23511200020171671,
          0.5113945870063814,
          -1.1787646364375768,
          -1.338062330400653,
          -0.8106795141812585,
          -0.31184914459335583,
          -0.8728390389622125,
          -0.5135603087492776,
          -0.391345935653896,
          -0.4329960632790288,
          -0.13346806953852597,
          -0.09870885481410042,
          0.037281859677381596,
          0.14601688049526582,
          -0.13095148943525117,
          -0.3677188574342013,
          -0.3120399802352844,
          0.1969612249243135,
          0.20431849127413199,
          -0.4109242642295744,
          -0.8133638202969627,
          -1.0931457594493577,
          0.12132234786586162,
          -0.06936447158008208,
          -0.5993700213794255,
          -0.2686437377979833,
          0.4879583444286144,
          -0.229043836827014,
          -0.26352753374425747,
          0.9409605736411948,
          0.34192605747160926,
          -0.18887142893026077,
          -0.43666314163918835,
          0.2502082041852097,
          -0.5037711444614384,
          0.22794556949382683,
          -0.5794100215198905,
          -0.10770608249941302
         ],
         "z": [
          -0.027914827589412522,
          -0.2104642723782442,
          0.017900256320890234,
          0.03155937360568098,
          0.09007924055120267,
          0.1686776582091071,
          0.2578921582556184,
          -0.02187931788671857,
          0.020759570264779287,
          -0.19763272498814616,
          -0.075318009379118,
          0.1021502599565908,
          -0.20684443044964462,
          0.0612996724570984,
          -0.15162752361780632,
          0.2777769027031394,
          0.1381832278807215,
          0.026668315612594858,
          -0.12030552339472844,
          0.21366517222471781,
          -0.23944404324495186,
          0.20845723241671646,
          0.2923967507452432,
          0.03912325874288107,
          0.12502108270288007,
          -0.25342004234465754,
          0.09491057609939248,
          -0.0784942051379228,
          -0.145908895730028,
          0.04077107906717939,
          -0.07722298907343564,
          -0.14552497200512995,
          0.2256691497201228,
          0.15781081295822344,
          -0.14304958178613889,
          -0.16433230665302537,
          -0.2683503756939349,
          0.09369908247980159,
          0.07292704569269173,
          -0.08008230301732486,
          0.0772476931611048,
          -0.3492303773059692,
          0.19250921171270954,
          0.2638679455134159,
          0.29874274575511073,
          -0.09767814404562997,
          0.16670563660480678,
          0.08372684903359343,
          -0.017115024248511274,
          -0.08929400847882388
         ]
        },
        {
         "hovertemplate": "species=Versicolor<br>PC1=%{x}<br>PC2=%{y}<br>PC3=%{z}<extra></extra>",
         "legendgroup": "Versicolor",
         "marker": {
          "color": "#EF553B",
          "symbol": "circle"
         },
         "mode": "markers",
         "name": "Versicolor",
         "scene": "scene",
         "showlegend": true,
         "type": "scatter3d",
         "x": [
          1.2848256888583534,
          0.9324885323123204,
          1.464302321991396,
          0.1833177199583735,
          1.088103257711668,
          0.6416690842580803,
          1.095060662632449,
          -0.749122669829654,
          1.0441318260534376,
          -0.008745404082893062,
          -0.5078408838353227,
          0.5116985574475998,
          0.26497650811204926,
          0.9849345104708928,
          -0.1739253716817652,
          0.9278607809442495,
          0.6602837616969396,
          0.23610499331767434,
          0.9447337280198157,
          0.045226976298702724,
          1.1162831773500521,
          0.3578884179973098,
          1.2981838753589163,
          0.9217289224470395,
          0.714853325911414,
          0.9001743731721694,
          1.3320244367220906,
          1.5578021550660723,
          0.8132906498175438,
          -0.30558377802430625,
          -0.06812649206836066,
          -0.18962247237849894,
          0.1364287115580176,
          1.3800264359155137,
          0.5880064433398662,
          0.8068583125004145,
          1.220690882444355,
          0.8150952357666024,
          0.24595767988669512,
          0.1664132171454597,
          0.4648002884037821,
          0.8908151984694518,
          0.2305480235594581,
          -0.7045317592446605,
          0.3569814947010498,
          0.33193447994506103,
          0.37621565106667304,
          0.6425760075543403,
          -0.906469864948833,
          0.29900084187814596
         ],
         "y": [
          -0.6851604704673113,
          -0.31833363826263045,
          -0.5042628153092067,
          0.8279590118206304,
          -0.07459067519771855,
          0.4182468715686773,
          -0.2834682700615301,
          1.004890961181894,
          -0.22836189978839821,
          0.7230819050048336,
          1.2659711905263915,
          0.10398123549903933,
          0.5500364636804714,
          0.12481785412635565,
          0.25485420870258824,
          -0.46717949444151285,
          0.3529696657238498,
          0.3336107668249131,
          0.5431455507797637,
          0.5838343774718623,
          0.08461685219478775,
          0.06892503165601192,
          0.3277873083339149,
          0.18273779362136525,
          -0.14905594436978706,
          -0.32850447383432557,
          -0.24444087601634648,
          -0.26749544731025665,
          0.16335030068761489,
          0.3682621897545858,
          0.7051721317994633,
          0.6802867635281312,
          0.3140324382492348,
          0.42095428731388035,
          0.484287419981218,
          -0.19418231471315128,
          -0.4076195936110093,
          0.37203705990949865,
          0.26852439662201394,
          0.6819267248636252,
          0.6707115445117188,
          0.034464444368267275,
          0.40438584800732313,
          1.0122482275317124,
          0.5049100933371072,
          0.21265468378116856,
          0.2932189292514177,
          -0.017738190112418336,
          0.7560933665990127,
          0.34889780645033447
         ],
         "z": [
          -0.4065680254676925,
          -0.018014186646239397,
          -0.338325764980895,
          -0.1795913918753575,
          -0.30775789623478483,
          0.04107609082395566,
          0.16981023986057614,
          0.012302919237593022,
          -0.4153360847593969,
          0.2811414311764082,
          -0.26981718276885563,
          0.1305477502404859,
          -0.6941468301444205,
          -0.06211440832226088,
          0.09045769072570374,
          -0.3146209758321713,
          0.32802752837859483,
          -0.27116183725106685,
          -0.49951904648511475,
          -0.235002104972057,
          0.45962099135910406,
          -0.2298538876089518,
          -0.34785435225730904,
          -0.2310717777362844,
          -0.32180093724447356,
          -0.3162090737115735,
          -0.5217027796644186,
          -0.1649209837435798,
          0.03542450484615993,
          -0.3184915806230479,
          -0.24421381043355608,
          -0.3064205612176598,
          -0.17724276601124497,
          0.01616712752072817,
          0.44443349863980736,
          0.3889630630982115,
          -0.2371670098838747,
          -0.6147208425918234,
          0.1883668116461946,
          -0.06000922585533973,
          -0.024306855718952605,
          -0.009946932894348406,
          -0.22941024143915748,
          -0.10569114890302204,
          0.016617170198264638,
          0.08320429089567688,
          0.07799635108767537,
          -0.20539496698326054,
          -0.012599647557892358,
          0.010581660495570034
         ]
        },
        {
         "hovertemplate": "species=Virginica<br>PC1=%{x}<br>PC2=%{y}<br>PC3=%{z}<extra></extra>",
         "legendgroup": "Virginica",
         "marker": {
          "color": "#00cc96",
          "symbol": "circle"
         },
         "mode": "markers",
         "name": "Virginica",
         "scene": "scene",
         "showlegend": true,
         "type": "scatter3d",
         "x": [
          2.53119272780363,
          1.4152358767039048,
          2.6166760159956914,
          1.971531053043438,
          2.350005920044642,
          3.3970387360532595,
          0.5212322439097767,
          2.932587068993691,
          2.32122881657338,
          2.9167509667860743,
          1.6617741536365331,
          1.803401952965093,
          2.1655917960801467,
          1.3461635794584539,
          1.5859282238732233,
          1.9044563747934289,
          1.9496890593990714,
          3.4870553642902804,
          3.7956454220728855,
          1.3007917126376598,
          2.4278179130660473,
          1.1990011054655632,
          3.4999200389245395,
          1.3887661316914677,
          2.2754305038722067,
          2.614090473810833,
          1.25850816051149,
          1.2911320591150233,
          2.1236087227738967,
          2.3880030160034695,
          2.8416727781038724,
          3.230673661432094,
          2.159437642489052,
          1.444161242329512,
          1.7812948100451147,
          3.0764999316871893,
          2.1442433143020834,
          1.905098148814078,
          1.1693263393415025,
          2.1076111432572437,
          2.3141547052356017,
          1.9222678009026026,
          1.4152358767039048,
          2.5630133750774777,
          2.4187461827328267,
          1.9441097945469699,
          1.5271666148145195,
          1.764345717044431,
          1.9009416142184254,
          1.3901888619479164
         ],
         "y": [
          0.009849109498802473,
          0.5749163475464886,
          -0.34390315134173627,
          0.1797279043522441,
          0.0402609471425302,
          -0.550836673028058,
          1.1927587270006454,
          -0.35550000297749934,
          0.2438315023106881,
          -0.7827919488152788,
          -0.24222840775506793,
          0.21563761733355377,
          -0.2162755850740262,
          0.7768183473443389,
          0.539640714026719,
          -0.11925069209197282,
          -0.04194325966321292,
          -1.1757393297134306,
          -0.25732297342048266,
          0.761149636435061,
          -0.3781960126170517,
          0.6060915277579304,
          -0.4606740989118984,
          0.2043993273521493,
          -0.3349906058216782,
          -0.56090135512308,
          0.1797047947227453,
          0.11666865117401055,
          0.20972947667730157,
          -0.4646398047087393,
          -0.37526916719510645,
          -1.3741650867930495,
          0.2172775786690481,
          0.1434134104575787,
          0.49990168107813426,
          -0.6880856775711782,
          -0.14006420108978954,
          -0.0493005260130314,
          0.16499026202310887,
          -0.37228787196079915,
          -0.18365127916901955,
          -0.4092034668160633,
          0.5749163475464886,
          -0.2778626029291956,
          -0.30479819785469214,
          -0.18753230280060612,
          0.3753169825804866,
          -0.07885885451847692,
          -0.11662795851202316,
          0.28266093799055
         ],
         "z": [
          0.7601654272458953,
          0.2963225273879631,
          -0.11078788321910842,
          0.10842466246342303,
          0.2853895631844412,
          -0.3484375557974659,
          0.54565929564681,
          -0.42023993576796664,
          -0.3483043949348454,
          0.4233354176825601,
          0.24244018972576936,
          -0.037648168231483134,
          0.033326641844325336,
          0.28190288211846254,
          0.6290293264080083,
          0.47963981962659036,
          0.04418616763012262,
          0.1338948739361018,
          -0.5137677638178041,
          -0.34499503831341977,
          0.21911932430194364,
          0.5118555086969994,
          -0.5731822425680013,
          -0.06452275663126922,
          0.2861500911691508,
          -0.2055345243536229,
          0.04584770392724924,
          0.23125646265997024,
          0.1541800239288294,
          -0.4495301919418482,
          -0.49889807587076784,
          -0.11454820547541512,
          0.20876316713083679,
          -0.15323388806308988,
          -0.17287518911341973,
          -0.33559229243454003,
          0.7348789367255112,
          0.16218023577073773,
          0.28183584020848,
          0.02729113214163099,
          0.32269374717305876,
          0.1135865957993563,
          0.2963225273879631,
          0.2925695245967433,
          0.5044826639771801,
          0.17782509063265695,
          -0.12189817186718342,
          0.13048163128784804,
          0.7232515634899173,
          0.36290964808537546
         ]
        }
       ],
       "layout": {
        "autosize": true,
        "legend": {
         "title": {
          "text": "species"
         },
         "tracegroupgap": 0
        },
        "margin": {
         "t": 60
        },
        "scene": {
         "aspectmode": "auto",
         "aspectratio": {
          "x": 1,
          "y": 1,
          "z": 1
         },
         "camera": {
          "center": {
           "x": 0,
           "y": 0,
           "z": 0
          },
          "eye": {
           "x": -1.0372832076331215,
           "y": 0.3630121960164284,
           "z": 0.3929045802403826
          },
          "projection": {
           "type": "perspective"
          },
          "up": {
           "x": 0,
           "y": 0,
           "z": 1
          }
         },
         "domain": {
          "x": [
           0,
           1
          ],
          "y": [
           0,
           1
          ]
         },
         "xaxis": {
          "title": {
           "text": "PC1"
          },
          "type": "linear"
         },
         "yaxis": {
          "title": {
           "text": "PC2"
          },
          "type": "linear"
         },
         "zaxis": {
          "title": {
           "text": "PC3"
          },
          "type": "linear"
         }
        },
        "template": {
         "data": {
          "bar": [
           {
            "error_x": {
             "color": "#2a3f5f"
            },
            "error_y": {
             "color": "#2a3f5f"
            },
            "marker": {
             "line": {
              "color": "#E5ECF6",
              "width": 0.5
             },
             "pattern": {
              "fillmode": "overlay",
              "size": 10,
              "solidity": 0.2
             }
            },
            "type": "bar"
           }
          ],
          "barpolar": [
           {
            "marker": {
             "line": {
              "color": "#E5ECF6",
              "width": 0.5
             },
             "pattern": {
              "fillmode": "overlay",
              "size": 10,
              "solidity": 0.2
             }
            },
            "type": "barpolar"
           }
          ],
          "carpet": [
           {
            "aaxis": {
             "endlinecolor": "#2a3f5f",
             "gridcolor": "white",
             "linecolor": "white",
             "minorgridcolor": "white",
             "startlinecolor": "#2a3f5f"
            },
            "baxis": {
             "endlinecolor": "#2a3f5f",
             "gridcolor": "white",
             "linecolor": "white",
             "minorgridcolor": "white",
             "startlinecolor": "#2a3f5f"
            },
            "type": "carpet"
           }
          ],
          "choropleth": [
           {
            "colorbar": {
             "outlinewidth": 0,
             "ticks": ""
            },
            "type": "choropleth"
           }
          ],
          "contour": [
           {
            "colorbar": {
             "outlinewidth": 0,
             "ticks": ""
            },
            "colorscale": [
             [
              0,
              "#0d0887"
             ],
             [
              0.1111111111111111,
              "#46039f"
             ],
             [
              0.2222222222222222,
              "#7201a8"
             ],
             [
              0.3333333333333333,
              "#9c179e"
             ],
             [
              0.4444444444444444,
              "#bd3786"
             ],
             [
              0.5555555555555556,
              "#d8576b"
             ],
             [
              0.6666666666666666,
              "#ed7953"
             ],
             [
              0.7777777777777778,
              "#fb9f3a"
             ],
             [
              0.8888888888888888,
              "#fdca26"
             ],
             [
              1,
              "#f0f921"
             ]
            ],
            "type": "contour"
           }
          ],
          "contourcarpet": [
           {
            "colorbar": {
             "outlinewidth": 0,
             "ticks": ""
            },
            "type": "contourcarpet"
           }
          ],
          "heatmap": [
           {
            "colorbar": {
             "outlinewidth": 0,
             "ticks": ""
            },
            "colorscale": [
             [
              0,
              "#0d0887"
             ],
             [
              0.1111111111111111,
              "#46039f"
             ],
             [
              0.2222222222222222,
              "#7201a8"
             ],
             [
              0.3333333333333333,
              "#9c179e"
             ],
             [
              0.4444444444444444,
              "#bd3786"
             ],
             [
              0.5555555555555556,
              "#d8576b"
             ],
             [
              0.6666666666666666,
              "#ed7953"
             ],
             [
              0.7777777777777778,
              "#fb9f3a"
             ],
             [
              0.8888888888888888,
              "#fdca26"
             ],
             [
              1,
              "#f0f921"
             ]
            ],
            "type": "heatmap"
           }
          ],
          "heatmapgl": [
           {
            "colorbar": {
             "outlinewidth": 0,
             "ticks": ""
            },
            "colorscale": [
             [
              0,
              "#0d0887"
             ],
             [
              0.1111111111111111,
              "#46039f"
             ],
             [
              0.2222222222222222,
              "#7201a8"
             ],
             [
              0.3333333333333333,
              "#9c179e"
             ],
             [
              0.4444444444444444,
              "#bd3786"
             ],
             [
              0.5555555555555556,
              "#d8576b"
             ],
             [
              0.6666666666666666,
              "#ed7953"
             ],
             [
              0.7777777777777778,
              "#fb9f3a"
             ],
             [
              0.8888888888888888,
              "#fdca26"
             ],
             [
              1,
              "#f0f921"
             ]
            ],
            "type": "heatmapgl"
           }
          ],
          "histogram": [
           {
            "marker": {
             "pattern": {
              "fillmode": "overlay",
              "size": 10,
              "solidity": 0.2
             }
            },
            "type": "histogram"
           }
          ],
          "histogram2d": [
           {
            "colorbar": {
             "outlinewidth": 0,
             "ticks": ""
            },
            "colorscale": [
             [
              0,
              "#0d0887"
             ],
             [
              0.1111111111111111,
              "#46039f"
             ],
             [
              0.2222222222222222,
              "#7201a8"
             ],
             [
              0.3333333333333333,
              "#9c179e"
             ],
             [
              0.4444444444444444,
              "#bd3786"
             ],
             [
              0.5555555555555556,
              "#d8576b"
             ],
             [
              0.6666666666666666,
              "#ed7953"
             ],
             [
              0.7777777777777778,
              "#fb9f3a"
             ],
             [
              0.8888888888888888,
              "#fdca26"
             ],
             [
              1,
              "#f0f921"
             ]
            ],
            "type": "histogram2d"
           }
          ],
          "histogram2dcontour": [
           {
            "colorbar": {
             "outlinewidth": 0,
             "ticks": ""
            },
            "colorscale": [
             [
              0,
              "#0d0887"
             ],
             [
              0.1111111111111111,
              "#46039f"
             ],
             [
              0.2222222222222222,
              "#7201a8"
             ],
             [
              0.3333333333333333,
              "#9c179e"
             ],
             [
              0.4444444444444444,
              "#bd3786"
             ],
             [
              0.5555555555555556,
              "#d8576b"
             ],
             [
              0.6666666666666666,
              "#ed7953"
             ],
             [
              0.7777777777777778,
              "#fb9f3a"
             ],
             [
              0.8888888888888888,
              "#fdca26"
             ],
             [
              1,
              "#f0f921"
             ]
            ],
            "type": "histogram2dcontour"
           }
          ],
          "mesh3d": [
           {
            "colorbar": {
             "outlinewidth": 0,
             "ticks": ""
            },
            "type": "mesh3d"
           }
          ],
          "parcoords": [
           {
            "line": {
             "colorbar": {
              "outlinewidth": 0,
              "ticks": ""
             }
            },
            "type": "parcoords"
           }
          ],
          "pie": [
           {
            "automargin": true,
            "type": "pie"
           }
          ],
          "scatter": [
           {
            "fillpattern": {
             "fillmode": "overlay",
             "size": 10,
             "solidity": 0.2
            },
            "type": "scatter"
           }
          ],
          "scatter3d": [
           {
            "line": {
             "colorbar": {
              "outlinewidth": 0,
              "ticks": ""
             }
            },
            "marker": {
             "colorbar": {
              "outlinewidth": 0,
              "ticks": ""
             }
            },
            "type": "scatter3d"
           }
          ],
          "scattercarpet": [
           {
            "marker": {
             "colorbar": {
              "outlinewidth": 0,
              "ticks": ""
             }
            },
            "type": "scattercarpet"
           }
          ],
          "scattergeo": [
           {
            "marker": {
             "colorbar": {
              "outlinewidth": 0,
              "ticks": ""
             }
            },
            "type": "scattergeo"
           }
          ],
          "scattergl": [
           {
            "marker": {
             "colorbar": {
              "outlinewidth": 0,
              "ticks": ""
             }
            },
            "type": "scattergl"
           }
          ],
          "scattermapbox": [
           {
            "marker": {
             "colorbar": {
              "outlinewidth": 0,
              "ticks": ""
             }
            },
            "type": "scattermapbox"
           }
          ],
          "scatterpolar": [
           {
            "marker": {
             "colorbar": {
              "outlinewidth": 0,
              "ticks": ""
             }
            },
            "type": "scatterpolar"
           }
          ],
          "scatterpolargl": [
           {
            "marker": {
             "colorbar": {
              "outlinewidth": 0,
              "ticks": ""
             }
            },
            "type": "scatterpolargl"
           }
          ],
          "scatterternary": [
           {
            "marker": {
             "colorbar": {
              "outlinewidth": 0,
              "ticks": ""
             }
            },
            "type": "scatterternary"
           }
          ],
          "surface": [
           {
            "colorbar": {
             "outlinewidth": 0,
             "ticks": ""
            },
            "colorscale": [
             [
              0,
              "#0d0887"
             ],
             [
              0.1111111111111111,
              "#46039f"
             ],
             [
              0.2222222222222222,
              "#7201a8"
             ],
             [
              0.3333333333333333,
              "#9c179e"
             ],
             [
              0.4444444444444444,
              "#bd3786"
             ],
             [
              0.5555555555555556,
              "#d8576b"
             ],
             [
              0.6666666666666666,
              "#ed7953"
             ],
             [
              0.7777777777777778,
              "#fb9f3a"
             ],
             [
              0.8888888888888888,
              "#fdca26"
             ],
             [
              1,
              "#f0f921"
             ]
            ],
            "type": "surface"
           }
          ],
          "table": [
           {
            "cells": {
             "fill": {
              "color": "#EBF0F8"
             },
             "line": {
              "color": "white"
             }
            },
            "header": {
             "fill": {
              "color": "#C8D4E3"
             },
             "line": {
              "color": "white"
             }
            },
            "type": "table"
           }
          ]
         },
         "layout": {
          "annotationdefaults": {
           "arrowcolor": "#2a3f5f",
           "arrowhead": 0,
           "arrowwidth": 1
          },
          "autotypenumbers": "strict",
          "coloraxis": {
           "colorbar": {
            "outlinewidth": 0,
            "ticks": ""
           }
          },
          "colorscale": {
           "diverging": [
            [
             0,
             "#8e0152"
            ],
            [
             0.1,
             "#c51b7d"
            ],
            [
             0.2,
             "#de77ae"
            ],
            [
             0.3,
             "#f1b6da"
            ],
            [
             0.4,
             "#fde0ef"
            ],
            [
             0.5,
             "#f7f7f7"
            ],
            [
             0.6,
             "#e6f5d0"
            ],
            [
             0.7,
             "#b8e186"
            ],
            [
             0.8,
             "#7fbc41"
            ],
            [
             0.9,
             "#4d9221"
            ],
            [
             1,
             "#276419"
            ]
           ],
           "sequential": [
            [
             0,
             "#0d0887"
            ],
            [
             0.1111111111111111,
             "#46039f"
            ],
            [
             0.2222222222222222,
             "#7201a8"
            ],
            [
             0.3333333333333333,
             "#9c179e"
            ],
            [
             0.4444444444444444,
             "#bd3786"
            ],
            [
             0.5555555555555556,
             "#d8576b"
            ],
            [
             0.6666666666666666,
             "#ed7953"
            ],
            [
             0.7777777777777778,
             "#fb9f3a"
            ],
            [
             0.8888888888888888,
             "#fdca26"
            ],
            [
             1,
             "#f0f921"
            ]
           ],
           "sequentialminus": [
            [
             0,
             "#0d0887"
            ],
            [
             0.1111111111111111,
             "#46039f"
            ],
            [
             0.2222222222222222,
             "#7201a8"
            ],
            [
             0.3333333333333333,
             "#9c179e"
            ],
            [
             0.4444444444444444,
             "#bd3786"
            ],
            [
             0.5555555555555556,
             "#d8576b"
            ],
            [
             0.6666666666666666,
             "#ed7953"
            ],
            [
             0.7777777777777778,
             "#fb9f3a"
            ],
            [
             0.8888888888888888,
             "#fdca26"
            ],
            [
             1,
             "#f0f921"
            ]
           ]
          },
          "colorway": [
           "#636efa",
           "#EF553B",
           "#00cc96",
           "#ab63fa",
           "#FFA15A",
           "#19d3f3",
           "#FF6692",
           "#B6E880",
           "#FF97FF",
           "#FECB52"
          ],
          "font": {
           "color": "#2a3f5f"
          },
          "geo": {
           "bgcolor": "white",
           "lakecolor": "white",
           "landcolor": "#E5ECF6",
           "showlakes": true,
           "showland": true,
           "subunitcolor": "white"
          },
          "hoverlabel": {
           "align": "left"
          },
          "hovermode": "closest",
          "mapbox": {
           "style": "light"
          },
          "paper_bgcolor": "white",
          "plot_bgcolor": "#E5ECF6",
          "polar": {
           "angularaxis": {
            "gridcolor": "white",
            "linecolor": "white",
            "ticks": ""
           },
           "bgcolor": "#E5ECF6",
           "radialaxis": {
            "gridcolor": "white",
            "linecolor": "white",
            "ticks": ""
           }
          },
          "scene": {
           "xaxis": {
            "backgroundcolor": "#E5ECF6",
            "gridcolor": "white",
            "gridwidth": 2,
            "linecolor": "white",
            "showbackground": true,
            "ticks": "",
            "zerolinecolor": "white"
           },
           "yaxis": {
            "backgroundcolor": "#E5ECF6",
            "gridcolor": "white",
            "gridwidth": 2,
            "linecolor": "white",
            "showbackground": true,
            "ticks": "",
            "zerolinecolor": "white"
           },
           "zaxis": {
            "backgroundcolor": "#E5ECF6",
            "gridcolor": "white",
            "gridwidth": 2,
            "linecolor": "white",
            "showbackground": true,
            "ticks": "",
            "zerolinecolor": "white"
           }
          },
          "shapedefaults": {
           "line": {
            "color": "#2a3f5f"
           }
          },
          "ternary": {
           "aaxis": {
            "gridcolor": "white",
            "linecolor": "white",
            "ticks": ""
           },
           "baxis": {
            "gridcolor": "white",
            "linecolor": "white",
            "ticks": ""
           },
           "bgcolor": "#E5ECF6",
           "caxis": {
            "gridcolor": "white",
            "linecolor": "white",
            "ticks": ""
           }
          },
          "title": {
           "x": 0.05
          },
          "xaxis": {
           "automargin": true,
           "gridcolor": "white",
           "linecolor": "white",
           "ticks": "",
           "title": {
            "standoff": 15
           },
           "zerolinecolor": "white",
           "zerolinewidth": 2
          },
          "yaxis": {
           "automargin": true,
           "gridcolor": "white",
           "linecolor": "white",
           "ticks": "",
           "title": {
            "standoff": 15
           },
           "zerolinecolor": "white",
           "zerolinewidth": 2
          }
         }
        }
       }
      },
      "image/png": "[encoded data removed]",
      "text/html": [
       "<div>                            <div id=\"0cb58012-1fa9-4da6-b0d9-bff8340e0b09\" class=\"plotly-graph-div\" style=\"height:525px; width:100%;\"></div>            <script type=\"text/javascript\">                require([\"plotly\"], function(Plotly) {                    window.PLOTLYENV=window.PLOTLYENV || {};                                    if (document.getElementById(\"0cb58012-1fa9-4da6-b0d9-bff8340e0b09\")) {                    Plotly.newPlot(                        \"0cb58012-1fa9-4da6-b0d9-bff8340e0b09\",                        [{\"hovertemplate\":\"species=Setosa<br>PC1=%{x}<br>PC2=%{y}<br>PC3=%{z}<extra></extra>\",\"legendgroup\":\"Setosa\",\"marker\":{\"color\":\"#636efa\",\"symbol\":\"circle\"},\"mode\":\"markers\",\"name\":\"Setosa\",\"scene\":\"scene\",\"showlegend\":true,\"x\":[-2.684125625969534,-2.714141687294323,-2.888990569059294,-2.745342855641407,-2.7287165365545274,-2.2808596328444897,-2.820537750740606,-2.62614497314663,-2.88638273178055,-2.672755797820951,-2.5069470906518534,-2.61275523090872,-2.7861092661880145,-3.223803743865649,-2.6447503899420277,-2.386039033531131,-2.623527875224424,-2.6482967062543787,-2.1998203236175775,-2.587986399878766,-2.3102562152425157,-2.543705228757154,-3.215939415648609,-2.3027331822262043,-2.3557540491237696,-2.506668906925819,-2.468820073121336,-2.5623199061960134,-2.63953471538454,-2.631989387274343,-2.5873984766893496,-2.4099324970021727,-2.6488623343499094,-2.598736749100585,-2.6369268781057964,-2.8662416521186667,-2.62523804985037,-2.800684115448219,-2.9805020437819905,-2.5900063139680936,-2.7701024260278992,-2.8493687050431005,-2.9974065465949042,-2.405614485097483,-2.209489237783677,-2.7144514267577047,-2.5381482589989375,-2.8394621676428473,-2.5430857498303907,-2.703359782335157],\"y\":[-0.3193972465851023,0.17700122506477856,0.14494942608555642,0.31829897925191514,-0.32675451293492086,-0.7413304490629157,0.08946138452856844,-0.16338495969832992,0.5783117541867028,0.11377424587411511,-0.6450688986485752,-0.014729939161375428,0.23511200020171671,0.5113945870063814,-1.1787646364375768,-1.338062330400653,-0.8106795141812585,-0.31184914459335583,-0.8728390389622125,-0.5135603087492776,-0.391345935653896,-0.4329960632790288,-0.13346806953852597,-0.09870885481410042,0.037281859677381596,0.14601688049526582,-0.13095148943525117,-0.3677188574342013,-0.3120399802352844,0.1969612249243135,0.20431849127413199,-0.4109242642295744,-0.8133638202969627,-1.0931457594493577,0.12132234786586162,-0.06936447158008208,-0.5993700213794255,-0.2686437377979833,0.4879583444286144,-0.229043836827014,-0.26352753374425747,0.9409605736411948,0.34192605747160926,-0.18887142893026077,-0.43666314163918835,0.2502082041852097,-0.5037711444614384,0.22794556949382683,-0.5794100215198905,-0.10770608249941302],\"z\":[-0.027914827589412522,-0.2104642723782442,0.017900256320890234,0.03155937360568098,0.09007924055120267,0.1686776582091071,0.2578921582556184,-0.02187931788671857,0.020759570264779287,-0.19763272498814616,-0.075318009379118,0.1021502599565908,-0.20684443044964462,0.0612996724570984,-0.15162752361780632,0.2777769027031394,0.1381832278807215,0.026668315612594858,-0.12030552339472844,0.21366517222471781,-0.23944404324495186,0.20845723241671646,0.2923967507452432,0.03912325874288107,0.12502108270288007,-0.25342004234465754,0.09491057609939248,-0.0784942051379228,-0.145908895730028,0.04077107906717939,-0.07722298907343564,-0.14552497200512995,0.2256691497201228,0.15781081295822344,-0.14304958178613889,-0.16433230665302537,-0.2683503756939349,0.09369908247980159,0.07292704569269173,-0.08008230301732486,0.0772476931611048,-0.3492303773059692,0.19250921171270954,0.2638679455134159,0.29874274575511073,-0.09767814404562997,0.16670563660480678,0.08372684903359343,-0.017115024248511274,-0.08929400847882388],\"type\":\"scatter3d\"},{\"hovertemplate\":\"species=Versicolor<br>PC1=%{x}<br>PC2=%{y}<br>PC3=%{z}<extra></extra>\",\"legendgroup\":\"Versicolor\",\"marker\":{\"color\":\"#EF553B\",\"symbol\":\"circle\"},\"mode\":\"markers\",\"name\":\"Versicolor\",\"scene\":\"scene\",\"showlegend\":true,\"x\":[1.2848256888583534,0.9324885323123204,1.464302321991396,0.1833177199583735,1.088103257711668,0.6416690842580803,1.095060662632449,-0.749122669829654,1.0441318260534376,-0.008745404082893062,-0.5078408838353227,0.5116985574475998,0.26497650811204926,0.9849345104708928,-0.1739253716817652,0.9278607809442495,0.6602837616969396,0.23610499331767434,0.9447337280198157,0.045226976298702724,1.1162831773500521,0.3578884179973098,1.2981838753589163,0.9217289224470395,0.714853325911414,0.9001743731721694,1.3320244367220906,1.5578021550660723,0.8132906498175438,-0.30558377802430625,-0.06812649206836066,-0.18962247237849894,0.1364287115580176,1.3800264359155137,0.5880064433398662,0.8068583125004145,1.220690882444355,0.8150952357666024,0.24595767988669512,0.1664132171454597,0.4648002884037821,0.8908151984694518,0.2305480235594581,-0.7045317592446605,0.3569814947010498,0.33193447994506103,0.37621565106667304,0.6425760075543403,-0.906469864948833,0.29900084187814596],\"y\":[-0.6851604704673113,-0.31833363826263045,-0.5042628153092067,0.8279590118206304,-0.07459067519771855,0.4182468715686773,-0.2834682700615301,1.004890961181894,-0.22836189978839821,0.7230819050048336,1.2659711905263915,0.10398123549903933,0.5500364636804714,0.12481785412635565,0.25485420870258824,-0.46717949444151285,0.3529696657238498,0.3336107668249131,0.5431455507797637,0.5838343774718623,0.08461685219478775,0.06892503165601192,0.3277873083339149,0.18273779362136525,-0.14905594436978706,-0.32850447383432557,-0.24444087601634648,-0.26749544731025665,0.16335030068761489,0.3682621897545858,0.7051721317994633,0.6802867635281312,0.3140324382492348,0.42095428731388035,0.484287419981218,-0.19418231471315128,-0.4076195936110093,0.37203705990949865,0.26852439662201394,0.6819267248636252,0.6707115445117188,0.034464444368267275,0.40438584800732313,1.0122482275317124,0.5049100933371072,0.21265468378116856,0.2932189292514177,-0.017738190112418336,0.7560933665990127,0.34889780645033447],\"z\":[-0.4065680254676925,-0.018014186646239397,-0.338325764980895,-0.1795913918753575,-0.30775789623478483,0.04107609082395566,0.16981023986057614,0.012302919237593022,-0.4153360847593969,0.2811414311764082,-0.26981718276885563,0.1305477502404859,-0.6941468301444205,-0.06211440832226088,0.09045769072570374,-0.3146209758321713,0.32802752837859483,-0.27116183725106685,-0.49951904648511475,-0.235002104972057,0.45962099135910406,-0.2298538876089518,-0.34785435225730904,-0.2310717777362844,-0.32180093724447356,-0.3162090737115735,-0.5217027796644186,-0.1649209837435798,0.03542450484615993,-0.3184915806230479,-0.24421381043355608,-0.3064205612176598,-0.17724276601124497,0.01616712752072817,0.44443349863980736,0.3889630630982115,-0.2371670098838747,-0.6147208425918234,0.1883668116461946,-0.06000922585533973,-0.024306855718952605,-0.009946932894348406,-0.22941024143915748,-0.10569114890302204,0.016617170198264638,0.08320429089567688,0.07799635108767537,-0.20539496698326054,-0.012599647557892358,0.010581660495570034],\"type\":\"scatter3d\"},{\"hovertemplate\":\"species=Virginica<br>PC1=%{x}<br>PC2=%{y}<br>PC3=%{z}<extra></extra>\",\"legendgroup\":\"Virginica\",\"marker\":{\"color\":\"#00cc96\",\"symbol\":\"circle\"},\"mode\":\"markers\",\"name\":\"Virginica\",\"scene\":\"scene\",\"showlegend\":true,\"x\":[2.53119272780363,1.4152358767039048,2.6166760159956914,1.971531053043438,2.350005920044642,3.3970387360532595,0.5212322439097767,2.932587068993691,2.32122881657338,2.9167509667860743,1.6617741536365331,1.803401952965093,2.1655917960801467,1.3461635794584539,1.5859282238732233,1.9044563747934289,1.9496890593990714,3.4870553642902804,3.7956454220728855,1.3007917126376598,2.4278179130660473,1.1990011054655632,3.4999200389245395,1.3887661316914677,2.2754305038722067,2.614090473810833,1.25850816051149,1.2911320591150233,2.1236087227738967,2.3880030160034695,2.8416727781038724,3.230673661432094,2.159437642489052,1.444161242329512,1.7812948100451147,3.0764999316871893,2.1442433143020834,1.905098148814078,1.1693263393415025,2.1076111432572437,2.3141547052356017,1.9222678009026026,1.4152358767039048,2.5630133750774777,2.4187461827328267,1.9441097945469699,1.5271666148145195,1.764345717044431,1.9009416142184254,1.3901888619479164],\"y\":[0.009849109498802473,0.5749163475464886,-0.34390315134173627,0.1797279043522441,0.0402609471425302,-0.550836673028058,1.1927587270006454,-0.35550000297749934,0.2438315023106881,-0.7827919488152788,-0.24222840775506793,0.21563761733355377,-0.2162755850740262,0.7768183473443389,0.539640714026719,-0.11925069209197282,-0.04194325966321292,-1.1757393297134306,-0.25732297342048266,0.761149636435061,-0.3781960126170517,0.6060915277579304,-0.4606740989118984,0.2043993273521493,-0.3349906058216782,-0.56090135512308,0.1797047947227453,0.11666865117401055,0.20972947667730157,-0.4646398047087393,-0.37526916719510645,-1.3741650867930495,0.2172775786690481,0.1434134104575787,0.49990168107813426,-0.6880856775711782,-0.14006420108978954,-0.0493005260130314,0.16499026202310887,-0.37228787196079915,-0.18365127916901955,-0.4092034668160633,0.5749163475464886,-0.2778626029291956,-0.30479819785469214,-0.18753230280060612,0.3753169825804866,-0.07885885451847692,-0.11662795851202316,0.28266093799055],\"z\":[0.7601654272458953,0.2963225273879631,-0.11078788321910842,0.10842466246342303,0.2853895631844412,-0.3484375557974659,0.54565929564681,-0.42023993576796664,-0.3483043949348454,0.4233354176825601,0.24244018972576936,-0.037648168231483134,0.033326641844325336,0.28190288211846254,0.6290293264080083,0.47963981962659036,0.04418616763012262,0.1338948739361018,-0.5137677638178041,-0.34499503831341977,0.21911932430194364,0.5118555086969994,-0.5731822425680013,-0.06452275663126922,0.2861500911691508,-0.2055345243536229,0.04584770392724924,0.23125646265997024,0.1541800239288294,-0.4495301919418482,-0.49889807587076784,-0.11454820547541512,0.20876316713083679,-0.15323388806308988,-0.17287518911341973,-0.33559229243454003,0.7348789367255112,0.16218023577073773,0.28183584020848,0.02729113214163099,0.32269374717305876,0.1135865957993563,0.2963225273879631,0.2925695245967433,0.5044826639771801,0.17782509063265695,-0.12189817186718342,0.13048163128784804,0.7232515634899173,0.36290964808537546],\"type\":\"scatter3d\"}],                        {\"template\":{\"data\":{\"histogram2dcontour\":[{\"type\":\"histogram2dcontour\",\"colorbar\":{\"outlinewidth\":0,\"ticks\":\"\"},\"colorscale\":[[0.0,\"#0d0887\"],[0.1111111111111111,\"#46039f\"],[0.2222222222222222,\"#7201a8\"],[0.3333333333333333,\"#9c179e\"],[0.4444444444444444,\"#bd3786\"],[0.5555555555555556,\"#d8576b\"],[0.6666666666666666,\"#ed7953\"],[0.7777777777777778,\"#fb9f3a\"],[0.8888888888888888,\"#fdca26\"],[1.0,\"#f0f921\"]]}],\"choropleth\":[{\"type\":\"choropleth\",\"colorbar\":{\"outlinewidth\":0,\"ticks\":\"\"}}],\"histogram2d\":[{\"type\":\"histogram2d\",\"colorbar\":{\"outlinewidth\":0,\"ticks\":\"\"},\"colorscale\":[[0.0,\"#0d0887\"],[0.1111111111111111,\"#46039f\"],[0.2222222222222222,\"#7201a8\"],[0.3333333333333333,\"#9c179e\"],[0.4444444444444444,\"#bd3786\"],[0.5555555555555556,\"#d8576b\"],[0.6666666666666666,\"#ed7953\"],[0.7777777777777778,\"#fb9f3a\"],[0.8888888888888888,\"#fdca26\"],[1.0,\"#f0f921\"]]}],\"heatmap\":[{\"type\":\"heatmap\",\"colorbar\":{\"outlinewidth\":0,\"ticks\":\"\"},\"colorscale\":[[0.0,\"#0d0887\"],[0.1111111111111111,\"#46039f\"],[0.2222222222222222,\"#7201a8\"],[0.3333333333333333,\"#9c179e\"],[0.4444444444444444,\"#bd3786\"],[0.5555555555555556,\"#d8576b\"],[0.6666666666666666,\"#ed7953\"],[0.7777777777777778,\"#fb9f3a\"],[0.8888888888888888,\"#fdca26\"],[1.0,\"#f0f921\"]]}],\"heatmapgl\":[{\"type\":\"heatmapgl\",\"colorbar\":{\"outlinewidth\":0,\"ticks\":\"\"},\"colorscale\":[[0.0,\"#0d0887\"],[0.1111111111111111,\"#46039f\"],[0.2222222222222222,\"#7201a8\"],[0.3333333333333333,\"#9c179e\"],[0.4444444444444444,\"#bd3786\"],[0.5555555555555556,\"#d8576b\"],[0.6666666666666666,\"#ed7953\"],[0.7777777777777778,\"#fb9f3a\"],[0.8888888888888888,\"#fdca26\"],[1.0,\"#f0f921\"]]}],\"contourcarpet\":[{\"type\":\"contourcarpet\",\"colorbar\":{\"outlinewidth\":0,\"ticks\":\"\"}}],\"contour\":[{\"type\":\"contour\",\"colorbar\":{\"outlinewidth\":0,\"ticks\":\"\"},\"colorscale\":[[0.0,\"#0d0887\"],[0.1111111111111111,\"#46039f\"],[0.2222222222222222,\"#7201a8\"],[0.3333333333333333,\"#9c179e\"],[0.4444444444444444,\"#bd3786\"],[0.5555555555555556,\"#d8576b\"],[0.6666666666666666,\"#ed7953\"],[0.7777777777777778,\"#fb9f3a\"],[0.8888888888888888,\"#fdca26\"],[1.0,\"#f0f921\"]]}],\"surface\":[{\"type\":\"surface\",\"colorbar\":{\"outlinewidth\":0,\"ticks\":\"\"},\"colorscale\":[[0.0,\"#0d0887\"],[0.1111111111111111,\"#46039f\"],[0.2222222222222222,\"#7201a8\"],[0.3333333333333333,\"#9c179e\"],[0.4444444444444444,\"#bd3786\"],[0.5555555555555556,\"#d8576b\"],[0.6666666666666666,\"#ed7953\"],[0.7777777777777778,\"#fb9f3a\"],[0.8888888888888888,\"#fdca26\"],[1.0,\"#f0f921\"]]}],\"mesh3d\":[{\"type\":\"mesh3d\",\"colorbar\":{\"outlinewidth\":0,\"ticks\":\"\"}}],\"scatter\":[{\"fillpattern\":{\"fillmode\":\"overlay\",\"size\":10,\"solidity\":0.2},\"type\":\"scatter\"}],\"parcoords\":[{\"type\":\"parcoords\",\"line\":{\"colorbar\":{\"outlinewidth\":0,\"ticks\":\"\"}}}],\"scatterpolargl\":[{\"type\":\"scatterpolargl\",\"marker\":{\"colorbar\":{\"outlinewidth\":0,\"ticks\":\"\"}}}],\"bar\":[{\"error_x\":{\"color\":\"#2a3f5f\"},\"error_y\":{\"color\":\"#2a3f5f\"},\"marker\":{\"line\":{\"color\":\"#E5ECF6\",\"width\":0.5},\"pattern\":{\"fillmode\":\"overlay\",\"size\":10,\"solidity\":0.2}},\"type\":\"bar\"}],\"scattergeo\":[{\"type\":\"scattergeo\",\"marker\":{\"colorbar\":{\"outlinewidth\":0,\"ticks\":\"\"}}}],\"scatterpolar\":[{\"type\":\"scatterpolar\",\"marker\":{\"colorbar\":{\"outlinewidth\":0,\"ticks\":\"\"}}}],\"histogram\":[{\"marker\":{\"pattern\":{\"fillmode\":\"overlay\",\"size\":10,\"solidity\":0.2}},\"type\":\"histogram\"}],\"scattergl\":[{\"type\":\"scattergl\",\"marker\":{\"colorbar\":{\"outlinewidth\":0,\"ticks\":\"\"}}}],\"scatter3d\":[{\"type\":\"scatter3d\",\"line\":{\"colorbar\":{\"outlinewidth\":0,\"ticks\":\"\"}},\"marker\":{\"colorbar\":{\"outlinewidth\":0,\"ticks\":\"\"}}}],\"scattermapbox\":[{\"type\":\"scattermapbox\",\"marker\":{\"colorbar\":{\"outlinewidth\":0,\"ticks\":\"\"}}}],\"scatterternary\":[{\"type\":\"scatterternary\",\"marker\":{\"colorbar\":{\"outlinewidth\":0,\"ticks\":\"\"}}}],\"scattercarpet\":[{\"type\":\"scattercarpet\",\"marker\":{\"colorbar\":{\"outlinewidth\":0,\"ticks\":\"\"}}}],\"carpet\":[{\"aaxis\":{\"endlinecolor\":\"#2a3f5f\",\"gridcolor\":\"white\",\"linecolor\":\"white\",\"minorgridcolor\":\"white\",\"startlinecolor\":\"#2a3f5f\"},\"baxis\":{\"endlinecolor\":\"#2a3f5f\",\"gridcolor\":\"white\",\"linecolor\":\"white\",\"minorgridcolor\":\"white\",\"startlinecolor\":\"#2a3f5f\"},\"type\":\"carpet\"}],\"table\":[{\"cells\":{\"fill\":{\"color\":\"#EBF0F8\"},\"line\":{\"color\":\"white\"}},\"header\":{\"fill\":{\"color\":\"#C8D4E3\"},\"line\":{\"color\":\"white\"}},\"type\":\"table\"}],\"barpolar\":[{\"marker\":{\"line\":{\"color\":\"#E5ECF6\",\"width\":0.5},\"pattern\":{\"fillmode\":\"overlay\",\"size\":10,\"solidity\":0.2}},\"type\":\"barpolar\"}],\"pie\":[{\"automargin\":true,\"type\":\"pie\"}]},\"layout\":{\"autotypenumbers\":\"strict\",\"colorway\":[\"#636efa\",\"#EF553B\",\"#00cc96\",\"#ab63fa\",\"#FFA15A\",\"#19d3f3\",\"#FF6692\",\"#B6E880\",\"#FF97FF\",\"#FECB52\"],\"font\":{\"color\":\"#2a3f5f\"},\"hovermode\":\"closest\",\"hoverlabel\":{\"align\":\"left\"},\"paper_bgcolor\":\"white\",\"plot_bgcolor\":\"#E5ECF6\",\"polar\":{\"bgcolor\":\"#E5ECF6\",\"angularaxis\":{\"gridcolor\":\"white\",\"linecolor\":\"white\",\"ticks\":\"\"},\"radialaxis\":{\"gridcolor\":\"white\",\"linecolor\":\"white\",\"ticks\":\"\"}},\"ternary\":{\"bgcolor\":\"#E5ECF6\",\"aaxis\":{\"gridcolor\":\"white\",\"linecolor\":\"white\",\"ticks\":\"\"},\"baxis\":{\"gridcolor\":\"white\",\"linecolor\":\"white\",\"ticks\":\"\"},\"caxis\":{\"gridcolor\":\"white\",\"linecolor\":\"white\",\"ticks\":\"\"}},\"coloraxis\":{\"colorbar\":{\"outlinewidth\":0,\"ticks\":\"\"}},\"colorscale\":{\"sequential\":[[0.0,\"#0d0887\"],[0.1111111111111111,\"#46039f\"],[0.2222222222222222,\"#7201a8\"],[0.3333333333333333,\"#9c179e\"],[0.4444444444444444,\"#bd3786\"],[0.5555555555555556,\"#d8576b\"],[0.6666666666666666,\"#ed7953\"],[0.7777777777777778,\"#fb9f3a\"],[0.8888888888888888,\"#fdca26\"],[1.0,\"#f0f921\"]],\"sequentialminus\":[[0.0,\"#0d0887\"],[0.1111111111111111,\"#46039f\"],[0.2222222222222222,\"#7201a8\"],[0.3333333333333333,\"#9c179e\"],[0.4444444444444444,\"#bd3786\"],[0.5555555555555556,\"#d8576b\"],[0.6666666666666666,\"#ed7953\"],[0.7777777777777778,\"#fb9f3a\"],[0.8888888888888888,\"#fdca26\"],[1.0,\"#f0f921\"]],\"diverging\":[[0,\"#8e0152\"],[0.1,\"#c51b7d\"],[0.2,\"#de77ae\"],[0.3,\"#f1b6da\"],[0.4,\"#fde0ef\"],[0.5,\"#f7f7f7\"],[0.6,\"#e6f5d0\"],[0.7,\"#b8e186\"],[0.8,\"#7fbc41\"],[0.9,\"#4d9221\"],[1,\"#276419\"]]},\"xaxis\":{\"gridcolor\":\"white\",\"linecolor\":\"white\",\"ticks\":\"\",\"title\":{\"standoff\":15},\"zerolinecolor\":\"white\",\"automargin\":true,\"zerolinewidth\":2},\"yaxis\":{\"gridcolor\":\"white\",\"linecolor\":\"white\",\"ticks\":\"\",\"title\":{\"standoff\":15},\"zerolinecolor\":\"white\",\"automargin\":true,\"zerolinewidth\":2},\"scene\":{\"xaxis\":{\"backgroundcolor\":\"#E5ECF6\",\"gridcolor\":\"white\",\"linecolor\":\"white\",\"showbackground\":true,\"ticks\":\"\",\"zerolinecolor\":\"white\",\"gridwidth\":2},\"yaxis\":{\"backgroundcolor\":\"#E5ECF6\",\"gridcolor\":\"white\",\"linecolor\":\"white\",\"showbackground\":true,\"ticks\":\"\",\"zerolinecolor\":\"white\",\"gridwidth\":2},\"zaxis\":{\"backgroundcolor\":\"#E5ECF6\",\"gridcolor\":\"white\",\"linecolor\":\"white\",\"showbackground\":true,\"ticks\":\"\",\"zerolinecolor\":\"white\",\"gridwidth\":2}},\"shapedefaults\":{\"line\":{\"color\":\"#2a3f5f\"}},\"annotationdefaults\":{\"arrowcolor\":\"#2a3f5f\",\"arrowhead\":0,\"arrowwidth\":1},\"geo\":{\"bgcolor\":\"white\",\"landcolor\":\"#E5ECF6\",\"subunitcolor\":\"white\",\"showland\":true,\"showlakes\":true,\"lakecolor\":\"white\"},\"title\":{\"x\":0.05},\"mapbox\":{\"style\":\"light\"}}},\"scene\":{\"domain\":{\"x\":[0.0,1.0],\"y\":[0.0,1.0]},\"xaxis\":{\"title\":{\"text\":\"PC1\"}},\"yaxis\":{\"title\":{\"text\":\"PC2\"}},\"zaxis\":{\"title\":{\"text\":\"PC3\"}}},\"legend\":{\"title\":{\"text\":\"species\"},\"tracegroupgap\":0},\"margin\":{\"t\":60}},                        {\"responsive\": true}                    ).then(function(){\n",
       "                            \n",
       "var gd = document.getElementById('0cb58012-1fa9-4da6-b0d9-bff8340e0b09');\n",
       "var x = new MutationObserver(function (mutations, observer) {{\n",
       "        var display = window.getComputedStyle(gd).display;\n",
       "        if (!display || display === 'none') {{\n",
       "            console.log([gd, 'removed!']);\n",
       "            Plotly.purge(gd);\n",
       "            observer.disconnect();\n",
       "        }}\n",
       "}});\n",
       "\n",
       "// Listen for the removal of the full notebook cells\n",
       "var notebookContainer = gd.closest('#notebook-container');\n",
       "if (notebookContainer) {{\n",
       "    x.observe(notebookContainer, {childList: true});\n",
       "}}\n",
       "\n",
       "// Listen for the clearing of the current output cell\n",
       "var outputEl = gd.closest('.output');\n",
       "if (outputEl) {{\n",
       "    x.observe(outputEl, {childList: true});\n",
       "}}\n",
       "\n",
       "                        })                };                });            </script>        </div>"
      ]
     },
     "metadata": {},
     "output_type": "display_data"
    }
   ],
   "source": [
    "U = eigenvectors[:, 0:3]\n",
    "X_star_3D = T.dot(U)\n",
    "df_3D = pd.DataFrame({'PC1': X_star_3D[:, 0], 'PC2': X_star_3D[:, 1], 'PC3': X_star_3D[:, 2], 'species': y})\n",
    "fig = px.scatter_3d(df_3D, x='PC1', y='PC2', z='PC3',\n",
    "              color='species')\n",
    "fig.show()"
   ]
  },
  {
   "cell_type": "markdown",
   "id": "eb65d41c-d9b4-496e-8cd8-924a3409108c",
   "metadata": {},
   "source": [
    "<span style=\"font-family: XB Zar; font-size: medium; \"><div dir=rtl><meta charset=\"UTF-8\">\n",
    "    <br>\n",
    "    در این قسمت با انتخاب 2 بردار ویژه، فضای مقصد را 2 بعدی در نظر گرفته و تبدیل را انجام می‌دهیم:  \n",
    "    </div></span>"
   ]
  },
  {
   "cell_type": "code",
   "execution_count": 13,
   "id": "d009a8c4-51db-4ec1-87f0-9f04d0367e5f",
   "metadata": {},
   "outputs": [
    {
     "data": {
      "application/vnd.plotly.v1+json": {
       "config": {
        "plotlyServerURL": "https://plot.ly"
       },
       "data": [
        {
         "hovertemplate": "species=Setosa<br>PC1=%{x}<br>PC2=%{y}<extra></extra>",
         "legendgroup": "Setosa",
         "marker": {
          "color": "#636efa",
          "symbol": "circle"
         },
         "mode": "markers",
         "name": "Setosa",
         "orientation": "v",
         "showlegend": true,
         "type": "scatter",
         "x": [
          -2.684125625969534,
          -2.714141687294323,
          -2.888990569059294,
          -2.745342855641407,
          -2.7287165365545274,
          -2.2808596328444897,
          -2.820537750740606,
          -2.62614497314663,
          -2.88638273178055,
          -2.672755797820951,
          -2.5069470906518534,
          -2.61275523090872,
          -2.7861092661880145,
          -3.223803743865649,
          -2.6447503899420277,
          -2.386039033531131,
          -2.623527875224424,
          -2.6482967062543787,
          -2.1998203236175775,
          -2.587986399878766,
          -2.3102562152425157,
          -2.543705228757154,
          -3.215939415648609,
          -2.3027331822262043,
          -2.3557540491237696,
          -2.506668906925819,
          -2.468820073121336,
          -2.5623199061960134,
          -2.63953471538454,
          -2.631989387274343,
          -2.5873984766893496,
          -2.4099324970021727,
          -2.6488623343499094,
          -2.598736749100585,
          -2.6369268781057964,
          -2.8662416521186667,
          -2.62523804985037,
          -2.800684115448219,
          -2.9805020437819905,
          -2.5900063139680936,
          -2.7701024260278992,
          -2.8493687050431005,
          -2.9974065465949042,
          -2.405614485097483,
          -2.209489237783677,
          -2.7144514267577047,
          -2.5381482589989375,
          -2.8394621676428473,
          -2.5430857498303907,
          -2.703359782335157
         ],
         "xaxis": "x",
         "y": [
          -0.3193972465851023,
          0.17700122506477856,
          0.14494942608555642,
          0.31829897925191514,
          -0.32675451293492086,
          -0.7413304490629157,
          0.08946138452856844,
          -0.16338495969832992,
          0.5783117541867028,
          0.11377424587411511,
          -0.6450688986485752,
          -0.014729939161375428,
          0.23511200020171671,
          0.5113945870063814,
          -1.1787646364375768,
          -1.338062330400653,
          -0.8106795141812585,
          -0.31184914459335583,
          -0.8728390389622125,
          -0.5135603087492776,
          -0.391345935653896,
          -0.4329960632790288,
          -0.13346806953852597,
          -0.09870885481410042,
          0.037281859677381596,
          0.14601688049526582,
          -0.13095148943525117,
          -0.3677188574342013,
          -0.3120399802352844,
          0.1969612249243135,
          0.20431849127413199,
          -0.4109242642295744,
          -0.8133638202969627,
          -1.0931457594493577,
          0.12132234786586162,
          -0.06936447158008208,
          -0.5993700213794255,
          -0.2686437377979833,
          0.4879583444286144,
          -0.229043836827014,
          -0.26352753374425747,
          0.9409605736411948,
          0.34192605747160926,
          -0.18887142893026077,
          -0.43666314163918835,
          0.2502082041852097,
          -0.5037711444614384,
          0.22794556949382683,
          -0.5794100215198905,
          -0.10770608249941302
         ],
         "yaxis": "y"
        },
        {
         "hovertemplate": "species=Versicolor<br>PC1=%{x}<br>PC2=%{y}<extra></extra>",
         "legendgroup": "Versicolor",
         "marker": {
          "color": "#EF553B",
          "symbol": "circle"
         },
         "mode": "markers",
         "name": "Versicolor",
         "orientation": "v",
         "showlegend": true,
         "type": "scatter",
         "x": [
          1.2848256888583534,
          0.9324885323123204,
          1.464302321991396,
          0.1833177199583735,
          1.088103257711668,
          0.6416690842580803,
          1.095060662632449,
          -0.749122669829654,
          1.0441318260534376,
          -0.008745404082893062,
          -0.5078408838353227,
          0.5116985574475998,
          0.26497650811204926,
          0.9849345104708928,
          -0.1739253716817652,
          0.9278607809442495,
          0.6602837616969396,
          0.23610499331767434,
          0.9447337280198157,
          0.045226976298702724,
          1.1162831773500521,
          0.3578884179973098,
          1.2981838753589163,
          0.9217289224470395,
          0.714853325911414,
          0.9001743731721694,
          1.3320244367220906,
          1.5578021550660723,
          0.8132906498175438,
          -0.30558377802430625,
          -0.06812649206836066,
          -0.18962247237849894,
          0.1364287115580176,
          1.3800264359155137,
          0.5880064433398662,
          0.8068583125004145,
          1.220690882444355,
          0.8150952357666024,
          0.24595767988669512,
          0.1664132171454597,
          0.4648002884037821,
          0.8908151984694518,
          0.2305480235594581,
          -0.7045317592446605,
          0.3569814947010498,
          0.33193447994506103,
          0.37621565106667304,
          0.6425760075543403,
          -0.906469864948833,
          0.29900084187814596
         ],
         "xaxis": "x",
         "y": [
          -0.6851604704673113,
          -0.31833363826263045,
          -0.5042628153092067,
          0.8279590118206304,
          -0.07459067519771855,
          0.4182468715686773,
          -0.2834682700615301,
          1.004890961181894,
          -0.22836189978839821,
          0.7230819050048336,
          1.2659711905263915,
          0.10398123549903933,
          0.5500364636804714,
          0.12481785412635565,
          0.25485420870258824,
          -0.46717949444151285,
          0.3529696657238498,
          0.3336107668249131,
          0.5431455507797637,
          0.5838343774718623,
          0.08461685219478775,
          0.06892503165601192,
          0.3277873083339149,
          0.18273779362136525,
          -0.14905594436978706,
          -0.32850447383432557,
          -0.24444087601634648,
          -0.26749544731025665,
          0.16335030068761489,
          0.3682621897545858,
          0.7051721317994633,
          0.6802867635281312,
          0.3140324382492348,
          0.42095428731388035,
          0.484287419981218,
          -0.19418231471315128,
          -0.4076195936110093,
          0.37203705990949865,
          0.26852439662201394,
          0.6819267248636252,
          0.6707115445117188,
          0.034464444368267275,
          0.40438584800732313,
          1.0122482275317124,
          0.5049100933371072,
          0.21265468378116856,
          0.2932189292514177,
          -0.017738190112418336,
          0.7560933665990127,
          0.34889780645033447
         ],
         "yaxis": "y"
        },
        {
         "hovertemplate": "species=Virginica<br>PC1=%{x}<br>PC2=%{y}<extra></extra>",
         "legendgroup": "Virginica",
         "marker": {
          "color": "#00cc96",
          "symbol": "circle"
         },
         "mode": "markers",
         "name": "Virginica",
         "orientation": "v",
         "showlegend": true,
         "type": "scatter",
         "x": [
          2.53119272780363,
          1.4152358767039048,
          2.6166760159956914,
          1.971531053043438,
          2.350005920044642,
          3.3970387360532595,
          0.5212322439097767,
          2.932587068993691,
          2.32122881657338,
          2.9167509667860743,
          1.6617741536365331,
          1.803401952965093,
          2.1655917960801467,
          1.3461635794584539,
          1.5859282238732233,
          1.9044563747934289,
          1.9496890593990714,
          3.4870553642902804,
          3.7956454220728855,
          1.3007917126376598,
          2.4278179130660473,
          1.1990011054655632,
          3.4999200389245395,
          1.3887661316914677,
          2.2754305038722067,
          2.614090473810833,
          1.25850816051149,
          1.2911320591150233,
          2.1236087227738967,
          2.3880030160034695,
          2.8416727781038724,
          3.230673661432094,
          2.159437642489052,
          1.444161242329512,
          1.7812948100451147,
          3.0764999316871893,
          2.1442433143020834,
          1.905098148814078,
          1.1693263393415025,
          2.1076111432572437,
          2.3141547052356017,
          1.9222678009026026,
          1.4152358767039048,
          2.5630133750774777,
          2.4187461827328267,
          1.9441097945469699,
          1.5271666148145195,
          1.764345717044431,
          1.9009416142184254,
          1.3901888619479164
         ],
         "xaxis": "x",
         "y": [
          0.009849109498802473,
          0.5749163475464886,
          -0.34390315134173627,
          0.1797279043522441,
          0.0402609471425302,
          -0.550836673028058,
          1.1927587270006454,
          -0.35550000297749934,
          0.2438315023106881,
          -0.7827919488152788,
          -0.24222840775506793,
          0.21563761733355377,
          -0.2162755850740262,
          0.7768183473443389,
          0.539640714026719,
          -0.11925069209197282,
          -0.04194325966321292,
          -1.1757393297134306,
          -0.25732297342048266,
          0.761149636435061,
          -0.3781960126170517,
          0.6060915277579304,
          -0.4606740989118984,
          0.2043993273521493,
          -0.3349906058216782,
          -0.56090135512308,
          0.1797047947227453,
          0.11666865117401055,
          0.20972947667730157,
          -0.4646398047087393,
          -0.37526916719510645,
          -1.3741650867930495,
          0.2172775786690481,
          0.1434134104575787,
          0.49990168107813426,
          -0.6880856775711782,
          -0.14006420108978954,
          -0.0493005260130314,
          0.16499026202310887,
          -0.37228787196079915,
          -0.18365127916901955,
          -0.4092034668160633,
          0.5749163475464886,
          -0.2778626029291956,
          -0.30479819785469214,
          -0.18753230280060612,
          0.3753169825804866,
          -0.07885885451847692,
          -0.11662795851202316,
          0.28266093799055
         ],
         "yaxis": "y"
        }
       ],
       "layout": {
        "autosize": true,
        "legend": {
         "title": {
          "text": "species"
         },
         "tracegroupgap": 0
        },
        "margin": {
         "t": 60
        },
        "template": {
         "data": {
          "bar": [
           {
            "error_x": {
             "color": "#2a3f5f"
            },
            "error_y": {
             "color": "#2a3f5f"
            },
            "marker": {
             "line": {
              "color": "#E5ECF6",
              "width": 0.5
             },
             "pattern": {
              "fillmode": "overlay",
              "size": 10,
              "solidity": 0.2
             }
            },
            "type": "bar"
           }
          ],
          "barpolar": [
           {
            "marker": {
             "line": {
              "color": "#E5ECF6",
              "width": 0.5
             },
             "pattern": {
              "fillmode": "overlay",
              "size": 10,
              "solidity": 0.2
             }
            },
            "type": "barpolar"
           }
          ],
          "carpet": [
           {
            "aaxis": {
             "endlinecolor": "#2a3f5f",
             "gridcolor": "white",
             "linecolor": "white",
             "minorgridcolor": "white",
             "startlinecolor": "#2a3f5f"
            },
            "baxis": {
             "endlinecolor": "#2a3f5f",
             "gridcolor": "white",
             "linecolor": "white",
             "minorgridcolor": "white",
             "startlinecolor": "#2a3f5f"
            },
            "type": "carpet"
           }
          ],
          "choropleth": [
           {
            "colorbar": {
             "outlinewidth": 0,
             "ticks": ""
            },
            "type": "choropleth"
           }
          ],
          "contour": [
           {
            "colorbar": {
             "outlinewidth": 0,
             "ticks": ""
            },
            "colorscale": [
             [
              0,
              "#0d0887"
             ],
             [
              0.1111111111111111,
              "#46039f"
             ],
             [
              0.2222222222222222,
              "#7201a8"
             ],
             [
              0.3333333333333333,
              "#9c179e"
             ],
             [
              0.4444444444444444,
              "#bd3786"
             ],
             [
              0.5555555555555556,
              "#d8576b"
             ],
             [
              0.6666666666666666,
              "#ed7953"
             ],
             [
              0.7777777777777778,
              "#fb9f3a"
             ],
             [
              0.8888888888888888,
              "#fdca26"
             ],
             [
              1,
              "#f0f921"
             ]
            ],
            "type": "contour"
           }
          ],
          "contourcarpet": [
           {
            "colorbar": {
             "outlinewidth": 0,
             "ticks": ""
            },
            "type": "contourcarpet"
           }
          ],
          "heatmap": [
           {
            "colorbar": {
             "outlinewidth": 0,
             "ticks": ""
            },
            "colorscale": [
             [
              0,
              "#0d0887"
             ],
             [
              0.1111111111111111,
              "#46039f"
             ],
             [
              0.2222222222222222,
              "#7201a8"
             ],
             [
              0.3333333333333333,
              "#9c179e"
             ],
             [
              0.4444444444444444,
              "#bd3786"
             ],
             [
              0.5555555555555556,
              "#d8576b"
             ],
             [
              0.6666666666666666,
              "#ed7953"
             ],
             [
              0.7777777777777778,
              "#fb9f3a"
             ],
             [
              0.8888888888888888,
              "#fdca26"
             ],
             [
              1,
              "#f0f921"
             ]
            ],
            "type": "heatmap"
           }
          ],
          "heatmapgl": [
           {
            "colorbar": {
             "outlinewidth": 0,
             "ticks": ""
            },
            "colorscale": [
             [
              0,
              "#0d0887"
             ],
             [
              0.1111111111111111,
              "#46039f"
             ],
             [
              0.2222222222222222,
              "#7201a8"
             ],
             [
              0.3333333333333333,
              "#9c179e"
             ],
             [
              0.4444444444444444,
              "#bd3786"
             ],
             [
              0.5555555555555556,
              "#d8576b"
             ],
             [
              0.6666666666666666,
              "#ed7953"
             ],
             [
              0.7777777777777778,
              "#fb9f3a"
             ],
             [
              0.8888888888888888,
              "#fdca26"
             ],
             [
              1,
              "#f0f921"
             ]
            ],
            "type": "heatmapgl"
           }
          ],
          "histogram": [
           {
            "marker": {
             "pattern": {
              "fillmode": "overlay",
              "size": 10,
              "solidity": 0.2
             }
            },
            "type": "histogram"
           }
          ],
          "histogram2d": [
           {
            "colorbar": {
             "outlinewidth": 0,
             "ticks": ""
            },
            "colorscale": [
             [
              0,
              "#0d0887"
             ],
             [
              0.1111111111111111,
              "#46039f"
             ],
             [
              0.2222222222222222,
              "#7201a8"
             ],
             [
              0.3333333333333333,
              "#9c179e"
             ],
             [
              0.4444444444444444,
              "#bd3786"
             ],
             [
              0.5555555555555556,
              "#d8576b"
             ],
             [
              0.6666666666666666,
              "#ed7953"
             ],
             [
              0.7777777777777778,
              "#fb9f3a"
             ],
             [
              0.8888888888888888,
              "#fdca26"
             ],
             [
              1,
              "#f0f921"
             ]
            ],
            "type": "histogram2d"
           }
          ],
          "histogram2dcontour": [
           {
            "colorbar": {
             "outlinewidth": 0,
             "ticks": ""
            },
            "colorscale": [
             [
              0,
              "#0d0887"
             ],
             [
              0.1111111111111111,
              "#46039f"
             ],
             [
              0.2222222222222222,
              "#7201a8"
             ],
             [
              0.3333333333333333,
              "#9c179e"
             ],
             [
              0.4444444444444444,
              "#bd3786"
             ],
             [
              0.5555555555555556,
              "#d8576b"
             ],
             [
              0.6666666666666666,
              "#ed7953"
             ],
             [
              0.7777777777777778,
              "#fb9f3a"
             ],
             [
              0.8888888888888888,
              "#fdca26"
             ],
             [
              1,
              "#f0f921"
             ]
            ],
            "type": "histogram2dcontour"
           }
          ],
          "mesh3d": [
           {
            "colorbar": {
             "outlinewidth": 0,
             "ticks": ""
            },
            "type": "mesh3d"
           }
          ],
          "parcoords": [
           {
            "line": {
             "colorbar": {
              "outlinewidth": 0,
              "ticks": ""
             }
            },
            "type": "parcoords"
           }
          ],
          "pie": [
           {
            "automargin": true,
            "type": "pie"
           }
          ],
          "scatter": [
           {
            "fillpattern": {
             "fillmode": "overlay",
             "size": 10,
             "solidity": 0.2
            },
            "type": "scatter"
           }
          ],
          "scatter3d": [
           {
            "line": {
             "colorbar": {
              "outlinewidth": 0,
              "ticks": ""
             }
            },
            "marker": {
             "colorbar": {
              "outlinewidth": 0,
              "ticks": ""
             }
            },
            "type": "scatter3d"
           }
          ],
          "scattercarpet": [
           {
            "marker": {
             "colorbar": {
              "outlinewidth": 0,
              "ticks": ""
             }
            },
            "type": "scattercarpet"
           }
          ],
          "scattergeo": [
           {
            "marker": {
             "colorbar": {
              "outlinewidth": 0,
              "ticks": ""
             }
            },
            "type": "scattergeo"
           }
          ],
          "scattergl": [
           {
            "marker": {
             "colorbar": {
              "outlinewidth": 0,
              "ticks": ""
             }
            },
            "type": "scattergl"
           }
          ],
          "scattermapbox": [
           {
            "marker": {
             "colorbar": {
              "outlinewidth": 0,
              "ticks": ""
             }
            },
            "type": "scattermapbox"
           }
          ],
          "scatterpolar": [
           {
            "marker": {
             "colorbar": {
              "outlinewidth": 0,
              "ticks": ""
             }
            },
            "type": "scatterpolar"
           }
          ],
          "scatterpolargl": [
           {
            "marker": {
             "colorbar": {
              "outlinewidth": 0,
              "ticks": ""
             }
            },
            "type": "scatterpolargl"
           }
          ],
          "scatterternary": [
           {
            "marker": {
             "colorbar": {
              "outlinewidth": 0,
              "ticks": ""
             }
            },
            "type": "scatterternary"
           }
          ],
          "surface": [
           {
            "colorbar": {
             "outlinewidth": 0,
             "ticks": ""
            },
            "colorscale": [
             [
              0,
              "#0d0887"
             ],
             [
              0.1111111111111111,
              "#46039f"
             ],
             [
              0.2222222222222222,
              "#7201a8"
             ],
             [
              0.3333333333333333,
              "#9c179e"
             ],
             [
              0.4444444444444444,
              "#bd3786"
             ],
             [
              0.5555555555555556,
              "#d8576b"
             ],
             [
              0.6666666666666666,
              "#ed7953"
             ],
             [
              0.7777777777777778,
              "#fb9f3a"
             ],
             [
              0.8888888888888888,
              "#fdca26"
             ],
             [
              1,
              "#f0f921"
             ]
            ],
            "type": "surface"
           }
          ],
          "table": [
           {
            "cells": {
             "fill": {
              "color": "#EBF0F8"
             },
             "line": {
              "color": "white"
             }
            },
            "header": {
             "fill": {
              "color": "#C8D4E3"
             },
             "line": {
              "color": "white"
             }
            },
            "type": "table"
           }
          ]
         },
         "layout": {
          "annotationdefaults": {
           "arrowcolor": "#2a3f5f",
           "arrowhead": 0,
           "arrowwidth": 1
          },
          "autotypenumbers": "strict",
          "coloraxis": {
           "colorbar": {
            "outlinewidth": 0,
            "ticks": ""
           }
          },
          "colorscale": {
           "diverging": [
            [
             0,
             "#8e0152"
            ],
            [
             0.1,
             "#c51b7d"
            ],
            [
             0.2,
             "#de77ae"
            ],
            [
             0.3,
             "#f1b6da"
            ],
            [
             0.4,
             "#fde0ef"
            ],
            [
             0.5,
             "#f7f7f7"
            ],
            [
             0.6,
             "#e6f5d0"
            ],
            [
             0.7,
             "#b8e186"
            ],
            [
             0.8,
             "#7fbc41"
            ],
            [
             0.9,
             "#4d9221"
            ],
            [
             1,
             "#276419"
            ]
           ],
           "sequential": [
            [
             0,
             "#0d0887"
            ],
            [
             0.1111111111111111,
             "#46039f"
            ],
            [
             0.2222222222222222,
             "#7201a8"
            ],
            [
             0.3333333333333333,
             "#9c179e"
            ],
            [
             0.4444444444444444,
             "#bd3786"
            ],
            [
             0.5555555555555556,
             "#d8576b"
            ],
            [
             0.6666666666666666,
             "#ed7953"
            ],
            [
             0.7777777777777778,
             "#fb9f3a"
            ],
            [
             0.8888888888888888,
             "#fdca26"
            ],
            [
             1,
             "#f0f921"
            ]
           ],
           "sequentialminus": [
            [
             0,
             "#0d0887"
            ],
            [
             0.1111111111111111,
             "#46039f"
            ],
            [
             0.2222222222222222,
             "#7201a8"
            ],
            [
             0.3333333333333333,
             "#9c179e"
            ],
            [
             0.4444444444444444,
             "#bd3786"
            ],
            [
             0.5555555555555556,
             "#d8576b"
            ],
            [
             0.6666666666666666,
             "#ed7953"
            ],
            [
             0.7777777777777778,
             "#fb9f3a"
            ],
            [
             0.8888888888888888,
             "#fdca26"
            ],
            [
             1,
             "#f0f921"
            ]
           ]
          },
          "colorway": [
           "#636efa",
           "#EF553B",
           "#00cc96",
           "#ab63fa",
           "#FFA15A",
           "#19d3f3",
           "#FF6692",
           "#B6E880",
           "#FF97FF",
           "#FECB52"
          ],
          "font": {
           "color": "#2a3f5f"
          },
          "geo": {
           "bgcolor": "white",
           "lakecolor": "white",
           "landcolor": "#E5ECF6",
           "showlakes": true,
           "showland": true,
           "subunitcolor": "white"
          },
          "hoverlabel": {
           "align": "left"
          },
          "hovermode": "closest",
          "mapbox": {
           "style": "light"
          },
          "paper_bgcolor": "white",
          "plot_bgcolor": "#E5ECF6",
          "polar": {
           "angularaxis": {
            "gridcolor": "white",
            "linecolor": "white",
            "ticks": ""
           },
           "bgcolor": "#E5ECF6",
           "radialaxis": {
            "gridcolor": "white",
            "linecolor": "white",
            "ticks": ""
           }
          },
          "scene": {
           "xaxis": {
            "backgroundcolor": "#E5ECF6",
            "gridcolor": "white",
            "gridwidth": 2,
            "linecolor": "white",
            "showbackground": true,
            "ticks": "",
            "zerolinecolor": "white"
           },
           "yaxis": {
            "backgroundcolor": "#E5ECF6",
            "gridcolor": "white",
            "gridwidth": 2,
            "linecolor": "white",
            "showbackground": true,
            "ticks": "",
            "zerolinecolor": "white"
           },
           "zaxis": {
            "backgroundcolor": "#E5ECF6",
            "gridcolor": "white",
            "gridwidth": 2,
            "linecolor": "white",
            "showbackground": true,
            "ticks": "",
            "zerolinecolor": "white"
           }
          },
          "shapedefaults": {
           "line": {
            "color": "#2a3f5f"
           }
          },
          "ternary": {
           "aaxis": {
            "gridcolor": "white",
            "linecolor": "white",
            "ticks": ""
           },
           "baxis": {
            "gridcolor": "white",
            "linecolor": "white",
            "ticks": ""
           },
           "bgcolor": "#E5ECF6",
           "caxis": {
            "gridcolor": "white",
            "linecolor": "white",
            "ticks": ""
           }
          },
          "title": {
           "x": 0.05
          },
          "xaxis": {
           "automargin": true,
           "gridcolor": "white",
           "linecolor": "white",
           "ticks": "",
           "title": {
            "standoff": 15
           },
           "zerolinecolor": "white",
           "zerolinewidth": 2
          },
          "yaxis": {
           "automargin": true,
           "gridcolor": "white",
           "linecolor": "white",
           "ticks": "",
           "title": {
            "standoff": 15
           },
           "zerolinecolor": "white",
           "zerolinewidth": 2
          }
         }
        },
        "xaxis": {
         "anchor": "y",
         "autorange": true,
         "domain": [
          0,
          1
         ],
         "range": [
          -3.6472182018453605,
          4.219059880052597
         ],
         "title": {
          "text": "PC1"
         },
         "type": "linear"
        },
        "yaxis": {
         "anchor": "x",
         "autorange": true,
         "domain": [
          0,
          1
         ],
         "range": [
          -1.5785850872679144,
          1.4703911910012564
         ],
         "title": {
          "text": "PC2"
         },
         "type": "linear"
        }
       }
      },
      "image/png": "[encoded data removed]",
      "text/html": [
       "<div>                            <div id=\"363c3715-c943-45a1-a9bf-7ed6cdf2d609\" class=\"plotly-graph-div\" style=\"height:525px; width:100%;\"></div>            <script type=\"text/javascript\">                require([\"plotly\"], function(Plotly) {                    window.PLOTLYENV=window.PLOTLYENV || {};                                    if (document.getElementById(\"363c3715-c943-45a1-a9bf-7ed6cdf2d609\")) {                    Plotly.newPlot(                        \"363c3715-c943-45a1-a9bf-7ed6cdf2d609\",                        [{\"hovertemplate\":\"species=Setosa<br>PC1=%{x}<br>PC2=%{y}<extra></extra>\",\"legendgroup\":\"Setosa\",\"marker\":{\"color\":\"#636efa\",\"symbol\":\"circle\"},\"mode\":\"markers\",\"name\":\"Setosa\",\"orientation\":\"v\",\"showlegend\":true,\"x\":[-2.684125625969534,-2.714141687294323,-2.888990569059294,-2.745342855641407,-2.7287165365545274,-2.2808596328444897,-2.820537750740606,-2.62614497314663,-2.88638273178055,-2.672755797820951,-2.5069470906518534,-2.61275523090872,-2.7861092661880145,-3.223803743865649,-2.6447503899420277,-2.386039033531131,-2.623527875224424,-2.6482967062543787,-2.1998203236175775,-2.587986399878766,-2.3102562152425157,-2.543705228757154,-3.215939415648609,-2.3027331822262043,-2.3557540491237696,-2.506668906925819,-2.468820073121336,-2.5623199061960134,-2.63953471538454,-2.631989387274343,-2.5873984766893496,-2.4099324970021727,-2.6488623343499094,-2.598736749100585,-2.6369268781057964,-2.8662416521186667,-2.62523804985037,-2.800684115448219,-2.9805020437819905,-2.5900063139680936,-2.7701024260278992,-2.8493687050431005,-2.9974065465949042,-2.405614485097483,-2.209489237783677,-2.7144514267577047,-2.5381482589989375,-2.8394621676428473,-2.5430857498303907,-2.703359782335157],\"xaxis\":\"x\",\"y\":[-0.3193972465851023,0.17700122506477856,0.14494942608555642,0.31829897925191514,-0.32675451293492086,-0.7413304490629157,0.08946138452856844,-0.16338495969832992,0.5783117541867028,0.11377424587411511,-0.6450688986485752,-0.014729939161375428,0.23511200020171671,0.5113945870063814,-1.1787646364375768,-1.338062330400653,-0.8106795141812585,-0.31184914459335583,-0.8728390389622125,-0.5135603087492776,-0.391345935653896,-0.4329960632790288,-0.13346806953852597,-0.09870885481410042,0.037281859677381596,0.14601688049526582,-0.13095148943525117,-0.3677188574342013,-0.3120399802352844,0.1969612249243135,0.20431849127413199,-0.4109242642295744,-0.8133638202969627,-1.0931457594493577,0.12132234786586162,-0.06936447158008208,-0.5993700213794255,-0.2686437377979833,0.4879583444286144,-0.229043836827014,-0.26352753374425747,0.9409605736411948,0.34192605747160926,-0.18887142893026077,-0.43666314163918835,0.2502082041852097,-0.5037711444614384,0.22794556949382683,-0.5794100215198905,-0.10770608249941302],\"yaxis\":\"y\",\"type\":\"scatter\"},{\"hovertemplate\":\"species=Versicolor<br>PC1=%{x}<br>PC2=%{y}<extra></extra>\",\"legendgroup\":\"Versicolor\",\"marker\":{\"color\":\"#EF553B\",\"symbol\":\"circle\"},\"mode\":\"markers\",\"name\":\"Versicolor\",\"orientation\":\"v\",\"showlegend\":true,\"x\":[1.2848256888583534,0.9324885323123204,1.464302321991396,0.1833177199583735,1.088103257711668,0.6416690842580803,1.095060662632449,-0.749122669829654,1.0441318260534376,-0.008745404082893062,-0.5078408838353227,0.5116985574475998,0.26497650811204926,0.9849345104708928,-0.1739253716817652,0.9278607809442495,0.6602837616969396,0.23610499331767434,0.9447337280198157,0.045226976298702724,1.1162831773500521,0.3578884179973098,1.2981838753589163,0.9217289224470395,0.714853325911414,0.9001743731721694,1.3320244367220906,1.5578021550660723,0.8132906498175438,-0.30558377802430625,-0.06812649206836066,-0.18962247237849894,0.1364287115580176,1.3800264359155137,0.5880064433398662,0.8068583125004145,1.220690882444355,0.8150952357666024,0.24595767988669512,0.1664132171454597,0.4648002884037821,0.8908151984694518,0.2305480235594581,-0.7045317592446605,0.3569814947010498,0.33193447994506103,0.37621565106667304,0.6425760075543403,-0.906469864948833,0.29900084187814596],\"xaxis\":\"x\",\"y\":[-0.6851604704673113,-0.31833363826263045,-0.5042628153092067,0.8279590118206304,-0.07459067519771855,0.4182468715686773,-0.2834682700615301,1.004890961181894,-0.22836189978839821,0.7230819050048336,1.2659711905263915,0.10398123549903933,0.5500364636804714,0.12481785412635565,0.25485420870258824,-0.46717949444151285,0.3529696657238498,0.3336107668249131,0.5431455507797637,0.5838343774718623,0.08461685219478775,0.06892503165601192,0.3277873083339149,0.18273779362136525,-0.14905594436978706,-0.32850447383432557,-0.24444087601634648,-0.26749544731025665,0.16335030068761489,0.3682621897545858,0.7051721317994633,0.6802867635281312,0.3140324382492348,0.42095428731388035,0.484287419981218,-0.19418231471315128,-0.4076195936110093,0.37203705990949865,0.26852439662201394,0.6819267248636252,0.6707115445117188,0.034464444368267275,0.40438584800732313,1.0122482275317124,0.5049100933371072,0.21265468378116856,0.2932189292514177,-0.017738190112418336,0.7560933665990127,0.34889780645033447],\"yaxis\":\"y\",\"type\":\"scatter\"},{\"hovertemplate\":\"species=Virginica<br>PC1=%{x}<br>PC2=%{y}<extra></extra>\",\"legendgroup\":\"Virginica\",\"marker\":{\"color\":\"#00cc96\",\"symbol\":\"circle\"},\"mode\":\"markers\",\"name\":\"Virginica\",\"orientation\":\"v\",\"showlegend\":true,\"x\":[2.53119272780363,1.4152358767039048,2.6166760159956914,1.971531053043438,2.350005920044642,3.3970387360532595,0.5212322439097767,2.932587068993691,2.32122881657338,2.9167509667860743,1.6617741536365331,1.803401952965093,2.1655917960801467,1.3461635794584539,1.5859282238732233,1.9044563747934289,1.9496890593990714,3.4870553642902804,3.7956454220728855,1.3007917126376598,2.4278179130660473,1.1990011054655632,3.4999200389245395,1.3887661316914677,2.2754305038722067,2.614090473810833,1.25850816051149,1.2911320591150233,2.1236087227738967,2.3880030160034695,2.8416727781038724,3.230673661432094,2.159437642489052,1.444161242329512,1.7812948100451147,3.0764999316871893,2.1442433143020834,1.905098148814078,1.1693263393415025,2.1076111432572437,2.3141547052356017,1.9222678009026026,1.4152358767039048,2.5630133750774777,2.4187461827328267,1.9441097945469699,1.5271666148145195,1.764345717044431,1.9009416142184254,1.3901888619479164],\"xaxis\":\"x\",\"y\":[0.009849109498802473,0.5749163475464886,-0.34390315134173627,0.1797279043522441,0.0402609471425302,-0.550836673028058,1.1927587270006454,-0.35550000297749934,0.2438315023106881,-0.7827919488152788,-0.24222840775506793,0.21563761733355377,-0.2162755850740262,0.7768183473443389,0.539640714026719,-0.11925069209197282,-0.04194325966321292,-1.1757393297134306,-0.25732297342048266,0.761149636435061,-0.3781960126170517,0.6060915277579304,-0.4606740989118984,0.2043993273521493,-0.3349906058216782,-0.56090135512308,0.1797047947227453,0.11666865117401055,0.20972947667730157,-0.4646398047087393,-0.37526916719510645,-1.3741650867930495,0.2172775786690481,0.1434134104575787,0.49990168107813426,-0.6880856775711782,-0.14006420108978954,-0.0493005260130314,0.16499026202310887,-0.37228787196079915,-0.18365127916901955,-0.4092034668160633,0.5749163475464886,-0.2778626029291956,-0.30479819785469214,-0.18753230280060612,0.3753169825804866,-0.07885885451847692,-0.11662795851202316,0.28266093799055],\"yaxis\":\"y\",\"type\":\"scatter\"}],                        {\"template\":{\"data\":{\"histogram2dcontour\":[{\"type\":\"histogram2dcontour\",\"colorbar\":{\"outlinewidth\":0,\"ticks\":\"\"},\"colorscale\":[[0.0,\"#0d0887\"],[0.1111111111111111,\"#46039f\"],[0.2222222222222222,\"#7201a8\"],[0.3333333333333333,\"#9c179e\"],[0.4444444444444444,\"#bd3786\"],[0.5555555555555556,\"#d8576b\"],[0.6666666666666666,\"#ed7953\"],[0.7777777777777778,\"#fb9f3a\"],[0.8888888888888888,\"#fdca26\"],[1.0,\"#f0f921\"]]}],\"choropleth\":[{\"type\":\"choropleth\",\"colorbar\":{\"outlinewidth\":0,\"ticks\":\"\"}}],\"histogram2d\":[{\"type\":\"histogram2d\",\"colorbar\":{\"outlinewidth\":0,\"ticks\":\"\"},\"colorscale\":[[0.0,\"#0d0887\"],[0.1111111111111111,\"#46039f\"],[0.2222222222222222,\"#7201a8\"],[0.3333333333333333,\"#9c179e\"],[0.4444444444444444,\"#bd3786\"],[0.5555555555555556,\"#d8576b\"],[0.6666666666666666,\"#ed7953\"],[0.7777777777777778,\"#fb9f3a\"],[0.8888888888888888,\"#fdca26\"],[1.0,\"#f0f921\"]]}],\"heatmap\":[{\"type\":\"heatmap\",\"colorbar\":{\"outlinewidth\":0,\"ticks\":\"\"},\"colorscale\":[[0.0,\"#0d0887\"],[0.1111111111111111,\"#46039f\"],[0.2222222222222222,\"#7201a8\"],[0.3333333333333333,\"#9c179e\"],[0.4444444444444444,\"#bd3786\"],[0.5555555555555556,\"#d8576b\"],[0.6666666666666666,\"#ed7953\"],[0.7777777777777778,\"#fb9f3a\"],[0.8888888888888888,\"#fdca26\"],[1.0,\"#f0f921\"]]}],\"heatmapgl\":[{\"type\":\"heatmapgl\",\"colorbar\":{\"outlinewidth\":0,\"ticks\":\"\"},\"colorscale\":[[0.0,\"#0d0887\"],[0.1111111111111111,\"#46039f\"],[0.2222222222222222,\"#7201a8\"],[0.3333333333333333,\"#9c179e\"],[0.4444444444444444,\"#bd3786\"],[0.5555555555555556,\"#d8576b\"],[0.6666666666666666,\"#ed7953\"],[0.7777777777777778,\"#fb9f3a\"],[0.8888888888888888,\"#fdca26\"],[1.0,\"#f0f921\"]]}],\"contourcarpet\":[{\"type\":\"contourcarpet\",\"colorbar\":{\"outlinewidth\":0,\"ticks\":\"\"}}],\"contour\":[{\"type\":\"contour\",\"colorbar\":{\"outlinewidth\":0,\"ticks\":\"\"},\"colorscale\":[[0.0,\"#0d0887\"],[0.1111111111111111,\"#46039f\"],[0.2222222222222222,\"#7201a8\"],[0.3333333333333333,\"#9c179e\"],[0.4444444444444444,\"#bd3786\"],[0.5555555555555556,\"#d8576b\"],[0.6666666666666666,\"#ed7953\"],[0.7777777777777778,\"#fb9f3a\"],[0.8888888888888888,\"#fdca26\"],[1.0,\"#f0f921\"]]}],\"surface\":[{\"type\":\"surface\",\"colorbar\":{\"outlinewidth\":0,\"ticks\":\"\"},\"colorscale\":[[0.0,\"#0d0887\"],[0.1111111111111111,\"#46039f\"],[0.2222222222222222,\"#7201a8\"],[0.3333333333333333,\"#9c179e\"],[0.4444444444444444,\"#bd3786\"],[0.5555555555555556,\"#d8576b\"],[0.6666666666666666,\"#ed7953\"],[0.7777777777777778,\"#fb9f3a\"],[0.8888888888888888,\"#fdca26\"],[1.0,\"#f0f921\"]]}],\"mesh3d\":[{\"type\":\"mesh3d\",\"colorbar\":{\"outlinewidth\":0,\"ticks\":\"\"}}],\"scatter\":[{\"fillpattern\":{\"fillmode\":\"overlay\",\"size\":10,\"solidity\":0.2},\"type\":\"scatter\"}],\"parcoords\":[{\"type\":\"parcoords\",\"line\":{\"colorbar\":{\"outlinewidth\":0,\"ticks\":\"\"}}}],\"scatterpolargl\":[{\"type\":\"scatterpolargl\",\"marker\":{\"colorbar\":{\"outlinewidth\":0,\"ticks\":\"\"}}}],\"bar\":[{\"error_x\":{\"color\":\"#2a3f5f\"},\"error_y\":{\"color\":\"#2a3f5f\"},\"marker\":{\"line\":{\"color\":\"#E5ECF6\",\"width\":0.5},\"pattern\":{\"fillmode\":\"overlay\",\"size\":10,\"solidity\":0.2}},\"type\":\"bar\"}],\"scattergeo\":[{\"type\":\"scattergeo\",\"marker\":{\"colorbar\":{\"outlinewidth\":0,\"ticks\":\"\"}}}],\"scatterpolar\":[{\"type\":\"scatterpolar\",\"marker\":{\"colorbar\":{\"outlinewidth\":0,\"ticks\":\"\"}}}],\"histogram\":[{\"marker\":{\"pattern\":{\"fillmode\":\"overlay\",\"size\":10,\"solidity\":0.2}},\"type\":\"histogram\"}],\"scattergl\":[{\"type\":\"scattergl\",\"marker\":{\"colorbar\":{\"outlinewidth\":0,\"ticks\":\"\"}}}],\"scatter3d\":[{\"type\":\"scatter3d\",\"line\":{\"colorbar\":{\"outlinewidth\":0,\"ticks\":\"\"}},\"marker\":{\"colorbar\":{\"outlinewidth\":0,\"ticks\":\"\"}}}],\"scattermapbox\":[{\"type\":\"scattermapbox\",\"marker\":{\"colorbar\":{\"outlinewidth\":0,\"ticks\":\"\"}}}],\"scatterternary\":[{\"type\":\"scatterternary\",\"marker\":{\"colorbar\":{\"outlinewidth\":0,\"ticks\":\"\"}}}],\"scattercarpet\":[{\"type\":\"scattercarpet\",\"marker\":{\"colorbar\":{\"outlinewidth\":0,\"ticks\":\"\"}}}],\"carpet\":[{\"aaxis\":{\"endlinecolor\":\"#2a3f5f\",\"gridcolor\":\"white\",\"linecolor\":\"white\",\"minorgridcolor\":\"white\",\"startlinecolor\":\"#2a3f5f\"},\"baxis\":{\"endlinecolor\":\"#2a3f5f\",\"gridcolor\":\"white\",\"linecolor\":\"white\",\"minorgridcolor\":\"white\",\"startlinecolor\":\"#2a3f5f\"},\"type\":\"carpet\"}],\"table\":[{\"cells\":{\"fill\":{\"color\":\"#EBF0F8\"},\"line\":{\"color\":\"white\"}},\"header\":{\"fill\":{\"color\":\"#C8D4E3\"},\"line\":{\"color\":\"white\"}},\"type\":\"table\"}],\"barpolar\":[{\"marker\":{\"line\":{\"color\":\"#E5ECF6\",\"width\":0.5},\"pattern\":{\"fillmode\":\"overlay\",\"size\":10,\"solidity\":0.2}},\"type\":\"barpolar\"}],\"pie\":[{\"automargin\":true,\"type\":\"pie\"}]},\"layout\":{\"autotypenumbers\":\"strict\",\"colorway\":[\"#636efa\",\"#EF553B\",\"#00cc96\",\"#ab63fa\",\"#FFA15A\",\"#19d3f3\",\"#FF6692\",\"#B6E880\",\"#FF97FF\",\"#FECB52\"],\"font\":{\"color\":\"#2a3f5f\"},\"hovermode\":\"closest\",\"hoverlabel\":{\"align\":\"left\"},\"paper_bgcolor\":\"white\",\"plot_bgcolor\":\"#E5ECF6\",\"polar\":{\"bgcolor\":\"#E5ECF6\",\"angularaxis\":{\"gridcolor\":\"white\",\"linecolor\":\"white\",\"ticks\":\"\"},\"radialaxis\":{\"gridcolor\":\"white\",\"linecolor\":\"white\",\"ticks\":\"\"}},\"ternary\":{\"bgcolor\":\"#E5ECF6\",\"aaxis\":{\"gridcolor\":\"white\",\"linecolor\":\"white\",\"ticks\":\"\"},\"baxis\":{\"gridcolor\":\"white\",\"linecolor\":\"white\",\"ticks\":\"\"},\"caxis\":{\"gridcolor\":\"white\",\"linecolor\":\"white\",\"ticks\":\"\"}},\"coloraxis\":{\"colorbar\":{\"outlinewidth\":0,\"ticks\":\"\"}},\"colorscale\":{\"sequential\":[[0.0,\"#0d0887\"],[0.1111111111111111,\"#46039f\"],[0.2222222222222222,\"#7201a8\"],[0.3333333333333333,\"#9c179e\"],[0.4444444444444444,\"#bd3786\"],[0.5555555555555556,\"#d8576b\"],[0.6666666666666666,\"#ed7953\"],[0.7777777777777778,\"#fb9f3a\"],[0.8888888888888888,\"#fdca26\"],[1.0,\"#f0f921\"]],\"sequentialminus\":[[0.0,\"#0d0887\"],[0.1111111111111111,\"#46039f\"],[0.2222222222222222,\"#7201a8\"],[0.3333333333333333,\"#9c179e\"],[0.4444444444444444,\"#bd3786\"],[0.5555555555555556,\"#d8576b\"],[0.6666666666666666,\"#ed7953\"],[0.7777777777777778,\"#fb9f3a\"],[0.8888888888888888,\"#fdca26\"],[1.0,\"#f0f921\"]],\"diverging\":[[0,\"#8e0152\"],[0.1,\"#c51b7d\"],[0.2,\"#de77ae\"],[0.3,\"#f1b6da\"],[0.4,\"#fde0ef\"],[0.5,\"#f7f7f7\"],[0.6,\"#e6f5d0\"],[0.7,\"#b8e186\"],[0.8,\"#7fbc41\"],[0.9,\"#4d9221\"],[1,\"#276419\"]]},\"xaxis\":{\"gridcolor\":\"white\",\"linecolor\":\"white\",\"ticks\":\"\",\"title\":{\"standoff\":15},\"zerolinecolor\":\"white\",\"automargin\":true,\"zerolinewidth\":2},\"yaxis\":{\"gridcolor\":\"white\",\"linecolor\":\"white\",\"ticks\":\"\",\"title\":{\"standoff\":15},\"zerolinecolor\":\"white\",\"automargin\":true,\"zerolinewidth\":2},\"scene\":{\"xaxis\":{\"backgroundcolor\":\"#E5ECF6\",\"gridcolor\":\"white\",\"linecolor\":\"white\",\"showbackground\":true,\"ticks\":\"\",\"zerolinecolor\":\"white\",\"gridwidth\":2},\"yaxis\":{\"backgroundcolor\":\"#E5ECF6\",\"gridcolor\":\"white\",\"linecolor\":\"white\",\"showbackground\":true,\"ticks\":\"\",\"zerolinecolor\":\"white\",\"gridwidth\":2},\"zaxis\":{\"backgroundcolor\":\"#E5ECF6\",\"gridcolor\":\"white\",\"linecolor\":\"white\",\"showbackground\":true,\"ticks\":\"\",\"zerolinecolor\":\"white\",\"gridwidth\":2}},\"shapedefaults\":{\"line\":{\"color\":\"#2a3f5f\"}},\"annotationdefaults\":{\"arrowcolor\":\"#2a3f5f\",\"arrowhead\":0,\"arrowwidth\":1},\"geo\":{\"bgcolor\":\"white\",\"landcolor\":\"#E5ECF6\",\"subunitcolor\":\"white\",\"showland\":true,\"showlakes\":true,\"lakecolor\":\"white\"},\"title\":{\"x\":0.05},\"mapbox\":{\"style\":\"light\"}}},\"xaxis\":{\"anchor\":\"y\",\"domain\":[0.0,1.0],\"title\":{\"text\":\"PC1\"}},\"yaxis\":{\"anchor\":\"x\",\"domain\":[0.0,1.0],\"title\":{\"text\":\"PC2\"}},\"legend\":{\"title\":{\"text\":\"species\"},\"tracegroupgap\":0},\"margin\":{\"t\":60}},                        {\"responsive\": true}                    ).then(function(){\n",
       "                            \n",
       "var gd = document.getElementById('363c3715-c943-45a1-a9bf-7ed6cdf2d609');\n",
       "var x = new MutationObserver(function (mutations, observer) {{\n",
       "        var display = window.getComputedStyle(gd).display;\n",
       "        if (!display || display === 'none') {{\n",
       "            console.log([gd, 'removed!']);\n",
       "            Plotly.purge(gd);\n",
       "            observer.disconnect();\n",
       "        }}\n",
       "}});\n",
       "\n",
       "// Listen for the removal of the full notebook cells\n",
       "var notebookContainer = gd.closest('#notebook-container');\n",
       "if (notebookContainer) {{\n",
       "    x.observe(notebookContainer, {childList: true});\n",
       "}}\n",
       "\n",
       "// Listen for the clearing of the current output cell\n",
       "var outputEl = gd.closest('.output');\n",
       "if (outputEl) {{\n",
       "    x.observe(outputEl, {childList: true});\n",
       "}}\n",
       "\n",
       "                        })                };                });            </script>        </div>"
      ]
     },
     "metadata": {},
     "output_type": "display_data"
    }
   ],
   "source": [
    "U = eigenvectors[:, 0:2]\n",
    "X_star_2D = T.dot(U)\n",
    "df_2D = pd.DataFrame({'PC1': X_star_2D[:, 0], 'PC2': X_star_2D[:, 1], 'species': y})\n",
    "fig = px.scatter(df_2D, x='PC1', y='PC2',\n",
    "              color='species')\n",
    "fig.show()"
   ]
  },
  {
   "cell_type": "markdown",
   "id": "48da5802-d45d-4c0f-ab32-5297c96f95da",
   "metadata": {},
   "source": [
    "<span style=\"font-family: XB Zar; font-size: medium; \"><div dir=rtl><meta charset=\"UTF-8\">\n",
    "    <span style=\"color: red; font-size: large; \"> 5.2. تحلیل مولفه‌های اصلی افزایشی یا Incremental PCA </span>\n",
    "    <br>\n",
    "    یکی از مشکلات بزرگ روش قبلی در PCA این آست که کل مجموعه دادگان را به عنوان ورودی خود می‌گیرد. این موضوع در عمل برای مجموعه دادگان حجیم با تعداد داده‌های بسیار زیاد با مشکلاتی همچون زمان محاسبات زیاد همراه می‌شود. یکی از راه حل‌های این مشکل تقسیم‌بندی کردن مجموعه دادگان به دسته‌های کوچک و اعمال PCA به هریک از این دسته‌هاست.\n",
    "    این روش\n",
    "    فقط تخمین‌های واریانس‌های مولفه و نویز را ذخیره می‌کند، . \n",
    "    این عمل به شکل فزاینده، نرخ واریانس را بروزرسانی می‌کند \n",
    "    به همین دلیل است که استفاده از حافظه به تعداد نمونه‌ها در هر دسته بستگی دارد، نه به تعداد نمونه‌هایی که در مجموعه داده پردازش می‌شوند. \n",
    "   در این قسمت از کتابخانه sklearn برای بررسی یک نمونه مسئله در این مورد استفاده می‌کنیم.\n",
    "    </div></span>"
   ]
  },
  {
   "cell_type": "markdown",
   "id": "4f6571d3-a561-4d85-b10c-c2fa75692d82",
   "metadata": {},
   "source": [
    "<span style=\"font-family: XB Zar; font-size: medium; \"><div dir=rtl><meta charset=\"UTF-8\">\n",
    "    <br>\n",
    "    تعداد دسته‌های خود را 10تایی در نظر می‌گیریم و طبق آن خواهیم داشت:\n",
    "    </div></span>"
   ]
  },
  {
   "cell_type": "code",
   "execution_count": 10,
   "id": "7e2b0674-5ce7-4a07-9f25-6b22a5c1e34c",
   "metadata": {},
   "outputs": [],
   "source": [
    "batch_number = 10\n",
    "incremental_pca = IncrementalPCA(n_components=2)\n",
    "for X_batch in np.array_split(X, batch_number):\n",
    "    incremental_pca.partial_fit(X_batch)\n",
    "X_reduced = incremental_pca.transform(X)"
   ]
  },
  {
   "cell_type": "code",
   "execution_count": 60,
   "id": "c081c93d-bb7c-4319-9c28-25831bf6a380",
   "metadata": {},
   "outputs": [
    {
     "data": {
      "application/vnd.plotly.v1+json": {
       "config": {
        "plotlyServerURL": "https://plot.ly"
       },
       "data": [
        {
         "hovertemplate": "species=Setosa<br>PC1=%{x}<br>PC2=%{y}<extra></extra>",
         "legendgroup": "Setosa",
         "marker": {
          "color": "#636efa",
          "symbol": "circle"
         },
         "mode": "markers",
         "name": "Setosa",
         "orientation": "v",
         "showlegend": true,
         "type": "scatter",
         "x": [
          -2.6840558952002165,
          -2.7140298887907592,
          -2.889020100495127,
          -2.7454283982261383,
          -2.728725993935608,
          -2.280838006266893,
          -2.8207091943122222,
          -2.626114207164812,
          -2.8864950648560828,
          -2.6726726377790975,
          -2.5068000161034854,
          -2.612842617864799,
          -2.7860309782108628,
          -3.2239270832455458,
          -2.6444358677429136,
          -2.385974828676733,
          -2.623438063201231,
          -2.6482440182468987,
          -2.199601359551247,
          -2.5880366628191314,
          -2.3100573288304993,
          -2.5437438995972084,
          -3.21608290073709,
          -2.3027084491022984,
          -2.355892575164045,
          -2.506540647856804,
          -2.468840439024592,
          -2.562216668499846,
          -2.6393857964648246,
          -2.632070057794373,
          -2.5873999590589816,
          -2.4097336033910333,
          -2.6489138630647977,
          -2.598665249213313,
          -2.63686076082578,
          -2.8661024773283543,
          -2.6249490595666574,
          -2.800727083355711,
          -2.9806259653582727,
          -2.589924994698026,
          -2.7700832449472688,
          -2.849258672057929,
          -2.9975877378954845,
          -2.4056975713865625,
          -2.2096247289314754,
          -2.7144072243042277,
          -2.5381985255388644,
          -2.8395592987283287,
          -2.5429892285702715,
          -2.703283335129791
         ],
         "xaxis": "x",
         "y": [
          0.3193846432276619,
          -0.17982615828915824,
          -0.1442922560835459,
          -0.3171573966844453,
          0.32860529644398223,
          0.7440586550282963,
          -0.0852330720950362,
          0.16361209839973528,
          -0.5774246990213816,
          -0.1159492783360184,
          0.6443815934839162,
          0.017060206788128512,
          -0.23753663161800093,
          -0.5099070838956699,
          1.1764288758870134,
          1.3421842960103787,
          0.8124290381201853,
          0.31236546863718706,
          0.8713164722410853,
          0.5171237762711264,
          0.3883454985310597,
          0.43615430054501453,
          0.1380570878586025,
          0.09914872986604574,
          -0.03421758053078834,
          -0.14928170191578596,
          0.13248115344581318,
          0.36702169537400714,
          0.3101639900113421,
          -0.19557004340246278,
          -0.20479069661878316,
          0.4084923408960545,
          0.8177426767783054,
          1.095955342854392,
          -0.12296845292649328,
          0.0669892834473779,
          0.5953958306779031,
          0.27089482311514024,
          -0.48638180211277193,
          0.2283417463190523,
          0.2647284164908423,
          -0.9463234367333907,
          -0.33848119984149744,
          0.1923931054005007,
          0.44173421858876233,
          -0.2515749807989507,
          0.507050355088629,
          -0.22611449977583573,
          0.5796519455645988,
          0.10675439303707027
         ],
         "yaxis": "y"
        },
        {
         "hovertemplate": "species=Versicolor<br>PC1=%{x}<br>PC2=%{y}<extra></extra>",
         "legendgroup": "Versicolor",
         "marker": {
          "color": "#EF553B",
          "symbol": "circle"
         },
         "mode": "markers",
         "name": "Versicolor",
         "orientation": "v",
         "showlegend": true,
         "type": "scatter",
         "x": [
          1.285174793622636,
          0.932551367308069,
          1.464578372844943,
          0.18330260644988977,
          1.0883141390828621,
          0.6415266712083558,
          1.0949931739931642,
          -0.7492992851144763,
          1.044398711374407,
          -0.009026713305158038,
          -0.5078864991060982,
          0.5116170348105975,
          0.26529392419247205,
          0.9849145402273803,
          -0.1739935556292975,
          0.9281379997901305,
          0.6599994401109933,
          0.23616108214945583,
          0.9449818050605547,
          0.04525627823924414,
          1.115990978534846,
          0.358033449907576,
          1.298328415655862,
          0.9217716725893509,
          0.7150702437400818,
          0.9004296735919501,
          1.3323699279970715,
          1.5579546023201964,
          0.8132371762467427,
          -0.30544732945023156,
          -0.06810206219252052,
          -0.18956395337942242,
          0.1364848075889219,
          1.3799109111387793,
          0.5876210151774219,
          0.8066446218570316,
          1.2208999194442018,
          0.8154163631185154,
          0.2457756292700195,
          0.16634083391267823,
          0.46464812762509367,
          0.8907836397251895,
          0.23061570809111237,
          -0.7046291863790848,
          0.35686830230942185,
          0.331802979017073,
          0.3760957422389964,
          0.6426918188065099,
          -0.9065399121969467,
          0.29892661427401707
         ],
         "xaxis": "x",
         "y": [
          0.6791112946939921,
          0.3178994241335592,
          0.4992269795026185,
          -0.83071878931522,
          0.06973527173735458,
          -0.41697096666326067,
          0.28591571121345916,
          -1.0044406815132547,
          0.22245356997325866,
          -0.7190331073481248,
          -1.2696974296824315,
          -0.10237163041538451,
          -0.5599633270828465,
          -0.12530643998677454,
          -0.2539169514901902,
          0.46224983711932044,
          -0.3478383614922534,
          -0.3367637130162668,
          -0.5510628830614479,
          -0.5869575941707063,
          -0.07808412655336826,
          -0.07258939612113087,
          -0.33285271482710854,
          -0.18521839194146206,
          0.1442720614535416,
          0.3235698880643656,
          0.23675819853983626,
          0.2646864375744247,
          -0.16287007095062175,
          -0.37288808743338736,
          -0.7085449474526881,
          -0.6844331770892411,
          -0.3166168706512721,
          -0.42034542245020473,
          -0.47729765733088725,
          0.19986226013708966,
          0.4039528752099287,
          -0.3812519890525719,
          -0.2654296292194143,
          -0.6828181870439454,
          -0.6702190944097225,
          -0.034263543078164815,
          -0.4076597675598817,
          -1.013661334729575,
          -0.5043731283992984,
          -0.21077340248259427,
          -0.2917428782087065,
          0.014812765614907141,
          -0.7567724718105415,
          -0.3486005835713714
         ],
         "yaxis": "y"
        },
        {
         "hovertemplate": "species=Virginica<br>PC1=%{x}<br>PC2=%{y}<extra></extra>",
         "legendgroup": "Virginica",
         "marker": {
          "color": "#00cc96",
          "symbol": "circle"
         },
         "mode": "markers",
         "name": "Virginica",
         "orientation": "v",
         "showlegend": true,
         "type": "scatter",
         "x": [
          2.5307502516096223,
          1.4149681170651602,
          2.616809088102872,
          1.9713906010764837,
          2.3498356760218893,
          3.3973052500718928,
          0.5207031380931565,
          2.9328328253794345,
          2.3213710244852193,
          2.9166605192384623,
          1.66170004994295,
          1.803403420333045,
          2.1656413937681753,
          1.3459025398553193,
          1.5855466155631424,
          1.9042464968032864,
          1.9496381255078652,
          3.487109263576736,
          3.7959918042204914,
          1.3008534512949061,
          2.4277926160715544,
          1.1986206543491316,
          3.5002943723561577,
          1.3888022739786032,
          2.2753095509627417,
          2.614250911406078,
          1.2584821610096268,
          1.2909811902392143,
          2.123496330671828,
          2.388288901569485,
          2.8420147726009746,
          3.2309138919029183,
          2.1593082076251457,
          1.4441857853172135,
          1.781207327135459,
          3.0768681452773907,
          2.14385743145336,
          1.9049680267724738,
          1.1691419635388434,
          2.1076997057327715,
          2.3140569401263207,
          1.9223734169386522,
          1.4149681170651602,
          2.5629034320719377,
          2.418557058776012,
          1.944125892507271,
          1.5272259377027166,
          1.7643118367137467,
          1.9005563135660881,
          1.3899027937728115
         ],
         "xaxis": "x",
         "y": [
          0.000539394850545258,
          -0.5708622420602639,
          0.3416949689330428,
          -0.17775720446679022,
          -0.03660949740036264,
          0.5456950381188228,
          -1.1847357517866093,
          0.3498911043155755,
          -0.2488250088780149,
          0.7878645337583399,
          0.2449776244626679,
          -0.21666954609030506,
          0.21587640826698057,
          -0.7734190710683582,
          -0.5320078138770014,
          0.12500526122598168,
          0.042744988280453824,
          1.1779153247597909,
          0.24930734499572427,
          -0.7659851577649439,
          0.3802831177306783,
          -0.5992052198077917,
          0.45245066258436784,
          -0.20600963632725858,
          0.33881247220863064,
          0.5582901471220872,
          -0.17969638733796617,
          -0.11361802875898143,
          -0.20803538145453473,
          0.45861308557770714,
          0.3678364680547254,
          1.372690757098292,
          -0.21505455604500964,
          -0.14518700296614137,
          -0.5009907053504368,
          0.6818493157220519,
          0.1498792536685468,
          0.0519656414967742,
          -0.16125508090532598,
          0.37164895309490764,
          0.18694694193890404,
          0.4088883912328749,
          -0.5708622420602639,
          0.2813682782654161,
          0.31073577384673107,
          0.18838619848563076,
          -0.37802200896198035,
          0.0799844264184209,
          0.12635397188564917,
          -0.2772625161435598
         ],
         "yaxis": "y"
        }
       ],
       "layout": {
        "autosize": true,
        "legend": {
         "title": {
          "text": "species"
         },
         "tracegroupgap": 0
        },
        "margin": {
         "t": 60
        },
        "template": {
         "data": {
          "bar": [
           {
            "error_x": {
             "color": "#2a3f5f"
            },
            "error_y": {
             "color": "#2a3f5f"
            },
            "marker": {
             "line": {
              "color": "#E5ECF6",
              "width": 0.5
             },
             "pattern": {
              "fillmode": "overlay",
              "size": 10,
              "solidity": 0.2
             }
            },
            "type": "bar"
           }
          ],
          "barpolar": [
           {
            "marker": {
             "line": {
              "color": "#E5ECF6",
              "width": 0.5
             },
             "pattern": {
              "fillmode": "overlay",
              "size": 10,
              "solidity": 0.2
             }
            },
            "type": "barpolar"
           }
          ],
          "carpet": [
           {
            "aaxis": {
             "endlinecolor": "#2a3f5f",
             "gridcolor": "white",
             "linecolor": "white",
             "minorgridcolor": "white",
             "startlinecolor": "#2a3f5f"
            },
            "baxis": {
             "endlinecolor": "#2a3f5f",
             "gridcolor": "white",
             "linecolor": "white",
             "minorgridcolor": "white",
             "startlinecolor": "#2a3f5f"
            },
            "type": "carpet"
           }
          ],
          "choropleth": [
           {
            "colorbar": {
             "outlinewidth": 0,
             "ticks": ""
            },
            "type": "choropleth"
           }
          ],
          "contour": [
           {
            "colorbar": {
             "outlinewidth": 0,
             "ticks": ""
            },
            "colorscale": [
             [
              0,
              "#0d0887"
             ],
             [
              0.1111111111111111,
              "#46039f"
             ],
             [
              0.2222222222222222,
              "#7201a8"
             ],
             [
              0.3333333333333333,
              "#9c179e"
             ],
             [
              0.4444444444444444,
              "#bd3786"
             ],
             [
              0.5555555555555556,
              "#d8576b"
             ],
             [
              0.6666666666666666,
              "#ed7953"
             ],
             [
              0.7777777777777778,
              "#fb9f3a"
             ],
             [
              0.8888888888888888,
              "#fdca26"
             ],
             [
              1,
              "#f0f921"
             ]
            ],
            "type": "contour"
           }
          ],
          "contourcarpet": [
           {
            "colorbar": {
             "outlinewidth": 0,
             "ticks": ""
            },
            "type": "contourcarpet"
           }
          ],
          "heatmap": [
           {
            "colorbar": {
             "outlinewidth": 0,
             "ticks": ""
            },
            "colorscale": [
             [
              0,
              "#0d0887"
             ],
             [
              0.1111111111111111,
              "#46039f"
             ],
             [
              0.2222222222222222,
              "#7201a8"
             ],
             [
              0.3333333333333333,
              "#9c179e"
             ],
             [
              0.4444444444444444,
              "#bd3786"
             ],
             [
              0.5555555555555556,
              "#d8576b"
             ],
             [
              0.6666666666666666,
              "#ed7953"
             ],
             [
              0.7777777777777778,
              "#fb9f3a"
             ],
             [
              0.8888888888888888,
              "#fdca26"
             ],
             [
              1,
              "#f0f921"
             ]
            ],
            "type": "heatmap"
           }
          ],
          "heatmapgl": [
           {
            "colorbar": {
             "outlinewidth": 0,
             "ticks": ""
            },
            "colorscale": [
             [
              0,
              "#0d0887"
             ],
             [
              0.1111111111111111,
              "#46039f"
             ],
             [
              0.2222222222222222,
              "#7201a8"
             ],
             [
              0.3333333333333333,
              "#9c179e"
             ],
             [
              0.4444444444444444,
              "#bd3786"
             ],
             [
              0.5555555555555556,
              "#d8576b"
             ],
             [
              0.6666666666666666,
              "#ed7953"
             ],
             [
              0.7777777777777778,
              "#fb9f3a"
             ],
             [
              0.8888888888888888,
              "#fdca26"
             ],
             [
              1,
              "#f0f921"
             ]
            ],
            "type": "heatmapgl"
           }
          ],
          "histogram": [
           {
            "marker": {
             "pattern": {
              "fillmode": "overlay",
              "size": 10,
              "solidity": 0.2
             }
            },
            "type": "histogram"
           }
          ],
          "histogram2d": [
           {
            "colorbar": {
             "outlinewidth": 0,
             "ticks": ""
            },
            "colorscale": [
             [
              0,
              "#0d0887"
             ],
             [
              0.1111111111111111,
              "#46039f"
             ],
             [
              0.2222222222222222,
              "#7201a8"
             ],
             [
              0.3333333333333333,
              "#9c179e"
             ],
             [
              0.4444444444444444,
              "#bd3786"
             ],
             [
              0.5555555555555556,
              "#d8576b"
             ],
             [
              0.6666666666666666,
              "#ed7953"
             ],
             [
              0.7777777777777778,
              "#fb9f3a"
             ],
             [
              0.8888888888888888,
              "#fdca26"
             ],
             [
              1,
              "#f0f921"
             ]
            ],
            "type": "histogram2d"
           }
          ],
          "histogram2dcontour": [
           {
            "colorbar": {
             "outlinewidth": 0,
             "ticks": ""
            },
            "colorscale": [
             [
              0,
              "#0d0887"
             ],
             [
              0.1111111111111111,
              "#46039f"
             ],
             [
              0.2222222222222222,
              "#7201a8"
             ],
             [
              0.3333333333333333,
              "#9c179e"
             ],
             [
              0.4444444444444444,
              "#bd3786"
             ],
             [
              0.5555555555555556,
              "#d8576b"
             ],
             [
              0.6666666666666666,
              "#ed7953"
             ],
             [
              0.7777777777777778,
              "#fb9f3a"
             ],
             [
              0.8888888888888888,
              "#fdca26"
             ],
             [
              1,
              "#f0f921"
             ]
            ],
            "type": "histogram2dcontour"
           }
          ],
          "mesh3d": [
           {
            "colorbar": {
             "outlinewidth": 0,
             "ticks": ""
            },
            "type": "mesh3d"
           }
          ],
          "parcoords": [
           {
            "line": {
             "colorbar": {
              "outlinewidth": 0,
              "ticks": ""
             }
            },
            "type": "parcoords"
           }
          ],
          "pie": [
           {
            "automargin": true,
            "type": "pie"
           }
          ],
          "scatter": [
           {
            "fillpattern": {
             "fillmode": "overlay",
             "size": 10,
             "solidity": 0.2
            },
            "type": "scatter"
           }
          ],
          "scatter3d": [
           {
            "line": {
             "colorbar": {
              "outlinewidth": 0,
              "ticks": ""
             }
            },
            "marker": {
             "colorbar": {
              "outlinewidth": 0,
              "ticks": ""
             }
            },
            "type": "scatter3d"
           }
          ],
          "scattercarpet": [
           {
            "marker": {
             "colorbar": {
              "outlinewidth": 0,
              "ticks": ""
             }
            },
            "type": "scattercarpet"
           }
          ],
          "scattergeo": [
           {
            "marker": {
             "colorbar": {
              "outlinewidth": 0,
              "ticks": ""
             }
            },
            "type": "scattergeo"
           }
          ],
          "scattergl": [
           {
            "marker": {
             "colorbar": {
              "outlinewidth": 0,
              "ticks": ""
             }
            },
            "type": "scattergl"
           }
          ],
          "scattermapbox": [
           {
            "marker": {
             "colorbar": {
              "outlinewidth": 0,
              "ticks": ""
             }
            },
            "type": "scattermapbox"
           }
          ],
          "scatterpolar": [
           {
            "marker": {
             "colorbar": {
              "outlinewidth": 0,
              "ticks": ""
             }
            },
            "type": "scatterpolar"
           }
          ],
          "scatterpolargl": [
           {
            "marker": {
             "colorbar": {
              "outlinewidth": 0,
              "ticks": ""
             }
            },
            "type": "scatterpolargl"
           }
          ],
          "scatterternary": [
           {
            "marker": {
             "colorbar": {
              "outlinewidth": 0,
              "ticks": ""
             }
            },
            "type": "scatterternary"
           }
          ],
          "surface": [
           {
            "colorbar": {
             "outlinewidth": 0,
             "ticks": ""
            },
            "colorscale": [
             [
              0,
              "#0d0887"
             ],
             [
              0.1111111111111111,
              "#46039f"
             ],
             [
              0.2222222222222222,
              "#7201a8"
             ],
             [
              0.3333333333333333,
              "#9c179e"
             ],
             [
              0.4444444444444444,
              "#bd3786"
             ],
             [
              0.5555555555555556,
              "#d8576b"
             ],
             [
              0.6666666666666666,
              "#ed7953"
             ],
             [
              0.7777777777777778,
              "#fb9f3a"
             ],
             [
              0.8888888888888888,
              "#fdca26"
             ],
             [
              1,
              "#f0f921"
             ]
            ],
            "type": "surface"
           }
          ],
          "table": [
           {
            "cells": {
             "fill": {
              "color": "#EBF0F8"
             },
             "line": {
              "color": "white"
             }
            },
            "header": {
             "fill": {
              "color": "#C8D4E3"
             },
             "line": {
              "color": "white"
             }
            },
            "type": "table"
           }
          ]
         },
         "layout": {
          "annotationdefaults": {
           "arrowcolor": "#2a3f5f",
           "arrowhead": 0,
           "arrowwidth": 1
          },
          "autotypenumbers": "strict",
          "coloraxis": {
           "colorbar": {
            "outlinewidth": 0,
            "ticks": ""
           }
          },
          "colorscale": {
           "diverging": [
            [
             0,
             "#8e0152"
            ],
            [
             0.1,
             "#c51b7d"
            ],
            [
             0.2,
             "#de77ae"
            ],
            [
             0.3,
             "#f1b6da"
            ],
            [
             0.4,
             "#fde0ef"
            ],
            [
             0.5,
             "#f7f7f7"
            ],
            [
             0.6,
             "#e6f5d0"
            ],
            [
             0.7,
             "#b8e186"
            ],
            [
             0.8,
             "#7fbc41"
            ],
            [
             0.9,
             "#4d9221"
            ],
            [
             1,
             "#276419"
            ]
           ],
           "sequential": [
            [
             0,
             "#0d0887"
            ],
            [
             0.1111111111111111,
             "#46039f"
            ],
            [
             0.2222222222222222,
             "#7201a8"
            ],
            [
             0.3333333333333333,
             "#9c179e"
            ],
            [
             0.4444444444444444,
             "#bd3786"
            ],
            [
             0.5555555555555556,
             "#d8576b"
            ],
            [
             0.6666666666666666,
             "#ed7953"
            ],
            [
             0.7777777777777778,
             "#fb9f3a"
            ],
            [
             0.8888888888888888,
             "#fdca26"
            ],
            [
             1,
             "#f0f921"
            ]
           ],
           "sequentialminus": [
            [
             0,
             "#0d0887"
            ],
            [
             0.1111111111111111,
             "#46039f"
            ],
            [
             0.2222222222222222,
             "#7201a8"
            ],
            [
             0.3333333333333333,
             "#9c179e"
            ],
            [
             0.4444444444444444,
             "#bd3786"
            ],
            [
             0.5555555555555556,
             "#d8576b"
            ],
            [
             0.6666666666666666,
             "#ed7953"
            ],
            [
             0.7777777777777778,
             "#fb9f3a"
            ],
            [
             0.8888888888888888,
             "#fdca26"
            ],
            [
             1,
             "#f0f921"
            ]
           ]
          },
          "colorway": [
           "#636efa",
           "#EF553B",
           "#00cc96",
           "#ab63fa",
           "#FFA15A",
           "#19d3f3",
           "#FF6692",
           "#B6E880",
           "#FF97FF",
           "#FECB52"
          ],
          "font": {
           "color": "#2a3f5f"
          },
          "geo": {
           "bgcolor": "white",
           "lakecolor": "white",
           "landcolor": "#E5ECF6",
           "showlakes": true,
           "showland": true,
           "subunitcolor": "white"
          },
          "hoverlabel": {
           "align": "left"
          },
          "hovermode": "closest",
          "mapbox": {
           "style": "light"
          },
          "paper_bgcolor": "white",
          "plot_bgcolor": "#E5ECF6",
          "polar": {
           "angularaxis": {
            "gridcolor": "white",
            "linecolor": "white",
            "ticks": ""
           },
           "bgcolor": "#E5ECF6",
           "radialaxis": {
            "gridcolor": "white",
            "linecolor": "white",
            "ticks": ""
           }
          },
          "scene": {
           "xaxis": {
            "backgroundcolor": "#E5ECF6",
            "gridcolor": "white",
            "gridwidth": 2,
            "linecolor": "white",
            "showbackground": true,
            "ticks": "",
            "zerolinecolor": "white"
           },
           "yaxis": {
            "backgroundcolor": "#E5ECF6",
            "gridcolor": "white",
            "gridwidth": 2,
            "linecolor": "white",
            "showbackground": true,
            "ticks": "",
            "zerolinecolor": "white"
           },
           "zaxis": {
            "backgroundcolor": "#E5ECF6",
            "gridcolor": "white",
            "gridwidth": 2,
            "linecolor": "white",
            "showbackground": true,
            "ticks": "",
            "zerolinecolor": "white"
           }
          },
          "shapedefaults": {
           "line": {
            "color": "#2a3f5f"
           }
          },
          "ternary": {
           "aaxis": {
            "gridcolor": "white",
            "linecolor": "white",
            "ticks": ""
           },
           "baxis": {
            "gridcolor": "white",
            "linecolor": "white",
            "ticks": ""
           },
           "bgcolor": "#E5ECF6",
           "caxis": {
            "gridcolor": "white",
            "linecolor": "white",
            "ticks": ""
           }
          },
          "title": {
           "x": 0.05
          },
          "xaxis": {
           "automargin": true,
           "gridcolor": "white",
           "linecolor": "white",
           "ticks": "",
           "title": {
            "standoff": 15
           },
           "zerolinecolor": "white",
           "zerolinewidth": 2
          },
          "yaxis": {
           "automargin": true,
           "gridcolor": "white",
           "linecolor": "white",
           "ticks": "",
           "title": {
            "standoff": 15
           },
           "zerolinecolor": "white",
           "zerolinewidth": 2
          }
         }
        },
        "xaxis": {
         "anchor": "y",
         "autorange": true,
         "domain": [
          0,
          1
         ],
         "range": [
          -3.6473698749137373,
          4.219434595888683
         ],
         "title": {
          "text": "PC1"
         },
         "type": "linear"
        },
        "yaxis": {
         "anchor": "x",
         "autorange": true,
         "domain": [
          0,
          1
         ],
         "range": [
          -1.474291790601149,
          1.5772851180170095
         ],
         "title": {
          "text": "PC2"
         },
         "type": "linear"
        }
       }
      },
      "image/png": "[encoded data removed]",
      "text/html": [
       "<div>                            <div id=\"01089d41-6218-4011-a135-bd4802471060\" class=\"plotly-graph-div\" style=\"height:525px; width:100%;\"></div>            <script type=\"text/javascript\">                require([\"plotly\"], function(Plotly) {                    window.PLOTLYENV=window.PLOTLYENV || {};                                    if (document.getElementById(\"01089d41-6218-4011-a135-bd4802471060\")) {                    Plotly.newPlot(                        \"01089d41-6218-4011-a135-bd4802471060\",                        [{\"hovertemplate\":\"species=Setosa<br>PC1=%{x}<br>PC2=%{y}<extra></extra>\",\"legendgroup\":\"Setosa\",\"marker\":{\"color\":\"#636efa\",\"symbol\":\"circle\"},\"mode\":\"markers\",\"name\":\"Setosa\",\"orientation\":\"v\",\"showlegend\":true,\"x\":[-2.6840558952002165,-2.7140298887907592,-2.889020100495127,-2.7454283982261383,-2.728725993935608,-2.280838006266893,-2.8207091943122222,-2.626114207164812,-2.8864950648560828,-2.6726726377790975,-2.5068000161034854,-2.612842617864799,-2.7860309782108628,-3.2239270832455458,-2.6444358677429136,-2.385974828676733,-2.623438063201231,-2.6482440182468987,-2.199601359551247,-2.5880366628191314,-2.3100573288304993,-2.5437438995972084,-3.21608290073709,-2.3027084491022984,-2.355892575164045,-2.506540647856804,-2.468840439024592,-2.562216668499846,-2.6393857964648246,-2.632070057794373,-2.5873999590589816,-2.4097336033910333,-2.6489138630647977,-2.598665249213313,-2.63686076082578,-2.8661024773283543,-2.6249490595666574,-2.800727083355711,-2.9806259653582727,-2.589924994698026,-2.7700832449472688,-2.849258672057929,-2.9975877378954845,-2.4056975713865625,-2.2096247289314754,-2.7144072243042277,-2.5381985255388644,-2.8395592987283287,-2.5429892285702715,-2.703283335129791],\"xaxis\":\"x\",\"y\":[0.3193846432276619,-0.17982615828915824,-0.1442922560835459,-0.3171573966844453,0.32860529644398223,0.7440586550282963,-0.0852330720950362,0.16361209839973528,-0.5774246990213816,-0.1159492783360184,0.6443815934839162,0.017060206788128512,-0.23753663161800093,-0.5099070838956699,1.1764288758870134,1.3421842960103787,0.8124290381201853,0.31236546863718706,0.8713164722410853,0.5171237762711264,0.3883454985310597,0.43615430054501453,0.1380570878586025,0.09914872986604574,-0.03421758053078834,-0.14928170191578596,0.13248115344581318,0.36702169537400714,0.3101639900113421,-0.19557004340246278,-0.20479069661878316,0.4084923408960545,0.8177426767783054,1.095955342854392,-0.12296845292649328,0.0669892834473779,0.5953958306779031,0.27089482311514024,-0.48638180211277193,0.2283417463190523,0.2647284164908423,-0.9463234367333907,-0.33848119984149744,0.1923931054005007,0.44173421858876233,-0.2515749807989507,0.507050355088629,-0.22611449977583573,0.5796519455645988,0.10675439303707027],\"yaxis\":\"y\",\"type\":\"scatter\"},{\"hovertemplate\":\"species=Versicolor<br>PC1=%{x}<br>PC2=%{y}<extra></extra>\",\"legendgroup\":\"Versicolor\",\"marker\":{\"color\":\"#EF553B\",\"symbol\":\"circle\"},\"mode\":\"markers\",\"name\":\"Versicolor\",\"orientation\":\"v\",\"showlegend\":true,\"x\":[1.285174793622636,0.932551367308069,1.464578372844943,0.18330260644988977,1.0883141390828621,0.6415266712083558,1.0949931739931642,-0.7492992851144763,1.044398711374407,-0.009026713305158038,-0.5078864991060982,0.5116170348105975,0.26529392419247205,0.9849145402273803,-0.1739935556292975,0.9281379997901305,0.6599994401109933,0.23616108214945583,0.9449818050605547,0.04525627823924414,1.115990978534846,0.358033449907576,1.298328415655862,0.9217716725893509,0.7150702437400818,0.9004296735919501,1.3323699279970715,1.5579546023201964,0.8132371762467427,-0.30544732945023156,-0.06810206219252052,-0.18956395337942242,0.1364848075889219,1.3799109111387793,0.5876210151774219,0.8066446218570316,1.2208999194442018,0.8154163631185154,0.2457756292700195,0.16634083391267823,0.46464812762509367,0.8907836397251895,0.23061570809111237,-0.7046291863790848,0.35686830230942185,0.331802979017073,0.3760957422389964,0.6426918188065099,-0.9065399121969467,0.29892661427401707],\"xaxis\":\"x\",\"y\":[0.6791112946939921,0.3178994241335592,0.4992269795026185,-0.83071878931522,0.06973527173735458,-0.41697096666326067,0.28591571121345916,-1.0044406815132547,0.22245356997325866,-0.7190331073481248,-1.2696974296824315,-0.10237163041538451,-0.5599633270828465,-0.12530643998677454,-0.2539169514901902,0.46224983711932044,-0.3478383614922534,-0.3367637130162668,-0.5510628830614479,-0.5869575941707063,-0.07808412655336826,-0.07258939612113087,-0.33285271482710854,-0.18521839194146206,0.1442720614535416,0.3235698880643656,0.23675819853983626,0.2646864375744247,-0.16287007095062175,-0.37288808743338736,-0.7085449474526881,-0.6844331770892411,-0.3166168706512721,-0.42034542245020473,-0.47729765733088725,0.19986226013708966,0.4039528752099287,-0.3812519890525719,-0.2654296292194143,-0.6828181870439454,-0.6702190944097225,-0.034263543078164815,-0.4076597675598817,-1.013661334729575,-0.5043731283992984,-0.21077340248259427,-0.2917428782087065,0.014812765614907141,-0.7567724718105415,-0.3486005835713714],\"yaxis\":\"y\",\"type\":\"scatter\"},{\"hovertemplate\":\"species=Virginica<br>PC1=%{x}<br>PC2=%{y}<extra></extra>\",\"legendgroup\":\"Virginica\",\"marker\":{\"color\":\"#00cc96\",\"symbol\":\"circle\"},\"mode\":\"markers\",\"name\":\"Virginica\",\"orientation\":\"v\",\"showlegend\":true,\"x\":[2.5307502516096223,1.4149681170651602,2.616809088102872,1.9713906010764837,2.3498356760218893,3.3973052500718928,0.5207031380931565,2.9328328253794345,2.3213710244852193,2.9166605192384623,1.66170004994295,1.803403420333045,2.1656413937681753,1.3459025398553193,1.5855466155631424,1.9042464968032864,1.9496381255078652,3.487109263576736,3.7959918042204914,1.3008534512949061,2.4277926160715544,1.1986206543491316,3.5002943723561577,1.3888022739786032,2.2753095509627417,2.614250911406078,1.2584821610096268,1.2909811902392143,2.123496330671828,2.388288901569485,2.8420147726009746,3.2309138919029183,2.1593082076251457,1.4441857853172135,1.781207327135459,3.0768681452773907,2.14385743145336,1.9049680267724738,1.1691419635388434,2.1076997057327715,2.3140569401263207,1.9223734169386522,1.4149681170651602,2.5629034320719377,2.418557058776012,1.944125892507271,1.5272259377027166,1.7643118367137467,1.9005563135660881,1.3899027937728115],\"xaxis\":\"x\",\"y\":[0.000539394850545258,-0.5708622420602639,0.3416949689330428,-0.17775720446679022,-0.03660949740036264,0.5456950381188228,-1.1847357517866093,0.3498911043155755,-0.2488250088780149,0.7878645337583399,0.2449776244626679,-0.21666954609030506,0.21587640826698057,-0.7734190710683582,-0.5320078138770014,0.12500526122598168,0.042744988280453824,1.1779153247597909,0.24930734499572427,-0.7659851577649439,0.3802831177306783,-0.5992052198077917,0.45245066258436784,-0.20600963632725858,0.33881247220863064,0.5582901471220872,-0.17969638733796617,-0.11361802875898143,-0.20803538145453473,0.45861308557770714,0.3678364680547254,1.372690757098292,-0.21505455604500964,-0.14518700296614137,-0.5009907053504368,0.6818493157220519,0.1498792536685468,0.0519656414967742,-0.16125508090532598,0.37164895309490764,0.18694694193890404,0.4088883912328749,-0.5708622420602639,0.2813682782654161,0.31073577384673107,0.18838619848563076,-0.37802200896198035,0.0799844264184209,0.12635397188564917,-0.2772625161435598],\"yaxis\":\"y\",\"type\":\"scatter\"}],                        {\"template\":{\"data\":{\"histogram2dcontour\":[{\"type\":\"histogram2dcontour\",\"colorbar\":{\"outlinewidth\":0,\"ticks\":\"\"},\"colorscale\":[[0.0,\"#0d0887\"],[0.1111111111111111,\"#46039f\"],[0.2222222222222222,\"#7201a8\"],[0.3333333333333333,\"#9c179e\"],[0.4444444444444444,\"#bd3786\"],[0.5555555555555556,\"#d8576b\"],[0.6666666666666666,\"#ed7953\"],[0.7777777777777778,\"#fb9f3a\"],[0.8888888888888888,\"#fdca26\"],[1.0,\"#f0f921\"]]}],\"choropleth\":[{\"type\":\"choropleth\",\"colorbar\":{\"outlinewidth\":0,\"ticks\":\"\"}}],\"histogram2d\":[{\"type\":\"histogram2d\",\"colorbar\":{\"outlinewidth\":0,\"ticks\":\"\"},\"colorscale\":[[0.0,\"#0d0887\"],[0.1111111111111111,\"#46039f\"],[0.2222222222222222,\"#7201a8\"],[0.3333333333333333,\"#9c179e\"],[0.4444444444444444,\"#bd3786\"],[0.5555555555555556,\"#d8576b\"],[0.6666666666666666,\"#ed7953\"],[0.7777777777777778,\"#fb9f3a\"],[0.8888888888888888,\"#fdca26\"],[1.0,\"#f0f921\"]]}],\"heatmap\":[{\"type\":\"heatmap\",\"colorbar\":{\"outlinewidth\":0,\"ticks\":\"\"},\"colorscale\":[[0.0,\"#0d0887\"],[0.1111111111111111,\"#46039f\"],[0.2222222222222222,\"#7201a8\"],[0.3333333333333333,\"#9c179e\"],[0.4444444444444444,\"#bd3786\"],[0.5555555555555556,\"#d8576b\"],[0.6666666666666666,\"#ed7953\"],[0.7777777777777778,\"#fb9f3a\"],[0.8888888888888888,\"#fdca26\"],[1.0,\"#f0f921\"]]}],\"heatmapgl\":[{\"type\":\"heatmapgl\",\"colorbar\":{\"outlinewidth\":0,\"ticks\":\"\"},\"colorscale\":[[0.0,\"#0d0887\"],[0.1111111111111111,\"#46039f\"],[0.2222222222222222,\"#7201a8\"],[0.3333333333333333,\"#9c179e\"],[0.4444444444444444,\"#bd3786\"],[0.5555555555555556,\"#d8576b\"],[0.6666666666666666,\"#ed7953\"],[0.7777777777777778,\"#fb9f3a\"],[0.8888888888888888,\"#fdca26\"],[1.0,\"#f0f921\"]]}],\"contourcarpet\":[{\"type\":\"contourcarpet\",\"colorbar\":{\"outlinewidth\":0,\"ticks\":\"\"}}],\"contour\":[{\"type\":\"contour\",\"colorbar\":{\"outlinewidth\":0,\"ticks\":\"\"},\"colorscale\":[[0.0,\"#0d0887\"],[0.1111111111111111,\"#46039f\"],[0.2222222222222222,\"#7201a8\"],[0.3333333333333333,\"#9c179e\"],[0.4444444444444444,\"#bd3786\"],[0.5555555555555556,\"#d8576b\"],[0.6666666666666666,\"#ed7953\"],[0.7777777777777778,\"#fb9f3a\"],[0.8888888888888888,\"#fdca26\"],[1.0,\"#f0f921\"]]}],\"surface\":[{\"type\":\"surface\",\"colorbar\":{\"outlinewidth\":0,\"ticks\":\"\"},\"colorscale\":[[0.0,\"#0d0887\"],[0.1111111111111111,\"#46039f\"],[0.2222222222222222,\"#7201a8\"],[0.3333333333333333,\"#9c179e\"],[0.4444444444444444,\"#bd3786\"],[0.5555555555555556,\"#d8576b\"],[0.6666666666666666,\"#ed7953\"],[0.7777777777777778,\"#fb9f3a\"],[0.8888888888888888,\"#fdca26\"],[1.0,\"#f0f921\"]]}],\"mesh3d\":[{\"type\":\"mesh3d\",\"colorbar\":{\"outlinewidth\":0,\"ticks\":\"\"}}],\"scatter\":[{\"fillpattern\":{\"fillmode\":\"overlay\",\"size\":10,\"solidity\":0.2},\"type\":\"scatter\"}],\"parcoords\":[{\"type\":\"parcoords\",\"line\":{\"colorbar\":{\"outlinewidth\":0,\"ticks\":\"\"}}}],\"scatterpolargl\":[{\"type\":\"scatterpolargl\",\"marker\":{\"colorbar\":{\"outlinewidth\":0,\"ticks\":\"\"}}}],\"bar\":[{\"error_x\":{\"color\":\"#2a3f5f\"},\"error_y\":{\"color\":\"#2a3f5f\"},\"marker\":{\"line\":{\"color\":\"#E5ECF6\",\"width\":0.5},\"pattern\":{\"fillmode\":\"overlay\",\"size\":10,\"solidity\":0.2}},\"type\":\"bar\"}],\"scattergeo\":[{\"type\":\"scattergeo\",\"marker\":{\"colorbar\":{\"outlinewidth\":0,\"ticks\":\"\"}}}],\"scatterpolar\":[{\"type\":\"scatterpolar\",\"marker\":{\"colorbar\":{\"outlinewidth\":0,\"ticks\":\"\"}}}],\"histogram\":[{\"marker\":{\"pattern\":{\"fillmode\":\"overlay\",\"size\":10,\"solidity\":0.2}},\"type\":\"histogram\"}],\"scattergl\":[{\"type\":\"scattergl\",\"marker\":{\"colorbar\":{\"outlinewidth\":0,\"ticks\":\"\"}}}],\"scatter3d\":[{\"type\":\"scatter3d\",\"line\":{\"colorbar\":{\"outlinewidth\":0,\"ticks\":\"\"}},\"marker\":{\"colorbar\":{\"outlinewidth\":0,\"ticks\":\"\"}}}],\"scattermapbox\":[{\"type\":\"scattermapbox\",\"marker\":{\"colorbar\":{\"outlinewidth\":0,\"ticks\":\"\"}}}],\"scatterternary\":[{\"type\":\"scatterternary\",\"marker\":{\"colorbar\":{\"outlinewidth\":0,\"ticks\":\"\"}}}],\"scattercarpet\":[{\"type\":\"scattercarpet\",\"marker\":{\"colorbar\":{\"outlinewidth\":0,\"ticks\":\"\"}}}],\"carpet\":[{\"aaxis\":{\"endlinecolor\":\"#2a3f5f\",\"gridcolor\":\"white\",\"linecolor\":\"white\",\"minorgridcolor\":\"white\",\"startlinecolor\":\"#2a3f5f\"},\"baxis\":{\"endlinecolor\":\"#2a3f5f\",\"gridcolor\":\"white\",\"linecolor\":\"white\",\"minorgridcolor\":\"white\",\"startlinecolor\":\"#2a3f5f\"},\"type\":\"carpet\"}],\"table\":[{\"cells\":{\"fill\":{\"color\":\"#EBF0F8\"},\"line\":{\"color\":\"white\"}},\"header\":{\"fill\":{\"color\":\"#C8D4E3\"},\"line\":{\"color\":\"white\"}},\"type\":\"table\"}],\"barpolar\":[{\"marker\":{\"line\":{\"color\":\"#E5ECF6\",\"width\":0.5},\"pattern\":{\"fillmode\":\"overlay\",\"size\":10,\"solidity\":0.2}},\"type\":\"barpolar\"}],\"pie\":[{\"automargin\":true,\"type\":\"pie\"}]},\"layout\":{\"autotypenumbers\":\"strict\",\"colorway\":[\"#636efa\",\"#EF553B\",\"#00cc96\",\"#ab63fa\",\"#FFA15A\",\"#19d3f3\",\"#FF6692\",\"#B6E880\",\"#FF97FF\",\"#FECB52\"],\"font\":{\"color\":\"#2a3f5f\"},\"hovermode\":\"closest\",\"hoverlabel\":{\"align\":\"left\"},\"paper_bgcolor\":\"white\",\"plot_bgcolor\":\"#E5ECF6\",\"polar\":{\"bgcolor\":\"#E5ECF6\",\"angularaxis\":{\"gridcolor\":\"white\",\"linecolor\":\"white\",\"ticks\":\"\"},\"radialaxis\":{\"gridcolor\":\"white\",\"linecolor\":\"white\",\"ticks\":\"\"}},\"ternary\":{\"bgcolor\":\"#E5ECF6\",\"aaxis\":{\"gridcolor\":\"white\",\"linecolor\":\"white\",\"ticks\":\"\"},\"baxis\":{\"gridcolor\":\"white\",\"linecolor\":\"white\",\"ticks\":\"\"},\"caxis\":{\"gridcolor\":\"white\",\"linecolor\":\"white\",\"ticks\":\"\"}},\"coloraxis\":{\"colorbar\":{\"outlinewidth\":0,\"ticks\":\"\"}},\"colorscale\":{\"sequential\":[[0.0,\"#0d0887\"],[0.1111111111111111,\"#46039f\"],[0.2222222222222222,\"#7201a8\"],[0.3333333333333333,\"#9c179e\"],[0.4444444444444444,\"#bd3786\"],[0.5555555555555556,\"#d8576b\"],[0.6666666666666666,\"#ed7953\"],[0.7777777777777778,\"#fb9f3a\"],[0.8888888888888888,\"#fdca26\"],[1.0,\"#f0f921\"]],\"sequentialminus\":[[0.0,\"#0d0887\"],[0.1111111111111111,\"#46039f\"],[0.2222222222222222,\"#7201a8\"],[0.3333333333333333,\"#9c179e\"],[0.4444444444444444,\"#bd3786\"],[0.5555555555555556,\"#d8576b\"],[0.6666666666666666,\"#ed7953\"],[0.7777777777777778,\"#fb9f3a\"],[0.8888888888888888,\"#fdca26\"],[1.0,\"#f0f921\"]],\"diverging\":[[0,\"#8e0152\"],[0.1,\"#c51b7d\"],[0.2,\"#de77ae\"],[0.3,\"#f1b6da\"],[0.4,\"#fde0ef\"],[0.5,\"#f7f7f7\"],[0.6,\"#e6f5d0\"],[0.7,\"#b8e186\"],[0.8,\"#7fbc41\"],[0.9,\"#4d9221\"],[1,\"#276419\"]]},\"xaxis\":{\"gridcolor\":\"white\",\"linecolor\":\"white\",\"ticks\":\"\",\"title\":{\"standoff\":15},\"zerolinecolor\":\"white\",\"automargin\":true,\"zerolinewidth\":2},\"yaxis\":{\"gridcolor\":\"white\",\"linecolor\":\"white\",\"ticks\":\"\",\"title\":{\"standoff\":15},\"zerolinecolor\":\"white\",\"automargin\":true,\"zerolinewidth\":2},\"scene\":{\"xaxis\":{\"backgroundcolor\":\"#E5ECF6\",\"gridcolor\":\"white\",\"linecolor\":\"white\",\"showbackground\":true,\"ticks\":\"\",\"zerolinecolor\":\"white\",\"gridwidth\":2},\"yaxis\":{\"backgroundcolor\":\"#E5ECF6\",\"gridcolor\":\"white\",\"linecolor\":\"white\",\"showbackground\":true,\"ticks\":\"\",\"zerolinecolor\":\"white\",\"gridwidth\":2},\"zaxis\":{\"backgroundcolor\":\"#E5ECF6\",\"gridcolor\":\"white\",\"linecolor\":\"white\",\"showbackground\":true,\"ticks\":\"\",\"zerolinecolor\":\"white\",\"gridwidth\":2}},\"shapedefaults\":{\"line\":{\"color\":\"#2a3f5f\"}},\"annotationdefaults\":{\"arrowcolor\":\"#2a3f5f\",\"arrowhead\":0,\"arrowwidth\":1},\"geo\":{\"bgcolor\":\"white\",\"landcolor\":\"#E5ECF6\",\"subunitcolor\":\"white\",\"showland\":true,\"showlakes\":true,\"lakecolor\":\"white\"},\"title\":{\"x\":0.05},\"mapbox\":{\"style\":\"light\"}}},\"xaxis\":{\"anchor\":\"y\",\"domain\":[0.0,1.0],\"title\":{\"text\":\"PC1\"}},\"yaxis\":{\"anchor\":\"x\",\"domain\":[0.0,1.0],\"title\":{\"text\":\"PC2\"}},\"legend\":{\"title\":{\"text\":\"species\"},\"tracegroupgap\":0},\"margin\":{\"t\":60}},                        {\"responsive\": true}                    ).then(function(){\n",
       "                            \n",
       "var gd = document.getElementById('01089d41-6218-4011-a135-bd4802471060');\n",
       "var x = new MutationObserver(function (mutations, observer) {{\n",
       "        var display = window.getComputedStyle(gd).display;\n",
       "        if (!display || display === 'none') {{\n",
       "            console.log([gd, 'removed!']);\n",
       "            Plotly.purge(gd);\n",
       "            observer.disconnect();\n",
       "        }}\n",
       "}});\n",
       "\n",
       "// Listen for the removal of the full notebook cells\n",
       "var notebookContainer = gd.closest('#notebook-container');\n",
       "if (notebookContainer) {{\n",
       "    x.observe(notebookContainer, {childList: true});\n",
       "}}\n",
       "\n",
       "// Listen for the clearing of the current output cell\n",
       "var outputEl = gd.closest('.output');\n",
       "if (outputEl) {{\n",
       "    x.observe(outputEl, {childList: true});\n",
       "}}\n",
       "\n",
       "                        })                };                });            </script>        </div>"
      ]
     },
     "metadata": {},
     "output_type": "display_data"
    }
   ],
   "source": [
    "df_2D = pd.DataFrame({'PC1': X_reduced[:, 0], 'PC2': X_reduced[:, 1], 'species': y})\n",
    "fig = px.scatter(df_2D, x='PC1', y='PC2',\n",
    "              color='species')\n",
    "fig.show()"
   ]
  },
  {
   "cell_type": "markdown",
   "id": "d4ac25c4-d7d6-40d2-a947-8a11f6042440",
   "metadata": {},
   "source": [
    "<span style=\"font-family: XB Zar; font-size: medium; \"><div dir=rtl><meta charset=\"UTF-8\">\n",
    "    <span style=\"color: red; font-size: large; \"> 6.2. تحلیل مولفه‌های اصلی تصادفی یا Randomized PCA </span>\n",
    "    <br>\n",
    "    نوعی از الگوریتم PCA است که در آن به شکل تصادفی تقریبی از \n",
    "    $d$\n",
    "    مولفه اصلی را پیدا می‌کند\n",
    "    اگر فرض کنیم که مجموعه دادگان ما \n",
    "    $ N \\times D $\n",
    "    باشد؛ به گونه‌ای که \n",
    "    $ N $\n",
    "    تعداد دادگان و \n",
    "    $ D $\n",
    "    بعد داده‌ها باشد.\n",
    "    و داشته باشیم\n",
    "    $max = \\max(N, D)$\n",
    "    و \n",
    "    $min = \\min(N, D) $\n",
    "    پیچیدگی زمانی الگوریتم تحلیل مولفه‌های اصلی تصادفی به شکل\n",
    "    $O(max^{2}d)$\n",
    "    خواهد بود این درحالی است که خود الگوریتم اصلی پیچیدگی زمانی \n",
    "    $O(max^{2}min)$\n",
    "    دارد\n",
    "    حال یک مثال و کاربرد آن را به وسیله sklearn می بینیم:\n",
    "    </div></span>"
   ]
  },
  {
   "cell_type": "code",
   "execution_count": 21,
   "id": "fe8088f7-5a9a-407b-9451-81b5d067a6af",
   "metadata": {},
   "outputs": [
    {
     "name": "stdout",
     "output_type": "stream",
     "text": [
      "Total dataset size:\n",
      "n_samples: 1288\n",
      "n_features: 1850\n",
      "Extracting the top 150 eigenfaces from 1288 faces\n",
      "done in 0.640s\n",
      "Projecting the input data on the eigenfaces orthonormal basis\n",
      "done in 0.008s\n"
     ]
    },
    {
     "data": {
      "image/png": "[encoded data removed]",
      "text/plain": [
       "<Figure size 720x720 with 12 Axes>"
      ]
     },
     "metadata": {},
     "output_type": "display_data"
    }
   ],
   "source": [
    "from time import time\n",
    "import matplotlib.pyplot as plt\n",
    "\n",
    "from sklearn.model_selection import train_test_split\n",
    "from sklearn.model_selection import RandomizedSearchCV\n",
    "from sklearn.datasets import fetch_lfw_people\n",
    "from sklearn.preprocessing import StandardScaler\n",
    "from sklearn.decomposition import PCA\n",
    "from sklearn.utils.fixes import loguniform\n",
    "\n",
    "\n",
    "# %%\n",
    "# Download the data, if not already on disk and load it as numpy arrays\n",
    "\n",
    "lfw_people = fetch_lfw_people(min_faces_per_person=70, resize=0.4)\n",
    "\n",
    "# introspect the images arrays to find the shapes (for plotting)\n",
    "n_samples, h, w = lfw_people.images.shape\n",
    "\n",
    "# for machine learning we use the 2 data directly (as relative pixel\n",
    "# positions info is ignored by this model)\n",
    "X = lfw_people.data\n",
    "n_features = X.shape[1]\n",
    "\n",
    "# the label to predict is the id of the person\n",
    "target_names = lfw_people.target_names\n",
    "n_classes = target_names.shape[0]\n",
    "print(\"Total dataset size:\")\n",
    "print(\"n_samples: %d\" % n_samples)\n",
    "print(\"n_features: %d\" % n_features)\n",
    "scaler = StandardScaler()\n",
    "X = scaler.fit_transform(X)\n",
    "# %%\n",
    "# Compute a PCA (eigenfaces) on the face dataset (treated as unlabeled\n",
    "# dataset): unsupervised feature extraction / dimensionality reduction\n",
    "\n",
    "n_components = 150\n",
    "\n",
    "print(\n",
    "    \"Extracting the top %d eigenfaces from %d faces\" % (n_components, X.shape[0])\n",
    ")\n",
    "t0 = time()\n",
    "pca = PCA(n_components=n_components, svd_solver=\"randomized\", whiten=True).fit(X)\n",
    "print(\"done in %0.3fs\" % (time() - t0))\n",
    "\n",
    "eigenfaces = pca.components_.reshape((n_components, h, w))\n",
    "\n",
    "print(\"Projecting the input data on the eigenfaces orthonormal basis\")\n",
    "t0 = time()\n",
    "X_pca = pca.transform(X)\n",
    "print(\"done in %0.3fs\" % (time() - t0))\n",
    "\n",
    "\n",
    "\n",
    "# %%\n",
    "# Qualitative evaluation of the predictions using matplotlib\n",
    "\n",
    "\n",
    "def plot_gallery(images, titles, h, w, n_row=3, n_col=4):\n",
    "    \"\"\"Helper function to plot a gallery of portraits\"\"\"\n",
    "    plt.figure(figsize=(1.8 * n_col, 2.4 * n_row))\n",
    "    plt.subplots_adjust(bottom=0, left=0.01, right=0.99, top=0.90, hspace=0.35)\n",
    "    for i in range(n_row * n_col):\n",
    "        plt.subplot(n_row, n_col, i + 1)\n",
    "        plt.imshow(images[i].reshape((h, w)), cmap=plt.cm.gray)\n",
    "        plt.title(titles[i], size=12)\n",
    "        plt.xticks(())\n",
    "        plt.yticks(())\n",
    "\n",
    "\n",
    "# %%\n",
    "# plot the gallery of the most significative eigenfaces\n",
    "\n",
    "eigenface_titles = [\"eigenface %d\" % i for i in range(eigenfaces.shape[0])]\n",
    "plot_gallery(eigenfaces, eigenface_titles, h, w)\n",
    "\n",
    "plt.show()"
   ]
  },
  {
   "cell_type": "markdown",
   "id": "4e1b5f2c-dc36-48e6-9cf6-986c9c2b975f",
   "metadata": {},
   "source": [
    "<span style=\"font-family: XB Zar; font-size: medium; \"><div dir=rtl><meta charset=\"UTF-8\">\n",
    "    <span style=\"color: red; font-size: large; \"> 7.2. تحلیل مولفه‌های اصلی به کمک هسته یا Kernel PCA </span>\n",
    "    <br>\n",
    "     این روش بر خلاف PCA اصلی ،از طریق استفاده از هسته‌ها به کاهش ابعاد غیرخطی می‌رسد \n",
    "    </div></span>"
   ]
  },
  {
   "cell_type": "code",
   "execution_count": 65,
   "id": "e699856b-df47-4188-b64a-7bc1188c5971",
   "metadata": {},
   "outputs": [],
   "source": [
    "from sklearn.decomposition import KernelPCA"
   ]
  },
  {
   "cell_type": "code",
   "execution_count": 70,
   "id": "0a3f9daf-65d4-4add-81c7-6e07424c60d3",
   "metadata": {},
   "outputs": [],
   "source": [
    "rbf_pca = KernelPCA(n_components=2, kernel=\"rbf\", gamma=0.04)\n",
    "X_reduced = rbf_pca.fit_transform(X)"
   ]
  },
  {
   "cell_type": "code",
   "execution_count": 71,
   "id": "c1f16f4b-1344-4c7e-b3fe-d062d7f78548",
   "metadata": {},
   "outputs": [
    {
     "data": {
      "application/vnd.plotly.v1+json": {
       "config": {
        "plotlyServerURL": "https://plot.ly"
       },
       "data": [
        {
         "hovertemplate": "species=Setosa<br>PC1=%{x}<br>PC2=%{y}<extra></extra>",
         "legendgroup": "Setosa",
         "marker": {
          "color": "#636efa",
          "symbol": "circle"
         },
         "mode": "markers",
         "name": "Setosa",
         "orientation": "v",
         "showlegend": true,
         "type": "scatter",
         "x": [
          0.6166941549104064,
          0.615553245678042,
          0.6406761250283564,
          0.6178037875349501,
          0.6228011912916498,
          0.5464629720988563,
          0.6312757439856334,
          0.6078579582598301,
          0.6283647881103251,
          0.610986496418322,
          0.5868197371003431,
          0.6039502159577241,
          0.6245614249461199,
          0.6669560124360681,
          0.5929291617806648,
          0.5470078203498012,
          0.6008256229070693,
          0.6113177098522994,
          0.5295622151624074,
          0.6001735501482819,
          0.5547044011429166,
          0.5940210801259446,
          0.6775887290856362,
          0.5533239777180512,
          0.55978678993581,
          0.5844176394888861,
          0.5825474963024468,
          0.5980970319638109,
          0.609612519750729,
          0.6039627844191691,
          0.5972079887158943,
          0.5716359799203735,
          0.60275709691799,
          0.5896613005269221,
          0.6060205650340083,
          0.639481476700957,
          0.6036445960001552,
          0.6321777519451096,
          0.6426814821610147,
          0.6024903641084495,
          0.6285278234285112,
          0.6031139711682241,
          0.6481890904480466,
          0.5703800527779307,
          0.53476726737736,
          0.6145930309452154,
          0.5922492912444329,
          0.6324775675098449,
          0.5934995518708547,
          0.618738956862041
         ],
         "xaxis": "x",
         "y": [
          0.09067107940365385,
          0.047446292535454196,
          0.0831836417349905,
          0.041864071822372326,
          0.0999982328032736,
          0.07388887561066,
          0.07846290633095719,
          0.0650243225469477,
          0.046891555323880875,
          0.045407150171058695,
          0.09549126327275426,
          0.04930584179857641,
          0.05499879810684879,
          0.11534822844972184,
          0.17446293781086347,
          0.15929108036581968,
          0.13439084826992914,
          0.08454224828949533,
          0.07499815329627985,
          0.09722321476616998,
          0.03521789630115887,
          0.08159781336226643,
          0.1685453220222857,
          0.00478350498687348,
          0.0005141251746661988,
          0.012879009650865992,
          0.036176052530739654,
          0.07470806732027892,
          0.08171866935792856,
          0.03212106122495404,
          0.0224347628146946,
          0.05503341753021547,
          0.13907385337721773,
          0.1605348179115565,
          0.03870306030604484,
          0.09772463097760499,
          0.10917553896619675,
          0.10661260869354758,
          0.07201959482526576,
          0.06503785239024629,
          0.10107049313021343,
          0.014812118267204615,
          0.08807521796021789,
          0.03446160095581543,
          0.02975444297969737,
          0.041786174602240364,
          0.08751539638549533,
          0.0674327783735541,
          0.09452448136441126,
          0.07262465747783521
         ],
         "yaxis": "y"
        },
        {
         "hovertemplate": "species=Versicolor<br>PC1=%{x}<br>PC2=%{y}<extra></extra>",
         "legendgroup": "Versicolor",
         "marker": {
          "color": "#EF553B",
          "symbol": "circle"
         },
         "mode": "markers",
         "name": "Versicolor",
         "orientation": "v",
         "showlegend": true,
         "type": "scatter",
         "x": [
          -0.3259045100780568,
          -0.2573862205194976,
          -0.36615132319116783,
          -0.06945525191485054,
          -0.2927764422393091,
          -0.1880532425585169,
          -0.29453452571755095,
          0.17453537012675618,
          -0.28087615855738235,
          -0.01980225279911475,
          0.10902904882753911,
          -0.15649210856576556,
          -0.08817716434174176,
          -0.2710618233007719,
          0.026403277760952235,
          -0.2526844923269489,
          -0.19257113851984045,
          -0.08356696139508457,
          -0.25490264134771096,
          -0.03343545691822971,
          -0.29877230325730014,
          -0.11564043822561904,
          -0.336113064664257,
          -0.2547268152786857,
          -0.20497525884326062,
          -0.24794180717934827,
          -0.34057396046502253,
          -0.3888332001020713,
          -0.23139865398642925,
          0.062407542747598736,
          -0.003330592104753475,
          0.029381135104365453,
          -0.05772677627880778,
          -0.35340040980746334,
          -0.17312757071440296,
          -0.22729960335850186,
          -0.319479502659663,
          -0.22544300276972987,
          -0.08714775206243705,
          -0.06590744599277185,
          -0.14214487048060626,
          -0.24940104602518975,
          -0.0826592738278668,
          0.16291641396454237,
          -0.11614810684530497,
          -0.10950078888936185,
          -0.12146762897599611,
          -0.18852267222826855,
          0.2192557381763488,
          -0.10133666307051138
         ],
         "xaxis": "x",
         "y": [
          0.0284918233614081,
          -0.07925289065460861,
          0.030955676143726758,
          -0.2904801927657552,
          -0.09196062342424922,
          -0.21233283813163117,
          -0.06043795072620904,
          -0.2961956569293081,
          -0.07621622332322442,
          -0.28331369407864004,
          -0.3254486090839778,
          -0.18443582118978558,
          -0.25138784778468704,
          -0.13495817626771664,
          -0.23708142566590448,
          -0.056966811005777294,
          -0.19885052706799197,
          -0.23494278041765196,
          -0.18722063061725014,
          -0.2723619547223786,
          -0.10446441317621516,
          -0.19319585571982165,
          -0.11255120645109382,
          -0.15031945311007938,
          -0.13015751745354648,
          -0.08136094731372306,
          -0.027883876069100304,
          0.012962291969664216,
          -0.1619336751785847,
          -0.2520393265350776,
          -0.2873008931146946,
          -0.2858796051658352,
          -0.23818184103746975,
          -0.1106957809885629,
          -0.2182564527961307,
          -0.1084263017579546,
          -0.024198072942766914,
          -0.18282355607107864,
          -0.22440657557886445,
          -0.27751793158354465,
          -0.2566441537755007,
          -0.13515164136574476,
          -0.24416902741075255,
          -0.29992616935716226,
          -0.24750041882554158,
          -0.21290205475773827,
          -0.22051676106872964,
          -0.15717240964677076,
          -0.2632526849110437,
          -0.2332253095735759
         ],
         "yaxis": "y"
        },
        {
         "hovertemplate": "species=Virginica<br>PC1=%{x}<br>PC2=%{y}<extra></extra>",
         "legendgroup": "Virginica",
         "marker": {
          "color": "#00cc96",
          "symbol": "circle"
         },
         "mode": "markers",
         "name": "Virginica",
         "orientation": "v",
         "showlegend": true,
         "type": "scatter",
         "x": [
          -0.5149415310364674,
          -0.35738817214213364,
          -0.5326417068231131,
          -0.45761634294088394,
          -0.5072966656830986,
          -0.5626655163808131,
          -0.14848914494567655,
          -0.5483054529064945,
          -0.5001612451100123,
          -0.5399118447159631,
          -0.40776289501945073,
          -0.4325012277729434,
          -0.4856423375961107,
          -0.33951167317498065,
          -0.38293668090913996,
          -0.4448487994800792,
          -0.45610195268431,
          -0.5409166065047177,
          -0.5612122886431011,
          -0.3294507444775601,
          -0.513396877631854,
          -0.3112501716136558,
          -0.5595376673544716,
          -0.3573213156244575,
          -0.49702295657564577,
          -0.5261994975278657,
          -0.33124853219766137,
          -0.3380155411225707,
          -0.4795975158706857,
          -0.5026233669371385,
          -0.5425923630758959,
          -0.5265115082757545,
          -0.4835742292832888,
          -0.3676883861905007,
          -0.4187372449253011,
          -0.5491830967808082,
          -0.47323951739280673,
          -0.44849578375641014,
          -0.3118799134938703,
          -0.4759143806609779,
          -0.5010151713276146,
          -0.4444622686498766,
          -0.35738817214213375,
          -0.5276078196730333,
          -0.5086060139444859,
          -0.4513930090196752,
          -0.3812571145237458,
          -0.4268357068936487,
          -0.4396474996201041,
          -0.35546972284382816
         ],
         "xaxis": "x",
         "y": [
          0.18235194439445607,
          -0.11995776414120667,
          0.24239996053291013,
          0.03429181201618583,
          0.134722893331065,
          0.43199293616899753,
          -0.2871704577616433,
          0.31290005487590145,
          0.1021067601144353,
          0.3606223430809846,
          0.030739243454491604,
          -0.00529386936691153,
          0.12804051901638638,
          -0.15296517527317555,
          -0.07574711361566122,
          0.0644847557748944,
          0.05843245096873883,
          0.5110759811435552,
          0.47696297608234633,
          -0.16178812559510405,
          0.206572604019018,
          -0.15424625182600285,
          0.442126565494551,
          -0.08140261318568834,
          0.16781005849879382,
          0.2695650413926593,
          -0.09974812638581675,
          -0.0851563486767443,
          0.06307207808520013,
          0.20920371976210142,
          0.29604380971274086,
          0.48499190564136074,
          0.07051698239651283,
          -0.06452485917406214,
          -0.042346554239280874,
          0.38303587272856304,
          0.11909540907710485,
          0.050956902648988424,
          -0.11018152163637197,
          0.13729493340385474,
          0.157451798457655,
          0.10746209527538914,
          -0.11995776414120633,
          0.22265397459767744,
          0.19676317127265902,
          0.08074254415888442,
          -0.07739714566623407,
          0.027037172394001618,
          0.06643071858914255,
          -0.08813928668945026
         ],
         "yaxis": "y"
        }
       ],
       "layout": {
        "autosize": true,
        "legend": {
         "title": {
          "text": "species"
         },
         "tracegroupgap": 0
        },
        "margin": {
         "t": 60
        },
        "template": {
         "data": {
          "bar": [
           {
            "error_x": {
             "color": "#2a3f5f"
            },
            "error_y": {
             "color": "#2a3f5f"
            },
            "marker": {
             "line": {
              "color": "#E5ECF6",
              "width": 0.5
             },
             "pattern": {
              "fillmode": "overlay",
              "size": 10,
              "solidity": 0.2
             }
            },
            "type": "bar"
           }
          ],
          "barpolar": [
           {
            "marker": {
             "line": {
              "color": "#E5ECF6",
              "width": 0.5
             },
             "pattern": {
              "fillmode": "overlay",
              "size": 10,
              "solidity": 0.2
             }
            },
            "type": "barpolar"
           }
          ],
          "carpet": [
           {
            "aaxis": {
             "endlinecolor": "#2a3f5f",
             "gridcolor": "white",
             "linecolor": "white",
             "minorgridcolor": "white",
             "startlinecolor": "#2a3f5f"
            },
            "baxis": {
             "endlinecolor": "#2a3f5f",
             "gridcolor": "white",
             "linecolor": "white",
             "minorgridcolor": "white",
             "startlinecolor": "#2a3f5f"
            },
            "type": "carpet"
           }
          ],
          "choropleth": [
           {
            "colorbar": {
             "outlinewidth": 0,
             "ticks": ""
            },
            "type": "choropleth"
           }
          ],
          "contour": [
           {
            "colorbar": {
             "outlinewidth": 0,
             "ticks": ""
            },
            "colorscale": [
             [
              0,
              "#0d0887"
             ],
             [
              0.1111111111111111,
              "#46039f"
             ],
             [
              0.2222222222222222,
              "#7201a8"
             ],
             [
              0.3333333333333333,
              "#9c179e"
             ],
             [
              0.4444444444444444,
              "#bd3786"
             ],
             [
              0.5555555555555556,
              "#d8576b"
             ],
             [
              0.6666666666666666,
              "#ed7953"
             ],
             [
              0.7777777777777778,
              "#fb9f3a"
             ],
             [
              0.8888888888888888,
              "#fdca26"
             ],
             [
              1,
              "#f0f921"
             ]
            ],
            "type": "contour"
           }
          ],
          "contourcarpet": [
           {
            "colorbar": {
             "outlinewidth": 0,
             "ticks": ""
            },
            "type": "contourcarpet"
           }
          ],
          "heatmap": [
           {
            "colorbar": {
             "outlinewidth": 0,
             "ticks": ""
            },
            "colorscale": [
             [
              0,
              "#0d0887"
             ],
             [
              0.1111111111111111,
              "#46039f"
             ],
             [
              0.2222222222222222,
              "#7201a8"
             ],
             [
              0.3333333333333333,
              "#9c179e"
             ],
             [
              0.4444444444444444,
              "#bd3786"
             ],
             [
              0.5555555555555556,
              "#d8576b"
             ],
             [
              0.6666666666666666,
              "#ed7953"
             ],
             [
              0.7777777777777778,
              "#fb9f3a"
             ],
             [
              0.8888888888888888,
              "#fdca26"
             ],
             [
              1,
              "#f0f921"
             ]
            ],
            "type": "heatmap"
           }
          ],
          "heatmapgl": [
           {
            "colorbar": {
             "outlinewidth": 0,
             "ticks": ""
            },
            "colorscale": [
             [
              0,
              "#0d0887"
             ],
             [
              0.1111111111111111,
              "#46039f"
             ],
             [
              0.2222222222222222,
              "#7201a8"
             ],
             [
              0.3333333333333333,
              "#9c179e"
             ],
             [
              0.4444444444444444,
              "#bd3786"
             ],
             [
              0.5555555555555556,
              "#d8576b"
             ],
             [
              0.6666666666666666,
              "#ed7953"
             ],
             [
              0.7777777777777778,
              "#fb9f3a"
             ],
             [
              0.8888888888888888,
              "#fdca26"
             ],
             [
              1,
              "#f0f921"
             ]
            ],
            "type": "heatmapgl"
           }
          ],
          "histogram": [
           {
            "marker": {
             "pattern": {
              "fillmode": "overlay",
              "size": 10,
              "solidity": 0.2
             }
            },
            "type": "histogram"
           }
          ],
          "histogram2d": [
           {
            "colorbar": {
             "outlinewidth": 0,
             "ticks": ""
            },
            "colorscale": [
             [
              0,
              "#0d0887"
             ],
             [
              0.1111111111111111,
              "#46039f"
             ],
             [
              0.2222222222222222,
              "#7201a8"
             ],
             [
              0.3333333333333333,
              "#9c179e"
             ],
             [
              0.4444444444444444,
              "#bd3786"
             ],
             [
              0.5555555555555556,
              "#d8576b"
             ],
             [
              0.6666666666666666,
              "#ed7953"
             ],
             [
              0.7777777777777778,
              "#fb9f3a"
             ],
             [
              0.8888888888888888,
              "#fdca26"
             ],
             [
              1,
              "#f0f921"
             ]
            ],
            "type": "histogram2d"
           }
          ],
          "histogram2dcontour": [
           {
            "colorbar": {
             "outlinewidth": 0,
             "ticks": ""
            },
            "colorscale": [
             [
              0,
              "#0d0887"
             ],
             [
              0.1111111111111111,
              "#46039f"
             ],
             [
              0.2222222222222222,
              "#7201a8"
             ],
             [
              0.3333333333333333,
              "#9c179e"
             ],
             [
              0.4444444444444444,
              "#bd3786"
             ],
             [
              0.5555555555555556,
              "#d8576b"
             ],
             [
              0.6666666666666666,
              "#ed7953"
             ],
             [
              0.7777777777777778,
              "#fb9f3a"
             ],
             [
              0.8888888888888888,
              "#fdca26"
             ],
             [
              1,
              "#f0f921"
             ]
            ],
            "type": "histogram2dcontour"
           }
          ],
          "mesh3d": [
           {
            "colorbar": {
             "outlinewidth": 0,
             "ticks": ""
            },
            "type": "mesh3d"
           }
          ],
          "parcoords": [
           {
            "line": {
             "colorbar": {
              "outlinewidth": 0,
              "ticks": ""
             }
            },
            "type": "parcoords"
           }
          ],
          "pie": [
           {
            "automargin": true,
            "type": "pie"
           }
          ],
          "scatter": [
           {
            "fillpattern": {
             "fillmode": "overlay",
             "size": 10,
             "solidity": 0.2
            },
            "type": "scatter"
           }
          ],
          "scatter3d": [
           {
            "line": {
             "colorbar": {
              "outlinewidth": 0,
              "ticks": ""
             }
            },
            "marker": {
             "colorbar": {
              "outlinewidth": 0,
              "ticks": ""
             }
            },
            "type": "scatter3d"
           }
          ],
          "scattercarpet": [
           {
            "marker": {
             "colorbar": {
              "outlinewidth": 0,
              "ticks": ""
             }
            },
            "type": "scattercarpet"
           }
          ],
          "scattergeo": [
           {
            "marker": {
             "colorbar": {
              "outlinewidth": 0,
              "ticks": ""
             }
            },
            "type": "scattergeo"
           }
          ],
          "scattergl": [
           {
            "marker": {
             "colorbar": {
              "outlinewidth": 0,
              "ticks": ""
             }
            },
            "type": "scattergl"
           }
          ],
          "scattermapbox": [
           {
            "marker": {
             "colorbar": {
              "outlinewidth": 0,
              "ticks": ""
             }
            },
            "type": "scattermapbox"
           }
          ],
          "scatterpolar": [
           {
            "marker": {
             "colorbar": {
              "outlinewidth": 0,
              "ticks": ""
             }
            },
            "type": "scatterpolar"
           }
          ],
          "scatterpolargl": [
           {
            "marker": {
             "colorbar": {
              "outlinewidth": 0,
              "ticks": ""
             }
            },
            "type": "scatterpolargl"
           }
          ],
          "scatterternary": [
           {
            "marker": {
             "colorbar": {
              "outlinewidth": 0,
              "ticks": ""
             }
            },
            "type": "scatterternary"
           }
          ],
          "surface": [
           {
            "colorbar": {
             "outlinewidth": 0,
             "ticks": ""
            },
            "colorscale": [
             [
              0,
              "#0d0887"
             ],
             [
              0.1111111111111111,
              "#46039f"
             ],
             [
              0.2222222222222222,
              "#7201a8"
             ],
             [
              0.3333333333333333,
              "#9c179e"
             ],
             [
              0.4444444444444444,
              "#bd3786"
             ],
             [
              0.5555555555555556,
              "#d8576b"
             ],
             [
              0.6666666666666666,
              "#ed7953"
             ],
             [
              0.7777777777777778,
              "#fb9f3a"
             ],
             [
              0.8888888888888888,
              "#fdca26"
             ],
             [
              1,
              "#f0f921"
             ]
            ],
            "type": "surface"
           }
          ],
          "table": [
           {
            "cells": {
             "fill": {
              "color": "#EBF0F8"
             },
             "line": {
              "color": "white"
             }
            },
            "header": {
             "fill": {
              "color": "#C8D4E3"
             },
             "line": {
              "color": "white"
             }
            },
            "type": "table"
           }
          ]
         },
         "layout": {
          "annotationdefaults": {
           "arrowcolor": "#2a3f5f",
           "arrowhead": 0,
           "arrowwidth": 1
          },
          "autotypenumbers": "strict",
          "coloraxis": {
           "colorbar": {
            "outlinewidth": 0,
            "ticks": ""
           }
          },
          "colorscale": {
           "diverging": [
            [
             0,
             "#8e0152"
            ],
            [
             0.1,
             "#c51b7d"
            ],
            [
             0.2,
             "#de77ae"
            ],
            [
             0.3,
             "#f1b6da"
            ],
            [
             0.4,
             "#fde0ef"
            ],
            [
             0.5,
             "#f7f7f7"
            ],
            [
             0.6,
             "#e6f5d0"
            ],
            [
             0.7,
             "#b8e186"
            ],
            [
             0.8,
             "#7fbc41"
            ],
            [
             0.9,
             "#4d9221"
            ],
            [
             1,
             "#276419"
            ]
           ],
           "sequential": [
            [
             0,
             "#0d0887"
            ],
            [
             0.1111111111111111,
             "#46039f"
            ],
            [
             0.2222222222222222,
             "#7201a8"
            ],
            [
             0.3333333333333333,
             "#9c179e"
            ],
            [
             0.4444444444444444,
             "#bd3786"
            ],
            [
             0.5555555555555556,
             "#d8576b"
            ],
            [
             0.6666666666666666,
             "#ed7953"
            ],
            [
             0.7777777777777778,
             "#fb9f3a"
            ],
            [
             0.8888888888888888,
             "#fdca26"
            ],
            [
             1,
             "#f0f921"
            ]
           ],
           "sequentialminus": [
            [
             0,
             "#0d0887"
            ],
            [
             0.1111111111111111,
             "#46039f"
            ],
            [
             0.2222222222222222,
             "#7201a8"
            ],
            [
             0.3333333333333333,
             "#9c179e"
            ],
            [
             0.4444444444444444,
             "#bd3786"
            ],
            [
             0.5555555555555556,
             "#d8576b"
            ],
            [
             0.6666666666666666,
             "#ed7953"
            ],
            [
             0.7777777777777778,
             "#fb9f3a"
            ],
            [
             0.8888888888888888,
             "#fdca26"
            ],
            [
             1,
             "#f0f921"
            ]
           ]
          },
          "colorway": [
           "#636efa",
           "#EF553B",
           "#00cc96",
           "#ab63fa",
           "#FFA15A",
           "#19d3f3",
           "#FF6692",
           "#B6E880",
           "#FF97FF",
           "#FECB52"
          ],
          "font": {
           "color": "#2a3f5f"
          },
          "geo": {
           "bgcolor": "white",
           "lakecolor": "white",
           "landcolor": "#E5ECF6",
           "showlakes": true,
           "showland": true,
           "subunitcolor": "white"
          },
          "hoverlabel": {
           "align": "left"
          },
          "hovermode": "closest",
          "mapbox": {
           "style": "light"
          },
          "paper_bgcolor": "white",
          "plot_bgcolor": "#E5ECF6",
          "polar": {
           "angularaxis": {
            "gridcolor": "white",
            "linecolor": "white",
            "ticks": ""
           },
           "bgcolor": "#E5ECF6",
           "radialaxis": {
            "gridcolor": "white",
            "linecolor": "white",
            "ticks": ""
           }
          },
          "scene": {
           "xaxis": {
            "backgroundcolor": "#E5ECF6",
            "gridcolor": "white",
            "gridwidth": 2,
            "linecolor": "white",
            "showbackground": true,
            "ticks": "",
            "zerolinecolor": "white"
           },
           "yaxis": {
            "backgroundcolor": "#E5ECF6",
            "gridcolor": "white",
            "gridwidth": 2,
            "linecolor": "white",
            "showbackground": true,
            "ticks": "",
            "zerolinecolor": "white"
           },
           "zaxis": {
            "backgroundcolor": "#E5ECF6",
            "gridcolor": "white",
            "gridwidth": 2,
            "linecolor": "white",
            "showbackground": true,
            "ticks": "",
            "zerolinecolor": "white"
           }
          },
          "shapedefaults": {
           "line": {
            "color": "#2a3f5f"
           }
          },
          "ternary": {
           "aaxis": {
            "gridcolor": "white",
            "linecolor": "white",
            "ticks": ""
           },
           "baxis": {
            "gridcolor": "white",
            "linecolor": "white",
            "ticks": ""
           },
           "bgcolor": "#E5ECF6",
           "caxis": {
            "gridcolor": "white",
            "linecolor": "white",
            "ticks": ""
           }
          },
          "title": {
           "x": 0.05
          },
          "xaxis": {
           "automargin": true,
           "gridcolor": "white",
           "linecolor": "white",
           "ticks": "",
           "title": {
            "standoff": 15
           },
           "zerolinecolor": "white",
           "zerolinewidth": 2
          },
          "yaxis": {
           "automargin": true,
           "gridcolor": "white",
           "linecolor": "white",
           "ticks": "",
           "title": {
            "standoff": 15
           },
           "zerolinecolor": "white",
           "zerolinewidth": 2
          }
         }
        },
        "xaxis": {
         "anchor": "y",
         "autorange": true,
         "domain": [
          0,
          1
         ],
         "range": [
          -0.637477879386365,
          0.7524010920911881
         ],
         "title": {
          "text": "PC1"
         },
         "type": "linear"
        },
        "yaxis": {
         "anchor": "x",
         "autorange": true,
         "domain": [
          0,
          1
         ],
         "range": [
          -0.3902188857551385,
          0.5758462578147159
         ],
         "title": {
          "text": "PC2"
         },
         "type": "linear"
        }
       }
      },
      "image/png": "[encoded data removed]",
      "text/html": [
       "<div>                            <div id=\"88bcde88-918c-494e-9e25-110a393ff363\" class=\"plotly-graph-div\" style=\"height:525px; width:100%;\"></div>            <script type=\"text/javascript\">                require([\"plotly\"], function(Plotly) {                    window.PLOTLYENV=window.PLOTLYENV || {};                                    if (document.getElementById(\"88bcde88-918c-494e-9e25-110a393ff363\")) {                    Plotly.newPlot(                        \"88bcde88-918c-494e-9e25-110a393ff363\",                        [{\"hovertemplate\":\"species=Setosa<br>PC1=%{x}<br>PC2=%{y}<extra></extra>\",\"legendgroup\":\"Setosa\",\"marker\":{\"color\":\"#636efa\",\"symbol\":\"circle\"},\"mode\":\"markers\",\"name\":\"Setosa\",\"orientation\":\"v\",\"showlegend\":true,\"x\":[0.6166941549104064,0.615553245678042,0.6406761250283564,0.6178037875349501,0.6228011912916498,0.5464629720988563,0.6312757439856334,0.6078579582598301,0.6283647881103251,0.610986496418322,0.5868197371003431,0.6039502159577241,0.6245614249461199,0.6669560124360681,0.5929291617806648,0.5470078203498012,0.6008256229070693,0.6113177098522994,0.5295622151624074,0.6001735501482819,0.5547044011429166,0.5940210801259446,0.6775887290856362,0.5533239777180512,0.55978678993581,0.5844176394888861,0.5825474963024468,0.5980970319638109,0.609612519750729,0.6039627844191691,0.5972079887158943,0.5716359799203735,0.60275709691799,0.5896613005269221,0.6060205650340083,0.639481476700957,0.6036445960001552,0.6321777519451096,0.6426814821610147,0.6024903641084495,0.6285278234285112,0.6031139711682241,0.6481890904480466,0.5703800527779307,0.53476726737736,0.6145930309452154,0.5922492912444329,0.6324775675098449,0.5934995518708547,0.618738956862041],\"xaxis\":\"x\",\"y\":[0.09067107940365385,0.047446292535454196,0.0831836417349905,0.041864071822372326,0.0999982328032736,0.07388887561066,0.07846290633095719,0.0650243225469477,0.046891555323880875,0.045407150171058695,0.09549126327275426,0.04930584179857641,0.05499879810684879,0.11534822844972184,0.17446293781086347,0.15929108036581968,0.13439084826992914,0.08454224828949533,0.07499815329627985,0.09722321476616998,0.03521789630115887,0.08159781336226643,0.1685453220222857,0.00478350498687348,0.0005141251746661988,0.012879009650865992,0.036176052530739654,0.07470806732027892,0.08171866935792856,0.03212106122495404,0.0224347628146946,0.05503341753021547,0.13907385337721773,0.1605348179115565,0.03870306030604484,0.09772463097760499,0.10917553896619675,0.10661260869354758,0.07201959482526576,0.06503785239024629,0.10107049313021343,0.014812118267204615,0.08807521796021789,0.03446160095581543,0.02975444297969737,0.041786174602240364,0.08751539638549533,0.0674327783735541,0.09452448136441126,0.07262465747783521],\"yaxis\":\"y\",\"type\":\"scatter\"},{\"hovertemplate\":\"species=Versicolor<br>PC1=%{x}<br>PC2=%{y}<extra></extra>\",\"legendgroup\":\"Versicolor\",\"marker\":{\"color\":\"#EF553B\",\"symbol\":\"circle\"},\"mode\":\"markers\",\"name\":\"Versicolor\",\"orientation\":\"v\",\"showlegend\":true,\"x\":[-0.3259045100780568,-0.2573862205194976,-0.36615132319116783,-0.06945525191485054,-0.2927764422393091,-0.1880532425585169,-0.29453452571755095,0.17453537012675618,-0.28087615855738235,-0.01980225279911475,0.10902904882753911,-0.15649210856576556,-0.08817716434174176,-0.2710618233007719,0.026403277760952235,-0.2526844923269489,-0.19257113851984045,-0.08356696139508457,-0.25490264134771096,-0.03343545691822971,-0.29877230325730014,-0.11564043822561904,-0.336113064664257,-0.2547268152786857,-0.20497525884326062,-0.24794180717934827,-0.34057396046502253,-0.3888332001020713,-0.23139865398642925,0.062407542747598736,-0.003330592104753475,0.029381135104365453,-0.05772677627880778,-0.35340040980746334,-0.17312757071440296,-0.22729960335850186,-0.319479502659663,-0.22544300276972987,-0.08714775206243705,-0.06590744599277185,-0.14214487048060626,-0.24940104602518975,-0.0826592738278668,0.16291641396454237,-0.11614810684530497,-0.10950078888936185,-0.12146762897599611,-0.18852267222826855,0.2192557381763488,-0.10133666307051138],\"xaxis\":\"x\",\"y\":[0.0284918233614081,-0.07925289065460861,0.030955676143726758,-0.2904801927657552,-0.09196062342424922,-0.21233283813163117,-0.06043795072620904,-0.2961956569293081,-0.07621622332322442,-0.28331369407864004,-0.3254486090839778,-0.18443582118978558,-0.25138784778468704,-0.13495817626771664,-0.23708142566590448,-0.056966811005777294,-0.19885052706799197,-0.23494278041765196,-0.18722063061725014,-0.2723619547223786,-0.10446441317621516,-0.19319585571982165,-0.11255120645109382,-0.15031945311007938,-0.13015751745354648,-0.08136094731372306,-0.027883876069100304,0.012962291969664216,-0.1619336751785847,-0.2520393265350776,-0.2873008931146946,-0.2858796051658352,-0.23818184103746975,-0.1106957809885629,-0.2182564527961307,-0.1084263017579546,-0.024198072942766914,-0.18282355607107864,-0.22440657557886445,-0.27751793158354465,-0.2566441537755007,-0.13515164136574476,-0.24416902741075255,-0.29992616935716226,-0.24750041882554158,-0.21290205475773827,-0.22051676106872964,-0.15717240964677076,-0.2632526849110437,-0.2332253095735759],\"yaxis\":\"y\",\"type\":\"scatter\"},{\"hovertemplate\":\"species=Virginica<br>PC1=%{x}<br>PC2=%{y}<extra></extra>\",\"legendgroup\":\"Virginica\",\"marker\":{\"color\":\"#00cc96\",\"symbol\":\"circle\"},\"mode\":\"markers\",\"name\":\"Virginica\",\"orientation\":\"v\",\"showlegend\":true,\"x\":[-0.5149415310364674,-0.35738817214213364,-0.5326417068231131,-0.45761634294088394,-0.5072966656830986,-0.5626655163808131,-0.14848914494567655,-0.5483054529064945,-0.5001612451100123,-0.5399118447159631,-0.40776289501945073,-0.4325012277729434,-0.4856423375961107,-0.33951167317498065,-0.38293668090913996,-0.4448487994800792,-0.45610195268431,-0.5409166065047177,-0.5612122886431011,-0.3294507444775601,-0.513396877631854,-0.3112501716136558,-0.5595376673544716,-0.3573213156244575,-0.49702295657564577,-0.5261994975278657,-0.33124853219766137,-0.3380155411225707,-0.4795975158706857,-0.5026233669371385,-0.5425923630758959,-0.5265115082757545,-0.4835742292832888,-0.3676883861905007,-0.4187372449253011,-0.5491830967808082,-0.47323951739280673,-0.44849578375641014,-0.3118799134938703,-0.4759143806609779,-0.5010151713276146,-0.4444622686498766,-0.35738817214213375,-0.5276078196730333,-0.5086060139444859,-0.4513930090196752,-0.3812571145237458,-0.4268357068936487,-0.4396474996201041,-0.35546972284382816],\"xaxis\":\"x\",\"y\":[0.18235194439445607,-0.11995776414120667,0.24239996053291013,0.03429181201618583,0.134722893331065,0.43199293616899753,-0.2871704577616433,0.31290005487590145,0.1021067601144353,0.3606223430809846,0.030739243454491604,-0.00529386936691153,0.12804051901638638,-0.15296517527317555,-0.07574711361566122,0.0644847557748944,0.05843245096873883,0.5110759811435552,0.47696297608234633,-0.16178812559510405,0.206572604019018,-0.15424625182600285,0.442126565494551,-0.08140261318568834,0.16781005849879382,0.2695650413926593,-0.09974812638581675,-0.0851563486767443,0.06307207808520013,0.20920371976210142,0.29604380971274086,0.48499190564136074,0.07051698239651283,-0.06452485917406214,-0.042346554239280874,0.38303587272856304,0.11909540907710485,0.050956902648988424,-0.11018152163637197,0.13729493340385474,0.157451798457655,0.10746209527538914,-0.11995776414120633,0.22265397459767744,0.19676317127265902,0.08074254415888442,-0.07739714566623407,0.027037172394001618,0.06643071858914255,-0.08813928668945026],\"yaxis\":\"y\",\"type\":\"scatter\"}],                        {\"template\":{\"data\":{\"histogram2dcontour\":[{\"type\":\"histogram2dcontour\",\"colorbar\":{\"outlinewidth\":0,\"ticks\":\"\"},\"colorscale\":[[0.0,\"#0d0887\"],[0.1111111111111111,\"#46039f\"],[0.2222222222222222,\"#7201a8\"],[0.3333333333333333,\"#9c179e\"],[0.4444444444444444,\"#bd3786\"],[0.5555555555555556,\"#d8576b\"],[0.6666666666666666,\"#ed7953\"],[0.7777777777777778,\"#fb9f3a\"],[0.8888888888888888,\"#fdca26\"],[1.0,\"#f0f921\"]]}],\"choropleth\":[{\"type\":\"choropleth\",\"colorbar\":{\"outlinewidth\":0,\"ticks\":\"\"}}],\"histogram2d\":[{\"type\":\"histogram2d\",\"colorbar\":{\"outlinewidth\":0,\"ticks\":\"\"},\"colorscale\":[[0.0,\"#0d0887\"],[0.1111111111111111,\"#46039f\"],[0.2222222222222222,\"#7201a8\"],[0.3333333333333333,\"#9c179e\"],[0.4444444444444444,\"#bd3786\"],[0.5555555555555556,\"#d8576b\"],[0.6666666666666666,\"#ed7953\"],[0.7777777777777778,\"#fb9f3a\"],[0.8888888888888888,\"#fdca26\"],[1.0,\"#f0f921\"]]}],\"heatmap\":[{\"type\":\"heatmap\",\"colorbar\":{\"outlinewidth\":0,\"ticks\":\"\"},\"colorscale\":[[0.0,\"#0d0887\"],[0.1111111111111111,\"#46039f\"],[0.2222222222222222,\"#7201a8\"],[0.3333333333333333,\"#9c179e\"],[0.4444444444444444,\"#bd3786\"],[0.5555555555555556,\"#d8576b\"],[0.6666666666666666,\"#ed7953\"],[0.7777777777777778,\"#fb9f3a\"],[0.8888888888888888,\"#fdca26\"],[1.0,\"#f0f921\"]]}],\"heatmapgl\":[{\"type\":\"heatmapgl\",\"colorbar\":{\"outlinewidth\":0,\"ticks\":\"\"},\"colorscale\":[[0.0,\"#0d0887\"],[0.1111111111111111,\"#46039f\"],[0.2222222222222222,\"#7201a8\"],[0.3333333333333333,\"#9c179e\"],[0.4444444444444444,\"#bd3786\"],[0.5555555555555556,\"#d8576b\"],[0.6666666666666666,\"#ed7953\"],[0.7777777777777778,\"#fb9f3a\"],[0.8888888888888888,\"#fdca26\"],[1.0,\"#f0f921\"]]}],\"contourcarpet\":[{\"type\":\"contourcarpet\",\"colorbar\":{\"outlinewidth\":0,\"ticks\":\"\"}}],\"contour\":[{\"type\":\"contour\",\"colorbar\":{\"outlinewidth\":0,\"ticks\":\"\"},\"colorscale\":[[0.0,\"#0d0887\"],[0.1111111111111111,\"#46039f\"],[0.2222222222222222,\"#7201a8\"],[0.3333333333333333,\"#9c179e\"],[0.4444444444444444,\"#bd3786\"],[0.5555555555555556,\"#d8576b\"],[0.6666666666666666,\"#ed7953\"],[0.7777777777777778,\"#fb9f3a\"],[0.8888888888888888,\"#fdca26\"],[1.0,\"#f0f921\"]]}],\"surface\":[{\"type\":\"surface\",\"colorbar\":{\"outlinewidth\":0,\"ticks\":\"\"},\"colorscale\":[[0.0,\"#0d0887\"],[0.1111111111111111,\"#46039f\"],[0.2222222222222222,\"#7201a8\"],[0.3333333333333333,\"#9c179e\"],[0.4444444444444444,\"#bd3786\"],[0.5555555555555556,\"#d8576b\"],[0.6666666666666666,\"#ed7953\"],[0.7777777777777778,\"#fb9f3a\"],[0.8888888888888888,\"#fdca26\"],[1.0,\"#f0f921\"]]}],\"mesh3d\":[{\"type\":\"mesh3d\",\"colorbar\":{\"outlinewidth\":0,\"ticks\":\"\"}}],\"scatter\":[{\"fillpattern\":{\"fillmode\":\"overlay\",\"size\":10,\"solidity\":0.2},\"type\":\"scatter\"}],\"parcoords\":[{\"type\":\"parcoords\",\"line\":{\"colorbar\":{\"outlinewidth\":0,\"ticks\":\"\"}}}],\"scatterpolargl\":[{\"type\":\"scatterpolargl\",\"marker\":{\"colorbar\":{\"outlinewidth\":0,\"ticks\":\"\"}}}],\"bar\":[{\"error_x\":{\"color\":\"#2a3f5f\"},\"error_y\":{\"color\":\"#2a3f5f\"},\"marker\":{\"line\":{\"color\":\"#E5ECF6\",\"width\":0.5},\"pattern\":{\"fillmode\":\"overlay\",\"size\":10,\"solidity\":0.2}},\"type\":\"bar\"}],\"scattergeo\":[{\"type\":\"scattergeo\",\"marker\":{\"colorbar\":{\"outlinewidth\":0,\"ticks\":\"\"}}}],\"scatterpolar\":[{\"type\":\"scatterpolar\",\"marker\":{\"colorbar\":{\"outlinewidth\":0,\"ticks\":\"\"}}}],\"histogram\":[{\"marker\":{\"pattern\":{\"fillmode\":\"overlay\",\"size\":10,\"solidity\":0.2}},\"type\":\"histogram\"}],\"scattergl\":[{\"type\":\"scattergl\",\"marker\":{\"colorbar\":{\"outlinewidth\":0,\"ticks\":\"\"}}}],\"scatter3d\":[{\"type\":\"scatter3d\",\"line\":{\"colorbar\":{\"outlinewidth\":0,\"ticks\":\"\"}},\"marker\":{\"colorbar\":{\"outlinewidth\":0,\"ticks\":\"\"}}}],\"scattermapbox\":[{\"type\":\"scattermapbox\",\"marker\":{\"colorbar\":{\"outlinewidth\":0,\"ticks\":\"\"}}}],\"scatterternary\":[{\"type\":\"scatterternary\",\"marker\":{\"colorbar\":{\"outlinewidth\":0,\"ticks\":\"\"}}}],\"scattercarpet\":[{\"type\":\"scattercarpet\",\"marker\":{\"colorbar\":{\"outlinewidth\":0,\"ticks\":\"\"}}}],\"carpet\":[{\"aaxis\":{\"endlinecolor\":\"#2a3f5f\",\"gridcolor\":\"white\",\"linecolor\":\"white\",\"minorgridcolor\":\"white\",\"startlinecolor\":\"#2a3f5f\"},\"baxis\":{\"endlinecolor\":\"#2a3f5f\",\"gridcolor\":\"white\",\"linecolor\":\"white\",\"minorgridcolor\":\"white\",\"startlinecolor\":\"#2a3f5f\"},\"type\":\"carpet\"}],\"table\":[{\"cells\":{\"fill\":{\"color\":\"#EBF0F8\"},\"line\":{\"color\":\"white\"}},\"header\":{\"fill\":{\"color\":\"#C8D4E3\"},\"line\":{\"color\":\"white\"}},\"type\":\"table\"}],\"barpolar\":[{\"marker\":{\"line\":{\"color\":\"#E5ECF6\",\"width\":0.5},\"pattern\":{\"fillmode\":\"overlay\",\"size\":10,\"solidity\":0.2}},\"type\":\"barpolar\"}],\"pie\":[{\"automargin\":true,\"type\":\"pie\"}]},\"layout\":{\"autotypenumbers\":\"strict\",\"colorway\":[\"#636efa\",\"#EF553B\",\"#00cc96\",\"#ab63fa\",\"#FFA15A\",\"#19d3f3\",\"#FF6692\",\"#B6E880\",\"#FF97FF\",\"#FECB52\"],\"font\":{\"color\":\"#2a3f5f\"},\"hovermode\":\"closest\",\"hoverlabel\":{\"align\":\"left\"},\"paper_bgcolor\":\"white\",\"plot_bgcolor\":\"#E5ECF6\",\"polar\":{\"bgcolor\":\"#E5ECF6\",\"angularaxis\":{\"gridcolor\":\"white\",\"linecolor\":\"white\",\"ticks\":\"\"},\"radialaxis\":{\"gridcolor\":\"white\",\"linecolor\":\"white\",\"ticks\":\"\"}},\"ternary\":{\"bgcolor\":\"#E5ECF6\",\"aaxis\":{\"gridcolor\":\"white\",\"linecolor\":\"white\",\"ticks\":\"\"},\"baxis\":{\"gridcolor\":\"white\",\"linecolor\":\"white\",\"ticks\":\"\"},\"caxis\":{\"gridcolor\":\"white\",\"linecolor\":\"white\",\"ticks\":\"\"}},\"coloraxis\":{\"colorbar\":{\"outlinewidth\":0,\"ticks\":\"\"}},\"colorscale\":{\"sequential\":[[0.0,\"#0d0887\"],[0.1111111111111111,\"#46039f\"],[0.2222222222222222,\"#7201a8\"],[0.3333333333333333,\"#9c179e\"],[0.4444444444444444,\"#bd3786\"],[0.5555555555555556,\"#d8576b\"],[0.6666666666666666,\"#ed7953\"],[0.7777777777777778,\"#fb9f3a\"],[0.8888888888888888,\"#fdca26\"],[1.0,\"#f0f921\"]],\"sequentialminus\":[[0.0,\"#0d0887\"],[0.1111111111111111,\"#46039f\"],[0.2222222222222222,\"#7201a8\"],[0.3333333333333333,\"#9c179e\"],[0.4444444444444444,\"#bd3786\"],[0.5555555555555556,\"#d8576b\"],[0.6666666666666666,\"#ed7953\"],[0.7777777777777778,\"#fb9f3a\"],[0.8888888888888888,\"#fdca26\"],[1.0,\"#f0f921\"]],\"diverging\":[[0,\"#8e0152\"],[0.1,\"#c51b7d\"],[0.2,\"#de77ae\"],[0.3,\"#f1b6da\"],[0.4,\"#fde0ef\"],[0.5,\"#f7f7f7\"],[0.6,\"#e6f5d0\"],[0.7,\"#b8e186\"],[0.8,\"#7fbc41\"],[0.9,\"#4d9221\"],[1,\"#276419\"]]},\"xaxis\":{\"gridcolor\":\"white\",\"linecolor\":\"white\",\"ticks\":\"\",\"title\":{\"standoff\":15},\"zerolinecolor\":\"white\",\"automargin\":true,\"zerolinewidth\":2},\"yaxis\":{\"gridcolor\":\"white\",\"linecolor\":\"white\",\"ticks\":\"\",\"title\":{\"standoff\":15},\"zerolinecolor\":\"white\",\"automargin\":true,\"zerolinewidth\":2},\"scene\":{\"xaxis\":{\"backgroundcolor\":\"#E5ECF6\",\"gridcolor\":\"white\",\"linecolor\":\"white\",\"showbackground\":true,\"ticks\":\"\",\"zerolinecolor\":\"white\",\"gridwidth\":2},\"yaxis\":{\"backgroundcolor\":\"#E5ECF6\",\"gridcolor\":\"white\",\"linecolor\":\"white\",\"showbackground\":true,\"ticks\":\"\",\"zerolinecolor\":\"white\",\"gridwidth\":2},\"zaxis\":{\"backgroundcolor\":\"#E5ECF6\",\"gridcolor\":\"white\",\"linecolor\":\"white\",\"showbackground\":true,\"ticks\":\"\",\"zerolinecolor\":\"white\",\"gridwidth\":2}},\"shapedefaults\":{\"line\":{\"color\":\"#2a3f5f\"}},\"annotationdefaults\":{\"arrowcolor\":\"#2a3f5f\",\"arrowhead\":0,\"arrowwidth\":1},\"geo\":{\"bgcolor\":\"white\",\"landcolor\":\"#E5ECF6\",\"subunitcolor\":\"white\",\"showland\":true,\"showlakes\":true,\"lakecolor\":\"white\"},\"title\":{\"x\":0.05},\"mapbox\":{\"style\":\"light\"}}},\"xaxis\":{\"anchor\":\"y\",\"domain\":[0.0,1.0],\"title\":{\"text\":\"PC1\"}},\"yaxis\":{\"anchor\":\"x\",\"domain\":[0.0,1.0],\"title\":{\"text\":\"PC2\"}},\"legend\":{\"title\":{\"text\":\"species\"},\"tracegroupgap\":0},\"margin\":{\"t\":60}},                        {\"responsive\": true}                    ).then(function(){\n",
       "                            \n",
       "var gd = document.getElementById('88bcde88-918c-494e-9e25-110a393ff363');\n",
       "var x = new MutationObserver(function (mutations, observer) {{\n",
       "        var display = window.getComputedStyle(gd).display;\n",
       "        if (!display || display === 'none') {{\n",
       "            console.log([gd, 'removed!']);\n",
       "            Plotly.purge(gd);\n",
       "            observer.disconnect();\n",
       "        }}\n",
       "}});\n",
       "\n",
       "// Listen for the removal of the full notebook cells\n",
       "var notebookContainer = gd.closest('#notebook-container');\n",
       "if (notebookContainer) {{\n",
       "    x.observe(notebookContainer, {childList: true});\n",
       "}}\n",
       "\n",
       "// Listen for the clearing of the current output cell\n",
       "var outputEl = gd.closest('.output');\n",
       "if (outputEl) {{\n",
       "    x.observe(outputEl, {childList: true});\n",
       "}}\n",
       "\n",
       "                        })                };                });            </script>        </div>"
      ]
     },
     "metadata": {},
     "output_type": "display_data"
    }
   ],
   "source": [
    "df_2D = pd.DataFrame({'PC1': X_reduced[:, 0], 'PC2': X_reduced[:, 1], 'species': y})\n",
    "fig = px.scatter(df_2D, x='PC1', y='PC2',\n",
    "              color='species')\n",
    "fig.show()"
   ]
  },
  {
   "cell_type": "markdown",
   "id": "460823a8-80dd-451d-a8bd-79901cee7240",
   "metadata": {},
   "source": [
    "<span style=\"font-family: XB Zar; font-size: medium; \"><div dir=rtl><meta charset=\"UTF-8\">\n",
    "    <span style=\"color: red; font-size: large; \"> 3. تجزیه مقادیر منفرد یا SVD و ارتباط آن با تحلیل مولفه‌های اصلی </span>\n",
    "    <br>\n",
    "    فرض کنید \n",
    "    ماتریس دادگان\n",
    "    $\\mathbf{X}_{N \\times D}$\n",
    "    به ما داده شده‌است.\n",
    "    حال ماتریس جدید\n",
    "    $\\mathbf{T} = \\mathbf{X} - \\mathbf{1}\\bar{\\mathbf{x}} $\n",
    "    را در نظر بگیرید \n",
    "    که میانگین تجربی آن برای هر ویژگی صفر است حال ما \n",
    "    تجزیه مقادیر منفرد را برای این ماتریس میابیم \n",
    "    <br>\n",
    "    <br>\n",
    "    $$\n",
    "    \\mathbf{T} = \\mathbf{U}\\mathbf{\\Sigma}\\mathbf{V}^{\\top} \n",
    "    $$\n",
    "    <br>\n",
    "    اگر فرض کنیم \n",
    "    $k$\n",
    "    مقدار منفرد مثبت وجود داشته‌باشد\n",
    "    دراینصورت \n",
    "    $\\begin{split}m, (m<d) \\end{split}$\n",
    "    مولفه اصلی فضای ابعاد کاهش یافته در واقع \n",
    "    $ m $\n",
    "    بردار ویژه راست \n",
    "    یعنی \n",
    "    $ m $\n",
    "    بردار \n",
    "    $ \\mathbf{V}$\n",
    "    است که پایه‌های فضای برداری مقصد را می‌سازند.\n",
    "    حال با استفاده از نامپای همین فرآیند را یکبار دیگر برای کاهش بعد تکرار می‌کنیم تا مطمئن شویم رویکردمان درست است:\n",
    "    </div></span>"
   ]
  },
  {
   "cell_type": "code",
   "execution_count": 20,
   "id": "27de2a0a-1836-4b32-9c0c-f434dffbc23b",
   "metadata": {},
   "outputs": [
    {
     "data": {
      "application/vnd.plotly.v1+json": {
       "config": {
        "plotlyServerURL": "https://plot.ly"
       },
       "data": [
        {
         "hovertemplate": "species=Setosa<br>PC1=%{x}<br>PC2=%{y}<extra></extra>",
         "legendgroup": "Setosa",
         "marker": {
          "color": "#636efa",
          "symbol": "circle"
         },
         "mode": "markers",
         "name": "Setosa",
         "orientation": "v",
         "showlegend": true,
         "type": "scatter",
         "x": [
          -2.684125625969534,
          -2.714141687294323,
          -2.888990569059294,
          -2.745342855641407,
          -2.7287165365545274,
          -2.2808596328444897,
          -2.820537750740606,
          -2.62614497314663,
          -2.8863827317805506,
          -2.6727557978209515,
          -2.506947090651853,
          -2.6127552309087205,
          -2.786109266188015,
          -3.2238037438656497,
          -2.644750389942027,
          -2.3860390335311306,
          -2.6235278752244238,
          -2.6482967062543787,
          -2.199820323617577,
          -2.5879863998787656,
          -2.3102562152425152,
          -2.5437052287571538,
          -3.215939415648609,
          -2.3027331822262043,
          -2.35575404912377,
          -2.5066689069258192,
          -2.468820073121336,
          -2.5623199061960134,
          -2.63953471538454,
          -2.631989387274343,
          -2.5873984766893496,
          -2.4099324970021723,
          -2.6488623343499094,
          -2.5987367491005844,
          -2.6369268781057964,
          -2.8662416521186667,
          -2.6252380498503696,
          -2.8006841154482194,
          -2.980502043781991,
          -2.590006313968093,
          -2.770102426027899,
          -2.849368705043101,
          -2.9974065465949047,
          -2.4056144850974834,
          -2.209489237783677,
          -2.7144514267577047,
          -2.5381482589989375,
          -2.8394621676428478,
          -2.5430857498303903,
          -2.703359782335157
         ],
         "xaxis": "x",
         "y": [
          -0.3193972465851023,
          0.17700122506477883,
          0.14494942608555633,
          0.31829897925191514,
          -0.326754512934921,
          -0.7413304490629161,
          0.089461384528568,
          -0.16338495969832992,
          0.5783117541867028,
          0.11377424587411553,
          -0.6450688986485752,
          -0.014729939161375492,
          0.2351120002017172,
          0.5113945870063813,
          -1.1787646364375768,
          -1.3380623304006538,
          -0.810679514181259,
          -0.311849144593356,
          -0.8728390389622124,
          -0.513560308749278,
          -0.3913459356538956,
          -0.4329960632790293,
          -0.13346806953852666,
          -0.0987088548141007,
          0.037281859677381665,
          0.1460168804952663,
          -0.13095148943525153,
          -0.3677188574342012,
          -0.31203998023528423,
          0.19696122492431356,
          0.20431849127413226,
          -0.4109242642295744,
          -0.813363820296963,
          -1.093145759449358,
          0.12132234786586184,
          -0.06936447158008203,
          -0.5993700213794253,
          -0.26864373779798334,
          0.48795834442861435,
          -0.22904383682701387,
          -0.2635275337442578,
          0.9409605736411952,
          0.3419260574716089,
          -0.18887142893026157,
          -0.43666314163918873,
          0.25020820418520984,
          -0.5037711444614386,
          0.22794556949382666,
          -0.5794100215198906,
          -0.10770608249941295
         ],
         "yaxis": "y"
        },
        {
         "hovertemplate": "species=Versicolor<br>PC1=%{x}<br>PC2=%{y}<extra></extra>",
         "legendgroup": "Versicolor",
         "marker": {
          "color": "#EF553B",
          "symbol": "circle"
         },
         "mode": "markers",
         "name": "Versicolor",
         "orientation": "v",
         "showlegend": true,
         "type": "scatter",
         "x": [
          1.2848256888583538,
          0.9324885323123209,
          1.4643023219913964,
          0.1833177199583731,
          1.0881032577116683,
          0.64166908425808,
          1.0950606626324493,
          -0.7491226698296548,
          1.0441318260534382,
          -0.008745404082893494,
          -0.5078408838353234,
          0.5116985574476,
          0.26497650811204904,
          0.9849345104708926,
          -0.1739253716817653,
          0.92786078094425,
          0.6602837616969394,
          0.2361049933176741,
          0.9447337280198157,
          0.04522697629870237,
          1.1162831773500521,
          0.35788841799730986,
          1.298183875358916,
          0.9217289224470394,
          0.7148533259114142,
          0.9001743731721698,
          1.3320244367220908,
          1.557802155066073,
          0.8132906498175438,
          -0.3055837780243065,
          -0.06812649206836108,
          -0.18962247237849938,
          0.13642871155801745,
          1.3800264359155134,
          0.588006443339866,
          0.8068583125004146,
          1.2206908824443554,
          0.8150952357666023,
          0.24595767988669495,
          0.16641321714545937,
          0.4648002884037816,
          0.8908151984694518,
          0.23054802355945792,
          -0.7045317592446612,
          0.35698149470104945,
          0.3319344799450608,
          0.3762156510666728,
          0.6425760075543404,
          -0.9064698649488334,
          0.29900084187814574
         ],
         "xaxis": "x",
         "y": [
          -0.6851604704673107,
          -0.3183336382626304,
          -0.504262815309206,
          0.8279590118206306,
          -0.074590675197718,
          0.41824687156867757,
          -0.28346827006153036,
          1.0048909611818941,
          -0.22836189978839733,
          0.7230819050048329,
          1.265971190526392,
          0.10398123549903902,
          0.5500364636804728,
          0.124817854126356,
          0.2548542087025879,
          -0.4671794944415123,
          0.3529696657238494,
          0.333610766824914,
          0.5431455507797645,
          0.5838343774718628,
          0.08461685219478694,
          0.06892503165601226,
          0.3277873083339157,
          0.18273779362136605,
          -0.14905594436978647,
          -0.328504473834325,
          -0.24444087601634543,
          -0.26749544731025626,
          0.16335030068761489,
          0.36826218975458636,
          0.7051721317994638,
          0.6802867635281317,
          0.3140324382492352,
          0.42095428731388057,
          0.4842874199812175,
          -0.19418231471315192,
          -0.4076195936110088,
          0.37203705990949976,
          0.2685243966220138,
          0.6819267248636253,
          0.6707115445117192,
          0.03446444436826749,
          0.40438584800732363,
          1.0122482275317128,
          0.5049100933371073,
          0.2126546837811687,
          0.2932189292514177,
          -0.01773819011241789,
          0.7560933665990125,
          0.3488978064503346
         ],
         "yaxis": "y"
        },
        {
         "hovertemplate": "species=Virginica<br>PC1=%{x}<br>PC2=%{y}<extra></extra>",
         "legendgroup": "Virginica",
         "marker": {
          "color": "#00cc96",
          "symbol": "circle"
         },
         "mode": "markers",
         "name": "Virginica",
         "orientation": "v",
         "showlegend": true,
         "type": "scatter",
         "x": [
          2.5311927278036306,
          1.4152358767039046,
          2.6166760159956923,
          1.971531053043438,
          2.3500059200446426,
          3.3970387360532603,
          0.5212322439097761,
          2.932587068993691,
          2.32122881657338,
          2.916750966786075,
          1.6617741536365336,
          1.8034019529650933,
          2.1655917960801476,
          1.3461635794584537,
          1.5859282238732233,
          1.904456374793429,
          1.9496890593990717,
          3.4870553642902817,
          3.7956454220728864,
          1.3007917126376594,
          2.427817913066048,
          1.199001105465563,
          3.49992003892454,
          1.3887661316914677,
          2.275430503872207,
          2.6140904738108333,
          1.2585081605114903,
          1.2911320591150233,
          2.123608722773897,
          2.3880030160034704,
          2.841672778103873,
          3.230673661432095,
          2.1594376424890522,
          1.444161242329512,
          1.7812948100451143,
          3.07649993168719,
          2.144243314302084,
          1.9050981488140781,
          1.1693263393415025,
          2.1076111432572446,
          2.314154705235602,
          1.9222678009026033,
          1.4152358767039046,
          2.563013375077478,
          2.4187461827328276,
          1.9441097945469703,
          1.5271666148145195,
          1.7643457170444314,
          1.9009416142184257,
          1.3901888619479164
         ],
         "xaxis": "x",
         "y": [
          0.009849109498800987,
          0.5749163475464881,
          -0.3439031513417361,
          0.17972790435224417,
          0.04026094714252972,
          -0.5508366730280573,
          1.1927587270006443,
          -0.3555000029774981,
          0.24383150231068892,
          -0.78279194881528,
          -0.2422284077550685,
          0.2156376173335538,
          -0.21627558507402633,
          0.7768183473443381,
          0.5396407140267174,
          -0.11925069209197406,
          -0.04194325966321275,
          -1.1757393297134304,
          -0.2573229734204815,
          0.7611496364350617,
          -0.3781960126170523,
          0.6060915277579293,
          -0.460674098911897,
          0.20439932735214925,
          -0.33499060582167867,
          -0.5609013551230795,
          0.1797047947227451,
          0.11666865117401011,
          0.20972947667730127,
          -0.4646398047087381,
          -0.3752691671951052,
          -1.374165086793049,
          0.2172775786690476,
          0.14341341045757924,
          0.4999016810781352,
          -0.6880856775711779,
          -0.14006420108979098,
          -0.049300526013031455,
          0.16499026202310832,
          -0.37228787196079943,
          -0.18365127916902044,
          -0.40920346681606407,
          0.5749163475464881,
          -0.2778626029291962,
          -0.30479819785469336,
          -0.18753230280060687,
          0.3753169825804866,
          -0.07885885451847725,
          -0.11662795851202468,
          0.2826609379905495
         ],
         "yaxis": "y"
        }
       ],
       "layout": {
        "autosize": true,
        "legend": {
         "title": {
          "text": "species"
         },
         "tracegroupgap": 0
        },
        "margin": {
         "t": 60
        },
        "template": {
         "data": {
          "bar": [
           {
            "error_x": {
             "color": "#2a3f5f"
            },
            "error_y": {
             "color": "#2a3f5f"
            },
            "marker": {
             "line": {
              "color": "#E5ECF6",
              "width": 0.5
             },
             "pattern": {
              "fillmode": "overlay",
              "size": 10,
              "solidity": 0.2
             }
            },
            "type": "bar"
           }
          ],
          "barpolar": [
           {
            "marker": {
             "line": {
              "color": "#E5ECF6",
              "width": 0.5
             },
             "pattern": {
              "fillmode": "overlay",
              "size": 10,
              "solidity": 0.2
             }
            },
            "type": "barpolar"
           }
          ],
          "carpet": [
           {
            "aaxis": {
             "endlinecolor": "#2a3f5f",
             "gridcolor": "white",
             "linecolor": "white",
             "minorgridcolor": "white",
             "startlinecolor": "#2a3f5f"
            },
            "baxis": {
             "endlinecolor": "#2a3f5f",
             "gridcolor": "white",
             "linecolor": "white",
             "minorgridcolor": "white",
             "startlinecolor": "#2a3f5f"
            },
            "type": "carpet"
           }
          ],
          "choropleth": [
           {
            "colorbar": {
             "outlinewidth": 0,
             "ticks": ""
            },
            "type": "choropleth"
           }
          ],
          "contour": [
           {
            "colorbar": {
             "outlinewidth": 0,
             "ticks": ""
            },
            "colorscale": [
             [
              0,
              "#0d0887"
             ],
             [
              0.1111111111111111,
              "#46039f"
             ],
             [
              0.2222222222222222,
              "#7201a8"
             ],
             [
              0.3333333333333333,
              "#9c179e"
             ],
             [
              0.4444444444444444,
              "#bd3786"
             ],
             [
              0.5555555555555556,
              "#d8576b"
             ],
             [
              0.6666666666666666,
              "#ed7953"
             ],
             [
              0.7777777777777778,
              "#fb9f3a"
             ],
             [
              0.8888888888888888,
              "#fdca26"
             ],
             [
              1,
              "#f0f921"
             ]
            ],
            "type": "contour"
           }
          ],
          "contourcarpet": [
           {
            "colorbar": {
             "outlinewidth": 0,
             "ticks": ""
            },
            "type": "contourcarpet"
           }
          ],
          "heatmap": [
           {
            "colorbar": {
             "outlinewidth": 0,
             "ticks": ""
            },
            "colorscale": [
             [
              0,
              "#0d0887"
             ],
             [
              0.1111111111111111,
              "#46039f"
             ],
             [
              0.2222222222222222,
              "#7201a8"
             ],
             [
              0.3333333333333333,
              "#9c179e"
             ],
             [
              0.4444444444444444,
              "#bd3786"
             ],
             [
              0.5555555555555556,
              "#d8576b"
             ],
             [
              0.6666666666666666,
              "#ed7953"
             ],
             [
              0.7777777777777778,
              "#fb9f3a"
             ],
             [
              0.8888888888888888,
              "#fdca26"
             ],
             [
              1,
              "#f0f921"
             ]
            ],
            "type": "heatmap"
           }
          ],
          "heatmapgl": [
           {
            "colorbar": {
             "outlinewidth": 0,
             "ticks": ""
            },
            "colorscale": [
             [
              0,
              "#0d0887"
             ],
             [
              0.1111111111111111,
              "#46039f"
             ],
             [
              0.2222222222222222,
              "#7201a8"
             ],
             [
              0.3333333333333333,
              "#9c179e"
             ],
             [
              0.4444444444444444,
              "#bd3786"
             ],
             [
              0.5555555555555556,
              "#d8576b"
             ],
             [
              0.6666666666666666,
              "#ed7953"
             ],
             [
              0.7777777777777778,
              "#fb9f3a"
             ],
             [
              0.8888888888888888,
              "#fdca26"
             ],
             [
              1,
              "#f0f921"
             ]
            ],
            "type": "heatmapgl"
           }
          ],
          "histogram": [
           {
            "marker": {
             "pattern": {
              "fillmode": "overlay",
              "size": 10,
              "solidity": 0.2
             }
            },
            "type": "histogram"
           }
          ],
          "histogram2d": [
           {
            "colorbar": {
             "outlinewidth": 0,
             "ticks": ""
            },
            "colorscale": [
             [
              0,
              "#0d0887"
             ],
             [
              0.1111111111111111,
              "#46039f"
             ],
             [
              0.2222222222222222,
              "#7201a8"
             ],
             [
              0.3333333333333333,
              "#9c179e"
             ],
             [
              0.4444444444444444,
              "#bd3786"
             ],
             [
              0.5555555555555556,
              "#d8576b"
             ],
             [
              0.6666666666666666,
              "#ed7953"
             ],
             [
              0.7777777777777778,
              "#fb9f3a"
             ],
             [
              0.8888888888888888,
              "#fdca26"
             ],
             [
              1,
              "#f0f921"
             ]
            ],
            "type": "histogram2d"
           }
          ],
          "histogram2dcontour": [
           {
            "colorbar": {
             "outlinewidth": 0,
             "ticks": ""
            },
            "colorscale": [
             [
              0,
              "#0d0887"
             ],
             [
              0.1111111111111111,
              "#46039f"
             ],
             [
              0.2222222222222222,
              "#7201a8"
             ],
             [
              0.3333333333333333,
              "#9c179e"
             ],
             [
              0.4444444444444444,
              "#bd3786"
             ],
             [
              0.5555555555555556,
              "#d8576b"
             ],
             [
              0.6666666666666666,
              "#ed7953"
             ],
             [
              0.7777777777777778,
              "#fb9f3a"
             ],
             [
              0.8888888888888888,
              "#fdca26"
             ],
             [
              1,
              "#f0f921"
             ]
            ],
            "type": "histogram2dcontour"
           }
          ],
          "mesh3d": [
           {
            "colorbar": {
             "outlinewidth": 0,
             "ticks": ""
            },
            "type": "mesh3d"
           }
          ],
          "parcoords": [
           {
            "line": {
             "colorbar": {
              "outlinewidth": 0,
              "ticks": ""
             }
            },
            "type": "parcoords"
           }
          ],
          "pie": [
           {
            "automargin": true,
            "type": "pie"
           }
          ],
          "scatter": [
           {
            "fillpattern": {
             "fillmode": "overlay",
             "size": 10,
             "solidity": 0.2
            },
            "type": "scatter"
           }
          ],
          "scatter3d": [
           {
            "line": {
             "colorbar": {
              "outlinewidth": 0,
              "ticks": ""
             }
            },
            "marker": {
             "colorbar": {
              "outlinewidth": 0,
              "ticks": ""
             }
            },
            "type": "scatter3d"
           }
          ],
          "scattercarpet": [
           {
            "marker": {
             "colorbar": {
              "outlinewidth": 0,
              "ticks": ""
             }
            },
            "type": "scattercarpet"
           }
          ],
          "scattergeo": [
           {
            "marker": {
             "colorbar": {
              "outlinewidth": 0,
              "ticks": ""
             }
            },
            "type": "scattergeo"
           }
          ],
          "scattergl": [
           {
            "marker": {
             "colorbar": {
              "outlinewidth": 0,
              "ticks": ""
             }
            },
            "type": "scattergl"
           }
          ],
          "scattermapbox": [
           {
            "marker": {
             "colorbar": {
              "outlinewidth": 0,
              "ticks": ""
             }
            },
            "type": "scattermapbox"
           }
          ],
          "scatterpolar": [
           {
            "marker": {
             "colorbar": {
              "outlinewidth": 0,
              "ticks": ""
             }
            },
            "type": "scatterpolar"
           }
          ],
          "scatterpolargl": [
           {
            "marker": {
             "colorbar": {
              "outlinewidth": 0,
              "ticks": ""
             }
            },
            "type": "scatterpolargl"
           }
          ],
          "scatterternary": [
           {
            "marker": {
             "colorbar": {
              "outlinewidth": 0,
              "ticks": ""
             }
            },
            "type": "scatterternary"
           }
          ],
          "surface": [
           {
            "colorbar": {
             "outlinewidth": 0,
             "ticks": ""
            },
            "colorscale": [
             [
              0,
              "#0d0887"
             ],
             [
              0.1111111111111111,
              "#46039f"
             ],
             [
              0.2222222222222222,
              "#7201a8"
             ],
             [
              0.3333333333333333,
              "#9c179e"
             ],
             [
              0.4444444444444444,
              "#bd3786"
             ],
             [
              0.5555555555555556,
              "#d8576b"
             ],
             [
              0.6666666666666666,
              "#ed7953"
             ],
             [
              0.7777777777777778,
              "#fb9f3a"
             ],
             [
              0.8888888888888888,
              "#fdca26"
             ],
             [
              1,
              "#f0f921"
             ]
            ],
            "type": "surface"
           }
          ],
          "table": [
           {
            "cells": {
             "fill": {
              "color": "#EBF0F8"
             },
             "line": {
              "color": "white"
             }
            },
            "header": {
             "fill": {
              "color": "#C8D4E3"
             },
             "line": {
              "color": "white"
             }
            },
            "type": "table"
           }
          ]
         },
         "layout": {
          "annotationdefaults": {
           "arrowcolor": "#2a3f5f",
           "arrowhead": 0,
           "arrowwidth": 1
          },
          "autotypenumbers": "strict",
          "coloraxis": {
           "colorbar": {
            "outlinewidth": 0,
            "ticks": ""
           }
          },
          "colorscale": {
           "diverging": [
            [
             0,
             "#8e0152"
            ],
            [
             0.1,
             "#c51b7d"
            ],
            [
             0.2,
             "#de77ae"
            ],
            [
             0.3,
             "#f1b6da"
            ],
            [
             0.4,
             "#fde0ef"
            ],
            [
             0.5,
             "#f7f7f7"
            ],
            [
             0.6,
             "#e6f5d0"
            ],
            [
             0.7,
             "#b8e186"
            ],
            [
             0.8,
             "#7fbc41"
            ],
            [
             0.9,
             "#4d9221"
            ],
            [
             1,
             "#276419"
            ]
           ],
           "sequential": [
            [
             0,
             "#0d0887"
            ],
            [
             0.1111111111111111,
             "#46039f"
            ],
            [
             0.2222222222222222,
             "#7201a8"
            ],
            [
             0.3333333333333333,
             "#9c179e"
            ],
            [
             0.4444444444444444,
             "#bd3786"
            ],
            [
             0.5555555555555556,
             "#d8576b"
            ],
            [
             0.6666666666666666,
             "#ed7953"
            ],
            [
             0.7777777777777778,
             "#fb9f3a"
            ],
            [
             0.8888888888888888,
             "#fdca26"
            ],
            [
             1,
             "#f0f921"
            ]
           ],
           "sequentialminus": [
            [
             0,
             "#0d0887"
            ],
            [
             0.1111111111111111,
             "#46039f"
            ],
            [
             0.2222222222222222,
             "#7201a8"
            ],
            [
             0.3333333333333333,
             "#9c179e"
            ],
            [
             0.4444444444444444,
             "#bd3786"
            ],
            [
             0.5555555555555556,
             "#d8576b"
            ],
            [
             0.6666666666666666,
             "#ed7953"
            ],
            [
             0.7777777777777778,
             "#fb9f3a"
            ],
            [
             0.8888888888888888,
             "#fdca26"
            ],
            [
             1,
             "#f0f921"
            ]
           ]
          },
          "colorway": [
           "#636efa",
           "#EF553B",
           "#00cc96",
           "#ab63fa",
           "#FFA15A",
           "#19d3f3",
           "#FF6692",
           "#B6E880",
           "#FF97FF",
           "#FECB52"
          ],
          "font": {
           "color": "#2a3f5f"
          },
          "geo": {
           "bgcolor": "white",
           "lakecolor": "white",
           "landcolor": "#E5ECF6",
           "showlakes": true,
           "showland": true,
           "subunitcolor": "white"
          },
          "hoverlabel": {
           "align": "left"
          },
          "hovermode": "closest",
          "mapbox": {
           "style": "light"
          },
          "paper_bgcolor": "white",
          "plot_bgcolor": "#E5ECF6",
          "polar": {
           "angularaxis": {
            "gridcolor": "white",
            "linecolor": "white",
            "ticks": ""
           },
           "bgcolor": "#E5ECF6",
           "radialaxis": {
            "gridcolor": "white",
            "linecolor": "white",
            "ticks": ""
           }
          },
          "scene": {
           "xaxis": {
            "backgroundcolor": "#E5ECF6",
            "gridcolor": "white",
            "gridwidth": 2,
            "linecolor": "white",
            "showbackground": true,
            "ticks": "",
            "zerolinecolor": "white"
           },
           "yaxis": {
            "backgroundcolor": "#E5ECF6",
            "gridcolor": "white",
            "gridwidth": 2,
            "linecolor": "white",
            "showbackground": true,
            "ticks": "",
            "zerolinecolor": "white"
           },
           "zaxis": {
            "backgroundcolor": "#E5ECF6",
            "gridcolor": "white",
            "gridwidth": 2,
            "linecolor": "white",
            "showbackground": true,
            "ticks": "",
            "zerolinecolor": "white"
           }
          },
          "shapedefaults": {
           "line": {
            "color": "#2a3f5f"
           }
          },
          "ternary": {
           "aaxis": {
            "gridcolor": "white",
            "linecolor": "white",
            "ticks": ""
           },
           "baxis": {
            "gridcolor": "white",
            "linecolor": "white",
            "ticks": ""
           },
           "bgcolor": "#E5ECF6",
           "caxis": {
            "gridcolor": "white",
            "linecolor": "white",
            "ticks": ""
           }
          },
          "title": {
           "x": 0.05
          },
          "xaxis": {
           "automargin": true,
           "gridcolor": "white",
           "linecolor": "white",
           "ticks": "",
           "title": {
            "standoff": 15
           },
           "zerolinecolor": "white",
           "zerolinewidth": 2
          },
          "yaxis": {
           "automargin": true,
           "gridcolor": "white",
           "linecolor": "white",
           "ticks": "",
           "title": {
            "standoff": 15
           },
           "zerolinecolor": "white",
           "zerolinewidth": 2
          }
         }
        },
        "xaxis": {
         "anchor": "y",
         "autorange": true,
         "domain": [
          0,
          1
         ],
         "range": [
          -3.6472182018453614,
          4.219059880052598
         ],
         "title": {
          "text": "PC1"
         },
         "type": "linear"
        },
        "yaxis": {
         "anchor": "x",
         "autorange": true,
         "domain": [
          0,
          1
         ],
         "range": [
          -1.578585087267914,
          1.4703911910012568
         ],
         "title": {
          "text": "PC2"
         },
         "type": "linear"
        }
       }
      },
      "image/png": "[encoded data removed]",
      "text/html": [
       "<div>                            <div id=\"72bca988-5215-4f96-bd90-31314c8b4470\" class=\"plotly-graph-div\" style=\"height:525px; width:100%;\"></div>            <script type=\"text/javascript\">                require([\"plotly\"], function(Plotly) {                    window.PLOTLYENV=window.PLOTLYENV || {};                                    if (document.getElementById(\"72bca988-5215-4f96-bd90-31314c8b4470\")) {                    Plotly.newPlot(                        \"72bca988-5215-4f96-bd90-31314c8b4470\",                        [{\"hovertemplate\":\"species=Setosa<br>PC1=%{x}<br>PC2=%{y}<extra></extra>\",\"legendgroup\":\"Setosa\",\"marker\":{\"color\":\"#636efa\",\"symbol\":\"circle\"},\"mode\":\"markers\",\"name\":\"Setosa\",\"orientation\":\"v\",\"showlegend\":true,\"x\":[-2.684125625969534,-2.714141687294323,-2.888990569059294,-2.745342855641407,-2.7287165365545274,-2.2808596328444897,-2.820537750740606,-2.62614497314663,-2.8863827317805506,-2.6727557978209515,-2.506947090651853,-2.6127552309087205,-2.786109266188015,-3.2238037438656497,-2.644750389942027,-2.3860390335311306,-2.6235278752244238,-2.6482967062543787,-2.199820323617577,-2.5879863998787656,-2.3102562152425152,-2.5437052287571538,-3.215939415648609,-2.3027331822262043,-2.35575404912377,-2.5066689069258192,-2.468820073121336,-2.5623199061960134,-2.63953471538454,-2.631989387274343,-2.5873984766893496,-2.4099324970021723,-2.6488623343499094,-2.5987367491005844,-2.6369268781057964,-2.8662416521186667,-2.6252380498503696,-2.8006841154482194,-2.980502043781991,-2.590006313968093,-2.770102426027899,-2.849368705043101,-2.9974065465949047,-2.4056144850974834,-2.209489237783677,-2.7144514267577047,-2.5381482589989375,-2.8394621676428478,-2.5430857498303903,-2.703359782335157],\"xaxis\":\"x\",\"y\":[-0.3193972465851023,0.17700122506477883,0.14494942608555633,0.31829897925191514,-0.326754512934921,-0.7413304490629161,0.089461384528568,-0.16338495969832992,0.5783117541867028,0.11377424587411553,-0.6450688986485752,-0.014729939161375492,0.2351120002017172,0.5113945870063813,-1.1787646364375768,-1.3380623304006538,-0.810679514181259,-0.311849144593356,-0.8728390389622124,-0.513560308749278,-0.3913459356538956,-0.4329960632790293,-0.13346806953852666,-0.0987088548141007,0.037281859677381665,0.1460168804952663,-0.13095148943525153,-0.3677188574342012,-0.31203998023528423,0.19696122492431356,0.20431849127413226,-0.4109242642295744,-0.813363820296963,-1.093145759449358,0.12132234786586184,-0.06936447158008203,-0.5993700213794253,-0.26864373779798334,0.48795834442861435,-0.22904383682701387,-0.2635275337442578,0.9409605736411952,0.3419260574716089,-0.18887142893026157,-0.43666314163918873,0.25020820418520984,-0.5037711444614386,0.22794556949382666,-0.5794100215198906,-0.10770608249941295],\"yaxis\":\"y\",\"type\":\"scatter\"},{\"hovertemplate\":\"species=Versicolor<br>PC1=%{x}<br>PC2=%{y}<extra></extra>\",\"legendgroup\":\"Versicolor\",\"marker\":{\"color\":\"#EF553B\",\"symbol\":\"circle\"},\"mode\":\"markers\",\"name\":\"Versicolor\",\"orientation\":\"v\",\"showlegend\":true,\"x\":[1.2848256888583538,0.9324885323123209,1.4643023219913964,0.1833177199583731,1.0881032577116683,0.64166908425808,1.0950606626324493,-0.7491226698296548,1.0441318260534382,-0.008745404082893494,-0.5078408838353234,0.5116985574476,0.26497650811204904,0.9849345104708926,-0.1739253716817653,0.92786078094425,0.6602837616969394,0.2361049933176741,0.9447337280198157,0.04522697629870237,1.1162831773500521,0.35788841799730986,1.298183875358916,0.9217289224470394,0.7148533259114142,0.9001743731721698,1.3320244367220908,1.557802155066073,0.8132906498175438,-0.3055837780243065,-0.06812649206836108,-0.18962247237849938,0.13642871155801745,1.3800264359155134,0.588006443339866,0.8068583125004146,1.2206908824443554,0.8150952357666023,0.24595767988669495,0.16641321714545937,0.4648002884037816,0.8908151984694518,0.23054802355945792,-0.7045317592446612,0.35698149470104945,0.3319344799450608,0.3762156510666728,0.6425760075543404,-0.9064698649488334,0.29900084187814574],\"xaxis\":\"x\",\"y\":[-0.6851604704673107,-0.3183336382626304,-0.504262815309206,0.8279590118206306,-0.074590675197718,0.41824687156867757,-0.28346827006153036,1.0048909611818941,-0.22836189978839733,0.7230819050048329,1.265971190526392,0.10398123549903902,0.5500364636804728,0.124817854126356,0.2548542087025879,-0.4671794944415123,0.3529696657238494,0.333610766824914,0.5431455507797645,0.5838343774718628,0.08461685219478694,0.06892503165601226,0.3277873083339157,0.18273779362136605,-0.14905594436978647,-0.328504473834325,-0.24444087601634543,-0.26749544731025626,0.16335030068761489,0.36826218975458636,0.7051721317994638,0.6802867635281317,0.3140324382492352,0.42095428731388057,0.4842874199812175,-0.19418231471315192,-0.4076195936110088,0.37203705990949976,0.2685243966220138,0.6819267248636253,0.6707115445117192,0.03446444436826749,0.40438584800732363,1.0122482275317128,0.5049100933371073,0.2126546837811687,0.2932189292514177,-0.01773819011241789,0.7560933665990125,0.3488978064503346],\"yaxis\":\"y\",\"type\":\"scatter\"},{\"hovertemplate\":\"species=Virginica<br>PC1=%{x}<br>PC2=%{y}<extra></extra>\",\"legendgroup\":\"Virginica\",\"marker\":{\"color\":\"#00cc96\",\"symbol\":\"circle\"},\"mode\":\"markers\",\"name\":\"Virginica\",\"orientation\":\"v\",\"showlegend\":true,\"x\":[2.5311927278036306,1.4152358767039046,2.6166760159956923,1.971531053043438,2.3500059200446426,3.3970387360532603,0.5212322439097761,2.932587068993691,2.32122881657338,2.916750966786075,1.6617741536365336,1.8034019529650933,2.1655917960801476,1.3461635794584537,1.5859282238732233,1.904456374793429,1.9496890593990717,3.4870553642902817,3.7956454220728864,1.3007917126376594,2.427817913066048,1.199001105465563,3.49992003892454,1.3887661316914677,2.275430503872207,2.6140904738108333,1.2585081605114903,1.2911320591150233,2.123608722773897,2.3880030160034704,2.841672778103873,3.230673661432095,2.1594376424890522,1.444161242329512,1.7812948100451143,3.07649993168719,2.144243314302084,1.9050981488140781,1.1693263393415025,2.1076111432572446,2.314154705235602,1.9222678009026033,1.4152358767039046,2.563013375077478,2.4187461827328276,1.9441097945469703,1.5271666148145195,1.7643457170444314,1.9009416142184257,1.3901888619479164],\"xaxis\":\"x\",\"y\":[0.009849109498800987,0.5749163475464881,-0.3439031513417361,0.17972790435224417,0.04026094714252972,-0.5508366730280573,1.1927587270006443,-0.3555000029774981,0.24383150231068892,-0.78279194881528,-0.2422284077550685,0.2156376173335538,-0.21627558507402633,0.7768183473443381,0.5396407140267174,-0.11925069209197406,-0.04194325966321275,-1.1757393297134304,-0.2573229734204815,0.7611496364350617,-0.3781960126170523,0.6060915277579293,-0.460674098911897,0.20439932735214925,-0.33499060582167867,-0.5609013551230795,0.1797047947227451,0.11666865117401011,0.20972947667730127,-0.4646398047087381,-0.3752691671951052,-1.374165086793049,0.2172775786690476,0.14341341045757924,0.4999016810781352,-0.6880856775711779,-0.14006420108979098,-0.049300526013031455,0.16499026202310832,-0.37228787196079943,-0.18365127916902044,-0.40920346681606407,0.5749163475464881,-0.2778626029291962,-0.30479819785469336,-0.18753230280060687,0.3753169825804866,-0.07885885451847725,-0.11662795851202468,0.2826609379905495],\"yaxis\":\"y\",\"type\":\"scatter\"}],                        {\"template\":{\"data\":{\"histogram2dcontour\":[{\"type\":\"histogram2dcontour\",\"colorbar\":{\"outlinewidth\":0,\"ticks\":\"\"},\"colorscale\":[[0.0,\"#0d0887\"],[0.1111111111111111,\"#46039f\"],[0.2222222222222222,\"#7201a8\"],[0.3333333333333333,\"#9c179e\"],[0.4444444444444444,\"#bd3786\"],[0.5555555555555556,\"#d8576b\"],[0.6666666666666666,\"#ed7953\"],[0.7777777777777778,\"#fb9f3a\"],[0.8888888888888888,\"#fdca26\"],[1.0,\"#f0f921\"]]}],\"choropleth\":[{\"type\":\"choropleth\",\"colorbar\":{\"outlinewidth\":0,\"ticks\":\"\"}}],\"histogram2d\":[{\"type\":\"histogram2d\",\"colorbar\":{\"outlinewidth\":0,\"ticks\":\"\"},\"colorscale\":[[0.0,\"#0d0887\"],[0.1111111111111111,\"#46039f\"],[0.2222222222222222,\"#7201a8\"],[0.3333333333333333,\"#9c179e\"],[0.4444444444444444,\"#bd3786\"],[0.5555555555555556,\"#d8576b\"],[0.6666666666666666,\"#ed7953\"],[0.7777777777777778,\"#fb9f3a\"],[0.8888888888888888,\"#fdca26\"],[1.0,\"#f0f921\"]]}],\"heatmap\":[{\"type\":\"heatmap\",\"colorbar\":{\"outlinewidth\":0,\"ticks\":\"\"},\"colorscale\":[[0.0,\"#0d0887\"],[0.1111111111111111,\"#46039f\"],[0.2222222222222222,\"#7201a8\"],[0.3333333333333333,\"#9c179e\"],[0.4444444444444444,\"#bd3786\"],[0.5555555555555556,\"#d8576b\"],[0.6666666666666666,\"#ed7953\"],[0.7777777777777778,\"#fb9f3a\"],[0.8888888888888888,\"#fdca26\"],[1.0,\"#f0f921\"]]}],\"heatmapgl\":[{\"type\":\"heatmapgl\",\"colorbar\":{\"outlinewidth\":0,\"ticks\":\"\"},\"colorscale\":[[0.0,\"#0d0887\"],[0.1111111111111111,\"#46039f\"],[0.2222222222222222,\"#7201a8\"],[0.3333333333333333,\"#9c179e\"],[0.4444444444444444,\"#bd3786\"],[0.5555555555555556,\"#d8576b\"],[0.6666666666666666,\"#ed7953\"],[0.7777777777777778,\"#fb9f3a\"],[0.8888888888888888,\"#fdca26\"],[1.0,\"#f0f921\"]]}],\"contourcarpet\":[{\"type\":\"contourcarpet\",\"colorbar\":{\"outlinewidth\":0,\"ticks\":\"\"}}],\"contour\":[{\"type\":\"contour\",\"colorbar\":{\"outlinewidth\":0,\"ticks\":\"\"},\"colorscale\":[[0.0,\"#0d0887\"],[0.1111111111111111,\"#46039f\"],[0.2222222222222222,\"#7201a8\"],[0.3333333333333333,\"#9c179e\"],[0.4444444444444444,\"#bd3786\"],[0.5555555555555556,\"#d8576b\"],[0.6666666666666666,\"#ed7953\"],[0.7777777777777778,\"#fb9f3a\"],[0.8888888888888888,\"#fdca26\"],[1.0,\"#f0f921\"]]}],\"surface\":[{\"type\":\"surface\",\"colorbar\":{\"outlinewidth\":0,\"ticks\":\"\"},\"colorscale\":[[0.0,\"#0d0887\"],[0.1111111111111111,\"#46039f\"],[0.2222222222222222,\"#7201a8\"],[0.3333333333333333,\"#9c179e\"],[0.4444444444444444,\"#bd3786\"],[0.5555555555555556,\"#d8576b\"],[0.6666666666666666,\"#ed7953\"],[0.7777777777777778,\"#fb9f3a\"],[0.8888888888888888,\"#fdca26\"],[1.0,\"#f0f921\"]]}],\"mesh3d\":[{\"type\":\"mesh3d\",\"colorbar\":{\"outlinewidth\":0,\"ticks\":\"\"}}],\"scatter\":[{\"fillpattern\":{\"fillmode\":\"overlay\",\"size\":10,\"solidity\":0.2},\"type\":\"scatter\"}],\"parcoords\":[{\"type\":\"parcoords\",\"line\":{\"colorbar\":{\"outlinewidth\":0,\"ticks\":\"\"}}}],\"scatterpolargl\":[{\"type\":\"scatterpolargl\",\"marker\":{\"colorbar\":{\"outlinewidth\":0,\"ticks\":\"\"}}}],\"bar\":[{\"error_x\":{\"color\":\"#2a3f5f\"},\"error_y\":{\"color\":\"#2a3f5f\"},\"marker\":{\"line\":{\"color\":\"#E5ECF6\",\"width\":0.5},\"pattern\":{\"fillmode\":\"overlay\",\"size\":10,\"solidity\":0.2}},\"type\":\"bar\"}],\"scattergeo\":[{\"type\":\"scattergeo\",\"marker\":{\"colorbar\":{\"outlinewidth\":0,\"ticks\":\"\"}}}],\"scatterpolar\":[{\"type\":\"scatterpolar\",\"marker\":{\"colorbar\":{\"outlinewidth\":0,\"ticks\":\"\"}}}],\"histogram\":[{\"marker\":{\"pattern\":{\"fillmode\":\"overlay\",\"size\":10,\"solidity\":0.2}},\"type\":\"histogram\"}],\"scattergl\":[{\"type\":\"scattergl\",\"marker\":{\"colorbar\":{\"outlinewidth\":0,\"ticks\":\"\"}}}],\"scatter3d\":[{\"type\":\"scatter3d\",\"line\":{\"colorbar\":{\"outlinewidth\":0,\"ticks\":\"\"}},\"marker\":{\"colorbar\":{\"outlinewidth\":0,\"ticks\":\"\"}}}],\"scattermapbox\":[{\"type\":\"scattermapbox\",\"marker\":{\"colorbar\":{\"outlinewidth\":0,\"ticks\":\"\"}}}],\"scatterternary\":[{\"type\":\"scatterternary\",\"marker\":{\"colorbar\":{\"outlinewidth\":0,\"ticks\":\"\"}}}],\"scattercarpet\":[{\"type\":\"scattercarpet\",\"marker\":{\"colorbar\":{\"outlinewidth\":0,\"ticks\":\"\"}}}],\"carpet\":[{\"aaxis\":{\"endlinecolor\":\"#2a3f5f\",\"gridcolor\":\"white\",\"linecolor\":\"white\",\"minorgridcolor\":\"white\",\"startlinecolor\":\"#2a3f5f\"},\"baxis\":{\"endlinecolor\":\"#2a3f5f\",\"gridcolor\":\"white\",\"linecolor\":\"white\",\"minorgridcolor\":\"white\",\"startlinecolor\":\"#2a3f5f\"},\"type\":\"carpet\"}],\"table\":[{\"cells\":{\"fill\":{\"color\":\"#EBF0F8\"},\"line\":{\"color\":\"white\"}},\"header\":{\"fill\":{\"color\":\"#C8D4E3\"},\"line\":{\"color\":\"white\"}},\"type\":\"table\"}],\"barpolar\":[{\"marker\":{\"line\":{\"color\":\"#E5ECF6\",\"width\":0.5},\"pattern\":{\"fillmode\":\"overlay\",\"size\":10,\"solidity\":0.2}},\"type\":\"barpolar\"}],\"pie\":[{\"automargin\":true,\"type\":\"pie\"}]},\"layout\":{\"autotypenumbers\":\"strict\",\"colorway\":[\"#636efa\",\"#EF553B\",\"#00cc96\",\"#ab63fa\",\"#FFA15A\",\"#19d3f3\",\"#FF6692\",\"#B6E880\",\"#FF97FF\",\"#FECB52\"],\"font\":{\"color\":\"#2a3f5f\"},\"hovermode\":\"closest\",\"hoverlabel\":{\"align\":\"left\"},\"paper_bgcolor\":\"white\",\"plot_bgcolor\":\"#E5ECF6\",\"polar\":{\"bgcolor\":\"#E5ECF6\",\"angularaxis\":{\"gridcolor\":\"white\",\"linecolor\":\"white\",\"ticks\":\"\"},\"radialaxis\":{\"gridcolor\":\"white\",\"linecolor\":\"white\",\"ticks\":\"\"}},\"ternary\":{\"bgcolor\":\"#E5ECF6\",\"aaxis\":{\"gridcolor\":\"white\",\"linecolor\":\"white\",\"ticks\":\"\"},\"baxis\":{\"gridcolor\":\"white\",\"linecolor\":\"white\",\"ticks\":\"\"},\"caxis\":{\"gridcolor\":\"white\",\"linecolor\":\"white\",\"ticks\":\"\"}},\"coloraxis\":{\"colorbar\":{\"outlinewidth\":0,\"ticks\":\"\"}},\"colorscale\":{\"sequential\":[[0.0,\"#0d0887\"],[0.1111111111111111,\"#46039f\"],[0.2222222222222222,\"#7201a8\"],[0.3333333333333333,\"#9c179e\"],[0.4444444444444444,\"#bd3786\"],[0.5555555555555556,\"#d8576b\"],[0.6666666666666666,\"#ed7953\"],[0.7777777777777778,\"#fb9f3a\"],[0.8888888888888888,\"#fdca26\"],[1.0,\"#f0f921\"]],\"sequentialminus\":[[0.0,\"#0d0887\"],[0.1111111111111111,\"#46039f\"],[0.2222222222222222,\"#7201a8\"],[0.3333333333333333,\"#9c179e\"],[0.4444444444444444,\"#bd3786\"],[0.5555555555555556,\"#d8576b\"],[0.6666666666666666,\"#ed7953\"],[0.7777777777777778,\"#fb9f3a\"],[0.8888888888888888,\"#fdca26\"],[1.0,\"#f0f921\"]],\"diverging\":[[0,\"#8e0152\"],[0.1,\"#c51b7d\"],[0.2,\"#de77ae\"],[0.3,\"#f1b6da\"],[0.4,\"#fde0ef\"],[0.5,\"#f7f7f7\"],[0.6,\"#e6f5d0\"],[0.7,\"#b8e186\"],[0.8,\"#7fbc41\"],[0.9,\"#4d9221\"],[1,\"#276419\"]]},\"xaxis\":{\"gridcolor\":\"white\",\"linecolor\":\"white\",\"ticks\":\"\",\"title\":{\"standoff\":15},\"zerolinecolor\":\"white\",\"automargin\":true,\"zerolinewidth\":2},\"yaxis\":{\"gridcolor\":\"white\",\"linecolor\":\"white\",\"ticks\":\"\",\"title\":{\"standoff\":15},\"zerolinecolor\":\"white\",\"automargin\":true,\"zerolinewidth\":2},\"scene\":{\"xaxis\":{\"backgroundcolor\":\"#E5ECF6\",\"gridcolor\":\"white\",\"linecolor\":\"white\",\"showbackground\":true,\"ticks\":\"\",\"zerolinecolor\":\"white\",\"gridwidth\":2},\"yaxis\":{\"backgroundcolor\":\"#E5ECF6\",\"gridcolor\":\"white\",\"linecolor\":\"white\",\"showbackground\":true,\"ticks\":\"\",\"zerolinecolor\":\"white\",\"gridwidth\":2},\"zaxis\":{\"backgroundcolor\":\"#E5ECF6\",\"gridcolor\":\"white\",\"linecolor\":\"white\",\"showbackground\":true,\"ticks\":\"\",\"zerolinecolor\":\"white\",\"gridwidth\":2}},\"shapedefaults\":{\"line\":{\"color\":\"#2a3f5f\"}},\"annotationdefaults\":{\"arrowcolor\":\"#2a3f5f\",\"arrowhead\":0,\"arrowwidth\":1},\"geo\":{\"bgcolor\":\"white\",\"landcolor\":\"#E5ECF6\",\"subunitcolor\":\"white\",\"showland\":true,\"showlakes\":true,\"lakecolor\":\"white\"},\"title\":{\"x\":0.05},\"mapbox\":{\"style\":\"light\"}}},\"xaxis\":{\"anchor\":\"y\",\"domain\":[0.0,1.0],\"title\":{\"text\":\"PC1\"}},\"yaxis\":{\"anchor\":\"x\",\"domain\":[0.0,1.0],\"title\":{\"text\":\"PC2\"}},\"legend\":{\"title\":{\"text\":\"species\"},\"tracegroupgap\":0},\"margin\":{\"t\":60}},                        {\"responsive\": true}                    ).then(function(){\n",
       "                            \n",
       "var gd = document.getElementById('72bca988-5215-4f96-bd90-31314c8b4470');\n",
       "var x = new MutationObserver(function (mutations, observer) {{\n",
       "        var display = window.getComputedStyle(gd).display;\n",
       "        if (!display || display === 'none') {{\n",
       "            console.log([gd, 'removed!']);\n",
       "            Plotly.purge(gd);\n",
       "            observer.disconnect();\n",
       "        }}\n",
       "}});\n",
       "\n",
       "// Listen for the removal of the full notebook cells\n",
       "var notebookContainer = gd.closest('#notebook-container');\n",
       "if (notebookContainer) {{\n",
       "    x.observe(notebookContainer, {childList: true});\n",
       "}}\n",
       "\n",
       "// Listen for the clearing of the current output cell\n",
       "var outputEl = gd.closest('.output');\n",
       "if (outputEl) {{\n",
       "    x.observe(outputEl, {childList: true});\n",
       "}}\n",
       "\n",
       "                        })                };                });            </script>        </div>"
      ]
     },
     "metadata": {},
     "output_type": "display_data"
    }
   ],
   "source": [
    "Ua, Sigma, V = np.linalg.svd(T)\n",
    "U = V.transpose()[:, 0:2]\n",
    "X_star_2D = T.dot(U)\n",
    "df_2D = pd.DataFrame({'PC1': X_star_2D[:, 0], 'PC2': X_star_2D[:, 1], 'species': y})\n",
    "fig = px.scatter(df_2D, x='PC1', y='PC2',\n",
    "              color='species')\n",
    "fig.show()"
   ]
  },
  {
   "cell_type": "markdown",
   "id": "2969de42-3a9c-4476-a93e-1576352e3c8b",
   "metadata": {},
   "source": [
    "<span style=\"font-family: XB Zar; font-size: medium; \"><div dir=rtl><meta charset=\"UTF-8\">\n",
    "    <span style=\"color: red; font-size: large; \">4. منابع</span>\n",
    "    <br>\n",
    "    <ul>\n",
    "        <li><a href=\"https://www.sqlservercentral.com/wp-content/uploads/legacy/c2362193dd68a81c6774bb9668f1178fc2cf4ad4/32947.jpg\">شکل 1</a> </li>\n",
    "        <li><a href=\"https://www.researchgate.net/profile/Diego-Peluffo/publication/325363944/figure/fig1/AS:631693463539712@1527618866278/Dimensionality-reduction-effect-over-an-3D-artificial-Swiss-roll-manifold-the-2D.png\">شکل 2</a> </li>\n",
    "        <li><a href=\"http://alexhwilliams.info/itsneuronalblog/img/pca/pca_two_views.png\">شکل 3</a> </li>\n",
    "        <li><a href=\"https://scikit-learn.org/stable/auto_examples/decomposition/plot_faces_decomposition.html#sphx-glr-auto-examples-decomposition-plot-faces-decomposition-py\">scikitlearn tutorials</a> </li>\n",
    "    </ul>\n",
    "    </div></span>"
   ]
  }
 ],
 "metadata": {
  "kernelspec": {
   "display_name": "Python 3 (ipykernel)",
   "language": "python",
   "name": "python3"
  },
  "language_info": {
   "codemirror_mode": {
    "name": "ipython",
    "version": 3
   },
   "file_extension": ".py",
   "mimetype": "text/x-python",
   "name": "python",
   "nbconvert_exporter": "python",
   "pygments_lexer": "ipython3",
   "version": "3.10.6"
  }
 },
 "nbformat": 4,
 "nbformat_minor": 5
}
