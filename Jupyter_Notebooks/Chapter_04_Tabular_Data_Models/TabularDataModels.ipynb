{
  "cells": [
    {
      "cell_type": "markdown",
      "metadata": {
        "id": "iNx2ze3Cfuh5"
      },
      "source": [
        "<div dir=\"rtl\" align=\"center\">\n",
        "<font face=\"XB Zar\" size=5>\n",
        "    <font face=\"IranNastaliq\" size=5>\n",
        "      به نام خدا\n",
        "    </font>\n",
        "    <br>\n",
        "    <font size=3>\n",
        "      دانشگاه صنعتی شریف - دانشکده مهندسی کامپیوتر\n",
        "    </font>\n",
        "    <br>\n",
        "    <font color=blue size=5>\n",
        "      مقدمه‌ای بر یادگیری ماشین\n",
        "    </font>\n",
        "    <br>\n",
        "    <hr/>\n",
        "    <font color=red size=6>\n",
        "      فصل چهارم: مدل‌های یادگیری ماشین برای داده‌های جدول\n",
        "    </font>\n",
        "    <br>\n",
        "      نویسندگان:‌ امیدرضا حیدری\n",
        "    <hr>\n",
        "<br>\n",
        "  <div align=\"right\">\n",
        "  <font color=\"red\" size=5>فهرست مطالب</font>\n",
        "\t<ul>\n",
        "    <li>\n",
        "\t\t  <a href=\"#dataset\">\n",
        "        آشنایی با دیتاست\n",
        "        <ul>\n",
        "          <li>\n",
        "            <a href=\"#columns\">\n",
        "              آشنایی با ستون های دیتاست\n",
        "            </a>\n",
        "          </li>\n",
        "          <li>\n",
        "            <a href=\"#preprocessing\">\n",
        "              آماده سازی دیتاست برای پردازش\n",
        "            </a>\n",
        "          </li>\n",
        "        </ul>\n",
        "    </a>\n",
        "\t\t</li>\n",
        "\t\t<li>\n",
        "      <a href=\"#intro\">\n",
        "        مقدمه ای بر روش های\n",
        "        <font face=\"Roboto\">Ensemble</font>\n",
        "      </a>\n",
        "    </li>\n",
        "    <li>\n",
        "    <font face=\"Roboto\">\n",
        "      <a href=\"#voting\">\n",
        "          Majority Voting\n",
        "        </a>\n",
        "    </font>\n",
        "\t\t</li>\n",
        "    <li>\n",
        "      <a href=\"#bagging\">\n",
        "        روش\n",
        "        <font face=\"Roboto\">Bagging</font>\n",
        "      </a>\n",
        "    </li>\n",
        "    <li>\n",
        "      <a href=\"#pasting\">\n",
        "        روش\n",
        "        <font face=\"Roboto\">Pasting</font>\n",
        "      </a>\n",
        "    </li>\n",
        "    <li>\n",
        "      <a href=\"#out-of-bag\">\n",
        "        ارزیابی\n",
        "        <font face=\"Roboto\">Out-of-Bag</font>\n",
        "      </a>\n",
        "    </li>\n",
        "    <li>\n",
        "      <a href=\"#random-forest\">\n",
        "        روش\n",
        "        <font face=\"Roboto\">Random forest</font>\n",
        "      </a>\n",
        "    </li>\n",
        "    <li>\n",
        "      <a href=\"#extera-trees\">\n",
        "        روش\n",
        "        <font face=\"Roboto\">Extera-Trees</font>\n",
        "      </a>\n",
        "\t\t</li>\n",
        "    <li>\n",
        "      <a href=\"#boosting\">\n",
        "        روش\n",
        "        <font face=\"Roboto\">Boosting</font>\n",
        "      </a>\n",
        "      <ul>\n",
        "        <li>\n",
        "          <a href=\"#adaboost\">\n",
        "            الگوریتم\n",
        "            <font face=\"Roboto\">AdaBoost</font>\n",
        "          </a>\n",
        "          <ul>\n",
        "            <li>\n",
        "              <a href=\"#adaboost-SAMME\">\n",
        "                <font face=\"Roboto\">SAMME</font>\n",
        "              </a>\n",
        "            </li>\n",
        "            <li>\n",
        "              <a href=\"#adaboost-SAMME.R\">\n",
        "                <font face=\"Roboto\">SAMME.R</font>\n",
        "              </a>\n",
        "            </li>\n",
        "          </ul>\n",
        "        </li>\n",
        "        <li>\n",
        "          <a href=\"#gradient-boosting\">\n",
        "            الگوریتم\n",
        "            <font face=\"Roboto\">Gradient Boosting</font>\n",
        "          </a>\n",
        "        </li>\n",
        "        <li>\n",
        "          <a href=\"#xg-boost\">\n",
        "            الگوریتم\n",
        "            <font face=\"Roboto\">XGBoost</font>\n",
        "          </a>\n",
        "        </li>\n",
        "        <li>\n",
        "          <a href=\"#early-stopping\">\n",
        "            استفاده از\n",
        "            <font face=\"Roboto\">Early stopping</font>\n",
        "          </a>\n",
        "        </li>\n",
        "        <li>\n",
        "          <a href=\"#cat-boost\">\n",
        "            الگوریتم\n",
        "            <font face=\"Roboto\">CatBoost</font>\n",
        "          </a>\n",
        "        </li>\n",
        "      </ul>\n",
        "    </li>\n",
        "    <li>\n",
        "      <a href=\"#stacking\">\n",
        "        روش                    \n",
        "        <font face=\"Roboto\">Stacking</font>\n",
        "      </a>\n",
        "    </li>\n",
        "        <li>\n",
        "      <a href=\"#multi-layer-stacking\">\n",
        "        روش                    \n",
        "        <font face=\"Roboto\">Multi-layer Stacking</font>\n",
        "      </a>\n",
        "    </li>\n",
        "    </div>\n",
        "</font>\n",
        "</div>"
      ]
    },
    {
      "cell_type": "markdown",
      "metadata": {
        "id": "sIGyifOmnOYc"
      },
      "source": [
        "\n",
        "  <div dir=rtl id=\"dataset\">\n",
        "  <font face=\"XB Zar\" size=4>\n",
        "      <font color=\"red\" size=5>\n",
        "        آشنایی با دیتاست\n",
        "      </font>\n",
        "      <hr />\n",
        "      دیتاستی که در این قسمت از آن استفاده خواهد شد، دیتاست مربوط به یک کمپین بازاریابی یک بانک در کشور پرتقال است که در سایت\n",
        "      <a href=\"https://www.kaggle.com/\">\n",
        "        <font face=\"Roboto\">\n",
        "          Kaggle\n",
        "        </font>\n",
        "      </a>\n",
        "      منتشر شده است.\n",
        "      همچنین از لینک زیر می توان به دیتاست مربوط دسترسی پیدا کرد:\n",
        "      <br />\n",
        "      <div dir=ltr>\n",
        "        <a href=\"https://www.kaggle.com/datasets/krantiswalke/bankfullcsv\">\n",
        "          <font face=\"Roboto\">\n",
        "            https://www.kaggle.com/datasets/krantiswalke/bankfullcsv\n",
        "          </font>\n",
        "        </a>\n",
        "      </div>\n",
        "      </font>\n",
        "    </div>"
      ]
    },
    {
      "cell_type": "code",
      "execution_count": 1,
      "metadata": {
        "id": "d5cbzOzxego6"
      },
      "outputs": [],
      "source": [
        "import numpy as np\n",
        "import pandas as pd\n",
        "import seaborn as sns\n",
        "import matplotlib.pyplot as plt"
      ]
    },
    {
      "cell_type": "code",
      "execution_count": 2,
      "metadata": {
        "id": "D_tjVmTl0WUs"
      },
      "outputs": [],
      "source": [
        "dataset_url = \"https://raw.githubusercontent.com/asharifiz/Introduction_to_Machine_Learning/main/Jupyter_Notebooks/Chapter_04_Tabular_Data_Models/Dataset/bank-full.csv\"\n",
        "df = pd.read_csv(dataset_url)"
      ]
    },
    {
      "cell_type": "markdown",
      "metadata": {
        "id": "BmZv9X3O0cxg"
      },
      "source": [
        "\n",
        "  <div dir=rtl id=\"columns\">\n",
        "  <font face=\"XB Zar\" size=4>\n",
        "      <font color=\"red\" size=5>\n",
        "        آشنایی با ستون های دیتاست\n",
        "      </font>\n",
        "      <hr />\n",
        "      دیتاست شامل 17 ستون می باشد:\n",
        "      <ol>\n",
        "        <li>\n",
        "          <font face=\"Roboto\">Age: </font>\n",
        "          سن افراد\n",
        "        </li>\n",
        "        <li>\n",
        "          <font face=\"Roboto\">job: </font>\n",
        "          نوع شغل افراد که شامل یکی از مقدار زیر است:\n",
        "          <ul>\n",
        "            <font face=\"Roboto\">\n",
        "              <li>\n",
        "                admin.\n",
        "              </li>\n",
        "              <li>\n",
        "                bluecollar\n",
        "              </li>\n",
        "              <li>\n",
        "                entrepreneur\n",
        "              </li>\n",
        "              <li>\n",
        "                housemaid\n",
        "              </li>\n",
        "              <li>\n",
        "                management\n",
        "              </li>\n",
        "              <li>\n",
        "                retired\n",
        "              </li>\n",
        "              <li>\n",
        "                selfemployed\n",
        "              </li>\n",
        "              <li>\n",
        "                services\n",
        "              </li>\n",
        "              <li>\n",
        "                student\n",
        "              </li>\n",
        "              <li>\n",
        "                technician\n",
        "              </li>\n",
        "              <li>\n",
        "                unemployed\n",
        "              </li>\n",
        "              <li>\n",
        "                unknown\n",
        "              </li>\n",
        "            </font>\n",
        "          </ul>\n",
        "        </li>\n",
        "        <li>\n",
        "          <font face=\"Roboto\">marital: </font>\n",
        "          وضعیت تاهل افراد که شامل یکی از مقدار زیر است:\n",
        "          <ul>\n",
        "            <font face=\"Roboto\">\n",
        "              <li>\n",
        "                divorced\n",
        "              </li>\n",
        "              <li>\n",
        "                married\n",
        "              </li>\n",
        "              <li>\n",
        "                single\n",
        "              </li>\n",
        "              <li>\n",
        "                unknown\n",
        "              </li>\n",
        "            </font>\n",
        "          </ul>\n",
        "        </li>\n",
        "        <li>\n",
        "          <font face=\"Roboto\">education: </font>\n",
        "          وضعیت تحصیلی افراد که شامل یکی از مقادیر زیر است:\n",
        "          <ul>\n",
        "            <font face=\"Roboto\">\n",
        "              <li>\n",
        "                basic.4y\n",
        "              </li>\n",
        "              <li>\n",
        "                basic.6y\n",
        "              </li>\n",
        "              <li>\n",
        "                basic.9y\n",
        "              </li>\n",
        "              <li>\n",
        "                high.school\n",
        "              </li>\n",
        "              <li>\n",
        "                illiterate\n",
        "              </li>\n",
        "              <li>\n",
        "                professional.course\n",
        "              </li>\n",
        "              <li>\n",
        "                university.degree\n",
        "              </li>\n",
        "              <li>\n",
        "                unknown\n",
        "              </li>\n",
        "            </font>\n",
        "          </ul>\n",
        "        </li>\n",
        "        <li>\n",
        "          <font face=\"Roboto\">default: </font>\n",
        "          به صورت پیشفرض کردیت دارد؟\n",
        "        </li>\n",
        "        <li>\n",
        "          <font face=\"Roboto\">balance: </font>\n",
        "          میانگین موجودی سالانه\n",
        "        </li>\n",
        "        <li>\n",
        "          <font face=\"Roboto\">housing: </font>\n",
        "          شخص دارای وام مسکن است یا خیر\n",
        "        </li>\n",
        "        <li>\n",
        "          <font face=\"Roboto\">contact: </font>\n",
        "          روش ارتباط با مشتری که شامل یکی از موارد زیر است:\n",
        "          <ul>\n",
        "            <font face=\"Roboto\">\n",
        "              <li>\n",
        "                cellular\n",
        "              </li>\n",
        "              <li>\n",
        "                telephone\n",
        "              </li>\n",
        "            </font>\n",
        "          </ul>\n",
        "        </li>\n",
        "        <li>\n",
        "          <font face=\"Roboto\">day: </font>\n",
        "          روز آخرین ارتباط\n",
        "        </li>\n",
        "        <li>\n",
        "          <font face=\"Roboto\">month: </font>\n",
        "          ماه آخرین ارتباط که شامل یکی از موارد زیر است:\n",
        "          <ul>\n",
        "            <font face=\"Roboto\">\n",
        "              <li>\n",
        "                jan\n",
        "              </li>\n",
        "              <li>\n",
        "                feb\n",
        "              </li>\n",
        "              <li>\n",
        "                mar\n",
        "              </li>\n",
        "              <li>\n",
        "                apr\n",
        "              </li>\n",
        "              <li>\n",
        "                may\n",
        "              </li>\n",
        "              <li>\n",
        "                jun\n",
        "              </li>\n",
        "              <li>\n",
        "                jul\n",
        "              </li>\n",
        "              <li>\n",
        "                aug\n",
        "              </li>\n",
        "              <li>\n",
        "                sep\n",
        "              </li>\n",
        "              <li>\n",
        "                oct\n",
        "              </li>\n",
        "              <li>\n",
        "                nov\n",
        "              </li>\n",
        "              <li>\n",
        "                dec\n",
        "              </li>\n",
        "            </font>\n",
        "          </ul>\n",
        "        </li>\n",
        "        <li>\n",
        "          <font face=\"Roboto\">duration: </font>\n",
        "          مدت زمان آخرین ارتباط که واحد آن ثانیه است\n",
        "        </li>\n",
        "        <li>\n",
        "          <font face=\"Roboto\">campaign: </font>\n",
        "           تعداد ارتباط با مشتری برای این کمپین\n",
        "        </li>\n",
        "        <li>\n",
        "          <font face=\"Roboto\">pdays: </font>\n",
        "          تعداد روزهای گذشته شده از آخرین کمپینی که مشتری در آن شرکت کرده است(اگر این فیلد 999 باشد به این معنی است که مشتری قبلا با هیچ کمپینی ارتباط نداشته است)\n",
        "        </li>\n",
        "        <li>\n",
        "          <font face=\"Roboto\">previous: </font>\n",
        "          تعداد ارتباط با مشتری برای کمپین های قبلی\n",
        "        </li>\n",
        "        <li>\n",
        "          <font face=\"Roboto\">poutcome: </font>\n",
        "          نتیجه کمپین قبل که یکی از موارد زیر است:\n",
        "          <ul>\n",
        "            <font face=\"Roboto\">\n",
        "              <li>\n",
        "                failure\n",
        "              </li>\n",
        "              <li>\n",
        "                nonexistent\n",
        "              </li>\n",
        "              <li>\n",
        "                success\n",
        "              </li>\n",
        "            </font>\n",
        "          </ul>\n",
        "        </li>\n",
        "        <li>\n",
        "          <font face=\"Roboto\">target: </font>\n",
        "          آیا مشتری در کمپین فعلی عضو شده یا خیر\n",
        "        </li>\n",
        "      </ol>\n",
        "  </font>\n",
        "  </div>"
      ]
    },
    {
      "cell_type": "code",
      "execution_count": 3,
      "metadata": {
        "colab": {
          "base_uri": "https://localhost:8080/",
          "height": 143
        },
        "id": "FWaKYE6Zego-",
        "outputId": "b342e72e-3c45-4e66-9a86-0ebb964a8b59"
      },
      "outputs": [
        {
          "output_type": "execute_result",
          "data": {
            "text/plain": [
              "   age           job  marital  education default  balance housing loan  \\\n",
              "0   58    management  married   tertiary      no     2143     yes   no   \n",
              "1   44    technician   single  secondary      no       29     yes   no   \n",
              "2   33  entrepreneur  married  secondary      no        2     yes  yes   \n",
              "\n",
              "   contact  day month  duration  campaign  pdays  previous poutcome Target  \n",
              "0  unknown    5   may       261         1     -1         0  unknown     no  \n",
              "1  unknown    5   may       151         1     -1         0  unknown     no  \n",
              "2  unknown    5   may        76         1     -1         0  unknown     no  "
            ],
            "text/html": [
              "\n",
              "  <div id=\"df-083d0c73-c2d9-4704-9be5-ccd7171b015e\">\n",
              "    <div class=\"colab-df-container\">\n",
              "      <div>\n",
              "<style scoped>\n",
              "    .dataframe tbody tr th:only-of-type {\n",
              "        vertical-align: middle;\n",
              "    }\n",
              "\n",
              "    .dataframe tbody tr th {\n",
              "        vertical-align: top;\n",
              "    }\n",
              "\n",
              "    .dataframe thead th {\n",
              "        text-align: right;\n",
              "    }\n",
              "</style>\n",
              "<table border=\"1\" class=\"dataframe\">\n",
              "  <thead>\n",
              "    <tr style=\"text-align: right;\">\n",
              "      <th></th>\n",
              "      <th>age</th>\n",
              "      <th>job</th>\n",
              "      <th>marital</th>\n",
              "      <th>education</th>\n",
              "      <th>default</th>\n",
              "      <th>balance</th>\n",
              "      <th>housing</th>\n",
              "      <th>loan</th>\n",
              "      <th>contact</th>\n",
              "      <th>day</th>\n",
              "      <th>month</th>\n",
              "      <th>duration</th>\n",
              "      <th>campaign</th>\n",
              "      <th>pdays</th>\n",
              "      <th>previous</th>\n",
              "      <th>poutcome</th>\n",
              "      <th>Target</th>\n",
              "    </tr>\n",
              "  </thead>\n",
              "  <tbody>\n",
              "    <tr>\n",
              "      <th>0</th>\n",
              "      <td>58</td>\n",
              "      <td>management</td>\n",
              "      <td>married</td>\n",
              "      <td>tertiary</td>\n",
              "      <td>no</td>\n",
              "      <td>2143</td>\n",
              "      <td>yes</td>\n",
              "      <td>no</td>\n",
              "      <td>unknown</td>\n",
              "      <td>5</td>\n",
              "      <td>may</td>\n",
              "      <td>261</td>\n",
              "      <td>1</td>\n",
              "      <td>-1</td>\n",
              "      <td>0</td>\n",
              "      <td>unknown</td>\n",
              "      <td>no</td>\n",
              "    </tr>\n",
              "    <tr>\n",
              "      <th>1</th>\n",
              "      <td>44</td>\n",
              "      <td>technician</td>\n",
              "      <td>single</td>\n",
              "      <td>secondary</td>\n",
              "      <td>no</td>\n",
              "      <td>29</td>\n",
              "      <td>yes</td>\n",
              "      <td>no</td>\n",
              "      <td>unknown</td>\n",
              "      <td>5</td>\n",
              "      <td>may</td>\n",
              "      <td>151</td>\n",
              "      <td>1</td>\n",
              "      <td>-1</td>\n",
              "      <td>0</td>\n",
              "      <td>unknown</td>\n",
              "      <td>no</td>\n",
              "    </tr>\n",
              "    <tr>\n",
              "      <th>2</th>\n",
              "      <td>33</td>\n",
              "      <td>entrepreneur</td>\n",
              "      <td>married</td>\n",
              "      <td>secondary</td>\n",
              "      <td>no</td>\n",
              "      <td>2</td>\n",
              "      <td>yes</td>\n",
              "      <td>yes</td>\n",
              "      <td>unknown</td>\n",
              "      <td>5</td>\n",
              "      <td>may</td>\n",
              "      <td>76</td>\n",
              "      <td>1</td>\n",
              "      <td>-1</td>\n",
              "      <td>0</td>\n",
              "      <td>unknown</td>\n",
              "      <td>no</td>\n",
              "    </tr>\n",
              "  </tbody>\n",
              "</table>\n",
              "</div>\n",
              "      <button class=\"colab-df-convert\" onclick=\"convertToInteractive('df-083d0c73-c2d9-4704-9be5-ccd7171b015e')\"\n",
              "              title=\"Convert this dataframe to an interactive table.\"\n",
              "              style=\"display:none;\">\n",
              "        \n",
              "  <svg xmlns=\"http://www.w3.org/2000/svg\" height=\"24px\"viewBox=\"0 0 24 24\"\n",
              "       width=\"24px\">\n",
              "    <path d=\"M0 0h24v24H0V0z\" fill=\"none\"/>\n",
              "    <path d=\"M18.56 5.44l.94 2.06.94-2.06 2.06-.94-2.06-.94-.94-2.06-.94 2.06-2.06.94zm-11 1L8.5 8.5l.94-2.06 2.06-.94-2.06-.94L8.5 2.5l-.94 2.06-2.06.94zm10 10l.94 2.06.94-2.06 2.06-.94-2.06-.94-.94-2.06-.94 2.06-2.06.94z\"/><path d=\"M17.41 7.96l-1.37-1.37c-.4-.4-.92-.59-1.43-.59-.52 0-1.04.2-1.43.59L10.3 9.45l-7.72 7.72c-.78.78-.78 2.05 0 2.83L4 21.41c.39.39.9.59 1.41.59.51 0 1.02-.2 1.41-.59l7.78-7.78 2.81-2.81c.8-.78.8-2.07 0-2.86zM5.41 20L4 18.59l7.72-7.72 1.47 1.35L5.41 20z\"/>\n",
              "  </svg>\n",
              "      </button>\n",
              "      \n",
              "  <style>\n",
              "    .colab-df-container {\n",
              "      display:flex;\n",
              "      flex-wrap:wrap;\n",
              "      gap: 12px;\n",
              "    }\n",
              "\n",
              "    .colab-df-convert {\n",
              "      background-color: #E8F0FE;\n",
              "      border: none;\n",
              "      border-radius: 50%;\n",
              "      cursor: pointer;\n",
              "      display: none;\n",
              "      fill: #1967D2;\n",
              "      height: 32px;\n",
              "      padding: 0 0 0 0;\n",
              "      width: 32px;\n",
              "    }\n",
              "\n",
              "    .colab-df-convert:hover {\n",
              "      background-color: #E2EBFA;\n",
              "      box-shadow: 0px 1px 2px rgba(60, 64, 67, 0.3), 0px 1px 3px 1px rgba(60, 64, 67, 0.15);\n",
              "      fill: #174EA6;\n",
              "    }\n",
              "\n",
              "    [theme=dark] .colab-df-convert {\n",
              "      background-color: #3B4455;\n",
              "      fill: #D2E3FC;\n",
              "    }\n",
              "\n",
              "    [theme=dark] .colab-df-convert:hover {\n",
              "      background-color: #434B5C;\n",
              "      box-shadow: 0px 1px 3px 1px rgba(0, 0, 0, 0.15);\n",
              "      filter: drop-shadow(0px 1px 2px rgba(0, 0, 0, 0.3));\n",
              "      fill: #FFFFFF;\n",
              "    }\n",
              "  </style>\n",
              "\n",
              "      <script>\n",
              "        const buttonEl =\n",
              "          document.querySelector('#df-083d0c73-c2d9-4704-9be5-ccd7171b015e button.colab-df-convert');\n",
              "        buttonEl.style.display =\n",
              "          google.colab.kernel.accessAllowed ? 'block' : 'none';\n",
              "\n",
              "        async function convertToInteractive(key) {\n",
              "          const element = document.querySelector('#df-083d0c73-c2d9-4704-9be5-ccd7171b015e');\n",
              "          const dataTable =\n",
              "            await google.colab.kernel.invokeFunction('convertToInteractive',\n",
              "                                                     [key], {});\n",
              "          if (!dataTable) return;\n",
              "\n",
              "          const docLinkHtml = 'Like what you see? Visit the ' +\n",
              "            '<a target=\"_blank\" href=https://colab.research.google.com/notebooks/data_table.ipynb>data table notebook</a>'\n",
              "            + ' to learn more about interactive tables.';\n",
              "          element.innerHTML = '';\n",
              "          dataTable['output_type'] = 'display_data';\n",
              "          await google.colab.output.renderOutput(dataTable, element);\n",
              "          const docLink = document.createElement('div');\n",
              "          docLink.innerHTML = docLinkHtml;\n",
              "          element.appendChild(docLink);\n",
              "        }\n",
              "      </script>\n",
              "    </div>\n",
              "  </div>\n",
              "  "
            ]
          },
          "metadata": {},
          "execution_count": 3
        }
      ],
      "source": [
        "df.head(3)"
      ]
    },
    {
      "cell_type": "code",
      "execution_count": 4,
      "metadata": {
        "colab": {
          "base_uri": "https://localhost:8080/",
          "height": 300
        },
        "id": "Vxei2ek5egpB",
        "outputId": "ad6ad634-f9d3-47bd-a365-2f02d5a747d4"
      },
      "outputs": [
        {
          "output_type": "execute_result",
          "data": {
            "text/plain": [
              "                age        balance           day      duration      campaign  \\\n",
              "count  45211.000000   45211.000000  45211.000000  45211.000000  45211.000000   \n",
              "mean      40.936210    1362.272058     15.806419    258.163080      2.763841   \n",
              "std       10.618762    3044.765829      8.322476    257.527812      3.098021   \n",
              "min       18.000000   -8019.000000      1.000000      0.000000      1.000000   \n",
              "25%       33.000000      72.000000      8.000000    103.000000      1.000000   \n",
              "50%       39.000000     448.000000     16.000000    180.000000      2.000000   \n",
              "75%       48.000000    1428.000000     21.000000    319.000000      3.000000   \n",
              "max       95.000000  102127.000000     31.000000   4918.000000     63.000000   \n",
              "\n",
              "              pdays      previous  \n",
              "count  45211.000000  45211.000000  \n",
              "mean      40.197828      0.580323  \n",
              "std      100.128746      2.303441  \n",
              "min       -1.000000      0.000000  \n",
              "25%       -1.000000      0.000000  \n",
              "50%       -1.000000      0.000000  \n",
              "75%       -1.000000      0.000000  \n",
              "max      871.000000    275.000000  "
            ],
            "text/html": [
              "\n",
              "  <div id=\"df-a6dd63a5-853c-442f-adf5-0f73a7b7b353\">\n",
              "    <div class=\"colab-df-container\">\n",
              "      <div>\n",
              "<style scoped>\n",
              "    .dataframe tbody tr th:only-of-type {\n",
              "        vertical-align: middle;\n",
              "    }\n",
              "\n",
              "    .dataframe tbody tr th {\n",
              "        vertical-align: top;\n",
              "    }\n",
              "\n",
              "    .dataframe thead th {\n",
              "        text-align: right;\n",
              "    }\n",
              "</style>\n",
              "<table border=\"1\" class=\"dataframe\">\n",
              "  <thead>\n",
              "    <tr style=\"text-align: right;\">\n",
              "      <th></th>\n",
              "      <th>age</th>\n",
              "      <th>balance</th>\n",
              "      <th>day</th>\n",
              "      <th>duration</th>\n",
              "      <th>campaign</th>\n",
              "      <th>pdays</th>\n",
              "      <th>previous</th>\n",
              "    </tr>\n",
              "  </thead>\n",
              "  <tbody>\n",
              "    <tr>\n",
              "      <th>count</th>\n",
              "      <td>45211.000000</td>\n",
              "      <td>45211.000000</td>\n",
              "      <td>45211.000000</td>\n",
              "      <td>45211.000000</td>\n",
              "      <td>45211.000000</td>\n",
              "      <td>45211.000000</td>\n",
              "      <td>45211.000000</td>\n",
              "    </tr>\n",
              "    <tr>\n",
              "      <th>mean</th>\n",
              "      <td>40.936210</td>\n",
              "      <td>1362.272058</td>\n",
              "      <td>15.806419</td>\n",
              "      <td>258.163080</td>\n",
              "      <td>2.763841</td>\n",
              "      <td>40.197828</td>\n",
              "      <td>0.580323</td>\n",
              "    </tr>\n",
              "    <tr>\n",
              "      <th>std</th>\n",
              "      <td>10.618762</td>\n",
              "      <td>3044.765829</td>\n",
              "      <td>8.322476</td>\n",
              "      <td>257.527812</td>\n",
              "      <td>3.098021</td>\n",
              "      <td>100.128746</td>\n",
              "      <td>2.303441</td>\n",
              "    </tr>\n",
              "    <tr>\n",
              "      <th>min</th>\n",
              "      <td>18.000000</td>\n",
              "      <td>-8019.000000</td>\n",
              "      <td>1.000000</td>\n",
              "      <td>0.000000</td>\n",
              "      <td>1.000000</td>\n",
              "      <td>-1.000000</td>\n",
              "      <td>0.000000</td>\n",
              "    </tr>\n",
              "    <tr>\n",
              "      <th>25%</th>\n",
              "      <td>33.000000</td>\n",
              "      <td>72.000000</td>\n",
              "      <td>8.000000</td>\n",
              "      <td>103.000000</td>\n",
              "      <td>1.000000</td>\n",
              "      <td>-1.000000</td>\n",
              "      <td>0.000000</td>\n",
              "    </tr>\n",
              "    <tr>\n",
              "      <th>50%</th>\n",
              "      <td>39.000000</td>\n",
              "      <td>448.000000</td>\n",
              "      <td>16.000000</td>\n",
              "      <td>180.000000</td>\n",
              "      <td>2.000000</td>\n",
              "      <td>-1.000000</td>\n",
              "      <td>0.000000</td>\n",
              "    </tr>\n",
              "    <tr>\n",
              "      <th>75%</th>\n",
              "      <td>48.000000</td>\n",
              "      <td>1428.000000</td>\n",
              "      <td>21.000000</td>\n",
              "      <td>319.000000</td>\n",
              "      <td>3.000000</td>\n",
              "      <td>-1.000000</td>\n",
              "      <td>0.000000</td>\n",
              "    </tr>\n",
              "    <tr>\n",
              "      <th>max</th>\n",
              "      <td>95.000000</td>\n",
              "      <td>102127.000000</td>\n",
              "      <td>31.000000</td>\n",
              "      <td>4918.000000</td>\n",
              "      <td>63.000000</td>\n",
              "      <td>871.000000</td>\n",
              "      <td>275.000000</td>\n",
              "    </tr>\n",
              "  </tbody>\n",
              "</table>\n",
              "</div>\n",
              "      <button class=\"colab-df-convert\" onclick=\"convertToInteractive('df-a6dd63a5-853c-442f-adf5-0f73a7b7b353')\"\n",
              "              title=\"Convert this dataframe to an interactive table.\"\n",
              "              style=\"display:none;\">\n",
              "        \n",
              "  <svg xmlns=\"http://www.w3.org/2000/svg\" height=\"24px\"viewBox=\"0 0 24 24\"\n",
              "       width=\"24px\">\n",
              "    <path d=\"M0 0h24v24H0V0z\" fill=\"none\"/>\n",
              "    <path d=\"M18.56 5.44l.94 2.06.94-2.06 2.06-.94-2.06-.94-.94-2.06-.94 2.06-2.06.94zm-11 1L8.5 8.5l.94-2.06 2.06-.94-2.06-.94L8.5 2.5l-.94 2.06-2.06.94zm10 10l.94 2.06.94-2.06 2.06-.94-2.06-.94-.94-2.06-.94 2.06-2.06.94z\"/><path d=\"M17.41 7.96l-1.37-1.37c-.4-.4-.92-.59-1.43-.59-.52 0-1.04.2-1.43.59L10.3 9.45l-7.72 7.72c-.78.78-.78 2.05 0 2.83L4 21.41c.39.39.9.59 1.41.59.51 0 1.02-.2 1.41-.59l7.78-7.78 2.81-2.81c.8-.78.8-2.07 0-2.86zM5.41 20L4 18.59l7.72-7.72 1.47 1.35L5.41 20z\"/>\n",
              "  </svg>\n",
              "      </button>\n",
              "      \n",
              "  <style>\n",
              "    .colab-df-container {\n",
              "      display:flex;\n",
              "      flex-wrap:wrap;\n",
              "      gap: 12px;\n",
              "    }\n",
              "\n",
              "    .colab-df-convert {\n",
              "      background-color: #E8F0FE;\n",
              "      border: none;\n",
              "      border-radius: 50%;\n",
              "      cursor: pointer;\n",
              "      display: none;\n",
              "      fill: #1967D2;\n",
              "      height: 32px;\n",
              "      padding: 0 0 0 0;\n",
              "      width: 32px;\n",
              "    }\n",
              "\n",
              "    .colab-df-convert:hover {\n",
              "      background-color: #E2EBFA;\n",
              "      box-shadow: 0px 1px 2px rgba(60, 64, 67, 0.3), 0px 1px 3px 1px rgba(60, 64, 67, 0.15);\n",
              "      fill: #174EA6;\n",
              "    }\n",
              "\n",
              "    [theme=dark] .colab-df-convert {\n",
              "      background-color: #3B4455;\n",
              "      fill: #D2E3FC;\n",
              "    }\n",
              "\n",
              "    [theme=dark] .colab-df-convert:hover {\n",
              "      background-color: #434B5C;\n",
              "      box-shadow: 0px 1px 3px 1px rgba(0, 0, 0, 0.15);\n",
              "      filter: drop-shadow(0px 1px 2px rgba(0, 0, 0, 0.3));\n",
              "      fill: #FFFFFF;\n",
              "    }\n",
              "  </style>\n",
              "\n",
              "      <script>\n",
              "        const buttonEl =\n",
              "          document.querySelector('#df-a6dd63a5-853c-442f-adf5-0f73a7b7b353 button.colab-df-convert');\n",
              "        buttonEl.style.display =\n",
              "          google.colab.kernel.accessAllowed ? 'block' : 'none';\n",
              "\n",
              "        async function convertToInteractive(key) {\n",
              "          const element = document.querySelector('#df-a6dd63a5-853c-442f-adf5-0f73a7b7b353');\n",
              "          const dataTable =\n",
              "            await google.colab.kernel.invokeFunction('convertToInteractive',\n",
              "                                                     [key], {});\n",
              "          if (!dataTable) return;\n",
              "\n",
              "          const docLinkHtml = 'Like what you see? Visit the ' +\n",
              "            '<a target=\"_blank\" href=https://colab.research.google.com/notebooks/data_table.ipynb>data table notebook</a>'\n",
              "            + ' to learn more about interactive tables.';\n",
              "          element.innerHTML = '';\n",
              "          dataTable['output_type'] = 'display_data';\n",
              "          await google.colab.output.renderOutput(dataTable, element);\n",
              "          const docLink = document.createElement('div');\n",
              "          docLink.innerHTML = docLinkHtml;\n",
              "          element.appendChild(docLink);\n",
              "        }\n",
              "      </script>\n",
              "    </div>\n",
              "  </div>\n",
              "  "
            ]
          },
          "metadata": {},
          "execution_count": 4
        }
      ],
      "source": [
        "df.describe()"
      ]
    },
    {
      "cell_type": "code",
      "execution_count": 5,
      "metadata": {
        "colab": {
          "base_uri": "https://localhost:8080/"
        },
        "id": "-rUt-7j7egpD",
        "outputId": "9ebc1da4-ec4e-454f-8de0-f75e8e5075ba"
      },
      "outputs": [
        {
          "output_type": "stream",
          "name": "stdout",
          "text": [
            "<class 'pandas.core.frame.DataFrame'>\n",
            "RangeIndex: 45211 entries, 0 to 45210\n",
            "Data columns (total 17 columns):\n",
            " #   Column     Non-Null Count  Dtype \n",
            "---  ------     --------------  ----- \n",
            " 0   age        45211 non-null  int64 \n",
            " 1   job        45211 non-null  object\n",
            " 2   marital    45211 non-null  object\n",
            " 3   education  45211 non-null  object\n",
            " 4   default    45211 non-null  object\n",
            " 5   balance    45211 non-null  int64 \n",
            " 6   housing    45211 non-null  object\n",
            " 7   loan       45211 non-null  object\n",
            " 8   contact    45211 non-null  object\n",
            " 9   day        45211 non-null  int64 \n",
            " 10  month      45211 non-null  object\n",
            " 11  duration   45211 non-null  int64 \n",
            " 12  campaign   45211 non-null  int64 \n",
            " 13  pdays      45211 non-null  int64 \n",
            " 14  previous   45211 non-null  int64 \n",
            " 15  poutcome   45211 non-null  object\n",
            " 16  Target     45211 non-null  object\n",
            "dtypes: int64(7), object(10)\n",
            "memory usage: 5.9+ MB\n"
          ]
        }
      ],
      "source": [
        "df.info()"
      ]
    },
    {
      "cell_type": "markdown",
      "metadata": {
        "id": "7u-9szEQ1UST"
      },
      "source": [
        "\n",
        "  <div dir=rtl id=\"preprocessing\">\n",
        "    <font face=\"XB Zar\" size=4>\n",
        "      <font color=\"red\" size=5>آماده سازی دیتاست برای پردازش</font>\n",
        "      <hr />\n",
        "      قدم اول برای آماده سازی دیتاست تبدیل مقادیر غیرعددی به مقادیر عددی است که بتوان در مدل ها استفاده کرد. در این مرحله از\n",
        "      <font face=\"Roboto\">Label Encoder</font>\n",
        "      استفاده می شود:\n",
        "    </font>\n",
        "  </div>"
      ]
    },
    {
      "cell_type": "code",
      "execution_count": 6,
      "metadata": {
        "id": "Rh6R6bEzegpF"
      },
      "outputs": [],
      "source": [
        "from sklearn.preprocessing import LabelEncoder\n",
        "encoder = LabelEncoder()\n",
        "columns_to_encode = ['job', 'marital', 'education', 'month', 'contact', 'poutcome', 'housing', 'loan', 'Target', 'default']\n",
        "for column_to_encode in columns_to_encode:\n",
        "    encoder.fit(np.array(df[column_to_encode]))\n",
        "    df[column_to_encode]=encoder.transform(df[column_to_encode])"
      ]
    },
    {
      "cell_type": "code",
      "execution_count": 7,
      "metadata": {
        "colab": {
          "base_uri": "https://localhost:8080/",
          "height": 206
        },
        "id": "ATlshxW3egpI",
        "outputId": "368aa4e2-0ba7-4e89-c137-3f8b8307572b"
      },
      "outputs": [
        {
          "output_type": "execute_result",
          "data": {
            "text/plain": [
              "   age  job  marital  education  default  balance  housing  loan  contact  \\\n",
              "0   58    4        1          2        0     2143        1     0        2   \n",
              "1   44    9        2          1        0       29        1     0        2   \n",
              "2   33    2        1          1        0        2        1     1        2   \n",
              "3   47    1        1          3        0     1506        1     0        2   \n",
              "4   33   11        2          3        0        1        0     0        2   \n",
              "\n",
              "   day  month  duration  campaign  pdays  previous  poutcome  Target  \n",
              "0    5      8       261         1     -1         0         3       0  \n",
              "1    5      8       151         1     -1         0         3       0  \n",
              "2    5      8        76         1     -1         0         3       0  \n",
              "3    5      8        92         1     -1         0         3       0  \n",
              "4    5      8       198         1     -1         0         3       0  "
            ],
            "text/html": [
              "\n",
              "  <div id=\"df-e2e50cf1-15c1-4ab4-a944-026c574d4fee\">\n",
              "    <div class=\"colab-df-container\">\n",
              "      <div>\n",
              "<style scoped>\n",
              "    .dataframe tbody tr th:only-of-type {\n",
              "        vertical-align: middle;\n",
              "    }\n",
              "\n",
              "    .dataframe tbody tr th {\n",
              "        vertical-align: top;\n",
              "    }\n",
              "\n",
              "    .dataframe thead th {\n",
              "        text-align: right;\n",
              "    }\n",
              "</style>\n",
              "<table border=\"1\" class=\"dataframe\">\n",
              "  <thead>\n",
              "    <tr style=\"text-align: right;\">\n",
              "      <th></th>\n",
              "      <th>age</th>\n",
              "      <th>job</th>\n",
              "      <th>marital</th>\n",
              "      <th>education</th>\n",
              "      <th>default</th>\n",
              "      <th>balance</th>\n",
              "      <th>housing</th>\n",
              "      <th>loan</th>\n",
              "      <th>contact</th>\n",
              "      <th>day</th>\n",
              "      <th>month</th>\n",
              "      <th>duration</th>\n",
              "      <th>campaign</th>\n",
              "      <th>pdays</th>\n",
              "      <th>previous</th>\n",
              "      <th>poutcome</th>\n",
              "      <th>Target</th>\n",
              "    </tr>\n",
              "  </thead>\n",
              "  <tbody>\n",
              "    <tr>\n",
              "      <th>0</th>\n",
              "      <td>58</td>\n",
              "      <td>4</td>\n",
              "      <td>1</td>\n",
              "      <td>2</td>\n",
              "      <td>0</td>\n",
              "      <td>2143</td>\n",
              "      <td>1</td>\n",
              "      <td>0</td>\n",
              "      <td>2</td>\n",
              "      <td>5</td>\n",
              "      <td>8</td>\n",
              "      <td>261</td>\n",
              "      <td>1</td>\n",
              "      <td>-1</td>\n",
              "      <td>0</td>\n",
              "      <td>3</td>\n",
              "      <td>0</td>\n",
              "    </tr>\n",
              "    <tr>\n",
              "      <th>1</th>\n",
              "      <td>44</td>\n",
              "      <td>9</td>\n",
              "      <td>2</td>\n",
              "      <td>1</td>\n",
              "      <td>0</td>\n",
              "      <td>29</td>\n",
              "      <td>1</td>\n",
              "      <td>0</td>\n",
              "      <td>2</td>\n",
              "      <td>5</td>\n",
              "      <td>8</td>\n",
              "      <td>151</td>\n",
              "      <td>1</td>\n",
              "      <td>-1</td>\n",
              "      <td>0</td>\n",
              "      <td>3</td>\n",
              "      <td>0</td>\n",
              "    </tr>\n",
              "    <tr>\n",
              "      <th>2</th>\n",
              "      <td>33</td>\n",
              "      <td>2</td>\n",
              "      <td>1</td>\n",
              "      <td>1</td>\n",
              "      <td>0</td>\n",
              "      <td>2</td>\n",
              "      <td>1</td>\n",
              "      <td>1</td>\n",
              "      <td>2</td>\n",
              "      <td>5</td>\n",
              "      <td>8</td>\n",
              "      <td>76</td>\n",
              "      <td>1</td>\n",
              "      <td>-1</td>\n",
              "      <td>0</td>\n",
              "      <td>3</td>\n",
              "      <td>0</td>\n",
              "    </tr>\n",
              "    <tr>\n",
              "      <th>3</th>\n",
              "      <td>47</td>\n",
              "      <td>1</td>\n",
              "      <td>1</td>\n",
              "      <td>3</td>\n",
              "      <td>0</td>\n",
              "      <td>1506</td>\n",
              "      <td>1</td>\n",
              "      <td>0</td>\n",
              "      <td>2</td>\n",
              "      <td>5</td>\n",
              "      <td>8</td>\n",
              "      <td>92</td>\n",
              "      <td>1</td>\n",
              "      <td>-1</td>\n",
              "      <td>0</td>\n",
              "      <td>3</td>\n",
              "      <td>0</td>\n",
              "    </tr>\n",
              "    <tr>\n",
              "      <th>4</th>\n",
              "      <td>33</td>\n",
              "      <td>11</td>\n",
              "      <td>2</td>\n",
              "      <td>3</td>\n",
              "      <td>0</td>\n",
              "      <td>1</td>\n",
              "      <td>0</td>\n",
              "      <td>0</td>\n",
              "      <td>2</td>\n",
              "      <td>5</td>\n",
              "      <td>8</td>\n",
              "      <td>198</td>\n",
              "      <td>1</td>\n",
              "      <td>-1</td>\n",
              "      <td>0</td>\n",
              "      <td>3</td>\n",
              "      <td>0</td>\n",
              "    </tr>\n",
              "  </tbody>\n",
              "</table>\n",
              "</div>\n",
              "      <button class=\"colab-df-convert\" onclick=\"convertToInteractive('df-e2e50cf1-15c1-4ab4-a944-026c574d4fee')\"\n",
              "              title=\"Convert this dataframe to an interactive table.\"\n",
              "              style=\"display:none;\">\n",
              "        \n",
              "  <svg xmlns=\"http://www.w3.org/2000/svg\" height=\"24px\"viewBox=\"0 0 24 24\"\n",
              "       width=\"24px\">\n",
              "    <path d=\"M0 0h24v24H0V0z\" fill=\"none\"/>\n",
              "    <path d=\"M18.56 5.44l.94 2.06.94-2.06 2.06-.94-2.06-.94-.94-2.06-.94 2.06-2.06.94zm-11 1L8.5 8.5l.94-2.06 2.06-.94-2.06-.94L8.5 2.5l-.94 2.06-2.06.94zm10 10l.94 2.06.94-2.06 2.06-.94-2.06-.94-.94-2.06-.94 2.06-2.06.94z\"/><path d=\"M17.41 7.96l-1.37-1.37c-.4-.4-.92-.59-1.43-.59-.52 0-1.04.2-1.43.59L10.3 9.45l-7.72 7.72c-.78.78-.78 2.05 0 2.83L4 21.41c.39.39.9.59 1.41.59.51 0 1.02-.2 1.41-.59l7.78-7.78 2.81-2.81c.8-.78.8-2.07 0-2.86zM5.41 20L4 18.59l7.72-7.72 1.47 1.35L5.41 20z\"/>\n",
              "  </svg>\n",
              "      </button>\n",
              "      \n",
              "  <style>\n",
              "    .colab-df-container {\n",
              "      display:flex;\n",
              "      flex-wrap:wrap;\n",
              "      gap: 12px;\n",
              "    }\n",
              "\n",
              "    .colab-df-convert {\n",
              "      background-color: #E8F0FE;\n",
              "      border: none;\n",
              "      border-radius: 50%;\n",
              "      cursor: pointer;\n",
              "      display: none;\n",
              "      fill: #1967D2;\n",
              "      height: 32px;\n",
              "      padding: 0 0 0 0;\n",
              "      width: 32px;\n",
              "    }\n",
              "\n",
              "    .colab-df-convert:hover {\n",
              "      background-color: #E2EBFA;\n",
              "      box-shadow: 0px 1px 2px rgba(60, 64, 67, 0.3), 0px 1px 3px 1px rgba(60, 64, 67, 0.15);\n",
              "      fill: #174EA6;\n",
              "    }\n",
              "\n",
              "    [theme=dark] .colab-df-convert {\n",
              "      background-color: #3B4455;\n",
              "      fill: #D2E3FC;\n",
              "    }\n",
              "\n",
              "    [theme=dark] .colab-df-convert:hover {\n",
              "      background-color: #434B5C;\n",
              "      box-shadow: 0px 1px 3px 1px rgba(0, 0, 0, 0.15);\n",
              "      filter: drop-shadow(0px 1px 2px rgba(0, 0, 0, 0.3));\n",
              "      fill: #FFFFFF;\n",
              "    }\n",
              "  </style>\n",
              "\n",
              "      <script>\n",
              "        const buttonEl =\n",
              "          document.querySelector('#df-e2e50cf1-15c1-4ab4-a944-026c574d4fee button.colab-df-convert');\n",
              "        buttonEl.style.display =\n",
              "          google.colab.kernel.accessAllowed ? 'block' : 'none';\n",
              "\n",
              "        async function convertToInteractive(key) {\n",
              "          const element = document.querySelector('#df-e2e50cf1-15c1-4ab4-a944-026c574d4fee');\n",
              "          const dataTable =\n",
              "            await google.colab.kernel.invokeFunction('convertToInteractive',\n",
              "                                                     [key], {});\n",
              "          if (!dataTable) return;\n",
              "\n",
              "          const docLinkHtml = 'Like what you see? Visit the ' +\n",
              "            '<a target=\"_blank\" href=https://colab.research.google.com/notebooks/data_table.ipynb>data table notebook</a>'\n",
              "            + ' to learn more about interactive tables.';\n",
              "          element.innerHTML = '';\n",
              "          dataTable['output_type'] = 'display_data';\n",
              "          await google.colab.output.renderOutput(dataTable, element);\n",
              "          const docLink = document.createElement('div');\n",
              "          docLink.innerHTML = docLinkHtml;\n",
              "          element.appendChild(docLink);\n",
              "        }\n",
              "      </script>\n",
              "    </div>\n",
              "  </div>\n",
              "  "
            ]
          },
          "metadata": {},
          "execution_count": 7
        }
      ],
      "source": [
        "df.head()"
      ]
    },
    {
      "cell_type": "markdown",
      "metadata": {
        "id": "WUD6Cb2nhm2H"
      },
      "source": [
        "\n",
        "  <div dir=rtl id=\"preprocessing\">\n",
        "    <font face=\"XB Zar\" size=4>\n",
        "      قدم بعدی، حذف سطرهایی است که دردسترس نیست:\n",
        "    </font>\n",
        "  </div>"
      ]
    },
    {
      "cell_type": "code",
      "execution_count": 8,
      "metadata": {
        "colab": {
          "base_uri": "https://localhost:8080/"
        },
        "id": "GEFXjToAegpK",
        "outputId": "f16bea92-14b7-4276-fbb1-2066b4ca0080"
      },
      "outputs": [
        {
          "output_type": "stream",
          "name": "stdout",
          "text": [
            "<class 'pandas.core.frame.DataFrame'>\n",
            "Int64Index: 45211 entries, 0 to 45210\n",
            "Data columns (total 17 columns):\n",
            " #   Column     Non-Null Count  Dtype\n",
            "---  ------     --------------  -----\n",
            " 0   age        45211 non-null  int64\n",
            " 1   job        45211 non-null  int64\n",
            " 2   marital    45211 non-null  int64\n",
            " 3   education  45211 non-null  int64\n",
            " 4   default    45211 non-null  int64\n",
            " 5   balance    45211 non-null  int64\n",
            " 6   housing    45211 non-null  int64\n",
            " 7   loan       45211 non-null  int64\n",
            " 8   contact    45211 non-null  int64\n",
            " 9   day        45211 non-null  int64\n",
            " 10  month      45211 non-null  int64\n",
            " 11  duration   45211 non-null  int64\n",
            " 12  campaign   45211 non-null  int64\n",
            " 13  pdays      45211 non-null  int64\n",
            " 14  previous   45211 non-null  int64\n",
            " 15  poutcome   45211 non-null  int64\n",
            " 16  Target     45211 non-null  int64\n",
            "dtypes: int64(17)\n",
            "memory usage: 7.2 MB\n"
          ]
        }
      ],
      "source": [
        "colums_have_unknow=['job', 'marital', 'education', 'default', 'housing', 'loan']\n",
        "for colum_has_unknow in colums_have_unknow:\n",
        "    df.drop(df[df[colum_has_unknow] == 'unknow'].index, inplace = True)\n",
        "df.info()"
      ]
    },
    {
      "cell_type": "markdown",
      "metadata": {
        "id": "Y3s30a-biJtF"
      },
      "source": [
        "  <div dir=rtl id=\"preprocessing\">\n",
        "    <font face=\"XB Zar\" size=4>\n",
        "      قدم آخر، تقسیم دیتاست به دو قسمت:\n",
        "      <ul>\n",
        "        <font face=\"Roboto\">\n",
        "          <li>\n",
        "            Training\n",
        "          </li>\n",
        "          <li>\n",
        "            Testing\n",
        "          </li>\n",
        "        </font>\n",
        "      </ul>\n",
        "      می باشد که دو قسمت اصلی یادگیری ماشین هستند.\n",
        "    </font>\n",
        "  </div>"
      ]
    },
    {
      "cell_type": "code",
      "execution_count": 9,
      "metadata": {
        "id": "NOGLhxU1egpL"
      },
      "outputs": [],
      "source": [
        "y = df[\"Target\"].copy()\n",
        "x = df.drop(\"Target\", axis=1)"
      ]
    },
    {
      "cell_type": "code",
      "execution_count": 10,
      "metadata": {
        "id": "m_BKQ1yuegpP"
      },
      "outputs": [],
      "source": [
        "from sklearn.model_selection import train_test_split\n",
        "x_train, x_test, y_train, y_test = train_test_split(x, y, test_size = 0.33, random_state = 42)"
      ]
    },
    {
      "cell_type": "code",
      "execution_count": 11,
      "metadata": {
        "colab": {
          "base_uri": "https://localhost:8080/",
          "height": 1000
        },
        "id": "q8c_8eOb0ZU5",
        "outputId": "f2af2e22-3e87-4a17-c72b-4d40d17dd2a1"
      },
      "outputs": [
        {
          "output_type": "display_data",
          "data": {
            "text/plain": [
              "<Figure size 1224x1224 with 2 Axes>"
            ],
            "image/png": "[encoded data removed]"
          },
          "metadata": {
            "needs_background": "light"
          }
        }
      ],
      "source": [
        "plt.figure(figsize=(17,17))\n",
        "sns.heatmap(data = df.corr(), annot=True, cmap=\"YlOrBr\")\n",
        "plt.show()"
      ]
    },
    {
      "cell_type": "markdown",
      "metadata": {
        "id": "1ElZ0H5Fg2yw"
      },
      "source": [
        "\n",
        "  <div dir=\"rtl\" id=\"intro\">\n",
        "    <font face=\"XB Zar\" size=4>\n",
        "      <font color=\"red\" size=5>\n",
        "        مقدمه ای بر روش های\n",
        "        <font face=\"Roboto\">Ensemble</font>\n",
        "      </font>\n",
        "      <hr />\n",
        "       فرض کنید که شما از تعدادی از افراد(به صورت تصادفی) خواسته اید که یک مسئله را حل کرده و به شما تحویل دهند، احتمالا با جمع بندی پاسخ افراد به نتیجه بهتری نسبت به حالتی که از یک نفر(به صورت تصادفی) بخواهید تا این سوال را پاسخ دهد خواهید رسید. به این تئوری\n",
        "       <font face=\"Roboto\">wisdom of the crowd</font>\n",
        "       گفته میشود. در روش های\n",
        "       <font face=\"Roboto\">ensemble</font>\n",
        "       نیز از همین تئوری الهام گرفته و به همین صورت عمل می شود و از ترکیب چند الگوریتم برای بهبود پاسخ استفاده می شود.\n",
        "       </font>\n",
        "    </div>"
      ]
    },
    {
      "cell_type": "markdown",
      "metadata": {
        "id": "H_mnMP_xd-ud"
      },
      "source": [
        "\n",
        "  <div dir=rtl id=\"voting\">\n",
        "  <font face=\"XB Zar\" size=4>\n",
        "      <font color=\"red\" size=5 face=\"Roboto\">\n",
        "        Majority Voting\n",
        "      </font>\n",
        "      <hr />\n",
        "      فرض کنید شما سه مدل زیر را دارید که هر کدام جداگانه عمل می کنند:\n",
        "      <ul>\n",
        "          <li>\n",
        "            <font face=\"Roboto\">\n",
        "              Logistic Regression:\n",
        "            </font>\n",
        "            با دقت حدودا\n",
        "            <font face=\"Roboto\">\n",
        "              0.8906\n",
        "            </font>\n",
        "          </li>\n",
        "          <li>\n",
        "            <font face=\"Roboto\">\n",
        "              Decision Tree classifier:\n",
        "            </font>\n",
        "            با دقت حدودا\n",
        "            <font face=\"Roboto\">\n",
        "              0.8766\n",
        "            </font>\n",
        "          </li>\n",
        "          <li>\n",
        "            <font face=\"Roboto\">\n",
        "              Support Vector Machine:\n",
        "            </font>\n",
        "            با دقت حدودا\n",
        "            <font face=\"Roboto\">\n",
        "              0.8828\n",
        "            </font>\n",
        "          </li>\n",
        "      </ul>\n",
        "      در حالی که اگر شما برای هر پیش بینی یک رأی‌ گیری میان این مدل ها انجام داده و رأی‌ اکثریت را به عنوان نتیجه بیان کنیم میتوان به دقت حدودی\n",
        "      <font face=\"Roboto\">\n",
        "        0.8909\n",
        "      </font>\n",
        "      دست یابیم که از دقت هر سه مدل به صورت جداگانه بالاتر است.\n",
        "      </font>\n",
        "    </div>"
      ]
    },
    {
      "cell_type": "code",
      "execution_count": 12,
      "metadata": {
        "id": "8Bo736_PegpR"
      },
      "outputs": [],
      "source": [
        "from sklearn.svm import SVC\n",
        "from sklearn.tree import DecisionTreeClassifier\n",
        "from sklearn.ensemble import VotingClassifier\n",
        "from sklearn.linear_model import LogisticRegression"
      ]
    },
    {
      "cell_type": "code",
      "execution_count": 13,
      "metadata": {
        "id": "bqN_r0hKegpT"
      },
      "outputs": [],
      "source": [
        "log_clf = LogisticRegression(solver='lbfgs', max_iter=30000, random_state = 42)\n",
        "dt_clf = DecisionTreeClassifier(random_state = 42)\n",
        "svm_clf = SVC(random_state = 42)\n",
        "hard_voting_clf = VotingClassifier(estimators=[('lr', log_clf), ('dt', dt_clf), ('svc', svm_clf)])"
      ]
    },
    {
      "cell_type": "code",
      "execution_count": 14,
      "metadata": {
        "id": "jWDGpwCNegpU"
      },
      "outputs": [],
      "source": [
        "from sklearn.metrics import accuracy_score\n",
        "results = {}\n",
        "for clf in (dt_clf, svm_clf, log_clf):\n",
        "    clf.fit(x_train, y_train)\n",
        "    y_pred = clf.predict(x_test)\n",
        "    results[clf.__class__.__name__] = accuracy_score(y_test, y_pred)\n",
        "    \n",
        "hard_voting_clf.fit(x_train, y_train)\n",
        "y_pred = hard_voting_clf.predict(x_test)\n",
        "results[\"HardVotingClassifier\"] = accuracy_score(y_test, y_pred)"
      ]
    },
    {
      "cell_type": "code",
      "execution_count": 15,
      "metadata": {
        "colab": {
          "base_uri": "https://localhost:8080/",
          "height": 428
        },
        "id": "5ubvPCkMY-1Z",
        "outputId": "0ab7e3ae-007d-4e8c-f170-1c2ad0f05eb9"
      },
      "outputs": [
        {
          "output_type": "display_data",
          "data": {
            "text/plain": [
              "<Figure size 1008x504 with 1 Axes>"
            ],
            "image/png": "[encoded data removed]"
          },
          "metadata": {
            "needs_background": "light"
          }
        }
      ],
      "source": [
        "plt.figure(figsize=(14, 7))\n",
        "ax = sns.barplot(x=list(results.keys()), y=list(results.values()), palette=\"crest\")\n",
        "ax.set_ylim([min(list(results.values()))-0.002, max(list(results.values()))+0.005])\n",
        "plt.show()"
      ]
    },
    {
      "cell_type": "markdown",
      "metadata": {
        "id": "9cOkDJXH7fbE"
      },
      "source": [
        "\n",
        "  <div dir=\"rtl\" id=\"intro\">\n",
        "    <font face=\"XB Zar\" size=4>\n",
        "      <font color=\"red\" size=5>\n",
        "        استفاده از احتمال مدل ها در رأی‌ گیری\n",
        "        <font face=\"Roboto\">(Soft Voting)</font>\n",
        "      </font>\n",
        "      <hr />\n",
        "      اگر بتوانیم احتمال هر مدل را به دست آوریم. می توانیم به پاسخ هر مدل یک وزن داده(بر اساس نزدیکی پاسخ به احتمال مدل) و بر اساس این وزن ها رأی‌ گیری را انجام دهیم.\n",
        "       </font>\n",
        "    </div>"
      ]
    },
    {
      "cell_type": "code",
      "execution_count": 16,
      "metadata": {
        "id": "S-vKalbuegpV"
      },
      "outputs": [],
      "source": [
        "svm_clf = SVC(probability=True)\n",
        "soft_voting_clf = VotingClassifier(estimators=[('lr', log_clf), ('rf', dt_clf), ('svc', svm_clf)], voting='soft')\n"
      ]
    },
    {
      "cell_type": "code",
      "execution_count": 17,
      "metadata": {
        "id": "JEtC7VjfegpW"
      },
      "outputs": [],
      "source": [
        "soft_voting_clf.fit(x_train, y_train)\n",
        "y_pred = soft_voting_clf.predict(x_test)\n",
        "results[\"SoftVotingClassifier\"] = accuracy_score(y_test, y_pred)"
      ]
    },
    {
      "cell_type": "code",
      "execution_count": 18,
      "metadata": {
        "colab": {
          "base_uri": "https://localhost:8080/",
          "height": 428
        },
        "id": "SqFYQwvLotY-",
        "outputId": "b412b244-e0da-42ca-88b5-cb66c20df83c"
      },
      "outputs": [
        {
          "output_type": "display_data",
          "data": {
            "text/plain": [
              "<Figure size 1008x504 with 1 Axes>"
            ],
            "image/png": "[encoded data removed]"
          },
          "metadata": {
            "needs_background": "light"
          }
        }
      ],
      "source": [
        "plt.figure(figsize=(14, 7))\n",
        "ax = sns.barplot(x=list(results.keys()), y=list(results.values()), palette=\"crest\")\n",
        "ax.set_ylim([min(list(results.values()))-0.002, max(list(results.values()))+0.005])\n",
        "plt.show()"
      ]
    },
    {
      "cell_type": "markdown",
      "metadata": {
        "id": "fIxcKVZceI7N"
      },
      "source": [
        "\n",
        "  <div dir=rtl id=\"bagging\">\n",
        "  <font face=\"XB Zar\" size=4>\n",
        "      <font color=\"red\" size=5>\n",
        "        روش\n",
        "        <font face=\"Roboto\">Bagging</font>\n",
        "      </font>\n",
        "      <hr />\n",
        "      در روش\n",
        "      <font face=\"Roboto\">Bagging</font>\n",
        "       به جای استفاده از چند مدل از روش های مختلف، از چندین مدل یک روش استفاده میکنیم ولی یک زیر مجوعه از داده ها در هر کدام\n",
        "       <font face=\"Roboto\">train</font>\n",
        "        می شود.\n",
        "      در مثال زیر ما 2000 مدل\n",
        "      <font face=\"Roboto\">Decision tree</font>\n",
        "       استفاده میکنیم و در هر مدل از یک مجموعه داده استفاده می کنیم:\n",
        "      </font>\n",
        "    </div>"
      ]
    },
    {
      "cell_type": "code",
      "execution_count": 19,
      "metadata": {
        "colab": {
          "base_uri": "https://localhost:8080/"
        },
        "id": "LX4hpRReegpZ",
        "outputId": "261e2ed8-34b5-481d-c947-d29dd7f7607a"
      },
      "outputs": [
        {
          "output_type": "execute_result",
          "data": {
            "text/plain": [
              "0.8959785522788204"
            ]
          },
          "metadata": {},
          "execution_count": 19
        }
      ],
      "source": [
        "from sklearn.ensemble import BaggingClassifier\n",
        "bag_clf = BaggingClassifier(DecisionTreeClassifier(), n_estimators=2000, max_samples=400, bootstrap=True, n_jobs=-1)\n",
        "bag_clf.fit(x_train, y_train)\n",
        "y_pred = bag_clf.predict(x_test)\n",
        "accuracy_score(y_test, y_pred)"
      ]
    },
    {
      "cell_type": "code",
      "source": [
        "from sklearn.metrics import confusion_matrix\n",
        "def show_confusion_matrix(y_test, y_pred):\n",
        "  clr_plt = sns.light_palette(\"#FF9F29\", reverse=True, as_cmap=True)\n",
        "  cf_matrix = confusion_matrix(y_test, y_pred)\n",
        "  sns.heatmap(cf_matrix/np.sum(cf_matrix), annot=True, fmt='.2%',cmap=clr_plt)  \n",
        "  plt.ylabel('Predicted label')\n",
        "  plt.xlabel('True Label')\n",
        "  plt.show"
      ],
      "metadata": {
        "id": "1gqqR3Pxn0Hn"
      },
      "execution_count": 20,
      "outputs": []
    },
    {
      "cell_type": "code",
      "execution_count": 21,
      "metadata": {
        "colab": {
          "base_uri": "https://localhost:8080/",
          "height": 279
        },
        "id": "3CCEG4f_Rtf9",
        "outputId": "59fb20e4-411d-444b-d5f8-4c8ca7e83898"
      },
      "outputs": [
        {
          "output_type": "display_data",
          "data": {
            "text/plain": [
              "<Figure size 432x288 with 2 Axes>"
            ],
            "image/png": "[encoded data removed]"
          },
          "metadata": {
            "needs_background": "light"
          }
        }
      ],
      "source": [
        "show_confusion_matrix(y_test, y_pred)"
      ]
    },
    {
      "cell_type": "markdown",
      "metadata": {
        "id": "XyQwxmEweIHB"
      },
      "source": [
        "\n",
        "  <div dir=rtl id=\"pasting\">\n",
        "  <font face=\"XB Zar\" size=4>\n",
        "      <font color=\"red\" size=5>\n",
        "        روش\n",
        "        <font face=\"Roboto\">\n",
        "          Pasting\n",
        "        </font>\n",
        "      </font>\n",
        "            <hr />\n",
        "            روش\n",
        "            <font face=\"Roboto\">Pasting</font>\n",
        "            همان روش \n",
        "            <font face=\"Roboto\">Bagging</font>\n",
        "            است با این تفاوت که در روش\n",
        "            <font face=\"Roboto\">Bagging</font>\n",
        "            ویژگی\n",
        "            <font face=\"Roboto\">replacement</font>\n",
        "             را داریم ولی در روش \n",
        "             <font face=\"Roboto\">Pasting</font>\n",
        "            این ویژگی را نداریم (عموما روش\n",
        "            <font face=\"Roboto\">Pasting</font>\n",
        "              برای تعداد بالایی از داده ها استفاده می شود).\n",
        "      </font>\n",
        "    </div>"
      ]
    },
    {
      "cell_type": "code",
      "execution_count": 22,
      "metadata": {
        "colab": {
          "base_uri": "https://localhost:8080/"
        },
        "id": "U3V5DY3AegpY",
        "outputId": "0df33e52-537f-491d-a7c7-f65603acc6d7"
      },
      "outputs": [
        {
          "output_type": "execute_result",
          "data": {
            "text/plain": [
              "0.8959115281501341"
            ]
          },
          "metadata": {},
          "execution_count": 22
        }
      ],
      "source": [
        "bag_clf = BaggingClassifier(DecisionTreeClassifier(), n_estimators=2000, max_samples=400, bootstrap=False, n_jobs=-1)\n",
        "bag_clf.fit(x_train, y_train)\n",
        "y_pred = bag_clf.predict(x_test)\n",
        "accuracy_score(y_test, y_pred)"
      ]
    },
    {
      "cell_type": "code",
      "execution_count": 23,
      "metadata": {
        "colab": {
          "base_uri": "https://localhost:8080/",
          "height": 279
        },
        "id": "iaMEu6JHQJbM",
        "outputId": "e52c7bf5-fbac-4e66-d686-f0fb9f024514"
      },
      "outputs": [
        {
          "output_type": "display_data",
          "data": {
            "text/plain": [
              "<Figure size 432x288 with 2 Axes>"
            ],
            "image/png": "[encoded data removed]"
          },
          "metadata": {
            "needs_background": "light"
          }
        }
      ],
      "source": [
        "show_confusion_matrix(y_test, y_pred)"
      ]
    },
    {
      "cell_type": "markdown",
      "metadata": {
        "id": "s3iyxiqlesox"
      },
      "source": [
        "\n",
        "  <div dir=rtl id=\"out-of-bag\">\n",
        "  <font face=\"XB Zar\" size=4>\n",
        "      <font color=\"red\" size=5>\n",
        "        ارزیابی\n",
        "        <font face=\"Roboto\">out-of-bag</font>\n",
        "      </font>\n",
        "      <hr />\n",
        "      در روش\n",
        "      <font face=\"Roboto\">Bagging</font>\n",
        "      ممکن است یک داده در چند مدل استفاده شود در حالی که یک داده در هیچ مدلی استفاده نشود. به همین منظور می توان از دیتاهایی که در هر مدل استفاده نشده است را برای ارزیابی مدل استفاده کرد و نیازی به\n",
        "      <font face=\"Roboto\">validation set</font>\n",
        "      نمی باشد:\n",
        "      </font>\n",
        "    </div>"
      ]
    },
    {
      "cell_type": "code",
      "execution_count": 24,
      "metadata": {
        "colab": {
          "base_uri": "https://localhost:8080/"
        },
        "id": "iurAcBw-egpa",
        "outputId": "4ff718d7-da4d-492c-e379-166d4ec80527"
      },
      "outputs": [
        {
          "output_type": "stream",
          "name": "stdout",
          "text": [
            "OOB Score: 0.9042289789046252\n",
            "Accuracy Score : 0.9035522788203754\n"
          ]
        }
      ],
      "source": [
        "bag_clf = BaggingClassifier(DecisionTreeClassifier(), n_estimators=2000, bootstrap=True, n_jobs=-1, oob_score=True)\n",
        "bag_clf.fit(x_train, y_train)\n",
        "print(\"OOB Score: \" + str(bag_clf.oob_score_))\n",
        "print(\"Accuracy Score : \"+ str(accuracy_score(y_test, bag_clf.predict(x_test))))"
      ]
    },
    {
      "cell_type": "markdown",
      "metadata": {
        "id": "vQvxedQBezxm"
      },
      "source": [
        "\n",
        "  <div dir=rtl id=\"random-forest\">\n",
        "  <font face=\"XB Zar\" size=4>\n",
        "      <font color=\"red\" size=5>\n",
        "        روش\n",
        "        <font face=\"Roboto\">\n",
        "          Random forest\n",
        "        </font>\n",
        "      </font>\n",
        "      <hr />\n",
        "      می توان گفت یک مدل\n",
        "      <font face=\"Roboto\">Random forest</font>\n",
        "      ترکیب چند\n",
        "      <font face=\"Roboto\">Decision Tree</font>\n",
        "      است که معمولا از روش \n",
        "      <font face=\"Roboto\">Bagging</font>\n",
        "      یا\n",
        "      <font face=\"Roboto\">Pasting</font>\n",
        "      در آن ها استفاده می شود:\n",
        "      </font>\n",
        "    </div>\n",
        "$$\n",
        " Random \\ Forest = Bagging \\ Weighted \\ Trees(Replacement=True \\ | \\ False) + Random \\ Feature \\ subsets\n",
        "$$"
      ]
    },
    {
      "cell_type": "code",
      "execution_count": 25,
      "metadata": {
        "colab": {
          "base_uri": "https://localhost:8080/"
        },
        "id": "5D53jguHegpb",
        "outputId": "6b12602d-a5c8-41cd-830a-a535e091e3f7"
      },
      "outputs": [
        {
          "output_type": "execute_result",
          "data": {
            "text/plain": [
              "0.8959115281501341"
            ]
          },
          "metadata": {},
          "execution_count": 25
        }
      ],
      "source": [
        "from sklearn.ensemble import RandomForestClassifier\n",
        "rnd_clf = RandomForestClassifier(n_estimators=500, max_leaf_nodes=16, n_jobs=-1)\n",
        "rnd_clf.fit(x_train, y_train)\n",
        "y_pred_rf = rnd_clf.predict(x_test)\n",
        "accuracy_score(y_test, y_pred)"
      ]
    },
    {
      "cell_type": "markdown",
      "source": [
        " <div dir=rtl>\n",
        "  <font face=\"XB Zar\" size=4>\n",
        "      <font color=\"red\" size=5>\n",
        "        عملکرد بهتر\n",
        "        <font face=\"Roboto\">\n",
        "          Random forest\n",
        "        </font>\n",
        "        نسبت به روش\n",
        "        <font face=\"Roboto\">\n",
        "          Bagging\n",
        "        </font>\n",
        "      </font>\n",
        "    <hr />\n",
        "    <div dir=ltr>\n",
        "      <font face=\"Roboto\">\n",
        "        Upper Bound for the Generalization Error :\n",
        "      </font>\n",
        "    </div>\n",
        "    </font>\n",
        "  </div>\n",
        "$$\n",
        "  PE \\le \\frac {\\overline {P}. (1-S^2)}{S^2}\n",
        "$$\n",
        "<div dir=ltr>\n",
        "  <ul>\n",
        "    <li>PE : Prediction Error</li>\n",
        "    <li>P : Average Correlation Among Trees</li>\n",
        "    <li>S : <b>Strength</b> of Ensemble (; how good the trees are)</li>\n",
        "  </ul>\n",
        "</div>\n",
        "<br>\n",
        " <div dir=rtl id=\"random-forest\">\n",
        "  <font face=\"XB Zar\" size=4>\n",
        "    در روش\n",
        "        <font face=\"Roboto\">\n",
        "          Bagging\n",
        "        </font>\n",
        "        شباهت درختان به یکدیگر بیشتر بوده ولی به دلیل اینکه در هر گره می توانند همه\n",
        "        <font face=\"Roboto\">\n",
        "          feature\n",
        "        </font>\n",
        "        ها را در نظر بگیرند، عملکرد خوبی دارند.\n",
        "        در طرف مقابل در روش شباهت درختان به یکدیگر کمتر بوده ولی هر گره فقط یک زیرمجموعه از\n",
        "              <font face=\"Roboto\">\n",
        "          feature\n",
        "        </font>\n",
        "      ها را درنظر میگیرد و یک بالانس میان این دو وِیژگی در\n",
        "        <font face=\"Roboto\">\n",
        "          Random forest\n",
        "        </font>\n",
        "      رعایت می شود که منجر به عملکرد بهتر در مقابله با روش\n",
        "        <font face=\"Roboto\">\n",
        "          Bagging\n",
        "        </font>\n",
        "      می شود.\n",
        "    <br />\n",
        "    برای اطلاعات بیشتر می توان به مقاله زیر مراجعه کرد:\n",
        "    <br />\n",
        "    <div dir=ltr>\n",
        "    <font face=\"Roboto\">\n",
        "    <a href=\"https://link.springer.com/content/pdf/10.1023/A:1010933404324.pdf\">Breiman, “Random Forests”, Machine Learning, 45(1), 5-32, 2001</a>\n",
        "    </font>\n",
        "    </div>\n",
        "  </font>\n",
        "</div>"
      ],
      "metadata": {
        "id": "Lb4cC3OMuKo0"
      }
    },
    {
      "cell_type": "markdown",
      "metadata": {
        "id": "tlGOKYiQe8YX"
      },
      "source": [
        "\n",
        "  <div dir=rtl id=\"extera-trees\">\n",
        "  <font face=\"XB Zar\" size=4>\n",
        "      <font color=\"red\" size=5>\n",
        "        روش\n",
        "        <font face=\"Roboto\">\n",
        "          Extra-Trees\n",
        "        </font>\n",
        "      </font>\n",
        "      <br />\n",
        "      روش\n",
        "      <font face=\"Roboto\">Extra-Trees</font>\n",
        "      همان روش\n",
        "      <font face=\"Roboto\">Random forest</font>\n",
        "      بوده ولی در روش\n",
        "      <font face=\"Roboto\">Extra-Trees</font>\n",
        "      ،\n",
        "      <font face=\"Roboto\">threshold</font>\n",
        "      ها به صورت تصادفی انتخاب شده که زمان اجرا را نسبت به روش\n",
        "      <font face=\"Roboto\">Random forest</font>\n",
        "      کاهش می دهد:\n",
        "      </font>\n",
        "    </div>"
      ]
    },
    {
      "cell_type": "code",
      "execution_count": 26,
      "metadata": {
        "colab": {
          "base_uri": "https://localhost:8080/"
        },
        "id": "UC4hR71rj83a",
        "outputId": "affeb7e3-3263-46b1-b263-59e4a588eb64"
      },
      "outputs": [
        {
          "output_type": "execute_result",
          "data": {
            "text/plain": [
              "0.8959115281501341"
            ]
          },
          "metadata": {},
          "execution_count": 26
        }
      ],
      "source": [
        "from sklearn.ensemble import ExtraTreesClassifier\n",
        "ex_tree_clf = ExtraTreesClassifier(n_estimators=500)\n",
        "ex_tree_clf.fit(x_train, y_train)\n",
        "y_pred_rf = ex_tree_clf.predict(x_test)\n",
        "accuracy_score(y_test, y_pred)"
      ]
    },
    {
      "cell_type": "markdown",
      "metadata": {
        "id": "0fkIdofkfEuk"
      },
      "source": [
        "\n",
        "  <div dir=rtl id=\"boosting\">\n",
        "  <font face=\"XB Zar\" size=4>\n",
        "      <font color=\"red\" size=5>\n",
        "        روش\n",
        "        <font face=\"Roboto\">\n",
        "          Boosting\n",
        "        </font>\n",
        "      </font>\n",
        "      <br />\n",
        "      </font>\n",
        "    </div>"
      ]
    },
    {
      "cell_type": "markdown",
      "metadata": {
        "id": "KdN35eDjy10z"
      },
      "source": [
        "\n",
        "  <div dir=rtl id=\"adaboost\">\n",
        "  <font face=\"XB Zar\" size=4>\n",
        "      <font color=\"red\" size=5>\n",
        "        الگوریتم\n",
        "        <font face=\"Roboto\">\n",
        "          AdaBoost\n",
        "        </font>\n",
        "      </font>\n",
        "      <br />\n",
        "      </font>\n",
        "    </div>"
      ]
    },
    {
      "cell_type": "markdown",
      "metadata": {
        "id": "fKUzqCBxfIyq"
      },
      "source": [
        "\n",
        "  <div dir=rtl id=\"adaboost-SAMME\">\n",
        "  <font face=\"XB Zar\" size=4>\n",
        "      <font color=\"red\" size=5>\n",
        "        <font face=\"Roboto\">\n",
        "          SAMME\n",
        "        </font>\n",
        "      </font>\n",
        "      <hr />\n",
        "      در روش\n",
        "      <font face=\"Roboto\">SAMME</font>\n",
        "      از چند مدل به صورت متوالی استفاده شده و داده ها برای هر مدل دارای وزن هستند و بعد از پیش بینی بر روی داده های\n",
        "      <font face=\"Roboto\">train</font>\n",
        "      به داده هایی که پیش بینی درستی بر آن ها صورت نگرفته است وزن بالاتری داده شده و داده\n",
        "      <font face=\"Roboto\">train</font>\n",
        "      به مدل بعدی ارسال می شود. این عمل از اولین مدل تا آخرین مدل انجام می شود .تا بتوانی دقت پیش بینی را بالا ببریم.\n",
        "      </font>\n",
        "    </div>"
      ]
    },
    {
      "cell_type": "code",
      "execution_count": 27,
      "metadata": {
        "colab": {
          "base_uri": "https://localhost:8080/"
        },
        "id": "_wj2-eD8egpc",
        "outputId": "c1271c5b-c93e-4624-9bb3-129c3ba0b812"
      },
      "outputs": [
        {
          "output_type": "execute_result",
          "data": {
            "text/plain": [
              "0.8948391420911528"
            ]
          },
          "metadata": {},
          "execution_count": 27
        }
      ],
      "source": [
        "from sklearn.ensemble import AdaBoostClassifier\n",
        "ada_clf = AdaBoostClassifier(DecisionTreeClassifier(max_depth=1), n_estimators=200, algorithm=\"SAMME\", learning_rate=0.5)\n",
        "ada_clf.fit(x_train, y_train)\n",
        "y_pred = ada_clf.predict(x_test)\n",
        "accuracy_score(y_test, y_pred)"
      ]
    },
    {
      "cell_type": "markdown",
      "metadata": {
        "id": "HUC2SnrEwwb4"
      },
      "source": [
        "\n",
        "  <div dir=rtl id=\"adaboost-SAMME.R\">\n",
        "  <font face=\"XB Zar\" size=4>\n",
        "      <font color=\"red\" size=5>\n",
        "        <font face=\"Roboto\">\n",
        "          SAMME.R\n",
        "        </font>\n",
        "      </font>\n",
        "      <hr />\n",
        "      در این روش به جای استفاده از نتایج پیش بینی داده های\n",
        "      <font face=\"Roboto\">train</font>\n",
        "      ، از احتمال مدل برای وزن دهی استفاده می شود که معمولا دقت بالاتری نسبت به روش\n",
        "      <font face=\"Roboto\">SAMME</font>\n",
        "      دارد.\n",
        "      </font>\n",
        "    </div>"
      ]
    },
    {
      "cell_type": "code",
      "execution_count": 28,
      "metadata": {
        "colab": {
          "base_uri": "https://localhost:8080/"
        },
        "id": "gbx3ONL1egpe",
        "outputId": "e68c8308-90f7-4cec-8bc3-f5899d04bdf6"
      },
      "outputs": [
        {
          "output_type": "execute_result",
          "data": {
            "text/plain": [
              "0.8989276139410187"
            ]
          },
          "metadata": {},
          "execution_count": 28
        }
      ],
      "source": [
        "from sklearn.ensemble import AdaBoostClassifier\n",
        "ada_clf = AdaBoostClassifier(DecisionTreeClassifier(max_depth=1), n_estimators=200, algorithm=\"SAMME.R\", learning_rate=0.5)\n",
        "ada_clf.fit(x_train, y_train)\n",
        "y_pred = ada_clf.predict(x_test)\n",
        "accuracy_score(y_test, y_pred)"
      ]
    },
    {
      "cell_type": "markdown",
      "metadata": {
        "id": "gXYviqGDfRyN"
      },
      "source": [
        "\n",
        "  <div dir=rtl id=\"gradient-boost\">\n",
        "  <font face=\"XB Zar\" size=4>\n",
        "      <font color=\"red\" size=5>\n",
        "        الگوریتم\n",
        "        <font face=\"Roboto\">\n",
        "          Gradient Boost\n",
        "        </font>\n",
        "      </font>\n",
        "      <hr />\n",
        "      الگوریتم\n",
        "      <font face=\"Roboto\">Gradient Boost</font>\n",
        "      شبیه به الگوریتم\n",
        "      <font face=\"Roboto\">AdaBoost</font>\n",
        "      عمل می کند با این تفاوت که به جای وزن دهی به داده های\n",
        "      <font face=\"Roboto\">train</font>\n",
        "      هر مدل سعی میکند خطای ایجاد شده در مدل قبلی را برطرف کرده و مدل جدید بدون این خطا ها بسازد. می توان بدون استفاده از\n",
        "      <font face=\"Roboto\">scikit-learn</font>\n",
        "      این الگوریتم با روش زیر پیاده سازی نمود:\n",
        "      </font>\n",
        "    </div>"
      ]
    },
    {
      "cell_type": "code",
      "execution_count": 29,
      "metadata": {
        "colab": {
          "base_uri": "https://localhost:8080/"
        },
        "id": "yND8xDypegpe",
        "outputId": "e2935499-bb95-4a3b-fdb1-03dfe29898cb"
      },
      "outputs": [
        {
          "output_type": "execute_result",
          "data": {
            "text/plain": [
              "0.8880026809651475"
            ]
          },
          "metadata": {},
          "execution_count": 29
        }
      ],
      "source": [
        "tree_cl1 = DecisionTreeClassifier(max_depth=2, random_state=42)\n",
        "tree_cl1.fit(x_train, y_train)\n",
        "\n",
        "y2 = y_train - tree_cl1.predict(x_train)\n",
        "tree_cl2 = DecisionTreeClassifier(max_depth=2, random_state=42)\n",
        "tree_cl2.fit(x_train, y2)\n",
        "\n",
        "y3 = y2 - tree_cl2.predict(x_train)\n",
        "tree_cl3 = DecisionTreeClassifier(max_depth=2, random_state=42)\n",
        "tree_cl3.fit(x_train, y3)\n",
        "\n",
        "y_pred = sum(tree.predict(x_test) for tree in (tree_cl1, tree_cl2, tree_cl3))\n",
        "accuracy_score(y_test, y_pred)"
      ]
    },
    {
      "cell_type": "markdown",
      "metadata": {
        "id": "tz9tpPXT1K3r"
      },
      "source": [
        "\n",
        "  <div dir=rtl id=\"gradient-boost\">\n",
        "    <font face=\"XB Zar\" size=4>\n",
        "      همچنین می توان با استفاده از\n",
        "      <font face=\"Roboto\">scikit-learn</font>\n",
        "      الگوریتم\n",
        "      <font face=\"Roboto\">\n",
        "          Gradient Boost\n",
        "      </font>\n",
        "      را به روش زیر پیاده سازی نمود:  \n",
        "    </font>\n",
        "  </div>"
      ]
    },
    {
      "cell_type": "code",
      "execution_count": 30,
      "metadata": {
        "colab": {
          "base_uri": "https://localhost:8080/"
        },
        "id": "Y--1L5-Begpe",
        "outputId": "d3a3c8cb-135e-42f0-b653-c7b7905190d9"
      },
      "outputs": [
        {
          "output_type": "execute_result",
          "data": {
            "text/plain": [
              "0.8939678284182305"
            ]
          },
          "metadata": {},
          "execution_count": 30
        }
      ],
      "source": [
        "from sklearn.ensemble import GradientBoostingClassifier\n",
        "gbc = GradientBoostingClassifier(max_depth=2, n_estimators=5, random_state=42, learning_rate=1.0)\n",
        "gbc.fit(x_train, y_train)\n",
        "y_pred = gbc.predict(x_test)\n",
        "accuracy_score(y_test, y_pred)"
      ]
    },
    {
      "cell_type": "markdown",
      "metadata": {
        "id": "t-HV5AHFf1_R"
      },
      "source": [
        "\n",
        "  <div dir=rtl id=\"early-stopping\">\n",
        "  <font face=\"XB Zar\" size=4>\n",
        "      <font color=\"red\" size=5>\n",
        "        استفاده از\n",
        "        <font face=\"Roboto\">\n",
        "          Early stopping\n",
        "        </font>\n",
        "      </font>\n",
        "      <hr />\n",
        "      از روش\n",
        "      <font face=\"Roboto\">early stopping</font>\n",
        "      می توان برای یافتن بهترین تعداد مدل ها استفاده کرد تا کمترین \n",
        "      <font face=\"Roboto\">validation error</font>\n",
        "      را داشته باشیم. برای یافتن این عدد میتوان تعداد زیادی مدل\n",
        "      <font face=\"Roboto\">Gradient Boost</font>\n",
        "      با تعداد پیش بینی کننده متفاوت اجرا کرد و مقدار\n",
        "      <font face=\"Roboto\">validation error</font>\n",
        "      در هر کدام کمتر بود را انتخاب کرد:\n",
        "      </font>\n",
        "    </div>"
      ]
    },
    {
      "cell_type": "code",
      "execution_count": 31,
      "metadata": {
        "id": "BOkQXNou4ArD"
      },
      "outputs": [],
      "source": [
        "from sklearn.metrics import mean_squared_error\n",
        "from sklearn.ensemble import GradientBoostingClassifier\n",
        "result={}\n",
        "for count_of_estimators in range(1, 70):\n",
        "  gbc = GradientBoostingClassifier(max_depth=2, n_estimators=count_of_estimators, random_state=42, learning_rate=1.0)\n",
        "  gbc.fit(x_train, y_train)\n",
        "  y_pred = gbc.predict(x_test)\n",
        "  val_error = mean_squared_error(y_test, y_pred)\n",
        "  result[count_of_estimators]=val_error"
      ]
    },
    {
      "cell_type": "code",
      "execution_count": 32,
      "metadata": {
        "colab": {
          "base_uri": "https://localhost:8080/",
          "height": 448
        },
        "id": "0LlGOub-5NXT",
        "outputId": "d0f990da-30c8-4847-f0f7-a114047fd5d2"
      },
      "outputs": [
        {
          "output_type": "display_data",
          "data": {
            "text/plain": [
              "<Figure size 1152x504 with 1 Axes>"
            ],
            "image/png": "[encoded data removed]"
          },
          "metadata": {
            "needs_background": "light"
          }
        }
      ],
      "source": [
        "plt.figure(figsize=(16, 7))\n",
        "sns.set(style='dark',)\n",
        "ax = sns.lineplot(x=list(result.keys()), y=list(result.values()))\n",
        "plt.xlabel(\"Number of estimators\")\n",
        "plt.ylabel(\"Validation error\")\n",
        "ax.set_xlim([1, max(list(result.keys()))])\n",
        "plt.show()"
      ]
    },
    {
      "cell_type": "code",
      "execution_count": 33,
      "metadata": {
        "colab": {
          "base_uri": "https://localhost:8080/"
        },
        "id": "ptC71c2LBTp9",
        "outputId": "476c1859-c94d-42ae-f69e-e36ca32bd874"
      },
      "outputs": [
        {
          "output_type": "stream",
          "name": "stdout",
          "text": [
            "The best number for estimators is: 65\n",
            "The minimum value for validation error is: 0.09631367292225201\n"
          ]
        }
      ],
      "source": [
        "print(\"The best number for estimators is: \"+ str(list(result.values()).index(min(list(result.values())))+1))\n",
        "print(\"The minimum value for validation error is: \"+ str(min(list(result.values()))))"
      ]
    },
    {
      "cell_type": "markdown",
      "metadata": {
        "id": "WH4jZxdVAy0o"
      },
      "source": [
        "  <div dir=rtl>\n",
        "  <font face=\"XB Zar\" size=4>\n",
        "      به دلیل زمان بر بودن روش گفته شده، می توان با استفاده از پارامتر\n",
        "      <font face=\"Roboto\">warn_start</font>\n",
        "      در\n",
        "      <font face=\"Roboto\">sklearn</font>\n",
        "      می توان درخت های ایجاد شده را ذخیره کرده تا بتوان زمان لازم برای ساخت \n",
        "      تعداد زیادی از مدل کاهش داد. از الگوریتم زیر می توان برای پیدا کردن کمترین\n",
        "      <font face=\"Roboto\">validation error</font>\n",
        "      استفاده کرد(اگر در الگوریتم تا 5 مرحله\n",
        "      <font face=\"Roboto\">validation error</font>\n",
        "      کمتری پیدا نشود الگوریتم متوقف می شود. برای بالا بردن دقت میتوان عدد 5 را عدد بالاتری در نظر گرفت):\n",
        "      </font>\n",
        "    </div>"
      ]
    },
    {
      "cell_type": "code",
      "execution_count": 34,
      "metadata": {
        "colab": {
          "base_uri": "https://localhost:8080/"
        },
        "id": "jl08tspeegpf",
        "outputId": "3d8dcfc7-1174-4221-a695-7abcb9c56b2c"
      },
      "outputs": [
        {
          "output_type": "stream",
          "name": "stdout",
          "text": [
            "The best n_stimators value is: 10\n"
          ]
        }
      ],
      "source": [
        "gbc = GradientBoostingClassifier(max_depth=2, warm_start = True, random_state=42, learning_rate=1.0)\n",
        "min_val_error = float(\"inf\")\n",
        "error_going_up = 0\n",
        "number_of_steps_to_checks=5\n",
        "for n_estimators in range(1, 70):\n",
        "    gbc.n_estimators = n_estimators\n",
        "    gbc.fit(x_train, y_train)\n",
        "    y_pred = gbc.predict(x_test)\n",
        "    val_error = mean_squared_error(y_test, y_pred)\n",
        "    if val_error < min_val_error:\n",
        "        min_val_error = val_error\n",
        "        error_going_up = 0\n",
        "    else:\n",
        "        error_going_up += 1\n",
        "        if error_going_up == 5:\n",
        "            break\n",
        "gbc.n_estimators = gbc.n_estimators - number_of_steps_to_checks\n",
        "print(\"The best n_stimators value is: \" + str(gbc.n_estimators))"
      ]
    },
    {
      "cell_type": "code",
      "execution_count": 35,
      "metadata": {
        "colab": {
          "base_uri": "https://localhost:8080/"
        },
        "id": "MXNKxz6XsSOi",
        "outputId": "aa8c21d5-7382-44b2-bbd0-b2e88bbc8d8f"
      },
      "outputs": [
        {
          "output_type": "stream",
          "name": "stdout",
          "text": [
            "The minimum value for validation error according the above algorithm is: 0.09711796246648793\n"
          ]
        }
      ],
      "source": [
        "gbc = GradientBoostingClassifier(max_depth=2, random_state=42, learning_rate=1.0)\n",
        "gbc.fit(x_train, y_train)\n",
        "y_pred = gbc.predict(x_test)\n",
        "val_error = mean_squared_error(y_test, y_pred)\n",
        "print(\"The minimum value for validation error according the above algorithm is: \" + str(val_error))"
      ]
    },
    {
      "cell_type": "markdown",
      "metadata": {
        "id": "-EfzJWK9faOc"
      },
      "source": [
        "\n",
        "  <div dir=rtl id=\"xg-boost\">\n",
        "  <font face=\"XB Zar\" size=4>\n",
        "      <font color=\"red\" size=5>\n",
        "        کتابخانه\n",
        "        <font face=\"Roboto\">\n",
        "          XGBoost\n",
        "        </font>\n",
        "      </font>\n",
        "      <hr />\n",
        "      کتابخانه\n",
        "      <font face=\"Roboto\">XGBoost</font>\n",
        "      یک کتابخانه بر اساس\n",
        "      <font face=\"Roboto\">Gradient Boosting</font>\n",
        "      است که امکان اجرای همزمان\n",
        "      <font face=\"Roboto\">tree boosting</font>\n",
        "      را فراهم میکند.\n",
        "      برای اطلاعات بیشتر می توان به لینک زیر مراجعه کرد:\n",
        "      <br />\n",
        "      <div dir=ltr>\n",
        "          <font face=\"Roboto\">\n",
        "            <a href=\"https://xgboost.readthedocs.io/en/stable/\">https://xgboost.readthedocs.io/en/stable</a>\n",
        "          </font>\n",
        "      </div>\n",
        "      </font>\n",
        "    </div>"
      ]
    },
    {
      "cell_type": "code",
      "execution_count": 36,
      "metadata": {
        "colab": {
          "base_uri": "https://localhost:8080/"
        },
        "id": "3RsPkEdTegpf",
        "outputId": "9b95f9a9-32e2-4704-aca9-0b0b87fabfc0"
      },
      "outputs": [
        {
          "output_type": "stream",
          "name": "stdout",
          "text": [
            "Looking in indexes: https://pypi.org/simple, https://us-python.pkg.dev/colab-wheels/public/simple/\n",
            "Requirement already satisfied: xgboost in /usr/local/lib/python3.7/dist-packages (0.90)\n",
            "Requirement already satisfied: numpy in /usr/local/lib/python3.7/dist-packages (from xgboost) (1.21.6)\n",
            "Requirement already satisfied: scipy in /usr/local/lib/python3.7/dist-packages (from xgboost) (1.7.3)\n"
          ]
        }
      ],
      "source": [
        "!pip install xgboost"
      ]
    },
    {
      "cell_type": "code",
      "execution_count": 37,
      "metadata": {
        "colab": {
          "base_uri": "https://localhost:8080/"
        },
        "id": "scFJiR3aegpg",
        "outputId": "96715259-a90a-4398-b13a-4ef502aa7f8b"
      },
      "outputs": [
        {
          "output_type": "execute_result",
          "data": {
            "text/plain": [
              "XGBClassifier(random_state=42)"
            ]
          },
          "metadata": {},
          "execution_count": 37
        }
      ],
      "source": [
        "from xgboost import XGBClassifier\n",
        "XG_classifier = XGBClassifier(random_state = 42)\n",
        "XG_classifier.fit(x_train, y_train)"
      ]
    },
    {
      "cell_type": "code",
      "execution_count": 38,
      "metadata": {
        "colab": {
          "base_uri": "https://localhost:8080/"
        },
        "id": "SxSsSkNgegpg",
        "outputId": "151698f4-e95b-4029-92c7-2d4e2879676e"
      },
      "outputs": [
        {
          "output_type": "execute_result",
          "data": {
            "text/plain": [
              "0.9037533512064343"
            ]
          },
          "metadata": {},
          "execution_count": 38
        }
      ],
      "source": [
        "y_pred = XG_classifier.predict(x_test)\n",
        "accuracy_score(y_test, y_pred)"
      ]
    },
    {
      "cell_type": "code",
      "execution_count": 39,
      "metadata": {
        "colab": {
          "base_uri": "https://localhost:8080/",
          "height": 285
        },
        "id": "bkzQ4RI6egpg",
        "outputId": "6498f72b-db54-4ed8-b5fe-dcc2d9beadae"
      },
      "outputs": [
        {
          "output_type": "display_data",
          "data": {
            "text/plain": [
              "<Figure size 432x288 with 2 Axes>"
            ],
            "image/png": "[encoded data removed]"
          },
          "metadata": {}
        }
      ],
      "source": [
        "show_confusion_matrix(y_test, y_pred)"
      ]
    },
    {
      "cell_type": "markdown",
      "metadata": {
        "id": "tekI3K2jffFo"
      },
      "source": [
        "\n",
        "  <div dir=rtl id=\"cat-boost\">\n",
        "  <font face=\"XB Zar\" size=4>\n",
        "      <font color=\"red\" size=5>\n",
        "        کتابخانه\n",
        "        <font face=\"Roboto\">\n",
        "          CatBoost\n",
        "        </font>\n",
        "      </font>\n",
        "      <hr />\n",
        "      کتابخانه\n",
        "      <font face=\"Roboto\">CatBoost</font>\n",
        "      یک کتابخانه بر اساس برای\n",
        "      <font face=\"Roboto\">Gradient Boosting</font>\n",
        "      با استفاده از\n",
        "      <font face=\"Roboto\">Decision Tree</font>\n",
        "      بوده که دارای ویژگی های زیر است:\n",
        "      <ul>\n",
        "      <font face=\"Roboto\">\n",
        "        <li>\n",
        "          Great quality without parameter tuning\n",
        "        </li>\n",
        "        <li>\n",
        "          Categorical features support\n",
        "        </li>\n",
        "        <li>\n",
        "          Fast and scalable GPU version\n",
        "        </li>\n",
        "        <li>\n",
        "          Improved accuracy\n",
        "        </li>\n",
        "        <li>\n",
        "          Fast prediction\n",
        "        </li>\n",
        "        </font>\n",
        "      </ul>\n",
        "      برای اطلاعات بیشتر می توان به لینک زیر مراجعه کرد:\n",
        "      <br />\n",
        "      <div dir=ltr>\n",
        "          <font face=\"Roboto\">\n",
        "            <a href=\"https://catboost.ai\">https://catboost.ai</a>\n",
        "          </font>\n",
        "      </div>\n",
        "      </font>\n",
        "    </div>"
      ]
    },
    {
      "cell_type": "code",
      "execution_count": 40,
      "metadata": {
        "colab": {
          "base_uri": "https://localhost:8080/"
        },
        "id": "DYAVakcOegph",
        "outputId": "7f3e5c30-b7b4-400d-d62a-9a838941f514"
      },
      "outputs": [
        {
          "output_type": "stream",
          "name": "stdout",
          "text": [
            "Looking in indexes: https://pypi.org/simple, https://us-python.pkg.dev/colab-wheels/public/simple/\n",
            "Collecting catboost\n",
            "  Downloading catboost-1.1-cp37-none-manylinux1_x86_64.whl (76.8 MB)\n",
            "\u001b[K     |████████████████████████████████| 76.8 MB 1.3 MB/s \n",
            "\u001b[?25hRequirement already satisfied: six in /usr/local/lib/python3.7/dist-packages (from catboost) (1.15.0)\n",
            "Requirement already satisfied: plotly in /usr/local/lib/python3.7/dist-packages (from catboost) (5.5.0)\n",
            "Requirement already satisfied: graphviz in /usr/local/lib/python3.7/dist-packages (from catboost) (0.10.1)\n",
            "Requirement already satisfied: scipy in /usr/local/lib/python3.7/dist-packages (from catboost) (1.7.3)\n",
            "Requirement already satisfied: numpy>=1.16.0 in /usr/local/lib/python3.7/dist-packages (from catboost) (1.21.6)\n",
            "Requirement already satisfied: matplotlib in /usr/local/lib/python3.7/dist-packages (from catboost) (3.2.2)\n",
            "Requirement already satisfied: pandas>=0.24.0 in /usr/local/lib/python3.7/dist-packages (from catboost) (1.3.5)\n",
            "Requirement already satisfied: pytz>=2017.3 in /usr/local/lib/python3.7/dist-packages (from pandas>=0.24.0->catboost) (2022.4)\n",
            "Requirement already satisfied: python-dateutil>=2.7.3 in /usr/local/lib/python3.7/dist-packages (from pandas>=0.24.0->catboost) (2.8.2)\n",
            "Requirement already satisfied: pyparsing!=2.0.4,!=2.1.2,!=2.1.6,>=2.0.1 in /usr/local/lib/python3.7/dist-packages (from matplotlib->catboost) (3.0.9)\n",
            "Requirement already satisfied: kiwisolver>=1.0.1 in /usr/local/lib/python3.7/dist-packages (from matplotlib->catboost) (1.4.4)\n",
            "Requirement already satisfied: cycler>=0.10 in /usr/local/lib/python3.7/dist-packages (from matplotlib->catboost) (0.11.0)\n",
            "Requirement already satisfied: typing-extensions in /usr/local/lib/python3.7/dist-packages (from kiwisolver>=1.0.1->matplotlib->catboost) (4.1.1)\n",
            "Requirement already satisfied: tenacity>=6.2.0 in /usr/local/lib/python3.7/dist-packages (from plotly->catboost) (8.1.0)\n",
            "Installing collected packages: catboost\n",
            "Successfully installed catboost-1.1\n"
          ]
        }
      ],
      "source": [
        "!pip install catboost"
      ]
    },
    {
      "cell_type": "markdown",
      "metadata": {
        "id": "zO74hETx3v8t"
      },
      "source": [
        "\n",
        "  <div dir=rtl id=\"cat-boost-catergorical-features\">\n",
        "  <font face=\"XB Zar\" size=4>\n",
        "      <font color=\"red\" size=5>\n",
        "        <font face=\"Roboto\">\n",
        "          Categorical Features\n",
        "        </font>\n",
        "        در\n",
        "        <font face=\"Roboto\">\n",
        "          CatBoost\n",
        "        </font>\n",
        "      </font>\n",
        "      <hr />\n",
        "      در کتابخانه\n",
        "      <font face=\"Roboto\">CatBoost</font>\n",
        "      ما می توانیم عمل\n",
        "      <font face=\"Roboto\">encoding</font>\n",
        "      را به\n",
        "      <font face=\"Roboto\">CatBoost</font>\n",
        "      واگذار کنیم:\n",
        "      </font>\n",
        "    </div>"
      ]
    },
    {
      "cell_type": "code",
      "execution_count": 41,
      "metadata": {
        "id": "Em_5WGaj4UQG"
      },
      "outputs": [],
      "source": [
        "df = pd.read_csv(dataset_url)\n",
        "\n",
        "colums_have_unknow=['job', 'marital', 'education', 'default', 'housing', 'loan']\n",
        "for colum_has_unknow in colums_have_unknow:\n",
        "    df.drop(df[df[colum_has_unknow] == 'unknow'].index, inplace = True)\n",
        "\n",
        "y = df[\"Target\"].copy()\n",
        "x = df.drop(\"Target\", axis=1)"
      ]
    },
    {
      "cell_type": "code",
      "execution_count": 42,
      "metadata": {
        "colab": {
          "base_uri": "https://localhost:8080/"
        },
        "id": "6A0XIb1zegph",
        "outputId": "610f245b-b955-4867-ecc7-1eb0e829a661"
      },
      "outputs": [
        {
          "output_type": "execute_result",
          "data": {
            "text/plain": [
              "0.8922922252010724"
            ]
          },
          "metadata": {},
          "execution_count": 42
        }
      ],
      "source": [
        "from catboost import CatBoostClassifier\n",
        "\n",
        "cat_features = list(range(0, x.shape[1]))\n",
        "clf = CatBoostClassifier(iterations=5, learning_rate=0.1)\n",
        "clf.fit(x_train, y_train, cat_features=cat_features,  verbose=False)\n",
        "y_pred = clf.predict(x_test)\n",
        "accuracy_score(y_test, y_pred)"
      ]
    },
    {
      "cell_type": "code",
      "execution_count": 43,
      "metadata": {
        "colab": {
          "base_uri": "https://localhost:8080/",
          "height": 285
        },
        "id": "emOhSY1Gegph",
        "outputId": "1b440255-e66b-49de-981c-0a6956ae4c1b"
      },
      "outputs": [
        {
          "output_type": "display_data",
          "data": {
            "text/plain": [
              "<Figure size 432x288 with 2 Axes>"
            ],
            "image/png": "[encoded data removed]"
          },
          "metadata": {}
        }
      ],
      "source": [
        "show_confusion_matrix(y_test, y_pred)"
      ]
    },
    {
      "cell_type": "markdown",
      "metadata": {
        "id": "2LYEgOSImGp8"
      },
      "source": [
        "\n",
        "  <div dir=rtl id=\"stacking\">\n",
        "  <font face=\"XB Zar\" size=4>\n",
        "      <font color=\"red\" size=5>\n",
        "        روش\n",
        "        <font face=\"Roboto\">\n",
        "          Stacking\n",
        "        </font>\n",
        "      </font>\n",
        "      <hr />\n",
        "      در روش\n",
        "        <font face=\"Roboto\">Stacking</font>\n",
        "      ما دیتاست را به دو قسمت تقسیم کرده\n",
        "      و قسمت اول را به مدل ها به عنوان ورودی می دهیم. در مثال زیر، مدل های ما شامل سه مدل زیر هستند:\n",
        "      <ul>\n",
        "        <font face=\"Roboto\">\n",
        "          <li>\n",
        "            Random forest\n",
        "          </li>\n",
        "          <li>\n",
        "            Support vector machine\n",
        "          </li>\n",
        "          <li>\n",
        "            k-nearest neighbors\n",
        "          </li>\n",
        "        </font>\n",
        "      </ul>\n",
        "       در مرحله بعد قسمت دوم دیتاست را به مدل ها به عنوان ورودی داده تا پیش بینی بر روی آن ها صورت گیرد.\n",
        "      با داده های پیش بینی شده توسط مدل ها یک دیتاست جدید ساخته می شود دارای 3 بعد است(به دلیل اینکه 3 مدل در مرحله داشتیم). در مرحله آخر یک مدل نهایی\n",
        "        <font face=\"Roboto\">(final estimator)</font>\n",
        "      برای پیش بینی نهایی با ورودی دیتاست ساخته شده(که دارای 3 بعد است) استفاده می شود:\n",
        "      </font>\n",
        "    </div>"
      ]
    },
    {
      "cell_type": "code",
      "execution_count": 44,
      "metadata": {
        "colab": {
          "base_uri": "https://localhost:8080/"
        },
        "id": "hFLPL0sUegpi",
        "outputId": "248acbb2-d223-4442-ff6f-6af889a307dc"
      },
      "outputs": [
        {
          "output_type": "execute_result",
          "data": {
            "text/plain": [
              "0.8998659517426274"
            ]
          },
          "metadata": {},
          "execution_count": 44
        }
      ],
      "source": [
        "from sklearn.ensemble import StackingClassifier\n",
        "from sklearn.neighbors import KNeighborsClassifier\n",
        "\n",
        "rf_clf = RandomForestClassifier(n_estimators=10, random_state=42)\n",
        "svm_clf = SVC(random_state=42)\n",
        "knn_clf = KNeighborsClassifier(n_neighbors=3)\n",
        "stacking_clf = StackingClassifier(estimators=[('rf', rf_clf), ('svc', svm_clf), ('knn', knn_clf)], final_estimator=LogisticRegression())\n",
        "stacking_clf.fit(x_train, y_train)\n",
        "y_pred = stacking_clf.predict(x_test)\n",
        "accuracy_score(y_test, y_pred)"
      ]
    },
    {
      "cell_type": "code",
      "execution_count": 45,
      "metadata": {
        "colab": {
          "base_uri": "https://localhost:8080/",
          "height": 285
        },
        "id": "RxjJjBE9G-JH",
        "outputId": "c58bcaed-3910-4743-e844-eed1fbc986da"
      },
      "outputs": [
        {
          "output_type": "display_data",
          "data": {
            "text/plain": [
              "<Figure size 432x288 with 2 Axes>"
            ],
            "image/png": "[encoded data removed]"
          },
          "metadata": {}
        }
      ],
      "source": [
        "show_confusion_matrix(y_test, y_pred)"
      ]
    },
    {
      "cell_type": "markdown",
      "metadata": {
        "id": "5hKM-i4z6YJd"
      },
      "source": [
        "\n",
        "  <div dir=rtl id=\"multi-layer-stacking\">\n",
        "  <font face=\"XB Zar\" size=4>\n",
        "      <font color=\"red\" size=5>\n",
        "        <font face=\"Roboto\">\n",
        "          Multi-layer stacking\n",
        "        </font>\n",
        "      </font>\n",
        "      <hr />\n",
        "      با توجه به آنچه در\n",
        "      <a href=\"https://github.com/asharifiz/Introduction_to_Machine_Learning/tree/main/Slides/Chapter_04_Tabular_Data_Models\">اسلاید این فصل</a>\n",
        "      در رابطه با\n",
        "      <font face=\"Roboto\">Multi-layer stacking</font>\n",
        "       گفته شده است، سعی کنید در قسمت زیر یک مدل\n",
        "       <font face=\"Roboto\">Multi-layer stacking</font>\n",
        "      ساخته و درصد دقت و\n",
        "      <font face=\"Roboto\">Confusion matrix</font>\n",
        "      را در دو قسمت بعدی مشاهده کنید.\n",
        "      </font>\n",
        "    </div>"
      ]
    },
    {
      "cell_type": "code",
      "execution_count": null,
      "metadata": {
        "id": "8mlzb5RCJrpC"
      },
      "outputs": [],
      "source": [
        "# Note: To be able to run the two last cells, the result should be stored in the `y_pred` variable\n"
      ]
    },
    {
      "cell_type": "code",
      "execution_count": null,
      "metadata": {
        "id": "c04lcf_9Jr0e"
      },
      "outputs": [],
      "source": [
        "accuracy_score(y_test, y_pred)"
      ]
    },
    {
      "cell_type": "code",
      "execution_count": null,
      "metadata": {
        "id": "bYHLnmYcJsFC"
      },
      "outputs": [],
      "source": [
        "show_confusion_matrix(y_test, y_pred)"
      ]
    }
  ],
  "metadata": {
    "colab": {
      "collapsed_sections": [],
      "provenance": []
    },
    "kernelspec": {
      "display_name": "Python 3",
      "language": "python",
      "name": "python3"
    },
    "language_info": {
      "codemirror_mode": {
        "name": "ipython",
        "version": 3
      },
      "file_extension": ".py",
      "mimetype": "text/x-python",
      "name": "python",
      "nbconvert_exporter": "python",
      "pygments_lexer": "ipython3",
      "version": "3.7.12"
    }
  },
  "nbformat": 4,
  "nbformat_minor": 0
}
